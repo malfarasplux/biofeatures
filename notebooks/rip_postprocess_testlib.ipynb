{
 "cells": [
  {
   "cell_type": "code",
   "execution_count": 1,
   "metadata": {},
   "outputs": [],
   "source": [
    "import numpy as np\n",
    "import csv as csv\n",
    "import json    \n",
    "import matplotlib.pyplot as plt\n",
    "%matplotlib inline"
   ]
  },
  {
   "cell_type": "code",
   "execution_count": 2,
   "metadata": {},
   "outputs": [],
   "source": [
    "import biosppy.signals.resp as resp\n",
    "# Returns\n",
    "#    -------\n",
    "#    ts : array\n",
    "#        Signal time axis reference (seconds).\n",
    "#    filtered : array\n",
    "#        Filtered Respiration signal.\n",
    "#    zeros : array\n",
    "#        Indices of Respiration zero crossings.\n",
    "#    resp_rate_ts : array\n",
    "#        Respiration rate time axis reference (seconds).\n",
    "#    resp_rate : array\n",
    "#        Instantaneous respiration rate (Hz)."
   ]
  },
  {
   "cell_type": "code",
   "execution_count": 3,
   "metadata": {},
   "outputs": [],
   "source": [
    "def moving_average(x, w):\n",
    "    return np.convolve(x, np.ones(w), 'valid') / w"
   ]
  },
  {
   "cell_type": "markdown",
   "metadata": {},
   "source": [
    "### Read header"
   ]
  },
  {
   "cell_type": "code",
   "execution_count": 4,
   "metadata": {},
   "outputs": [
    {
     "name": "stdout",
     "output_type": "stream",
     "text": [
      "{'192.168.1.100:8888': {'sensor': ['RIOT', 'RIOT', 'RIOT', 'RIOT', 'RIOT'], 'device name': '192.168.1.100:8888', 'column': ['nSeq', 'DI', 'ACCx', 'ACCy', 'ACCz', 'ANALOG1', 'ANALOG2'], 'sync interval': 2, 'time': '11:54:43.221', 'comments': '', 'device connection': '192.168.1.100:8888', 'channels': [1, 2, 3, 13, 14], 'keywords': '', 'convertedValues': 0, 'mode': 0, 'digital IO': [0, 1], 'firmware version': 'riot', 'device': 'riot', 'position': 0, 'sampling rate': 200, 'label': ['ACCx', 'ACCy', 'ACCz', 'ANALOG1', 'ANALOG2'], 'resolution': [1, 1, 1, 1, 1], 'date': '2020-2-5', 'special': [{}, {}, {}, {}, {}]}}\n"
     ]
    }
   ],
   "source": [
    "# fname = 'https://github.com/malfarasplux/biofeatures/tree/master/riot_rip_acquisition/ak/opensignals_192.168.1.1008888_2020-02-05_11-54-42.txt'\n",
    "fname = '../riot_rip_acquisition/ak/opensignals_192.168.1.1008888_2020-02-05_11-54-42.txt'\n",
    "with open(fname) as datafile:\n",
    "    readdata = csv.reader(datafile, delimiter='\\t')\n",
    "    header = [next(readdata), next(readdata), next(readdata)]\n",
    "    header_json = json.loads(header[1][0][1:])\n",
    "print(header_json)"
   ]
  },
  {
   "cell_type": "markdown",
   "metadata": {},
   "source": [
    "### Read data"
   ]
  },
  {
   "cell_type": "code",
   "execution_count": 5,
   "metadata": {},
   "outputs": [
    {
     "name": "stdout",
     "output_type": "stream",
     "text": [
      "(48150, 7)\n"
     ]
    }
   ],
   "source": [
    "data = np.genfromtxt(fname)\n",
    "print(data.shape)"
   ]
  },
  {
   "cell_type": "code",
   "execution_count": 6,
   "metadata": {},
   "outputs": [
    {
     "data": {
      "text/plain": [
       "200"
      ]
     },
     "execution_count": 6,
     "metadata": {},
     "output_type": "execute_result"
    }
   ],
   "source": [
    "# Locate the sampling rate \n",
    "srate = header_json[list(header_json.keys())[0]]['sampling rate']\n",
    "srate"
   ]
  },
  {
   "cell_type": "code",
   "execution_count": 7,
   "metadata": {},
   "outputs": [
    {
     "data": {
      "text/plain": [
       "5"
      ]
     },
     "execution_count": 7,
     "metadata": {},
     "output_type": "execute_result"
    }
   ],
   "source": [
    "# Locate the analog channel\n",
    "col_num  = header_json[list(header_json.keys())[0]]['column'].index('ANALOG1')\n",
    "col_num"
   ]
  },
  {
   "cell_type": "code",
   "execution_count": 8,
   "metadata": {},
   "outputs": [],
   "source": [
    "ripdata = data[:,col_num]"
   ]
  },
  {
   "cell_type": "markdown",
   "metadata": {},
   "source": [
    "### Test the library"
   ]
  },
  {
   "cell_type": "code",
   "execution_count": 9,
   "metadata": {},
   "outputs": [
    {
     "data": {
      "application/javascript": [
       "\n",
       "(function(root) {\n",
       "  function now() {\n",
       "    return new Date();\n",
       "  }\n",
       "\n",
       "  var force = true;\n",
       "\n",
       "  if (typeof root._bokeh_onload_callbacks === \"undefined\" || force === true) {\n",
       "    root._bokeh_onload_callbacks = [];\n",
       "    root._bokeh_is_loading = undefined;\n",
       "  }\n",
       "\n",
       "  var JS_MIME_TYPE = 'application/javascript';\n",
       "  var HTML_MIME_TYPE = 'text/html';\n",
       "  var EXEC_MIME_TYPE = 'application/vnd.bokehjs_exec.v0+json';\n",
       "  var CLASS_NAME = 'output_bokeh rendered_html';\n",
       "\n",
       "  /**\n",
       "   * Render data to the DOM node\n",
       "   */\n",
       "  function render(props, node) {\n",
       "    var script = document.createElement(\"script\");\n",
       "    node.appendChild(script);\n",
       "  }\n",
       "\n",
       "  /**\n",
       "   * Handle when an output is cleared or removed\n",
       "   */\n",
       "  function handleClearOutput(event, handle) {\n",
       "    var cell = handle.cell;\n",
       "\n",
       "    var id = cell.output_area._bokeh_element_id;\n",
       "    var server_id = cell.output_area._bokeh_server_id;\n",
       "    // Clean up Bokeh references\n",
       "    if (id != null && id in Bokeh.index) {\n",
       "      Bokeh.index[id].model.document.clear();\n",
       "      delete Bokeh.index[id];\n",
       "    }\n",
       "\n",
       "    if (server_id !== undefined) {\n",
       "      // Clean up Bokeh references\n",
       "      var cmd = \"from bokeh.io.state import curstate; print(curstate().uuid_to_server['\" + server_id + \"'].get_sessions()[0].document.roots[0]._id)\";\n",
       "      cell.notebook.kernel.execute(cmd, {\n",
       "        iopub: {\n",
       "          output: function(msg) {\n",
       "            var id = msg.content.text.trim();\n",
       "            if (id in Bokeh.index) {\n",
       "              Bokeh.index[id].model.document.clear();\n",
       "              delete Bokeh.index[id];\n",
       "            }\n",
       "          }\n",
       "        }\n",
       "      });\n",
       "      // Destroy server and session\n",
       "      var cmd = \"import bokeh.io.notebook as ion; ion.destroy_server('\" + server_id + \"')\";\n",
       "      cell.notebook.kernel.execute(cmd);\n",
       "    }\n",
       "  }\n",
       "\n",
       "  /**\n",
       "   * Handle when a new output is added\n",
       "   */\n",
       "  function handleAddOutput(event, handle) {\n",
       "    var output_area = handle.output_area;\n",
       "    var output = handle.output;\n",
       "\n",
       "    // limit handleAddOutput to display_data with EXEC_MIME_TYPE content only\n",
       "    if ((output.output_type != \"display_data\") || (!output.data.hasOwnProperty(EXEC_MIME_TYPE))) {\n",
       "      return\n",
       "    }\n",
       "\n",
       "    var toinsert = output_area.element.find(\".\" + CLASS_NAME.split(' ')[0]);\n",
       "\n",
       "    if (output.metadata[EXEC_MIME_TYPE][\"id\"] !== undefined) {\n",
       "      toinsert[toinsert.length - 1].firstChild.textContent = output.data[JS_MIME_TYPE];\n",
       "      // store reference to embed id on output_area\n",
       "      output_area._bokeh_element_id = output.metadata[EXEC_MIME_TYPE][\"id\"];\n",
       "    }\n",
       "    if (output.metadata[EXEC_MIME_TYPE][\"server_id\"] !== undefined) {\n",
       "      var bk_div = document.createElement(\"div\");\n",
       "      bk_div.innerHTML = output.data[HTML_MIME_TYPE];\n",
       "      var script_attrs = bk_div.children[0].attributes;\n",
       "      for (var i = 0; i < script_attrs.length; i++) {\n",
       "        toinsert[toinsert.length - 1].firstChild.setAttribute(script_attrs[i].name, script_attrs[i].value);\n",
       "      }\n",
       "      // store reference to server id on output_area\n",
       "      output_area._bokeh_server_id = output.metadata[EXEC_MIME_TYPE][\"server_id\"];\n",
       "    }\n",
       "  }\n",
       "\n",
       "  function register_renderer(events, OutputArea) {\n",
       "\n",
       "    function append_mime(data, metadata, element) {\n",
       "      // create a DOM node to render to\n",
       "      var toinsert = this.create_output_subarea(\n",
       "        metadata,\n",
       "        CLASS_NAME,\n",
       "        EXEC_MIME_TYPE\n",
       "      );\n",
       "      this.keyboard_manager.register_events(toinsert);\n",
       "      // Render to node\n",
       "      var props = {data: data, metadata: metadata[EXEC_MIME_TYPE]};\n",
       "      render(props, toinsert[toinsert.length - 1]);\n",
       "      element.append(toinsert);\n",
       "      return toinsert\n",
       "    }\n",
       "\n",
       "    /* Handle when an output is cleared or removed */\n",
       "    events.on('clear_output.CodeCell', handleClearOutput);\n",
       "    events.on('delete.Cell', handleClearOutput);\n",
       "\n",
       "    /* Handle when a new output is added */\n",
       "    events.on('output_added.OutputArea', handleAddOutput);\n",
       "\n",
       "    /**\n",
       "     * Register the mime type and append_mime function with output_area\n",
       "     */\n",
       "    OutputArea.prototype.register_mime_type(EXEC_MIME_TYPE, append_mime, {\n",
       "      /* Is output safe? */\n",
       "      safe: true,\n",
       "      /* Index of renderer in `output_area.display_order` */\n",
       "      index: 0\n",
       "    });\n",
       "  }\n",
       "\n",
       "  // register the mime type if in Jupyter Notebook environment and previously unregistered\n",
       "  if (root.Jupyter !== undefined) {\n",
       "    var events = require('base/js/events');\n",
       "    var OutputArea = require('notebook/js/outputarea').OutputArea;\n",
       "\n",
       "    if (OutputArea.prototype.mime_types().indexOf(EXEC_MIME_TYPE) == -1) {\n",
       "      register_renderer(events, OutputArea);\n",
       "    }\n",
       "  }\n",
       "\n",
       "  \n",
       "  if (typeof (root._bokeh_timeout) === \"undefined\" || force === true) {\n",
       "    root._bokeh_timeout = Date.now() + 5000;\n",
       "    root._bokeh_failed_load = false;\n",
       "  }\n",
       "\n",
       "  var NB_LOAD_WARNING = {'data': {'text/html':\n",
       "     \"<div style='background-color: #fdd'>\\n\"+\n",
       "     \"<p>\\n\"+\n",
       "     \"BokehJS does not appear to have successfully loaded. If loading BokehJS from CDN, this \\n\"+\n",
       "     \"may be due to a slow or bad network connection. Possible fixes:\\n\"+\n",
       "     \"</p>\\n\"+\n",
       "     \"<ul>\\n\"+\n",
       "     \"<li>re-rerun `output_notebook()` to attempt to load from CDN again, or</li>\\n\"+\n",
       "     \"<li>use INLINE resources instead, as so:</li>\\n\"+\n",
       "     \"</ul>\\n\"+\n",
       "     \"<code>\\n\"+\n",
       "     \"from bokeh.resources import INLINE\\n\"+\n",
       "     \"output_notebook(resources=INLINE)\\n\"+\n",
       "     \"</code>\\n\"+\n",
       "     \"</div>\"}};\n",
       "\n",
       "  function display_loaded() {\n",
       "    var el = document.getElementById(null);\n",
       "    if (el != null) {\n",
       "      el.textContent = \"BokehJS is loading...\";\n",
       "    }\n",
       "    if (root.Bokeh !== undefined) {\n",
       "      if (el != null) {\n",
       "        el.textContent = \"BokehJS \" + root.Bokeh.version + \" successfully loaded.\";\n",
       "      }\n",
       "    } else if (Date.now() < root._bokeh_timeout) {\n",
       "      setTimeout(display_loaded, 100)\n",
       "    }\n",
       "  }\n",
       "\n",
       "\n",
       "  function run_callbacks() {\n",
       "    try {\n",
       "      root._bokeh_onload_callbacks.forEach(function(callback) {\n",
       "        if (callback != null)\n",
       "          callback();\n",
       "      });\n",
       "    } finally {\n",
       "      delete root._bokeh_onload_callbacks\n",
       "    }\n",
       "    console.debug(\"Bokeh: all callbacks have finished\");\n",
       "  }\n",
       "\n",
       "  function load_libs(css_urls, js_urls, callback) {\n",
       "    if (css_urls == null) css_urls = [];\n",
       "    if (js_urls == null) js_urls = [];\n",
       "\n",
       "    root._bokeh_onload_callbacks.push(callback);\n",
       "    if (root._bokeh_is_loading > 0) {\n",
       "      console.debug(\"Bokeh: BokehJS is being loaded, scheduling callback at\", now());\n",
       "      return null;\n",
       "    }\n",
       "    if (js_urls == null || js_urls.length === 0) {\n",
       "      run_callbacks();\n",
       "      return null;\n",
       "    }\n",
       "    console.debug(\"Bokeh: BokehJS not loaded, scheduling load and callback at\", now());\n",
       "    root._bokeh_is_loading = css_urls.length + js_urls.length;\n",
       "\n",
       "    function on_load() {\n",
       "      root._bokeh_is_loading--;\n",
       "      if (root._bokeh_is_loading === 0) {\n",
       "        console.debug(\"Bokeh: all BokehJS libraries/stylesheets loaded\");\n",
       "        run_callbacks()\n",
       "      }\n",
       "    }\n",
       "\n",
       "    function on_error() {\n",
       "      console.error(\"failed to load \" + url);\n",
       "    }\n",
       "\n",
       "    for (var i = 0; i < css_urls.length; i++) {\n",
       "      var url = css_urls[i];\n",
       "      const element = document.createElement(\"link\");\n",
       "      element.onload = on_load;\n",
       "      element.onerror = on_error;\n",
       "      element.rel = \"stylesheet\";\n",
       "      element.type = \"text/css\";\n",
       "      element.href = url;\n",
       "      console.debug(\"Bokeh: injecting link tag for BokehJS stylesheet: \", url);\n",
       "      document.body.appendChild(element);\n",
       "    }\n",
       "\n",
       "    for (var i = 0; i < js_urls.length; i++) {\n",
       "      var url = js_urls[i];\n",
       "      var element = document.createElement('script');\n",
       "      element.onload = on_load;\n",
       "      element.onerror = on_error;\n",
       "      element.async = false;\n",
       "      element.src = url;\n",
       "      console.debug(\"Bokeh: injecting script tag for BokehJS library: \", url);\n",
       "      document.head.appendChild(element);\n",
       "    }\n",
       "  };\n",
       "\n",
       "  function inject_raw_css(css) {\n",
       "    const element = document.createElement(\"style\");\n",
       "    element.appendChild(document.createTextNode(css));\n",
       "    document.body.appendChild(element);\n",
       "  }\n",
       "\n",
       "  \n",
       "  var js_urls = [\"https://cdn.pydata.org/bokeh/release/bokeh-1.4.0.min.js\", \"https://cdn.pydata.org/bokeh/release/bokeh-widgets-1.4.0.min.js\", \"https://cdn.pydata.org/bokeh/release/bokeh-tables-1.4.0.min.js\", \"https://cdn.pydata.org/bokeh/release/bokeh-gl-1.4.0.min.js\"];\n",
       "  var css_urls = [];\n",
       "  \n",
       "\n",
       "  var inline_js = [\n",
       "    function(Bokeh) {\n",
       "      Bokeh.set_log_level(\"info\");\n",
       "    },\n",
       "    function(Bokeh) {\n",
       "    \n",
       "    \n",
       "    }\n",
       "  ];\n",
       "\n",
       "  function run_inline_js() {\n",
       "    \n",
       "    if (root.Bokeh !== undefined || force === true) {\n",
       "      \n",
       "    for (var i = 0; i < inline_js.length; i++) {\n",
       "      inline_js[i].call(root, root.Bokeh);\n",
       "    }\n",
       "    } else if (Date.now() < root._bokeh_timeout) {\n",
       "      setTimeout(run_inline_js, 100);\n",
       "    } else if (!root._bokeh_failed_load) {\n",
       "      console.log(\"Bokeh: BokehJS failed to load within specified timeout.\");\n",
       "      root._bokeh_failed_load = true;\n",
       "    } else if (force !== true) {\n",
       "      var cell = $(document.getElementById(null)).parents('.cell').data().cell;\n",
       "      cell.output_area.append_execute_result(NB_LOAD_WARNING)\n",
       "    }\n",
       "\n",
       "  }\n",
       "\n",
       "  if (root._bokeh_is_loading === 0) {\n",
       "    console.debug(\"Bokeh: BokehJS loaded, going straight to plotting\");\n",
       "    run_inline_js();\n",
       "  } else {\n",
       "    load_libs(css_urls, js_urls, function() {\n",
       "      console.debug(\"Bokeh: BokehJS plotting callback run at\", now());\n",
       "      run_inline_js();\n",
       "    });\n",
       "  }\n",
       "}(window));"
      ],
      "application/vnd.bokehjs_load.v0+json": "\n(function(root) {\n  function now() {\n    return new Date();\n  }\n\n  var force = true;\n\n  if (typeof root._bokeh_onload_callbacks === \"undefined\" || force === true) {\n    root._bokeh_onload_callbacks = [];\n    root._bokeh_is_loading = undefined;\n  }\n\n  \n\n  \n  if (typeof (root._bokeh_timeout) === \"undefined\" || force === true) {\n    root._bokeh_timeout = Date.now() + 5000;\n    root._bokeh_failed_load = false;\n  }\n\n  var NB_LOAD_WARNING = {'data': {'text/html':\n     \"<div style='background-color: #fdd'>\\n\"+\n     \"<p>\\n\"+\n     \"BokehJS does not appear to have successfully loaded. If loading BokehJS from CDN, this \\n\"+\n     \"may be due to a slow or bad network connection. Possible fixes:\\n\"+\n     \"</p>\\n\"+\n     \"<ul>\\n\"+\n     \"<li>re-rerun `output_notebook()` to attempt to load from CDN again, or</li>\\n\"+\n     \"<li>use INLINE resources instead, as so:</li>\\n\"+\n     \"</ul>\\n\"+\n     \"<code>\\n\"+\n     \"from bokeh.resources import INLINE\\n\"+\n     \"output_notebook(resources=INLINE)\\n\"+\n     \"</code>\\n\"+\n     \"</div>\"}};\n\n  function display_loaded() {\n    var el = document.getElementById(null);\n    if (el != null) {\n      el.textContent = \"BokehJS is loading...\";\n    }\n    if (root.Bokeh !== undefined) {\n      if (el != null) {\n        el.textContent = \"BokehJS \" + root.Bokeh.version + \" successfully loaded.\";\n      }\n    } else if (Date.now() < root._bokeh_timeout) {\n      setTimeout(display_loaded, 100)\n    }\n  }\n\n\n  function run_callbacks() {\n    try {\n      root._bokeh_onload_callbacks.forEach(function(callback) {\n        if (callback != null)\n          callback();\n      });\n    } finally {\n      delete root._bokeh_onload_callbacks\n    }\n    console.debug(\"Bokeh: all callbacks have finished\");\n  }\n\n  function load_libs(css_urls, js_urls, callback) {\n    if (css_urls == null) css_urls = [];\n    if (js_urls == null) js_urls = [];\n\n    root._bokeh_onload_callbacks.push(callback);\n    if (root._bokeh_is_loading > 0) {\n      console.debug(\"Bokeh: BokehJS is being loaded, scheduling callback at\", now());\n      return null;\n    }\n    if (js_urls == null || js_urls.length === 0) {\n      run_callbacks();\n      return null;\n    }\n    console.debug(\"Bokeh: BokehJS not loaded, scheduling load and callback at\", now());\n    root._bokeh_is_loading = css_urls.length + js_urls.length;\n\n    function on_load() {\n      root._bokeh_is_loading--;\n      if (root._bokeh_is_loading === 0) {\n        console.debug(\"Bokeh: all BokehJS libraries/stylesheets loaded\");\n        run_callbacks()\n      }\n    }\n\n    function on_error() {\n      console.error(\"failed to load \" + url);\n    }\n\n    for (var i = 0; i < css_urls.length; i++) {\n      var url = css_urls[i];\n      const element = document.createElement(\"link\");\n      element.onload = on_load;\n      element.onerror = on_error;\n      element.rel = \"stylesheet\";\n      element.type = \"text/css\";\n      element.href = url;\n      console.debug(\"Bokeh: injecting link tag for BokehJS stylesheet: \", url);\n      document.body.appendChild(element);\n    }\n\n    for (var i = 0; i < js_urls.length; i++) {\n      var url = js_urls[i];\n      var element = document.createElement('script');\n      element.onload = on_load;\n      element.onerror = on_error;\n      element.async = false;\n      element.src = url;\n      console.debug(\"Bokeh: injecting script tag for BokehJS library: \", url);\n      document.head.appendChild(element);\n    }\n  };\n\n  function inject_raw_css(css) {\n    const element = document.createElement(\"style\");\n    element.appendChild(document.createTextNode(css));\n    document.body.appendChild(element);\n  }\n\n  \n  var js_urls = [\"https://cdn.pydata.org/bokeh/release/bokeh-1.4.0.min.js\", \"https://cdn.pydata.org/bokeh/release/bokeh-widgets-1.4.0.min.js\", \"https://cdn.pydata.org/bokeh/release/bokeh-tables-1.4.0.min.js\", \"https://cdn.pydata.org/bokeh/release/bokeh-gl-1.4.0.min.js\"];\n  var css_urls = [];\n  \n\n  var inline_js = [\n    function(Bokeh) {\n      Bokeh.set_log_level(\"info\");\n    },\n    function(Bokeh) {\n    \n    \n    }\n  ];\n\n  function run_inline_js() {\n    \n    if (root.Bokeh !== undefined || force === true) {\n      \n    for (var i = 0; i < inline_js.length; i++) {\n      inline_js[i].call(root, root.Bokeh);\n    }\n    } else if (Date.now() < root._bokeh_timeout) {\n      setTimeout(run_inline_js, 100);\n    } else if (!root._bokeh_failed_load) {\n      console.log(\"Bokeh: BokehJS failed to load within specified timeout.\");\n      root._bokeh_failed_load = true;\n    } else if (force !== true) {\n      var cell = $(document.getElementById(null)).parents('.cell').data().cell;\n      cell.output_area.append_execute_result(NB_LOAD_WARNING)\n    }\n\n  }\n\n  if (root._bokeh_is_loading === 0) {\n    console.debug(\"Bokeh: BokehJS loaded, going straight to plotting\");\n    run_inline_js();\n  } else {\n    load_libs(css_urls, js_urls, function() {\n      console.debug(\"Bokeh: BokehJS plotting callback run at\", now());\n      run_inline_js();\n    });\n  }\n}(window));"
     },
     "metadata": {},
     "output_type": "display_data"
    },
    {
     "data": {
      "application/javascript": [
       "\n",
       "(function(root) {\n",
       "  function now() {\n",
       "    return new Date();\n",
       "  }\n",
       "\n",
       "  var force = true;\n",
       "\n",
       "  if (typeof root._bokeh_onload_callbacks === \"undefined\" || force === true) {\n",
       "    root._bokeh_onload_callbacks = [];\n",
       "    root._bokeh_is_loading = undefined;\n",
       "  }\n",
       "\n",
       "  var JS_MIME_TYPE = 'application/javascript';\n",
       "  var HTML_MIME_TYPE = 'text/html';\n",
       "  var EXEC_MIME_TYPE = 'application/vnd.bokehjs_exec.v0+json';\n",
       "  var CLASS_NAME = 'output_bokeh rendered_html';\n",
       "\n",
       "  /**\n",
       "   * Render data to the DOM node\n",
       "   */\n",
       "  function render(props, node) {\n",
       "    var script = document.createElement(\"script\");\n",
       "    node.appendChild(script);\n",
       "  }\n",
       "\n",
       "  /**\n",
       "   * Handle when an output is cleared or removed\n",
       "   */\n",
       "  function handleClearOutput(event, handle) {\n",
       "    var cell = handle.cell;\n",
       "\n",
       "    var id = cell.output_area._bokeh_element_id;\n",
       "    var server_id = cell.output_area._bokeh_server_id;\n",
       "    // Clean up Bokeh references\n",
       "    if (id != null && id in Bokeh.index) {\n",
       "      Bokeh.index[id].model.document.clear();\n",
       "      delete Bokeh.index[id];\n",
       "    }\n",
       "\n",
       "    if (server_id !== undefined) {\n",
       "      // Clean up Bokeh references\n",
       "      var cmd = \"from bokeh.io.state import curstate; print(curstate().uuid_to_server['\" + server_id + \"'].get_sessions()[0].document.roots[0]._id)\";\n",
       "      cell.notebook.kernel.execute(cmd, {\n",
       "        iopub: {\n",
       "          output: function(msg) {\n",
       "            var id = msg.content.text.trim();\n",
       "            if (id in Bokeh.index) {\n",
       "              Bokeh.index[id].model.document.clear();\n",
       "              delete Bokeh.index[id];\n",
       "            }\n",
       "          }\n",
       "        }\n",
       "      });\n",
       "      // Destroy server and session\n",
       "      var cmd = \"import bokeh.io.notebook as ion; ion.destroy_server('\" + server_id + \"')\";\n",
       "      cell.notebook.kernel.execute(cmd);\n",
       "    }\n",
       "  }\n",
       "\n",
       "  /**\n",
       "   * Handle when a new output is added\n",
       "   */\n",
       "  function handleAddOutput(event, handle) {\n",
       "    var output_area = handle.output_area;\n",
       "    var output = handle.output;\n",
       "\n",
       "    // limit handleAddOutput to display_data with EXEC_MIME_TYPE content only\n",
       "    if ((output.output_type != \"display_data\") || (!output.data.hasOwnProperty(EXEC_MIME_TYPE))) {\n",
       "      return\n",
       "    }\n",
       "\n",
       "    var toinsert = output_area.element.find(\".\" + CLASS_NAME.split(' ')[0]);\n",
       "\n",
       "    if (output.metadata[EXEC_MIME_TYPE][\"id\"] !== undefined) {\n",
       "      toinsert[toinsert.length - 1].firstChild.textContent = output.data[JS_MIME_TYPE];\n",
       "      // store reference to embed id on output_area\n",
       "      output_area._bokeh_element_id = output.metadata[EXEC_MIME_TYPE][\"id\"];\n",
       "    }\n",
       "    if (output.metadata[EXEC_MIME_TYPE][\"server_id\"] !== undefined) {\n",
       "      var bk_div = document.createElement(\"div\");\n",
       "      bk_div.innerHTML = output.data[HTML_MIME_TYPE];\n",
       "      var script_attrs = bk_div.children[0].attributes;\n",
       "      for (var i = 0; i < script_attrs.length; i++) {\n",
       "        toinsert[toinsert.length - 1].firstChild.setAttribute(script_attrs[i].name, script_attrs[i].value);\n",
       "      }\n",
       "      // store reference to server id on output_area\n",
       "      output_area._bokeh_server_id = output.metadata[EXEC_MIME_TYPE][\"server_id\"];\n",
       "    }\n",
       "  }\n",
       "\n",
       "  function register_renderer(events, OutputArea) {\n",
       "\n",
       "    function append_mime(data, metadata, element) {\n",
       "      // create a DOM node to render to\n",
       "      var toinsert = this.create_output_subarea(\n",
       "        metadata,\n",
       "        CLASS_NAME,\n",
       "        EXEC_MIME_TYPE\n",
       "      );\n",
       "      this.keyboard_manager.register_events(toinsert);\n",
       "      // Render to node\n",
       "      var props = {data: data, metadata: metadata[EXEC_MIME_TYPE]};\n",
       "      render(props, toinsert[toinsert.length - 1]);\n",
       "      element.append(toinsert);\n",
       "      return toinsert\n",
       "    }\n",
       "\n",
       "    /* Handle when an output is cleared or removed */\n",
       "    events.on('clear_output.CodeCell', handleClearOutput);\n",
       "    events.on('delete.Cell', handleClearOutput);\n",
       "\n",
       "    /* Handle when a new output is added */\n",
       "    events.on('output_added.OutputArea', handleAddOutput);\n",
       "\n",
       "    /**\n",
       "     * Register the mime type and append_mime function with output_area\n",
       "     */\n",
       "    OutputArea.prototype.register_mime_type(EXEC_MIME_TYPE, append_mime, {\n",
       "      /* Is output safe? */\n",
       "      safe: true,\n",
       "      /* Index of renderer in `output_area.display_order` */\n",
       "      index: 0\n",
       "    });\n",
       "  }\n",
       "\n",
       "  // register the mime type if in Jupyter Notebook environment and previously unregistered\n",
       "  if (root.Jupyter !== undefined) {\n",
       "    var events = require('base/js/events');\n",
       "    var OutputArea = require('notebook/js/outputarea').OutputArea;\n",
       "\n",
       "    if (OutputArea.prototype.mime_types().indexOf(EXEC_MIME_TYPE) == -1) {\n",
       "      register_renderer(events, OutputArea);\n",
       "    }\n",
       "  }\n",
       "\n",
       "  \n",
       "  if (typeof (root._bokeh_timeout) === \"undefined\" || force === true) {\n",
       "    root._bokeh_timeout = Date.now() + 5000;\n",
       "    root._bokeh_failed_load = false;\n",
       "  }\n",
       "\n",
       "  var NB_LOAD_WARNING = {'data': {'text/html':\n",
       "     \"<div style='background-color: #fdd'>\\n\"+\n",
       "     \"<p>\\n\"+\n",
       "     \"BokehJS does not appear to have successfully loaded. If loading BokehJS from CDN, this \\n\"+\n",
       "     \"may be due to a slow or bad network connection. Possible fixes:\\n\"+\n",
       "     \"</p>\\n\"+\n",
       "     \"<ul>\\n\"+\n",
       "     \"<li>re-rerun `output_notebook()` to attempt to load from CDN again, or</li>\\n\"+\n",
       "     \"<li>use INLINE resources instead, as so:</li>\\n\"+\n",
       "     \"</ul>\\n\"+\n",
       "     \"<code>\\n\"+\n",
       "     \"from bokeh.resources import INLINE\\n\"+\n",
       "     \"output_notebook(resources=INLINE)\\n\"+\n",
       "     \"</code>\\n\"+\n",
       "     \"</div>\"}};\n",
       "\n",
       "  function display_loaded() {\n",
       "    var el = document.getElementById(null);\n",
       "    if (el != null) {\n",
       "      el.textContent = \"BokehJS is loading...\";\n",
       "    }\n",
       "    if (root.Bokeh !== undefined) {\n",
       "      if (el != null) {\n",
       "        el.textContent = \"BokehJS \" + root.Bokeh.version + \" successfully loaded.\";\n",
       "      }\n",
       "    } else if (Date.now() < root._bokeh_timeout) {\n",
       "      setTimeout(display_loaded, 100)\n",
       "    }\n",
       "  }\n",
       "\n",
       "\n",
       "  function run_callbacks() {\n",
       "    try {\n",
       "      root._bokeh_onload_callbacks.forEach(function(callback) {\n",
       "        if (callback != null)\n",
       "          callback();\n",
       "      });\n",
       "    } finally {\n",
       "      delete root._bokeh_onload_callbacks\n",
       "    }\n",
       "    console.debug(\"Bokeh: all callbacks have finished\");\n",
       "  }\n",
       "\n",
       "  function load_libs(css_urls, js_urls, callback) {\n",
       "    if (css_urls == null) css_urls = [];\n",
       "    if (js_urls == null) js_urls = [];\n",
       "\n",
       "    root._bokeh_onload_callbacks.push(callback);\n",
       "    if (root._bokeh_is_loading > 0) {\n",
       "      console.debug(\"Bokeh: BokehJS is being loaded, scheduling callback at\", now());\n",
       "      return null;\n",
       "    }\n",
       "    if (js_urls == null || js_urls.length === 0) {\n",
       "      run_callbacks();\n",
       "      return null;\n",
       "    }\n",
       "    console.debug(\"Bokeh: BokehJS not loaded, scheduling load and callback at\", now());\n",
       "    root._bokeh_is_loading = css_urls.length + js_urls.length;\n",
       "\n",
       "    function on_load() {\n",
       "      root._bokeh_is_loading--;\n",
       "      if (root._bokeh_is_loading === 0) {\n",
       "        console.debug(\"Bokeh: all BokehJS libraries/stylesheets loaded\");\n",
       "        run_callbacks()\n",
       "      }\n",
       "    }\n",
       "\n",
       "    function on_error() {\n",
       "      console.error(\"failed to load \" + url);\n",
       "    }\n",
       "\n",
       "    for (var i = 0; i < css_urls.length; i++) {\n",
       "      var url = css_urls[i];\n",
       "      const element = document.createElement(\"link\");\n",
       "      element.onload = on_load;\n",
       "      element.onerror = on_error;\n",
       "      element.rel = \"stylesheet\";\n",
       "      element.type = \"text/css\";\n",
       "      element.href = url;\n",
       "      console.debug(\"Bokeh: injecting link tag for BokehJS stylesheet: \", url);\n",
       "      document.body.appendChild(element);\n",
       "    }\n",
       "\n",
       "    for (var i = 0; i < js_urls.length; i++) {\n",
       "      var url = js_urls[i];\n",
       "      var element = document.createElement('script');\n",
       "      element.onload = on_load;\n",
       "      element.onerror = on_error;\n",
       "      element.async = false;\n",
       "      element.src = url;\n",
       "      console.debug(\"Bokeh: injecting script tag for BokehJS library: \", url);\n",
       "      document.head.appendChild(element);\n",
       "    }\n",
       "  };\n",
       "\n",
       "  function inject_raw_css(css) {\n",
       "    const element = document.createElement(\"style\");\n",
       "    element.appendChild(document.createTextNode(css));\n",
       "    document.body.appendChild(element);\n",
       "  }\n",
       "\n",
       "  \n",
       "  var js_urls = [\"https://cdn.pydata.org/bokeh/release/bokeh-1.4.0.min.js\", \"https://cdn.pydata.org/bokeh/release/bokeh-widgets-1.4.0.min.js\", \"https://cdn.pydata.org/bokeh/release/bokeh-tables-1.4.0.min.js\", \"https://cdn.pydata.org/bokeh/release/bokeh-gl-1.4.0.min.js\"];\n",
       "  var css_urls = [];\n",
       "  \n",
       "\n",
       "  var inline_js = [\n",
       "    function(Bokeh) {\n",
       "      Bokeh.set_log_level(\"info\");\n",
       "    },\n",
       "    function(Bokeh) {\n",
       "    \n",
       "    \n",
       "    }\n",
       "  ];\n",
       "\n",
       "  function run_inline_js() {\n",
       "    \n",
       "    if (root.Bokeh !== undefined || force === true) {\n",
       "      \n",
       "    for (var i = 0; i < inline_js.length; i++) {\n",
       "      inline_js[i].call(root, root.Bokeh);\n",
       "    }\n",
       "    } else if (Date.now() < root._bokeh_timeout) {\n",
       "      setTimeout(run_inline_js, 100);\n",
       "    } else if (!root._bokeh_failed_load) {\n",
       "      console.log(\"Bokeh: BokehJS failed to load within specified timeout.\");\n",
       "      root._bokeh_failed_load = true;\n",
       "    } else if (force !== true) {\n",
       "      var cell = $(document.getElementById(null)).parents('.cell').data().cell;\n",
       "      cell.output_area.append_execute_result(NB_LOAD_WARNING)\n",
       "    }\n",
       "\n",
       "  }\n",
       "\n",
       "  if (root._bokeh_is_loading === 0) {\n",
       "    console.debug(\"Bokeh: BokehJS loaded, going straight to plotting\");\n",
       "    run_inline_js();\n",
       "  } else {\n",
       "    load_libs(css_urls, js_urls, function() {\n",
       "      console.debug(\"Bokeh: BokehJS plotting callback run at\", now());\n",
       "      run_inline_js();\n",
       "    });\n",
       "  }\n",
       "}(window));"
      ],
      "application/vnd.bokehjs_load.v0+json": "\n(function(root) {\n  function now() {\n    return new Date();\n  }\n\n  var force = true;\n\n  if (typeof root._bokeh_onload_callbacks === \"undefined\" || force === true) {\n    root._bokeh_onload_callbacks = [];\n    root._bokeh_is_loading = undefined;\n  }\n\n  \n\n  \n  if (typeof (root._bokeh_timeout) === \"undefined\" || force === true) {\n    root._bokeh_timeout = Date.now() + 5000;\n    root._bokeh_failed_load = false;\n  }\n\n  var NB_LOAD_WARNING = {'data': {'text/html':\n     \"<div style='background-color: #fdd'>\\n\"+\n     \"<p>\\n\"+\n     \"BokehJS does not appear to have successfully loaded. If loading BokehJS from CDN, this \\n\"+\n     \"may be due to a slow or bad network connection. Possible fixes:\\n\"+\n     \"</p>\\n\"+\n     \"<ul>\\n\"+\n     \"<li>re-rerun `output_notebook()` to attempt to load from CDN again, or</li>\\n\"+\n     \"<li>use INLINE resources instead, as so:</li>\\n\"+\n     \"</ul>\\n\"+\n     \"<code>\\n\"+\n     \"from bokeh.resources import INLINE\\n\"+\n     \"output_notebook(resources=INLINE)\\n\"+\n     \"</code>\\n\"+\n     \"</div>\"}};\n\n  function display_loaded() {\n    var el = document.getElementById(null);\n    if (el != null) {\n      el.textContent = \"BokehJS is loading...\";\n    }\n    if (root.Bokeh !== undefined) {\n      if (el != null) {\n        el.textContent = \"BokehJS \" + root.Bokeh.version + \" successfully loaded.\";\n      }\n    } else if (Date.now() < root._bokeh_timeout) {\n      setTimeout(display_loaded, 100)\n    }\n  }\n\n\n  function run_callbacks() {\n    try {\n      root._bokeh_onload_callbacks.forEach(function(callback) {\n        if (callback != null)\n          callback();\n      });\n    } finally {\n      delete root._bokeh_onload_callbacks\n    }\n    console.debug(\"Bokeh: all callbacks have finished\");\n  }\n\n  function load_libs(css_urls, js_urls, callback) {\n    if (css_urls == null) css_urls = [];\n    if (js_urls == null) js_urls = [];\n\n    root._bokeh_onload_callbacks.push(callback);\n    if (root._bokeh_is_loading > 0) {\n      console.debug(\"Bokeh: BokehJS is being loaded, scheduling callback at\", now());\n      return null;\n    }\n    if (js_urls == null || js_urls.length === 0) {\n      run_callbacks();\n      return null;\n    }\n    console.debug(\"Bokeh: BokehJS not loaded, scheduling load and callback at\", now());\n    root._bokeh_is_loading = css_urls.length + js_urls.length;\n\n    function on_load() {\n      root._bokeh_is_loading--;\n      if (root._bokeh_is_loading === 0) {\n        console.debug(\"Bokeh: all BokehJS libraries/stylesheets loaded\");\n        run_callbacks()\n      }\n    }\n\n    function on_error() {\n      console.error(\"failed to load \" + url);\n    }\n\n    for (var i = 0; i < css_urls.length; i++) {\n      var url = css_urls[i];\n      const element = document.createElement(\"link\");\n      element.onload = on_load;\n      element.onerror = on_error;\n      element.rel = \"stylesheet\";\n      element.type = \"text/css\";\n      element.href = url;\n      console.debug(\"Bokeh: injecting link tag for BokehJS stylesheet: \", url);\n      document.body.appendChild(element);\n    }\n\n    for (var i = 0; i < js_urls.length; i++) {\n      var url = js_urls[i];\n      var element = document.createElement('script');\n      element.onload = on_load;\n      element.onerror = on_error;\n      element.async = false;\n      element.src = url;\n      console.debug(\"Bokeh: injecting script tag for BokehJS library: \", url);\n      document.head.appendChild(element);\n    }\n  };\n\n  function inject_raw_css(css) {\n    const element = document.createElement(\"style\");\n    element.appendChild(document.createTextNode(css));\n    document.body.appendChild(element);\n  }\n\n  \n  var js_urls = [\"https://cdn.pydata.org/bokeh/release/bokeh-1.4.0.min.js\", \"https://cdn.pydata.org/bokeh/release/bokeh-widgets-1.4.0.min.js\", \"https://cdn.pydata.org/bokeh/release/bokeh-tables-1.4.0.min.js\", \"https://cdn.pydata.org/bokeh/release/bokeh-gl-1.4.0.min.js\"];\n  var css_urls = [];\n  \n\n  var inline_js = [\n    function(Bokeh) {\n      Bokeh.set_log_level(\"info\");\n    },\n    function(Bokeh) {\n    \n    \n    }\n  ];\n\n  function run_inline_js() {\n    \n    if (root.Bokeh !== undefined || force === true) {\n      \n    for (var i = 0; i < inline_js.length; i++) {\n      inline_js[i].call(root, root.Bokeh);\n    }\n    } else if (Date.now() < root._bokeh_timeout) {\n      setTimeout(run_inline_js, 100);\n    } else if (!root._bokeh_failed_load) {\n      console.log(\"Bokeh: BokehJS failed to load within specified timeout.\");\n      root._bokeh_failed_load = true;\n    } else if (force !== true) {\n      var cell = $(document.getElementById(null)).parents('.cell').data().cell;\n      cell.output_area.append_execute_result(NB_LOAD_WARNING)\n    }\n\n  }\n\n  if (root._bokeh_is_loading === 0) {\n    console.debug(\"Bokeh: BokehJS loaded, going straight to plotting\");\n    run_inline_js();\n  } else {\n    load_libs(css_urls, js_urls, function() {\n      console.debug(\"Bokeh: BokehJS plotting callback run at\", now());\n      run_inline_js();\n    });\n  }\n}(window));"
     },
     "metadata": {},
     "output_type": "display_data"
    }
   ],
   "source": [
    "import biofeatures"
   ]
  },
  {
   "cell_type": "code",
   "execution_count": 10,
   "metadata": {},
   "outputs": [],
   "source": [
    "B = biofeatures.breathing(ripdata[:2000])"
   ]
  },
  {
   "cell_type": "code",
   "execution_count": 11,
   "metadata": {},
   "outputs": [
    {
     "name": "stderr",
     "output_type": "stream",
     "text": [
      "D:\\Anaconda37\\lib\\site-packages\\scipy\\signal\\_arraytools.py:45: FutureWarning: Using a non-tuple sequence for multidimensional indexing is deprecated; use `arr[tuple(seq)]` instead of `arr[seq]`. In the future this will be interpreted as an array index, `arr[np.array(seq)]`, which will result either in an error or a different result.\n",
      "  b = a[a_slice]\n"
     ]
    }
   ],
   "source": [
    "B.resp_intervals()"
   ]
  },
  {
   "cell_type": "code",
   "execution_count": 12,
   "metadata": {},
   "outputs": [],
   "source": [
    "B.resp_features()"
   ]
  },
  {
   "cell_type": "code",
   "execution_count": 13,
   "metadata": {},
   "outputs": [
    {
     "data": {
      "text/plain": [
       "{'breath_avg_len': 3.33,\n",
       " 'inhale_duration': 5.885,\n",
       " 'exhale_duration': 4.105,\n",
       " 'inhale_exhale_ratio': 1.4336175395858708}"
      ]
     },
     "execution_count": 13,
     "metadata": {},
     "output_type": "execute_result"
    }
   ],
   "source": [
    "B.features"
   ]
  },
  {
   "cell_type": "code",
   "execution_count": 14,
   "metadata": {},
   "outputs": [
    {
     "data": {
      "text/plain": [
       "[True, False, True, False, True]"
      ]
     },
     "execution_count": 14,
     "metadata": {},
     "output_type": "execute_result"
    }
   ],
   "source": [
    "B.interval_breathe_in"
   ]
  },
  {
   "cell_type": "code",
   "execution_count": 15,
   "metadata": {},
   "outputs": [
    {
     "data": {
      "text/plain": [
       "array([247, 402, 455, 419, 475], dtype=int64)"
      ]
     },
     "execution_count": 15,
     "metadata": {},
     "output_type": "execute_result"
    }
   ],
   "source": [
    "B.interval_lengths"
   ]
  },
  {
   "cell_type": "code",
   "execution_count": 16,
   "metadata": {},
   "outputs": [
    {
     "data": {
      "text/plain": [
       "5.885"
      ]
     },
     "execution_count": 16,
     "metadata": {},
     "output_type": "execute_result"
    }
   ],
   "source": [
    "np.sum(B.interval_lengths[B.interval_breathe_in])/B.srate"
   ]
  },
  {
   "cell_type": "code",
   "execution_count": 17,
   "metadata": {},
   "outputs": [
    {
     "data": {
      "text/plain": [
       "4.105"
      ]
     },
     "execution_count": 17,
     "metadata": {},
     "output_type": "execute_result"
    }
   ],
   "source": [
    "np.sum(B.interval_lengths[np.logical_not(B.interval_breathe_in)])/B.srate"
   ]
  },
  {
   "cell_type": "code",
   "execution_count": 18,
   "metadata": {},
   "outputs": [
    {
     "data": {
      "text/plain": [
       "dict_keys(['breath_avg_len', 'inhale_duration', 'exhale_duration', 'inhale_exhale_ratio'])"
      ]
     },
     "execution_count": 18,
     "metadata": {},
     "output_type": "execute_result"
    }
   ],
   "source": [
    "B.feature_names"
   ]
  },
  {
   "cell_type": "code",
   "execution_count": 19,
   "metadata": {},
   "outputs": [
    {
     "data": {
      "text/plain": [
       "array([15.18987342])"
      ]
     },
     "execution_count": 19,
     "metadata": {},
     "output_type": "execute_result"
    }
   ],
   "source": [
    "B.resp_rate*60"
   ]
  },
  {
   "cell_type": "markdown",
   "metadata": {},
   "source": [
    "### Simulate real time"
   ]
  },
  {
   "cell_type": "code",
   "execution_count": 20,
   "metadata": {},
   "outputs": [],
   "source": [
    "import time"
   ]
  },
  {
   "cell_type": "code",
   "execution_count": 21,
   "metadata": {},
   "outputs": [],
   "source": [
    "ti = time.time()"
   ]
  },
  {
   "cell_type": "code",
   "execution_count": 22,
   "metadata": {},
   "outputs": [
    {
     "name": "stdout",
     "output_type": "stream",
     "text": [
      "{'breath_avg_len': 2.495, 'inhale_duration': 3.34, 'exhale_duration': 1.65, 'inhale_exhale_ratio': 2.0242424242424244}\n",
      "{'breath_avg_len': 1.6633333333333333, 'inhale_duration': 3.17, 'exhale_duration': 1.82, 'inhale_exhale_ratio': 1.7417582417582418}\n",
      "{'breath_avg_len': 2.495, 'inhale_duration': 3.07, 'exhale_duration': 1.92, 'inhale_exhale_ratio': 1.5989583333333333}\n",
      "{'breath_avg_len': 2.495, 'inhale_duration': 2.59, 'exhale_duration': 2.4, 'inhale_exhale_ratio': 1.0791666666666666}\n",
      "{'breath_avg_len': 2.495, 'inhale_duration': 1.77, 'exhale_duration': 3.22, 'inhale_exhale_ratio': 0.5496894409937888}\n",
      "{'breath_avg_len': 2.495, 'inhale_duration': 1.915, 'exhale_duration': 3.075, 'inhale_exhale_ratio': 0.6227642276422765}\n",
      "{'breath_avg_len': 1.6633333333333333, 'inhale_duration': 1.93, 'exhale_duration': 3.06, 'inhale_exhale_ratio': 0.630718954248366}\n",
      "{'breath_avg_len': 1.6633333333333333, 'inhale_duration': 2.65, 'exhale_duration': 2.34, 'inhale_exhale_ratio': 1.1324786324786325}\n",
      "{'breath_avg_len': 2.495, 'inhale_duration': 2.515, 'exhale_duration': 2.475, 'inhale_exhale_ratio': 1.0161616161616163}\n",
      "{'breath_avg_len': 2.495, 'inhale_duration': 2.62, 'exhale_duration': 2.37, 'inhale_exhale_ratio': 1.1054852320675106}\n"
     ]
    }
   ],
   "source": [
    "tf = time.time()\n",
    "ind = 10000\n",
    "ts = 0.5\n",
    "\n",
    "# 5 seconds, every 0.5\n",
    "while tf-ti < 5:\n",
    "    B.data = ripdata[ind-B.buffer_length:ind]\n",
    "    ind += int(ts*B.srate)\n",
    "    B.resp_intervals()\n",
    "    B.resp_features()\n",
    "    print(B.features)\n",
    "    time.sleep(ts)\n",
    "    tf = time.time()\n"
   ]
  },
  {
   "cell_type": "code",
   "execution_count": 23,
   "metadata": {},
   "outputs": [
    {
     "data": {
      "text/plain": [
       "1000"
      ]
     },
     "execution_count": 23,
     "metadata": {},
     "output_type": "execute_result"
    }
   ],
   "source": [
    "B.buffer_length\n"
   ]
  },
  {
   "cell_type": "code",
   "execution_count": 24,
   "metadata": {},
   "outputs": [],
   "source": [
    "from pythonosc import dispatcher, osc_server\n",
    "from pythonosc.udp_client import SimpleUDPClient\n",
    "import time\n"
   ]
  },
  {
   "cell_type": "code",
   "execution_count": 25,
   "metadata": {},
   "outputs": [],
   "source": [
    "riot_ip = '192.168.0.102'\n",
    "riot_port = 31000\n",
    "actuator_port = 12000\n",
    "actuator_ip = '192.168.0.103'\n",
    "\n",
    "client = SimpleUDPClient(riot_ip, riot_port) \n",
    "resp_data = []"
   ]
  },
  {
   "cell_type": "code",
   "execution_count": 26,
   "metadata": {},
   "outputs": [],
   "source": [
    "def process_riot_data(unused_addr, *values):\n",
    "    global resp_data, last_update, client\n",
    "    global t0, B\n",
    "    \n",
    "        \n",
    "    new_data = values[12]\n",
    "    resp_data.append(new_data)\n",
    "    if B.WU:\n",
    "        B.data = resp_data[-B.buffer_length:]\n",
    "#     print(new_data)\n",
    "\n",
    "    warmup = 10\n",
    "    tf = time.time()\n",
    "\n",
    "#     dmax = 15\n",
    "#     if tf-ti > 0.5 and tf-t0 < warmup+dmax and tf-t0 > warmup: \n",
    "#         print(tf-t0)\n",
    "#         real_time_feat()\n",
    "#         ti = time.time()\n",
    "\n",
    "\n",
    "    if tf-t0 > warmup: \n",
    "        if not B.WU:\n",
    "            print(\"WARMUP\")\n",
    "            B = biofeatures.breathing(data = resp_data)\n",
    "            B.WU = True\n",
    "            B.update_loop()\n",
    "\n",
    "    \n",
    "#     if len(resp_data) > 200*10 and time.time() - last_update > update_freq:\n",
    "#         last_int, breathe_in = biofeatures.calc_resp_intervals(resp_data, last_breath = True)\n",
    "                \n",
    "#         if breathe_in:\n",
    "#             print(\"Breathing in\")\n",
    "#             client.send_message(\"/actuator/inflate\", 100.0)\n",
    "#         else:\n",
    "#             print(\"Breathing out\")\n",
    "#             client.send_message(\"/actuator/inflate\", -100.0)\n",
    "        \n",
    "#         last_update = time.time()\n",
    "    \n",
    "    # only save the last 5 min of data\n",
    "    if len(resp_data) > 200 * 60 * 5:\n",
    "        resp_data = resp_data[-200*60*5:]"
   ]
  },
  {
   "cell_type": "code",
   "execution_count": null,
   "metadata": {},
   "outputs": [
    {
     "name": "stdout",
     "output_type": "stream",
     "text": [
      "Serving on ('192.168.0.102', 31000)\n",
      "WARMUP\n",
      "{'breath_avg_len': 2.5025, 'inhale_duration': 5.385, 'exhale_duration': 4.625, 'inhale_exhale_ratio': 1.1643243243243244}\n",
      "{'breath_avg_len': 2.495, 'inhale_duration': 3.015, 'exhale_duration': 1.975, 'inhale_exhale_ratio': 1.5265822784810126}\n",
      "{'breath_avg_len': 2.495, 'inhale_duration': 2.96, 'exhale_duration': 2.03, 'inhale_exhale_ratio': 1.458128078817734}\n",
      "{'breath_avg_len': 2.495, 'inhale_duration': 2.11, 'exhale_duration': 2.88, 'inhale_exhale_ratio': 0.7326388888888888}\n",
      "{'breath_avg_len': 2.495, 'inhale_duration': 1.765, 'exhale_duration': 3.225, 'inhale_exhale_ratio': 0.5472868217054263}\n",
      "{'breath_avg_len': 2.495, 'inhale_duration': 1.945, 'exhale_duration': 3.045, 'inhale_exhale_ratio': 0.638752052545156}\n",
      "{'breath_avg_len': 1.6633333333333333, 'inhale_duration': 2.68, 'exhale_duration': 2.31, 'inhale_exhale_ratio': 1.1601731601731602}\n",
      "{'breath_avg_len': 2.495, 'inhale_duration': 3.195, 'exhale_duration': 1.795, 'inhale_exhale_ratio': 1.7799442896935933}\n",
      "{'breath_avg_len': 2.495, 'inhale_duration': 3.18, 'exhale_duration': 1.81, 'inhale_exhale_ratio': 1.7569060773480663}\n",
      "{'breath_avg_len': 2.495, 'inhale_duration': 2.395, 'exhale_duration': 2.595, 'inhale_exhale_ratio': 0.9229287090558767}\n",
      "{'breath_avg_len': 2.495, 'inhale_duration': 1.725, 'exhale_duration': 3.265, 'inhale_exhale_ratio': 0.5283307810107197}\n",
      "{'breath_avg_len': 1.6633333333333333, 'inhale_duration': 2.455, 'exhale_duration': 2.535, 'inhale_exhale_ratio': 0.9684418145956607}\n",
      "{'breath_avg_len': 1.6633333333333333, 'inhale_duration': 2.68, 'exhale_duration': 2.31, 'inhale_exhale_ratio': 1.1601731601731602}\n",
      "{'breath_avg_len': 2.495, 'inhale_duration': 3.075, 'exhale_duration': 1.915, 'inhale_exhale_ratio': 1.6057441253263707}\n",
      "{'breath_avg_len': 2.495, 'inhale_duration': 2.915, 'exhale_duration': 2.075, 'inhale_exhale_ratio': 1.4048192771084338}\n",
      "{'breath_avg_len': 2.495, 'inhale_duration': 1.795, 'exhale_duration': 3.195, 'inhale_exhale_ratio': 0.5618153364632238}\n",
      "{'breath_avg_len': 2.495, 'inhale_duration': 1.885, 'exhale_duration': 3.105, 'inhale_exhale_ratio': 0.607085346215781}\n",
      "{'breath_avg_len': 1.6633333333333333, 'inhale_duration': 2.035, 'exhale_duration': 2.955, 'inhale_exhale_ratio': 0.688663282571912}\n",
      "{'breath_avg_len': 1.6633333333333333, 'inhale_duration': 3.025, 'exhale_duration': 1.965, 'inhale_exhale_ratio': 1.539440203562341}\n",
      "{'breath_avg_len': 2.495, 'inhale_duration': 3.25, 'exhale_duration': 1.74, 'inhale_exhale_ratio': 1.867816091954023}\n",
      "{'breath_avg_len': 2.495, 'inhale_duration': 3.135, 'exhale_duration': 1.855, 'inhale_exhale_ratio': 1.6900269541778976}\n",
      "{'breath_avg_len': 2.495, 'inhale_duration': 2.36, 'exhale_duration': 2.63, 'inhale_exhale_ratio': 0.8973384030418251}\n",
      "{'breath_avg_len': 2.495, 'inhale_duration': 1.845, 'exhale_duration': 3.145, 'inhale_exhale_ratio': 0.5866454689984102}\n",
      "{'breath_avg_len': 2.495, 'inhale_duration': 1.815, 'exhale_duration': 3.175, 'inhale_exhale_ratio': 0.5716535433070866}\n",
      "{'breath_avg_len': 1.6633333333333333, 'inhale_duration': 2.61, 'exhale_duration': 2.38, 'inhale_exhale_ratio': 1.096638655462185}\n",
      "{'breath_avg_len': 2.495, 'inhale_duration': 3.255, 'exhale_duration': 1.735, 'inhale_exhale_ratio': 1.8760806916426513}\n",
      "{'breath_avg_len': 2.495, 'inhale_duration': 3.095, 'exhale_duration': 1.895, 'inhale_exhale_ratio': 1.633245382585752}\n",
      "{'breath_avg_len': 2.495, 'inhale_duration': 2.695, 'exhale_duration': 2.295, 'inhale_exhale_ratio': 1.1742919389978212}\n",
      "{'breath_avg_len': 2.495, 'inhale_duration': 1.9, 'exhale_duration': 3.09, 'inhale_exhale_ratio': 0.6148867313915858}\n",
      "{'breath_avg_len': 2.495, 'inhale_duration': 2.02, 'exhale_duration': 2.97, 'inhale_exhale_ratio': 0.6801346801346801}\n",
      "{'breath_avg_len': 1.6633333333333333, 'inhale_duration': 2.59, 'exhale_duration': 2.4, 'inhale_exhale_ratio': 1.0791666666666666}\n",
      "{'breath_avg_len': 2.495, 'inhale_duration': 3.27, 'exhale_duration': 1.72, 'inhale_exhale_ratio': 1.9011627906976745}\n",
      "{'breath_avg_len': 2.495, 'inhale_duration': 3.275, 'exhale_duration': 1.715, 'inhale_exhale_ratio': 1.9096209912536444}\n",
      "{'breath_avg_len': 2.495, 'inhale_duration': 2.505, 'exhale_duration': 2.485, 'inhale_exhale_ratio': 1.0080482897384306}\n",
      "{'breath_avg_len': 2.495, 'inhale_duration': 1.965, 'exhale_duration': 3.025, 'inhale_exhale_ratio': 0.6495867768595042}\n",
      "{'breath_avg_len': 2.495, 'inhale_duration': 1.745, 'exhale_duration': 3.245, 'inhale_exhale_ratio': 0.5377503852080123}\n",
      "{'breath_avg_len': 1.6633333333333333, 'inhale_duration': 2.23, 'exhale_duration': 2.76, 'inhale_exhale_ratio': 0.8079710144927537}\n",
      "{'breath_avg_len': 1.6633333333333333, 'inhale_duration': 2.98, 'exhale_duration': 2.01, 'inhale_exhale_ratio': 1.4825870646766168}\n",
      "{'breath_avg_len': 2.495, 'inhale_duration': 2.945, 'exhale_duration': 2.045, 'inhale_exhale_ratio': 1.4400977995110025}\n",
      "{'breath_avg_len': 2.495, 'inhale_duration': 2.83, 'exhale_duration': 2.16, 'inhale_exhale_ratio': 1.3101851851851851}\n",
      "{'breath_avg_len': 2.495, 'inhale_duration': 1.855, 'exhale_duration': 3.135, 'inhale_exhale_ratio': 0.5917065390749602}\n",
      "{'breath_avg_len': 2.495, 'inhale_duration': 2.005, 'exhale_duration': 2.985, 'inhale_exhale_ratio': 0.6716917922948074}\n",
      "{'breath_avg_len': 2.495, 'inhale_duration': 2.035, 'exhale_duration': 2.955, 'inhale_exhale_ratio': 0.688663282571912}\n",
      "{'breath_avg_len': 1.6633333333333333, 'inhale_duration': 2.4, 'exhale_duration': 2.59, 'inhale_exhale_ratio': 0.9266409266409267}\n",
      "{'breath_avg_len': 1.6633333333333333, 'inhale_duration': 3.22, 'exhale_duration': 1.77, 'inhale_exhale_ratio': 1.8192090395480225}\n",
      "{'breath_avg_len': 2.495, 'inhale_duration': 3.09, 'exhale_duration': 1.9, 'inhale_exhale_ratio': 1.6263157894736842}\n",
      "{'breath_avg_len': 2.495, 'inhale_duration': 2.955, 'exhale_duration': 2.035, 'inhale_exhale_ratio': 1.452088452088452}\n",
      "{'breath_avg_len': 2.495, 'inhale_duration': 2.855, 'exhale_duration': 2.135, 'inhale_exhale_ratio': 1.3372365339578454}\n",
      "{'breath_avg_len': 2.495, 'inhale_duration': 1.935, 'exhale_duration': 3.055, 'inhale_exhale_ratio': 0.6333878887070377}\n",
      "{'breath_avg_len': 2.495, 'inhale_duration': 2.045, 'exhale_duration': 2.945, 'inhale_exhale_ratio': 0.6943972835314092}\n",
      "{'breath_avg_len': 2.495, 'inhale_duration': 2.2, 'exhale_duration': 2.79, 'inhale_exhale_ratio': 0.7885304659498208}\n",
      "{'breath_avg_len': 1.6633333333333333, 'inhale_duration': 2.515, 'exhale_duration': 2.475, 'inhale_exhale_ratio': 1.0161616161616163}\n",
      "{'breath_avg_len': 2.495, 'inhale_duration': 3.26, 'exhale_duration': 1.73, 'inhale_exhale_ratio': 1.884393063583815}\n",
      "{'breath_avg_len': 2.495, 'inhale_duration': 3.15, 'exhale_duration': 1.84, 'inhale_exhale_ratio': 1.7119565217391304}\n",
      "{'breath_avg_len': 2.495, 'inhale_duration': 3.04, 'exhale_duration': 1.95, 'inhale_exhale_ratio': 1.558974358974359}\n",
      "{'breath_avg_len': 2.495, 'inhale_duration': 2.97, 'exhale_duration': 2.02, 'inhale_exhale_ratio': 1.4702970297029703}\n",
      "{'breath_avg_len': 2.495, 'inhale_duration': 2.09, 'exhale_duration': 2.9, 'inhale_exhale_ratio': 0.7206896551724138}\n",
      "{'breath_avg_len': 2.495, 'inhale_duration': 2.11, 'exhale_duration': 2.88, 'inhale_exhale_ratio': 0.7326388888888888}\n",
      "{'breath_avg_len': 2.495, 'inhale_duration': 2.18, 'exhale_duration': 2.81, 'inhale_exhale_ratio': 0.7758007117437722}\n",
      "{'breath_avg_len': 2.495, 'inhale_duration': 2.33, 'exhale_duration': 2.66, 'inhale_exhale_ratio': 0.8759398496240601}\n",
      "{'breath_avg_len': 1.6633333333333333, 'inhale_duration': 3.035, 'exhale_duration': 1.955, 'inhale_exhale_ratio': 1.5524296675191815}\n",
      "{'breath_avg_len': 2.495, 'inhale_duration': 3.11, 'exhale_duration': 1.88, 'inhale_exhale_ratio': 1.6542553191489362}\n",
      "{'breath_avg_len': 2.495, 'inhale_duration': 2.975, 'exhale_duration': 2.015, 'inhale_exhale_ratio': 1.4764267990074442}\n",
      "{'breath_avg_len': 2.495, 'inhale_duration': 2.89, 'exhale_duration': 2.1, 'inhale_exhale_ratio': 1.3761904761904762}\n",
      "{'breath_avg_len': 2.495, 'inhale_duration': 1.955, 'exhale_duration': 3.035, 'inhale_exhale_ratio': 0.6441515650741351}\n",
      "{'breath_avg_len': 2.495, 'inhale_duration': 1.895, 'exhale_duration': 3.095, 'inhale_exhale_ratio': 0.6122778675282714}\n",
      "{'breath_avg_len': 2.495, 'inhale_duration': 1.945, 'exhale_duration': 3.045, 'inhale_exhale_ratio': 0.638752052545156}\n"
     ]
    },
    {
     "name": "stdout",
     "output_type": "stream",
     "text": [
      "{'breath_avg_len': 1.6633333333333333, 'inhale_duration': 2.495, 'exhale_duration': 2.495, 'inhale_exhale_ratio': 1.0}\n",
      "{'breath_avg_len': 2.495, 'inhale_duration': 3.275, 'exhale_duration': 1.715, 'inhale_exhale_ratio': 1.9096209912536444}\n",
      "{'breath_avg_len': 2.495, 'inhale_duration': 3.105, 'exhale_duration': 1.885, 'inhale_exhale_ratio': 1.6472148541114058}\n",
      "{'breath_avg_len': 2.495, 'inhale_duration': 2.995, 'exhale_duration': 1.995, 'inhale_exhale_ratio': 1.5012531328320802}\n",
      "{'breath_avg_len': 2.495, 'inhale_duration': 2.225, 'exhale_duration': 2.765, 'inhale_exhale_ratio': 0.8047016274864376}\n",
      "{'breath_avg_len': 2.495, 'inhale_duration': 1.93, 'exhale_duration': 3.06, 'inhale_exhale_ratio': 0.630718954248366}\n",
      "{'breath_avg_len': 2.495, 'inhale_duration': 2.065, 'exhale_duration': 2.925, 'inhale_exhale_ratio': 0.705982905982906}\n",
      "{'breath_avg_len': 1.6633333333333333, 'inhale_duration': 2.32, 'exhale_duration': 2.67, 'inhale_exhale_ratio': 0.8689138576779026}\n",
      "{'breath_avg_len': 1.6633333333333333, 'inhale_duration': 3.19, 'exhale_duration': 1.8, 'inhale_exhale_ratio': 1.7722222222222221}\n",
      "{'breath_avg_len': 2.495, 'inhale_duration': 3.11, 'exhale_duration': 1.88, 'inhale_exhale_ratio': 1.6542553191489362}\n",
      "{'breath_avg_len': 2.495, 'inhale_duration': 3.015, 'exhale_duration': 1.975, 'inhale_exhale_ratio': 1.5265822784810126}\n",
      "{'breath_avg_len': 2.495, 'inhale_duration': 2.41, 'exhale_duration': 2.58, 'inhale_exhale_ratio': 0.9341085271317829}\n",
      "{'breath_avg_len': 2.495, 'inhale_duration': 1.82, 'exhale_duration': 3.17, 'inhale_exhale_ratio': 0.5741324921135647}\n",
      "{'breath_avg_len': 2.495, 'inhale_duration': 1.93, 'exhale_duration': 3.06, 'inhale_exhale_ratio': 0.630718954248366}\n",
      "{'breath_avg_len': 1.6633333333333333, 'inhale_duration': 2.195, 'exhale_duration': 2.795, 'inhale_exhale_ratio': 0.7853309481216458}\n",
      "{'breath_avg_len': 2.495, 'inhale_duration': 3.24, 'exhale_duration': 1.75, 'inhale_exhale_ratio': 1.8514285714285714}\n",
      "{'breath_avg_len': 2.495, 'inhale_duration': 3.185, 'exhale_duration': 1.805, 'inhale_exhale_ratio': 1.7645429362880887}\n",
      "{'breath_avg_len': 2.495, 'inhale_duration': 2.45, 'exhale_duration': 2.54, 'inhale_exhale_ratio': 0.9645669291338582}\n",
      "{'breath_avg_len': 2.495, 'inhale_duration': 1.98, 'exhale_duration': 3.01, 'inhale_exhale_ratio': 0.6578073089700996}\n",
      "{'breath_avg_len': 2.495, 'inhale_duration': 1.74, 'exhale_duration': 3.25, 'inhale_exhale_ratio': 0.5353846153846153}\n"
     ]
    },
    {
     "name": "stderr",
     "output_type": "stream",
     "text": [
      "Exception in thread Thread-10798:\n",
      "Traceback (most recent call last):\n",
      "  File \"D:\\Anaconda37\\lib\\threading.py\", line 917, in _bootstrap_inner\n",
      "    self.run()\n",
      "  File \"D:\\Anaconda37\\lib\\threading.py\", line 1158, in run\n",
      "    self.function(*self.args, **self.kwargs)\n",
      "  File \"D:\\github\\biofeatures\\notebooks\\biofeatures.py\", line 43, in update_loop\n",
      "    self.resp_intervals()\n",
      "  File \"D:\\github\\biofeatures\\notebooks\\biofeatures.py\", line 63, in resp_intervals\n",
      "    processed_data = resp.resp(signal=self.data, sampling_rate=self.srate, show=False)\n",
      "  File \"D:\\Anaconda37\\lib\\site-packages\\biosppy\\signals\\resp.py\", line 91, in resp\n",
      "    mirror=True)\n",
      "  File \"D:\\Anaconda37\\lib\\site-packages\\biosppy\\signals\\tools.py\", line 609, in smoother\n",
      "    (signal[0] * np.ones(size), signal, signal[-1] * np.ones(size)))\n",
      "IndexError: index 0 is out of bounds for axis 0 with size 0\n",
      "\n"
     ]
    },
    {
     "name": "stdout",
     "output_type": "stream",
     "text": [
      "{'breath_avg_len': 2.495, 'inhale_duration': 3.26, 'exhale_duration': 1.73, 'inhale_exhale_ratio': 1.884393063583815}\n",
      "{'breath_avg_len': 1.6633333333333333, 'inhale_duration': 2.985, 'exhale_duration': 2.005, 'inhale_exhale_ratio': 1.4887780548628429}\n"
     ]
    },
    {
     "name": "stderr",
     "output_type": "stream",
     "text": [
      "Exception in thread Thread-11104:\n",
      "Traceback (most recent call last):\n",
      "  File \"D:\\Anaconda37\\lib\\threading.py\", line 917, in _bootstrap_inner\n",
      "    self.run()\n",
      "  File \"D:\\Anaconda37\\lib\\threading.py\", line 1158, in run\n",
      "    self.function(*self.args, **self.kwargs)\n",
      "  File \"D:\\github\\biofeatures\\notebooks\\biofeatures.py\", line 43, in update_loop\n",
      "    self.resp_intervals()\n",
      "  File \"D:\\github\\biofeatures\\notebooks\\biofeatures.py\", line 63, in resp_intervals\n",
      "    processed_data = resp.resp(signal=self.data, sampling_rate=self.srate, show=False)\n",
      "  File \"D:\\Anaconda37\\lib\\site-packages\\biosppy\\signals\\resp.py\", line 91, in resp\n",
      "    mirror=True)\n",
      "  File \"D:\\Anaconda37\\lib\\site-packages\\biosppy\\signals\\tools.py\", line 609, in smoother\n",
      "    (signal[0] * np.ones(size), signal, signal[-1] * np.ones(size)))\n",
      "IndexError: index 0 is out of bounds for axis 0 with size 0\n",
      "\n"
     ]
    },
    {
     "name": "stdout",
     "output_type": "stream",
     "text": [
      "{'breath_avg_len': 2.495, 'inhale_duration': 1.75, 'exhale_duration': 3.24, 'inhale_exhale_ratio': 0.5401234567901234}\n",
      "{'breath_avg_len': 1.6633333333333333, 'inhale_duration': 2.21, 'exhale_duration': 2.78, 'inhale_exhale_ratio': 0.7949640287769785}\n",
      "{'breath_avg_len': 1.6633333333333333, 'inhale_duration': 2.93, 'exhale_duration': 2.06, 'inhale_exhale_ratio': 1.4223300970873787}\n",
      "{'breath_avg_len': 2.495, 'inhale_duration': 3.235, 'exhale_duration': 1.755, 'inhale_exhale_ratio': 1.8433048433048433}\n",
      "{'breath_avg_len': 2.495, 'inhale_duration': 2.97, 'exhale_duration': 2.02, 'inhale_exhale_ratio': 1.4702970297029703}\n",
      "{'breath_avg_len': 2.495, 'inhale_duration': 2.185, 'exhale_duration': 2.805, 'inhale_exhale_ratio': 0.7789661319073083}\n",
      "{'breath_avg_len': 2.495, 'inhale_duration': 1.78, 'exhale_duration': 3.21, 'inhale_exhale_ratio': 0.5545171339563862}\n",
      "{'breath_avg_len': 2.495, 'inhale_duration': 1.855, 'exhale_duration': 3.135, 'inhale_exhale_ratio': 0.5917065390749602}\n",
      "{'breath_avg_len': 2.495, 'inhale_duration': 1.865, 'exhale_duration': 3.125, 'inhale_exhale_ratio': 0.5968}\n",
      "{'breath_avg_len': 2.495, 'inhale_duration': 2.555, 'exhale_duration': 2.435, 'inhale_exhale_ratio': 1.0492813141683779}\n",
      "{'breath_avg_len': 2.495, 'inhale_duration': 2.79, 'exhale_duration': 2.2, 'inhale_exhale_ratio': 1.268181818181818}\n",
      "{'breath_avg_len': 2.495, 'inhale_duration': 2.6, 'exhale_duration': 2.39, 'inhale_exhale_ratio': 1.0878661087866108}\n",
      "{'breath_avg_len': 2.495, 'inhale_duration': 1.65, 'exhale_duration': 3.34, 'inhale_exhale_ratio': 0.4940119760479042}\n",
      "{'breath_avg_len': 2.495, 'inhale_duration': 1.62, 'exhale_duration': 3.37, 'inhale_exhale_ratio': 0.4807121661721068}\n"
     ]
    },
    {
     "name": "stderr",
     "output_type": "stream",
     "text": [
      "Exception in thread Thread-12633:\n",
      "Traceback (most recent call last):\n",
      "  File \"D:\\Anaconda37\\lib\\threading.py\", line 917, in _bootstrap_inner\n",
      "    self.run()\n",
      "  File \"D:\\Anaconda37\\lib\\threading.py\", line 1158, in run\n",
      "    self.function(*self.args, **self.kwargs)\n",
      "  File \"D:\\github\\biofeatures\\notebooks\\biofeatures.py\", line 43, in update_loop\n",
      "    self.resp_intervals()\n",
      "  File \"D:\\github\\biofeatures\\notebooks\\biofeatures.py\", line 63, in resp_intervals\n",
      "    processed_data = resp.resp(signal=self.data, sampling_rate=self.srate, show=False)\n",
      "  File \"D:\\Anaconda37\\lib\\site-packages\\biosppy\\signals\\resp.py\", line 91, in resp\n",
      "    mirror=True)\n",
      "  File \"D:\\Anaconda37\\lib\\site-packages\\biosppy\\signals\\tools.py\", line 609, in smoother\n",
      "    (signal[0] * np.ones(size), signal, signal[-1] * np.ones(size)))\n",
      "IndexError: index 0 is out of bounds for axis 0 with size 0\n",
      "\n"
     ]
    },
    {
     "name": "stdout",
     "output_type": "stream",
     "text": [
      "{'breath_avg_len': 2.495, 'inhale_duration': 1.955, 'exhale_duration': 3.035, 'inhale_exhale_ratio': 0.6441515650741351}\n",
      "{'breath_avg_len': 1.6633333333333333, 'inhale_duration': 2.69, 'exhale_duration': 2.3, 'inhale_exhale_ratio': 1.1695652173913043}\n",
      "{'breath_avg_len': 1.6633333333333333, 'inhale_duration': 3.03, 'exhale_duration': 1.96, 'inhale_exhale_ratio': 1.5459183673469388}\n",
      "{'breath_avg_len': 2.495, 'inhale_duration': 2.945, 'exhale_duration': 2.045, 'inhale_exhale_ratio': 1.4400977995110025}\n"
     ]
    },
    {
     "name": "stderr",
     "output_type": "stream",
     "text": [
      "Exception in thread Thread-13144:\n",
      "Traceback (most recent call last):\n",
      "  File \"D:\\Anaconda37\\lib\\threading.py\", line 917, in _bootstrap_inner\n",
      "    self.run()\n",
      "  File \"D:\\Anaconda37\\lib\\threading.py\", line 1158, in run\n",
      "    self.function(*self.args, **self.kwargs)\n",
      "  File \"D:\\github\\biofeatures\\notebooks\\biofeatures.py\", line 43, in update_loop\n",
      "    self.resp_intervals()\n",
      "  File \"D:\\github\\biofeatures\\notebooks\\biofeatures.py\", line 63, in resp_intervals\n",
      "    processed_data = resp.resp(signal=self.data, sampling_rate=self.srate, show=False)\n",
      "  File \"D:\\Anaconda37\\lib\\site-packages\\biosppy\\signals\\resp.py\", line 91, in resp\n",
      "    mirror=True)\n",
      "  File \"D:\\Anaconda37\\lib\\site-packages\\biosppy\\signals\\tools.py\", line 609, in smoother\n",
      "    (signal[0] * np.ones(size), signal, signal[-1] * np.ones(size)))\n",
      "IndexError: index 0 is out of bounds for axis 0 with size 0\n",
      "\n"
     ]
    },
    {
     "name": "stdout",
     "output_type": "stream",
     "text": [
      "{'breath_avg_len': 1.6633333333333333, 'inhale_duration': 2.095, 'exhale_duration': 2.895, 'inhale_exhale_ratio': 0.7236614853195165}\n",
      "{'breath_avg_len': 1.6633333333333333, 'inhale_duration': 2.55, 'exhale_duration': 2.44, 'inhale_exhale_ratio': 1.0450819672131149}\n",
      "{'breath_avg_len': 1.6633333333333333, 'inhale_duration': 2.805, 'exhale_duration': 2.185, 'inhale_exhale_ratio': 1.2837528604118993}\n",
      "{'breath_avg_len': 1.6633333333333333, 'inhale_duration': 2.36, 'exhale_duration': 2.63, 'inhale_exhale_ratio': 0.8973384030418251}\n",
      "{'breath_avg_len': 2.495, 'inhale_duration': 2.165, 'exhale_duration': 2.825, 'inhale_exhale_ratio': 0.7663716814159292}\n",
      "{'breath_avg_len': 2.495, 'inhale_duration': 1.85, 'exhale_duration': 3.14, 'inhale_exhale_ratio': 0.589171974522293}\n",
      "{'breath_avg_len': 2.495, 'inhale_duration': 1.69, 'exhale_duration': 3.3, 'inhale_exhale_ratio': 0.5121212121212121}\n",
      "{'breath_avg_len': 1.6633333333333333, 'inhale_duration': 2.48, 'exhale_duration': 2.51, 'inhale_exhale_ratio': 0.9880478087649402}\n",
      "{'breath_avg_len': 2.495, 'inhale_duration': 2.98, 'exhale_duration': 2.01, 'inhale_exhale_ratio': 1.4825870646766168}\n",
      "{'breath_avg_len': 2.495, 'inhale_duration': 2.735, 'exhale_duration': 2.255, 'inhale_exhale_ratio': 1.212860310421286}\n",
      "{'breath_avg_len': 2.495, 'inhale_duration': 1.72, 'exhale_duration': 3.27, 'inhale_exhale_ratio': 0.5259938837920489}\n",
      "{'breath_avg_len': 2.495, 'inhale_duration': 1.69, 'exhale_duration': 3.3, 'inhale_exhale_ratio': 0.5121212121212121}\n",
      "{'breath_avg_len': 1.6633333333333333, 'inhale_duration': 1.85, 'exhale_duration': 3.14, 'inhale_exhale_ratio': 0.589171974522293}\n"
     ]
    }
   ],
   "source": [
    "t0 = time.time()\n",
    "ti = time.time()\n",
    "riot_dispatcher = dispatcher.Dispatcher()\n",
    "riot_dispatcher.map(\"/*/raw\", process_riot_data)\n",
    "\n",
    "server = osc_server.ThreadingOSCUDPServer((riot_ip, riot_port), riot_dispatcher)\n",
    "print(\"Serving on {}\".format(server.server_address))\n",
    "server.serve_forever()"
   ]
  },
  {
   "cell_type": "code",
   "execution_count": null,
   "metadata": {},
   "outputs": [],
   "source": []
  }
 ],
 "metadata": {
  "kernelspec": {
   "display_name": "Python 3",
   "language": "python",
   "name": "python3"
  },
  "language_info": {
   "codemirror_mode": {
    "name": "ipython",
    "version": 3
   },
   "file_extension": ".py",
   "mimetype": "text/x-python",
   "name": "python",
   "nbconvert_exporter": "python",
   "pygments_lexer": "ipython3",
   "version": "3.7.1"
  }
 },
 "nbformat": 4,
 "nbformat_minor": 2
}
