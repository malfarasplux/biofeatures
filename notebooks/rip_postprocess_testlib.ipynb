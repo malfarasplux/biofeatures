{
 "cells": [
  {
   "cell_type": "code",
   "execution_count": null,
   "metadata": {},
   "outputs": [],
   "source": [
    "import numpy as np\n",
    "import csv as csv\n",
    "import json    \n",
    "import matplotlib.pyplot as plt\n",
    "%matplotlib inline"
   ]
  },
  {
   "cell_type": "code",
   "execution_count": null,
   "metadata": {},
   "outputs": [],
   "source": [
    "import biosppy.signals.resp as resp\n",
    "# Returns\n",
    "#    -------\n",
    "#    ts : array\n",
    "#        Signal time axis reference (seconds).\n",
    "#    filtered : array\n",
    "#        Filtered Respiration signal.\n",
    "#    zeros : array\n",
    "#        Indices of Respiration zero crossings.\n",
    "#    resp_rate_ts : array\n",
    "#        Respiration rate time axis reference (seconds).\n",
    "#    resp_rate : array\n",
    "#        Instantaneous respiration rate (Hz)."
   ]
  },
  {
   "cell_type": "code",
   "execution_count": null,
   "metadata": {},
   "outputs": [],
   "source": [
    "def moving_average(x, w):\n",
    "    return np.convolve(x, np.ones(w), 'valid') / w"
   ]
  },
  {
   "cell_type": "markdown",
   "metadata": {},
   "source": [
    "### Read header"
   ]
  },
  {
   "cell_type": "code",
   "execution_count": null,
   "metadata": {},
   "outputs": [],
   "source": [
    "# fname = 'https://github.com/malfarasplux/biofeatures/tree/master/riot_rip_acquisition/ak/opensignals_192.168.1.1008888_2020-02-05_11-54-42.txt'\n",
    "fname = '../riot_rip_acquisition/ak/opensignals_192.168.1.1008888_2020-02-05_11-54-42.txt'\n",
    "with open(fname) as datafile:\n",
    "    readdata = csv.reader(datafile, delimiter='\\t')\n",
    "    header = [next(readdata), next(readdata), next(readdata)]\n",
    "    header_json = json.loads(header[1][0][1:])\n",
    "print(header_json)"
   ]
  },
  {
   "cell_type": "markdown",
   "metadata": {},
   "source": [
    "### Read data"
   ]
  },
  {
   "cell_type": "code",
   "execution_count": null,
   "metadata": {},
   "outputs": [],
   "source": [
    "data = np.genfromtxt(fname)\n",
    "print(data.shape)"
   ]
  },
  {
   "cell_type": "code",
   "execution_count": null,
   "metadata": {},
   "outputs": [],
   "source": [
    "# Locate the sampling rate \n",
    "srate = header_json[list(header_json.keys())[0]]['sampling rate']\n",
    "srate"
   ]
  },
  {
   "cell_type": "code",
   "execution_count": null,
   "metadata": {},
   "outputs": [],
   "source": [
    "# Locate the analog channel\n",
    "col_num  = header_json[list(header_json.keys())[0]]['column'].index('ANALOG1')\n",
    "col_num"
   ]
  },
  {
   "cell_type": "code",
   "execution_count": null,
   "metadata": {},
   "outputs": [],
   "source": [
    "ripdata = data[:,col_num]"
   ]
  },
  {
   "cell_type": "markdown",
   "metadata": {},
   "source": [
    "### Test the library"
   ]
  },
  {
   "cell_type": "code",
   "execution_count": null,
   "metadata": {},
   "outputs": [],
   "source": [
    "import biofeatures"
   ]
  },
  {
   "cell_type": "code",
   "execution_count": null,
   "metadata": {},
   "outputs": [],
   "source": [
    "B = biofeatures.breathing(ripdata[:2000])"
   ]
  },
  {
   "cell_type": "code",
   "execution_count": null,
   "metadata": {},
   "outputs": [],
   "source": [
    "B.resp_intervals()"
   ]
  },
  {
   "cell_type": "code",
   "execution_count": null,
   "metadata": {},
   "outputs": [],
   "source": [
    "B.resp_features()"
   ]
  },
  {
   "cell_type": "code",
   "execution_count": null,
   "metadata": {},
   "outputs": [],
   "source": [
    "B.features"
   ]
  },
  {
   "cell_type": "code",
   "execution_count": null,
   "metadata": {},
   "outputs": [],
   "source": [
    "B.interval_breathe_in"
   ]
  },
  {
   "cell_type": "code",
   "execution_count": null,
   "metadata": {},
   "outputs": [],
   "source": [
    "B.interval_lengths"
   ]
  },
  {
   "cell_type": "code",
   "execution_count": null,
   "metadata": {},
   "outputs": [],
   "source": [
    "np.sum(B.interval_lengths[B.interval_breathe_in])/B.srate"
   ]
  },
  {
   "cell_type": "code",
   "execution_count": null,
   "metadata": {},
   "outputs": [],
   "source": [
    "np.sum(B.interval_lengths[np.logical_not(B.interval_breathe_in)])/B.srate"
   ]
  },
  {
   "cell_type": "code",
   "execution_count": null,
   "metadata": {},
   "outputs": [],
   "source": [
    "B.feature_names"
   ]
  },
  {
   "cell_type": "code",
   "execution_count": null,
   "metadata": {},
   "outputs": [],
   "source": [
    "B.resp_rate*60"
   ]
  },
  {
   "cell_type": "markdown",
   "metadata": {},
   "source": [
    "### Simulate real time"
   ]
  },
  {
   "cell_type": "code",
   "execution_count": null,
   "metadata": {},
   "outputs": [],
   "source": [
    "import time"
   ]
  },
  {
   "cell_type": "code",
   "execution_count": null,
   "metadata": {},
   "outputs": [],
   "source": [
    "ti = time.time()"
   ]
  },
  {
   "cell_type": "code",
   "execution_count": null,
   "metadata": {},
   "outputs": [],
   "source": [
    "tf = time.time()\n",
    "ind = 10000\n",
    "ts = 0.5\n",
    "\n",
    "# 5 seconds, every 0.5\n",
    "while tf-ti < 5:\n",
    "    B.data = ripdata[ind-B.buffer_length:ind]\n",
    "    ind += int(ts*B.srate)\n",
    "    B.resp_intervals()\n",
    "    B.resp_features()\n",
    "    print(B.features)\n",
    "    time.sleep(ts)\n",
    "    tf = time.time()\n"
   ]
  },
  {
   "cell_type": "code",
   "execution_count": null,
   "metadata": {},
   "outputs": [],
   "source": [
    "B.buffer_length\n"
   ]
  },
  {
   "cell_type": "code",
   "execution_count": null,
   "metadata": {},
   "outputs": [],
   "source": [
    "from pythonosc import dispatcher, osc_server\n",
    "from pythonosc.udp_client import SimpleUDPClient\n",
    "import time\n"
   ]
  },
  {
   "cell_type": "code",
   "execution_count": null,
   "metadata": {},
   "outputs": [],
   "source": [
    "riot_ip = '192.168.0.102'\n",
    "riot_port = 31000\n",
    "actuator_port = 12000\n",
    "actuator_ip = '192.168.0.103'\n",
    "\n",
    "client = SimpleUDPClient(riot_ip, riot_port) \n",
    "resp_data = []"
   ]
  },
  {
   "cell_type": "code",
   "execution_count": null,
   "metadata": {},
   "outputs": [],
   "source": [
    "def process_riot_data(unused_addr, *values):\n",
    "    global resp_data, last_update, client\n",
    "    global t0, B\n",
    "    \n",
    "        \n",
    "    new_data = values[12]\n",
    "    resp_data.append(new_data)\n",
    "    if B.WU:\n",
    "        B.data = resp_data[-B.buffer_length:]\n",
    "#     print(new_data)\n",
    "\n",
    "    warmup = 10\n",
    "    tf = time.time()\n",
    "\n",
    "#     dmax = 15\n",
    "#     if tf-ti > 0.5 and tf-t0 < warmup+dmax and tf-t0 > warmup: \n",
    "#         print(tf-t0)\n",
    "#         real_time_feat()\n",
    "#         ti = time.time()\n",
    "\n",
    "\n",
    "    if tf-t0 > warmup: \n",
    "        if not B.WU:\n",
    "            print(\"WARMUP\")\n",
    "            B = biofeatures.breathing(data = resp_data)\n",
    "            B.WU = True\n",
    "            B.update_loop()\n",
    "\n",
    "    \n",
    "#     if len(resp_data) > 200*10 and time.time() - last_update > update_freq:\n",
    "#         last_int, breathe_in = biofeatures.calc_resp_intervals(resp_data, last_breath = True)\n",
    "                \n",
    "#         if breathe_in:\n",
    "#             print(\"Breathing in\")\n",
    "#             client.send_message(\"/actuator/inflate\", 100.0)\n",
    "#         else:\n",
    "#             print(\"Breathing out\")\n",
    "#             client.send_message(\"/actuator/inflate\", -100.0)\n",
    "        \n",
    "#         last_update = time.time()\n",
    "    \n",
    "    # only save the last 5 min of data\n",
    "    if len(resp_data) > 200 * 60 * 5:\n",
    "        resp_data = resp_data[-200*60*5:]"
   ]
  },
  {
   "cell_type": "code",
   "execution_count": null,
   "metadata": {},
   "outputs": [],
   "source": [
    "t0 = time.time()\n",
    "ti = time.time()\n",
    "riot_dispatcher = dispatcher.Dispatcher()\n",
    "riot_dispatcher.map(\"/*/raw\", process_riot_data)\n",
    "\n",
    "server = osc_server.ThreadingOSCUDPServer((riot_ip, riot_port), riot_dispatcher)\n",
    "print(\"Serving on {}\".format(server.server_address))\n",
    "server.serve_forever()"
   ]
  },
  {
   "cell_type": "code",
   "execution_count": null,
   "metadata": {},
   "outputs": [],
   "source": []
  }
 ],
 "metadata": {
  "kernelspec": {
   "display_name": "Python 3",
   "language": "python",
   "name": "python3"
  },
  "language_info": {
   "codemirror_mode": {
    "name": "ipython",
    "version": 3
   },
   "file_extension": ".py",
   "mimetype": "text/x-python",
   "name": "python",
   "nbconvert_exporter": "python",
   "pygments_lexer": "ipython3",
   "version": "3.7.1"
  }
 },
 "nbformat": 4,
 "nbformat_minor": 2
}
