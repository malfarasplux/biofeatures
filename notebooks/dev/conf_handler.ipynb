{
 "cells": [
  {
   "cell_type": "markdown",
   "metadata": {},
   "source": [
    "### This notebook uses a breathing actuation sequence that computes triggers inflation deflation based upon an average inhale/exhale duration and a scale factor"
   ]
  },
  {
   "cell_type": "code",
   "execution_count": null,
   "metadata": {},
   "outputs": [],
   "source": [
    "from pythonosc import dispatcher, osc_server\n",
    "from pythonosc.udp_client import SimpleUDPClient\n",
    "import biofeatures\n",
    "import threading\n",
    "import numpy as np\n",
    "import time"
   ]
  },
  {
   "cell_type": "markdown",
   "metadata": {},
   "source": [
    "### Actuator config"
   ]
  },
  {
   "cell_type": "code",
   "execution_count": null,
   "metadata": {},
   "outputs": [],
   "source": [
    "actuator_ip = '192.168.0.110'\n",
    "actuator_port = 12000\n",
    "\n",
    "osc_client = SimpleUDPClient(actuator_ip, actuator_port) \n",
    "osc_client.send_message(\"/actuator/inflate\", 100.0)\n",
    "osc_client.send_message(\"/actuator/inflate\", -100.0)\n",
    "osc_client.send_message(\"/actuator/inflate\", 0.0)\n",
    "# osc_client.send_message(\"/actuator/inflate\", 0.0)"
   ]
  },
  {
   "cell_type": "markdown",
   "metadata": {},
   "source": [
    "### Data processing"
   ]
  },
  {
   "cell_type": "code",
   "execution_count": null,
   "metadata": {},
   "outputs": [],
   "source": [
    "# def data_handler(unused_addr, args, data1, data2, data3, data4, data5, data6): #BITalino ServerBIT format\n",
    "# def data_handler(unused_addr, args, values): #R-IoT Node-RED format\n",
    "def data_handler(unused_addr, args, *values): #R-IoT \n",
    "\n",
    "    global ecg_data, resp_data\n",
    "    global osc_client\n",
    "    \n",
    "    B = args[0]\n",
    "    HR = args[1]\n",
    "    \n",
    "    # print(data5) # breathing\n",
    "    # print(data6) # ECG\n",
    "    \n",
    "    # BITalino ServerBIT\n",
    "#     ecg_data.append(float(data6))\n",
    "#     resp_data.append(float(data5))\n",
    "\n",
    "    # R-IoT Node-RED\n",
    "#     resp_data.append(np.float(values.split(\"\\t\")[5]))\n",
    "#     ecg_data.append(np.random.rand(1)[0])\n",
    "\n",
    "\n",
    "#     ecg_data.append(float(values[13]))\n",
    "    ecg_data.append(np.random.rand(1)[0])\n",
    "    resp_data.append(float(values[12]))\n",
    "#     print(resp_data[-1])\n",
    "        \n",
    "    if B.is_warmed_up:\n",
    "        B.set_data(resp_data[-B.buffer_length:])\n",
    "    \n",
    "    if HR.is_warmed_up:\n",
    "        HR.set_data(ecg_data[-HR.buffer_length:])\n",
    "    \n"
   ]
  },
  {
   "cell_type": "code",
   "execution_count": null,
   "metadata": {},
   "outputs": [],
   "source": [
    "def warmup(B, resp_data, HR, ecg_data):\n",
    "    \"\"\"Function to launch once the system has warmed up.\n",
    "    Sets the  data initially and launches a recursive update of features.\n",
    "    Parameters\n",
    "    ----------\n",
    "    B: object containing breathing data and features\n",
    "    resp_data: respiration signal data to set\n",
    "    HR: object containing ECG data and features\n",
    "    ecg_data: ecg signal data to set\n",
    "    \"\"\"\n",
    "    \n",
    "    if not B.is_warmed_up:\n",
    "        print(\"Breathing WARMUP\")\n",
    "        B.set_data(resp_data[-B.buffer_length:])\n",
    "        B.is_warmed_up = True\n",
    "        B.update_loop()\n",
    "        \n",
    "    if not HR.is_warmed_up:\n",
    "        print(\"ECG WARMUP\")\n",
    "        HR.set_data(ecg_data[-HR.buffer_length:])\n",
    "        HR.is_warmed_up = True\n",
    "        HR.update_loop()\n",
    "        \n",
    "    breathing_factor = 1.2\n",
    "    \n",
    "    timer_actuation = threading.Timer(0.1, breathing_actuation, [B, breathing_factor, True] )\n",
    "    timer_actuation.start()"
   ]
  },
  {
   "cell_type": "code",
   "execution_count": null,
   "metadata": {},
   "outputs": [],
   "source": [
    "def breathing_actuation(B, breathing_factor, inflate):\n",
    "    global osc_client\n",
    "    global actuation_flag\n",
    "    \n",
    "    if not actuation_flag:\n",
    "        return\n",
    "    \n",
    "    if inflate:\n",
    "        print(\"inhale: \", B.features['avg_inhale'])\n",
    "        osc_client.send_message(\"/actuator/inflate\", 100.0)\n",
    "        timer_exhale = threading.Timer(B.features['avg_inhale'] * breathing_factor, breathing_actuation, [B, breathing_factor, False])\n",
    "        timer_exhale.start()\n",
    "\n",
    "    else:\n",
    "        print(\"exhale: \", B.features['avg_exhale'])\n",
    "        osc_client.send_message(\"/actuator/inflate\", -100.0)\n",
    "        timer_inhale = threading.Timer(B.features['avg_exhale'] * breathing_factor, breathing_actuation, [B, breathing_factor, True])\n",
    "        timer_inhale.start()"
   ]
  },
  {
   "cell_type": "code",
   "execution_count": null,
   "metadata": {},
   "outputs": [],
   "source": [
    "# riot_ip = '192.168.1.100'\n",
    "# riot_ssid = 'riot'\n",
    "def riot_data_handler(unused_addr, args, *values): #R-IoT \n",
    "\n",
    "    global ecg_data, resp_data\n",
    "    global osc_client\n",
    "    \n",
    "    B = args[0]\n",
    "    HR = args[1]\n",
    "    \n",
    "    ecg_data.append(float(values[13]))\n",
    "    resp_data.append(float(values[12]))\n",
    "    print(resp_data[-1])\n",
    "\n",
    "\n",
    "def riot_listener(ip, port):\n",
    "\n",
    "    riot_dispatcher = dispatcher.Dispatcher()\n",
    "    riot_dispatcher.map(\"/*/raw\", assign_riot_data)\n",
    "    # riot_dispatcher.map(\"/*/bitalino\", assign_bitalino_data)\n",
    "\n",
    "    # server = osc_server.ThreadingOSCUDPServer(\n",
    "    #   (ip, port), riot_dispatcher)\n",
    "    server = osc_server.ThreadingOSCUDPServer(\n",
    "      (ip, port), riot_dispatcher)\n",
    "    print(\"Serving on {}\".format(server.server_address))\n",
    "    ut.osc_server_started = True\n",
    "    server.serve_forever()\n",
    "    \n",
    "def assign_riot_data(unused_addr, *values):\n",
    "    d_id = (int(unused_addr[1]))\n",
    "    if d_id not in ut.device_ids: new_device(d_id)\n",
    "\n",
    "    channels = [1, 2, 3, 4, 5, 6, 7, 8, 9, 10, 11, 12, 13, 14, 15, 16, 17, 18, 19, 20, 21, 22]\n",
    "    labels = [\"ACC_X\", \"ACC_Y\", \"ACC_Z\", \"GYRO_X\", \"GYRO_Y\", \"GYRO_Z\", \"MAG_X\", \"MAG_Y\", \"MAG_Z\",\n",
    "        \"TEMP\", \"IO\", \"A1\", \"A2\", \"C\", \"Q1\", \"Q2\", \"Q3\", \"Q4\", \"PITCH\", \"YAW\", \"ROLL\", \"HEAD\"]\n",
    "    ch_mask = numpy.array(channels) - 1\n",
    "    try:\n",
    "        cols = numpy.arange(len(ch_mask))\n",
    "        res = \"{\"\n",
    "        for i in cols:\n",
    "            res += '\"' + labels[i] + '\":' + str(values[i]) + ','\n",
    "        res = res[:-1] + \"}\"\n",
    "        #if len(cl) > 0: cl[-1].write_message(res)\n",
    "        ut.device_data[d_id] = res\n",
    "    except:\n",
    "        traceback.print_exc()\n",
    "        os._exit(0)\n",
    "    "
   ]
  },
  {
   "cell_type": "code",
   "execution_count": null,
   "metadata": {},
   "outputs": [],
   "source": [
    "riot_ip = \"127.0.0.1\"\n",
    "riot_port = 31000 \n"
   ]
  },
  {
   "cell_type": "code",
   "execution_count": null,
   "metadata": {},
   "outputs": [],
   "source": [
    "ecg_data = []\n",
    "resp_data = []\n",
    "times_run = 0\n",
    "B = biofeatures.breathing(data = np.ones(10), buffer_length=2000, srate=100)\n",
    "B.breathing_factor = 1.0\n",
    "B.sequence = \"None\"\n",
    "HRV = biofeatures.hrv(data = np.ones(10), buffer_length=2000, srate=100)\n",
    "my_dispatcher = dispatcher.Dispatcher()\n",
    "my_dispatcher.map(\"/*/raw\", data_handler, B, HRV)"
   ]
  },
  {
   "cell_type": "code",
   "execution_count": null,
   "metadata": {},
   "outputs": [],
   "source": [
    "def conf_handler(unused_addr, args, *values): #Conf \n",
    "\n",
    "    global ecg_data, resp_data\n",
    "    global osc_client\n",
    "    \n",
    "    B = args[0]\n",
    "    HR = args[1]   \n",
    "\n",
    "    if type(values[0]) == str:\n",
    "        if B.sequence != values[0]:\n",
    "            print(\"Change conf sequence\")\n",
    "            B.sequence = values[0]\n",
    "    else: \n",
    "        B.breathing_factor = np.round(values[0],1)\n",
    "        print(\"val:\", B.breathing_factor)"
   ]
  },
  {
   "cell_type": "code",
   "execution_count": null,
   "metadata": {},
   "outputs": [],
   "source": [
    "# conf_dispatcher = dispatcher.Dispatcher()\n",
    "# conf_dispatcher.map(\"/brf/\", conf_handler, B, HRV)\n",
    "my_dispatcher.map(\"/brf/\", conf_handler, B, HRV)\n",
    "\n",
    "\n",
    "# # Start the server\n",
    "# conf_server = osc_server.ThreadingOSCUDPServer((riot_ip, riot_port), my_dispatcher)\n",
    "# print(time.strftime(\"%H:%M:%S\", time.gmtime()))\n",
    "# print(\"Serving on {}\".format(server.server_address))\n",
    "\n",
    "# try: \n",
    "#     conf_server.serve_forever()\n",
    "# except KeyboardInterrupt:\n",
    "#     conf_server.server_close()"
   ]
  },
  {
   "cell_type": "code",
   "execution_count": null,
   "metadata": {},
   "outputs": [],
   "source": []
  },
  {
   "cell_type": "code",
   "execution_count": null,
   "metadata": {},
   "outputs": [],
   "source": []
  },
  {
   "cell_type": "code",
   "execution_count": null,
   "metadata": {},
   "outputs": [],
   "source": [
    "#Enable actuation\n",
    "actuation_flag = True\n",
    "\n",
    "# How many times we've run\n",
    "times_run += 1\n",
    "\n",
    "# Warmup\n",
    "warmup_t = 10\n",
    "timer_warmup = threading.Timer(warmup_t, warmup, [B,resp_data,HRV,ecg_data])\n",
    "timer_warmup.start()\n",
    "\n",
    "# Start the server\n",
    "server = osc_server.ThreadingOSCUDPServer((riot_ip, riot_port), my_dispatcher)\n",
    "print(time.strftime(\"%H:%M:%S\", time.gmtime()))\n",
    "print(\"Serving on {}\".format(server.server_address))\n",
    "\n",
    "try: \n",
    "    server.serve_forever()\n",
    "except KeyboardInterrupt:\n",
    "    osc_client.send_message(\"/actuator/inflate\", 0.0)\n",
    "    B.update_data_flag = False\n",
    "    HRV.update_data_flag = False\n",
    "    actuation_flag = False\n",
    "    server.server_close()\n",
    "    \n",
    "    # Safeguard in order to run more than once\n",
    "    B.is_warmed_up = False\n",
    "    HRV.is_warmed_up = False\n",
    "\n",
    "    # TODO \n",
    "    # we lose access to timer_actuation --> we're never able to STOP it. \n",
    "    # The second time, it is still running. We'd need an extra flag to control it\n",
    "except:\n",
    "    raise"
   ]
  },
  {
   "cell_type": "code",
   "execution_count": null,
   "metadata": {},
   "outputs": [],
   "source": []
  },
  {
   "cell_type": "code",
   "execution_count": null,
   "metadata": {},
   "outputs": [],
   "source": []
  }
 ],
 "metadata": {
  "kernelspec": {
   "display_name": "Python 3",
   "language": "python",
   "name": "python3"
  },
  "language_info": {
   "codemirror_mode": {
    "name": "ipython",
    "version": 3
   },
   "file_extension": ".py",
   "mimetype": "text/x-python",
   "name": "python",
   "nbconvert_exporter": "python",
   "pygments_lexer": "ipython3",
   "version": "3.7.1"
  }
 },
 "nbformat": 4,
 "nbformat_minor": 2
}
