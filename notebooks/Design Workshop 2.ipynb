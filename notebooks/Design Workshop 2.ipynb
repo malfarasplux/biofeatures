{
 "cells": [
  {
   "cell_type": "markdown",
   "metadata": {},
   "source": [
    "### This notebook uses a breathing actuation sequence that computes triggers inflation deflation based upon an average inhale/exhale duration and a scale factor"
   ]
  },
  {
   "cell_type": "code",
   "execution_count": 26,
   "metadata": {},
   "outputs": [],
   "source": [
    "from pythonosc import dispatcher, osc_server\n",
    "from pythonosc.udp_client import SimpleUDPClient\n",
    "import biofeatures\n",
    "import time\n",
    "import threading\n",
    "import numpy as np"
   ]
  },
  {
   "cell_type": "code",
   "execution_count": 27,
   "metadata": {},
   "outputs": [],
   "source": [
    "def data_handler(unused_addr, args, data1, data2, data3, data4, data5, data6): #BITalino ServerBIT format\n",
    "    global ecg_data, resp_data\n",
    "    global osc_client\n",
    "        \n",
    "    B = args[0]\n",
    "    HR = args[1]\n",
    "    \n",
    "    # BITalino ServerBIT\n",
    "    ecg_data.append(float(np.random.rand(1)))\n",
    "    resp_data.append(float(data6))\n",
    "        \n",
    "    if B.is_warmed_up:\n",
    "        B.set_data(resp_data[-B.buffer_length:])\n",
    "    \n",
    "    if HR.is_warmed_up:\n",
    "        HR.set_data(ecg_data[-HR.buffer_length:])\n"
   ]
  },
  {
   "cell_type": "code",
   "execution_count": 28,
   "metadata": {},
   "outputs": [],
   "source": [
    "def warmup(B, resp_data, HR, ecg_data):\n",
    "    \"\"\"Function to launch once the system has warmed up.\n",
    "    Sets the  data initially and launches a recursive update of features.\n",
    "    Parameters\n",
    "    ----------\n",
    "    B: object containing breathing data and features\n",
    "    resp_data: respiration signal data to set\n",
    "    HR: object containing ECG data and features\n",
    "    ecg_data: ecg signal data to set\n",
    "    \"\"\"\n",
    "    \n",
    "    if not B.is_warmed_up:\n",
    "        print(\"Breathing WARMUP\")\n",
    "        B.set_data(resp_data[-B.buffer_length:])\n",
    "        B.is_warmed_up = True\n",
    "        B.update_loop()\n",
    "        \n",
    "    if not HR.is_warmed_up:\n",
    "        print(\"ECG WARMUP\")\n",
    "        HR.set_data(ecg_data[-HR.buffer_length:])\n",
    "        HR.is_warmed_up = True\n",
    "        HR.update_loop()\n",
    "        \n",
    "    breathing_factor = 1.2\n",
    "    \n",
    "    timer_actuation1 = threading.Timer(0.1, async_breathing, [\"1\", \"2\", B, breathing_factor, True] )\n",
    "    timer_actuation1.start()\n",
    "    \n",
    "    #timer_actuation2 = threading.Timer(0.1, breathing_intervals, [\"2\", 3, 3, True] )\n",
    "    #timer_actuation2 = threading.Timer(0.1, pulsating, [\"2\", True] )\n",
    "    #timer_actuation2.start()"
   ]
  },
  {
   "cell_type": "code",
   "execution_count": 29,
   "metadata": {},
   "outputs": [],
   "source": [
    "def warmup_inflate(act_id, duration):\n",
    "    global osc_client\n",
    "    \n",
    "    osc_client.send_message(\"/actuator/\" + act_id + \"/inflate\", 100.0)\n",
    "    time.sleep(duration)\n",
    "    osc_client.send_message(\"/actuator/\" + act_id + \"/inflate\", 0.0)\n"
   ]
  },
  {
   "cell_type": "code",
   "execution_count": 30,
   "metadata": {},
   "outputs": [],
   "source": [
    "def deflate(act_id, duration):\n",
    "    global osc_client\n",
    "    \n",
    "    osc_client.send_message(\"/actuator/\" + act_id + \"/inflate\", -100.0)\n",
    "    time.sleep(duration)\n",
    "    osc_client.send_message(\"/actuator/\" + act_id + \"/inflate\", 0.0)\n"
   ]
  },
  {
   "cell_type": "markdown",
   "metadata": {},
   "source": [
    "### Different actuation sequences"
   ]
  },
  {
   "cell_type": "code",
   "execution_count": 31,
   "metadata": {},
   "outputs": [],
   "source": [
    "# computes inhale and exhale interval duration as average duration of breath * breathing_factor \n",
    "\n",
    "def breathing_biofeedback(act_id, B, breathing_factor, inflate):\n",
    "    global osc_client, actuation_flag\n",
    "    \n",
    "    if not actuation_flag:\n",
    "        return\n",
    "    \n",
    "    if inflate:\n",
    "        print(\"inhale: \", B.features['avg_inhale'])\n",
    "        osc_client.send_message(\"/actuator/\" + act_id + \"/inflate\", 100.0)\n",
    "        timer_exhale = threading.Timer(B.features['avg_inhale'] * breathing_factor, breathing_biofeedback, [act_id, B, breathing_factor, False])\n",
    "        timer_exhale.start()\n",
    "\n",
    "    else:\n",
    "        print(\"exhale: \", B.features['avg_inhale'])\n",
    "        osc_client.send_message(\"/actuator/\" + act_id + \"/inflate\", -100.0)\n",
    "        timer_inhale = threading.Timer(B.features['avg_exhale'] * breathing_factor, breathing_biofeedback, [act_id, B, breathing_factor, True])\n",
    "        timer_inhale.start()"
   ]
  },
  {
   "cell_type": "code",
   "execution_count": 32,
   "metadata": {},
   "outputs": [],
   "source": [
    "# specify inhale and exhale interval duration in seconds\n",
    "\n",
    "def breathing_intervals(act_id, inhale_duration, exhale_duration, inflate):\n",
    "    global osc_client, actuation_flag\n",
    "    \n",
    "    if not actuation_flag:\n",
    "        return\n",
    "    \n",
    "    if inflate:\n",
    "        print(\"inhale: \", inhale_duration)\n",
    "        osc_client.send_message(\"/actuator/\" + act_id + \"/inflate\", 80.0)\n",
    "        timer_exhale = threading.Timer(inhale_duration, breathing_intervals, [act_id, inhale_duration, exhale_duration, False])\n",
    "        timer_exhale.start()\n",
    "\n",
    "    else:\n",
    "        print(\"exhale: \", exhale_duration)\n",
    "        osc_client.send_message(\"/actuator/\" + act_id + \"/inflate\", -80.0)\n",
    "        timer_inhale = threading.Timer(exhale_duration, breathing_intervals, [act_id, inhale_duration, exhale_duration, True])\n",
    "        timer_inhale.start()"
   ]
  },
  {
   "cell_type": "code",
   "execution_count": 33,
   "metadata": {},
   "outputs": [],
   "source": [
    "def pulsating(act_id,inflate):\n",
    "    global osc_client, actuation_flag\n",
    "    \n",
    "    if not actuation_flag:\n",
    "        return\n",
    "    \n",
    "    if inflate:\n",
    "        osc_client.send_message(\"/actuator/\" + act_id + \"/inflate\", 50.0)\n",
    "        timer_deflate = threading.Timer(3, pulsating, [act_id, False])\n",
    "        timer_deflate.start()\n",
    "\n",
    "    else:\n",
    "        osc_client.send_message(\"/actuator/\" + act_id + \"/inflate\", -50.0)\n",
    "        timer_inflate = threading.Timer(3, pulsating, [act_id, True])\n",
    "        timer_inflate.start()"
   ]
  },
  {
   "cell_type": "code",
   "execution_count": 34,
   "metadata": {},
   "outputs": [],
   "source": [
    "from random import uniform\n",
    "\n",
    "def random_inflation(act_id, lower, upper, inflate):\n",
    "    global osc_client, actuation_flag\n",
    "    \n",
    "    if not actuation_flag:\n",
    "        return\n",
    "    \n",
    "    int_length = uniform(lower,upper)\n",
    "    \n",
    "    if inflate:\n",
    "        osc_client.send_message(\"/actuator/\" + act_id + \"/inflate\", 100.0)\n",
    "        timer_deflate = threading.Timer(int_length, random_inflation, [act_id, lower, upper, False])\n",
    "        timer_deflate.start()\n",
    "\n",
    "    else:\n",
    "        osc_client.send_message(\"/actuator/\" + act_id + \"/inflate\", -100.0)\n",
    "        timer_inflate = threading.Timer(int_length, random_inflation, [act_id, lower, upper, True])\n",
    "        timer_inflate.start()"
   ]
  },
  {
   "cell_type": "code",
   "execution_count": 35,
   "metadata": {},
   "outputs": [],
   "source": [
    "def async_intervals(act_first, act_snd, inhale_dur, exhale_dur, inflate_first):\n",
    "    global osc_client, actuation_flag\n",
    "    \n",
    "    if not actuation_flag:\n",
    "        return\n",
    "    \n",
    "    if inflate_first:\n",
    "        print(\"inhale: \", inhale_dur)\n",
    "        osc_client.send_message(\"/actuator/\" + act_first + \"/inflate\", 100.0)\n",
    "        osc_client.send_message(\"/actuator/\" + act_snd + \"/inflate\", -100.0)\n",
    "        timer_inhale = threading.Timer(inhale_dur, async_intervals, [act_first, act_snd, inhale_dur, exhale_dur, False])\n",
    "        timer_inhale.start()\n",
    "\n",
    "    else:\n",
    "        print(\"exhale: \", exhale_dur)\n",
    "        osc_client.send_message(\"/actuator/\" + act_first + \"/inflate\", -100.0)\n",
    "        osc_client.send_message(\"/actuator/\" + act_snd + \"/inflate\", 100.0)\n",
    "        timer_exhale = threading.Timer(exhale_dur, async_intervals, [act_first, act_snd, inhale_dur, exhale_dur, True])\n",
    "        timer_exhale.start()"
   ]
  },
  {
   "cell_type": "code",
   "execution_count": 36,
   "metadata": {},
   "outputs": [],
   "source": [
    "def async_breathing(act_first, act_snd, B, breathing_factor, inflate):\n",
    "    global osc_client, actuation_flag\n",
    "    \n",
    "    if not actuation_flag:\n",
    "        return\n",
    "    \n",
    "    if inflate:\n",
    "        print(\"inhale: \", B.features['avg_inhale'])\n",
    "        osc_client.send_message(\"/actuator/\" + act_first + \"/inflate\", 100.0)\n",
    "        osc_client.send_message(\"/actuator/\" + act_snd + \"/inflate\", -100.0)\n",
    "        timer_exhale = threading.Timer(B.features['avg_inhale'] * breathing_factor, async_breathing, [act_first, act_snd, B, breathing_factor, False])\n",
    "        timer_exhale.start()\n",
    "\n",
    "    else:\n",
    "        print(\"exhale: \", B.features['avg_exhale'])\n",
    "        osc_client.send_message(\"/actuator/\" + act_first + \"/inflate\", -100.0)\n",
    "        osc_client.send_message(\"/actuator/\" + act_snd + \"/inflate\", 100.0)\n",
    "        timer_inhale = threading.Timer(B.features['avg_exhale'] * breathing_factor, async_breathing, [act_first, act_snd, B, breathing_factor, True])\n",
    "        timer_inhale.start()"
   ]
  },
  {
   "cell_type": "code",
   "execution_count": 37,
   "metadata": {},
   "outputs": [],
   "source": [
    "# computes degree of inflation/deflation based on ECG features\n",
    "\n",
    "# TODO: how to compute the inflation/deflation value?\n",
    "\n",
    "def heartrate_actuation(act_id, HR, timer_interval):\n",
    "    global osc_client, actuation_flag\n",
    "    \n",
    "    if not actuation_flag:\n",
    "        return\n",
    "    \n",
    "    current_trend = HR.current_trends[\"hr_mean\"]\n",
    "    #current_trend = HR.current_trends[\"rmssd\"]\n",
    "    #current_trend = HR.current_trends[\"LF/HF ratio\"]\n",
    "    \n",
    "    current_feature = HR.features[-1][\"hr_mean\"]\n",
    "    #current_feature = HR.features[-1][\"rmssd\"]\n",
    "    #current_feature = HR.features[-1][\"LF/HF ratio\"]\n",
    "    \n",
    "    if current_trend > 0:\n",
    "        osc_client.send_message(\"/actuator/\" + act_id + \"/inflate\", 100.0)\n",
    "        #osc_client.send_message(\"/actuator/\" + act_id + \"/inflate\", current_trend * 1000/current_feature)\n",
    "        timer_exhale = threading.Timer(timer_interval, heartrate_actuation, [act_id, HR, timer_interval])\n",
    "        timer_exhale.start()\n",
    "\n",
    "    else:\n",
    "        #osc_client.send_message(\"/actuator/inflate\", current_trend * 1000/current_feature)\n",
    "        osc_client.send_message(\"/actuator/\" + act_id + \"/inflate\", -100.0)\n",
    "        timer_inhale = threading.Timer(timer_interval, heartrate_actuation, [act_id, HR, timer_interval])\n",
    "        timer_inhale.start()"
   ]
  },
  {
   "cell_type": "markdown",
   "metadata": {},
   "source": [
    "#### Set up configuration: IP (BITalino, R-IoT or Node-RED), port and OSC address pattern"
   ]
  },
  {
   "cell_type": "code",
   "execution_count": 38,
   "metadata": {},
   "outputs": [
    {
     "name": "stdout",
     "output_type": "stream",
     "text": [
      "Serving on ('192.168.0.100', 8000)\n",
      "Breathing WARMUP\n",
      "{'breath_avg_len': 3.33, 'inhale_duration': 4.6, 'avg_inhale': 1.53, 'exhale_duration': 5.39, 'avg_exhale': 1.8, 'inhale_exhale_ratio': 0.85}\n",
      "ECG WARMUP\n",
      "[{'nni_mean': 470.0, 'hr_mean': 136.76, 'hr_std': 36.93, 'rmssd': 148.3, 'lf': 88.53, 'hf': 8573.56, 'LF/HF ratio': 0.01}]\n",
      "inhale:  1.53\n",
      "{'breath_avg_len': 3.52, 'inhale_duration': 4.76, 'avg_inhale': 1.59, 'exhale_duration': 5.81, 'avg_exhale': 1.94, 'inhale_exhale_ratio': 0.82}\n",
      "[{'nni_mean': 470.0, 'hr_mean': 136.76, 'hr_std': 36.93, 'rmssd': 148.3, 'lf': 88.53, 'hf': 8573.56, 'LF/HF ratio': 0.01}, {'nni_mean': 483.33, 'hr_mean': 133.86, 'hr_std': 37.88, 'rmssd': 144.39, 'lf': 652.08, 'hf': 7963.65, 'LF/HF ratio': 0.08}]\n",
      "{'breath_avg_len': 2.76, 'inhale_duration': 5.32, 'avg_inhale': 1.33, 'exhale_duration': 5.71, 'avg_exhale': 1.9, 'inhale_exhale_ratio': 0.93}\n",
      "[{'nni_mean': 470.0, 'hr_mean': 136.76, 'hr_std': 36.93, 'rmssd': 148.3, 'lf': 88.53, 'hf': 8573.56, 'LF/HF ratio': 0.01}, {'nni_mean': 483.33, 'hr_mean': 133.86, 'hr_std': 37.88, 'rmssd': 144.39, 'lf': 652.08, 'hf': 7963.65, 'LF/HF ratio': 0.08}, {'nni_mean': 476.0, 'hr_mean': 137.73, 'hr_std': 43.64, 'rmssd': 158.35, 'lf': 1289.12, 'hf': 7559.7, 'LF/HF ratio': 0.17}]\n",
      "{'breath_avg_len': 2.88, 'inhale_duration': 5.89, 'avg_inhale': 1.47, 'exhale_duration': 5.65, 'avg_exhale': 1.88, 'inhale_exhale_ratio': 1.04}\n",
      "[{'nni_mean': 470.0, 'hr_mean': 136.76, 'hr_std': 36.93, 'rmssd': 148.3, 'lf': 88.53, 'hf': 8573.56, 'LF/HF ratio': 0.01}, {'nni_mean': 483.33, 'hr_mean': 133.86, 'hr_std': 37.88, 'rmssd': 144.39, 'lf': 652.08, 'hf': 7963.65, 'LF/HF ratio': 0.08}, {'nni_mean': 476.0, 'hr_mean': 137.73, 'hr_std': 43.64, 'rmssd': 158.35, 'lf': 1289.12, 'hf': 7559.7, 'LF/HF ratio': 0.17}, {'nni_mean': 480.0, 'hr_mean': 136.28, 'hr_std': 43.05, 'rmssd': 169.19, 'lf': 1178.31, 'hf': 7555.61, 'LF/HF ratio': 0.16}]\n",
      "exhale:  1.88\n",
      "{'breath_avg_len': 3.04, 'inhale_duration': 6.33, 'avg_inhale': 1.58, 'exhale_duration': 5.81, 'avg_exhale': 1.94, 'inhale_exhale_ratio': 1.09}\n",
      "[{'nni_mean': 470.0, 'hr_mean': 136.76, 'hr_std': 36.93, 'rmssd': 148.3, 'lf': 88.53, 'hf': 8573.56, 'LF/HF ratio': 0.01}, {'nni_mean': 483.33, 'hr_mean': 133.86, 'hr_std': 37.88, 'rmssd': 144.39, 'lf': 652.08, 'hf': 7963.65, 'LF/HF ratio': 0.08}, {'nni_mean': 476.0, 'hr_mean': 137.73, 'hr_std': 43.64, 'rmssd': 158.35, 'lf': 1289.12, 'hf': 7559.7, 'LF/HF ratio': 0.17}, {'nni_mean': 480.0, 'hr_mean': 136.28, 'hr_std': 43.05, 'rmssd': 169.19, 'lf': 1178.31, 'hf': 7555.61, 'LF/HF ratio': 0.16}, {'nni_mean': 473.48, 'hr_mean': 140.29, 'hr_std': 49.23, 'rmssd': 189.92, 'lf': 2712.79, 'hf': 8290.91, 'LF/HF ratio': 0.33}]\n",
      "{'breath_avg_len': 3.17, 'inhale_duration': 6.47, 'avg_inhale': 1.62, 'exhale_duration': 6.21, 'avg_exhale': 1.55, 'inhale_exhale_ratio': 1.04}\n",
      "[{'nni_mean': 483.33, 'hr_mean': 133.86, 'hr_std': 37.88, 'rmssd': 144.39, 'lf': 652.08, 'hf': 7963.65, 'LF/HF ratio': 0.08}, {'nni_mean': 476.0, 'hr_mean': 137.73, 'hr_std': 43.64, 'rmssd': 158.35, 'lf': 1289.12, 'hf': 7559.7, 'LF/HF ratio': 0.17}, {'nni_mean': 480.0, 'hr_mean': 136.28, 'hr_std': 43.05, 'rmssd': 169.19, 'lf': 1178.31, 'hf': 7555.61, 'LF/HF ratio': 0.16}, {'nni_mean': 473.48, 'hr_mean': 140.29, 'hr_std': 49.23, 'rmssd': 189.92, 'lf': 2712.79, 'hf': 8290.91, 'LF/HF ratio': 0.33}, {'nni_mean': 465.42, 'hr_mean': 143.37, 'hr_std': 50.46, 'rmssd': 197.36, 'lf': 2751.43, 'hf': 8038.67, 'LF/HF ratio': 0.34}]\n",
      "{'breath_avg_len': 3.28, 'inhale_duration': 6.34, 'avg_inhale': 1.58, 'exhale_duration': 6.76, 'avg_exhale': 1.69, 'inhale_exhale_ratio': 0.94}\n",
      "[{'nni_mean': 476.0, 'hr_mean': 137.73, 'hr_std': 43.64, 'rmssd': 158.35, 'lf': 1289.12, 'hf': 7559.7, 'LF/HF ratio': 0.17}, {'nni_mean': 480.0, 'hr_mean': 136.28, 'hr_std': 43.05, 'rmssd': 169.19, 'lf': 1178.31, 'hf': 7555.61, 'LF/HF ratio': 0.16}, {'nni_mean': 473.48, 'hr_mean': 140.29, 'hr_std': 49.23, 'rmssd': 189.92, 'lf': 2712.79, 'hf': 8290.91, 'LF/HF ratio': 0.33}, {'nni_mean': 465.42, 'hr_mean': 143.37, 'hr_std': 50.46, 'rmssd': 197.36, 'lf': 2751.43, 'hf': 8038.67, 'LF/HF ratio': 0.34}, {'nni_mean': 464.8, 'hr_mean': 142.97, 'hr_std': 49.44, 'rmssd': 196.3, 'lf': 3330.34, 'hf': 8188.11, 'LF/HF ratio': 0.41}]\n",
      "{'breath_avg_len': 3.39, 'inhale_duration': 6.42, 'avg_inhale': 1.6, 'exhale_duration': 7.13, 'avg_exhale': 1.78, 'inhale_exhale_ratio': 0.9}\n",
      "[{'nni_mean': 480.0, 'hr_mean': 136.28, 'hr_std': 43.05, 'rmssd': 169.19, 'lf': 1178.31, 'hf': 7555.61, 'LF/HF ratio': 0.16}, {'nni_mean': 473.48, 'hr_mean': 140.29, 'hr_std': 49.23, 'rmssd': 189.92, 'lf': 2712.79, 'hf': 8290.91, 'LF/HF ratio': 0.33}, {'nni_mean': 465.42, 'hr_mean': 143.37, 'hr_std': 50.46, 'rmssd': 197.36, 'lf': 2751.43, 'hf': 8038.67, 'LF/HF ratio': 0.34}, {'nni_mean': 464.8, 'hr_mean': 142.97, 'hr_std': 49.44, 'rmssd': 196.3, 'lf': 3330.34, 'hf': 8188.11, 'LF/HF ratio': 0.41}, {'nni_mean': 464.8, 'hr_mean': 142.97, 'hr_std': 49.44, 'rmssd': 196.3, 'lf': 3330.34, 'hf': 8188.11, 'LF/HF ratio': 0.41}]\n",
      "{'breath_avg_len': 3.56, 'inhale_duration': 6.74, 'avg_inhale': 1.68, 'exhale_duration': 7.5, 'avg_exhale': 1.88, 'inhale_exhale_ratio': 0.9}\n",
      "[{'nni_mean': 473.48, 'hr_mean': 140.29, 'hr_std': 49.23, 'rmssd': 189.92, 'lf': 2712.79, 'hf': 8290.91, 'LF/HF ratio': 0.33}, {'nni_mean': 465.42, 'hr_mean': 143.37, 'hr_std': 50.46, 'rmssd': 197.36, 'lf': 2751.43, 'hf': 8038.67, 'LF/HF ratio': 0.34}, {'nni_mean': 464.8, 'hr_mean': 142.97, 'hr_std': 49.44, 'rmssd': 196.3, 'lf': 3330.34, 'hf': 8188.11, 'LF/HF ratio': 0.41}, {'nni_mean': 464.8, 'hr_mean': 142.97, 'hr_std': 49.44, 'rmssd': 196.3, 'lf': 3330.34, 'hf': 8188.11, 'LF/HF ratio': 0.41}, {'nni_mean': 485.0, 'hr_mean': 139.8, 'hr_std': 51.07, 'rmssd': 220.58, 'lf': 2712.38, 'hf': 9773.76, 'LF/HF ratio': 0.28}]\n",
      "inhale:  1.68\n",
      "{'breath_avg_len': 2.94, 'inhale_duration': 6.96, 'avg_inhale': 1.39, 'exhale_duration': 7.74, 'avg_exhale': 1.94, 'inhale_exhale_ratio': 0.9}\n",
      "[{'nni_mean': 465.42, 'hr_mean': 143.37, 'hr_std': 50.46, 'rmssd': 197.36, 'lf': 2751.43, 'hf': 8038.67, 'LF/HF ratio': 0.34}, {'nni_mean': 464.8, 'hr_mean': 142.97, 'hr_std': 49.44, 'rmssd': 196.3, 'lf': 3330.34, 'hf': 8188.11, 'LF/HF ratio': 0.41}, {'nni_mean': 464.8, 'hr_mean': 142.97, 'hr_std': 49.44, 'rmssd': 196.3, 'lf': 3330.34, 'hf': 8188.11, 'LF/HF ratio': 0.41}, {'nni_mean': 485.0, 'hr_mean': 139.8, 'hr_std': 51.07, 'rmssd': 220.58, 'lf': 2712.38, 'hf': 9773.76, 'LF/HF ratio': 0.28}, {'nni_mean': 488.52, 'hr_mean': 138.46, 'hr_std': 50.56, 'rmssd': 230.76, 'lf': 2549.41, 'hf': 10744.77, 'LF/HF ratio': 0.24}]\n",
      "{'breath_avg_len': 3.04, 'inhale_duration': 7.61, 'avg_inhale': 1.52, 'exhale_duration': 7.6, 'avg_exhale': 1.9, 'inhale_exhale_ratio': 1.0}\n",
      "[{'nni_mean': 464.8, 'hr_mean': 142.97, 'hr_std': 49.44, 'rmssd': 196.3, 'lf': 3330.34, 'hf': 8188.11, 'LF/HF ratio': 0.41}, {'nni_mean': 464.8, 'hr_mean': 142.97, 'hr_std': 49.44, 'rmssd': 196.3, 'lf': 3330.34, 'hf': 8188.11, 'LF/HF ratio': 0.41}, {'nni_mean': 485.0, 'hr_mean': 139.8, 'hr_std': 51.07, 'rmssd': 220.58, 'lf': 2712.38, 'hf': 9773.76, 'LF/HF ratio': 0.28}, {'nni_mean': 488.52, 'hr_mean': 138.46, 'hr_std': 50.56, 'rmssd': 230.76, 'lf': 2549.41, 'hf': 10744.77, 'LF/HF ratio': 0.24}, {'nni_mean': -12.16, 'hr_mean': 146.24, 'hr_std': 61.87, 'rmssd': 2677.88, 'lf': 49532.1, 'hf': 21677.44, 'LF/HF ratio': 2.28}]\n",
      "{'breath_avg_len': 3.14, 'inhale_duration': 8.02, 'avg_inhale': 1.6, 'exhale_duration': 7.68, 'avg_exhale': 1.92, 'inhale_exhale_ratio': 1.04}\n",
      "[{'nni_mean': 464.8, 'hr_mean': 142.97, 'hr_std': 49.44, 'rmssd': 196.3, 'lf': 3330.34, 'hf': 8188.11, 'LF/HF ratio': 0.41}, {'nni_mean': 485.0, 'hr_mean': 139.8, 'hr_std': 51.07, 'rmssd': 220.58, 'lf': 2712.38, 'hf': 9773.76, 'LF/HF ratio': 0.28}, {'nni_mean': 488.52, 'hr_mean': 138.46, 'hr_std': 50.56, 'rmssd': 230.76, 'lf': 2549.41, 'hf': 10744.77, 'LF/HF ratio': 0.24}, {'nni_mean': -12.16, 'hr_mean': 146.24, 'hr_std': 61.87, 'rmssd': 2677.88, 'lf': 49532.1, 'hf': 21677.44, 'LF/HF ratio': 2.28}, {'nni_mean': 468.33, 'hr_mean': 146.19, 'hr_std': 54.59, 'rmssd': 229.28, 'lf': 2631.44, 'hf': 12065.46, 'LF/HF ratio': 0.22}]\n",
      "{'breath_avg_len': 3.21, 'inhale_duration': 8.28, 'avg_inhale': 1.66, 'exhale_duration': 7.77, 'avg_exhale': 1.94, 'inhale_exhale_ratio': 1.07}\n",
      "[{'nni_mean': 485.0, 'hr_mean': 139.8, 'hr_std': 51.07, 'rmssd': 220.58, 'lf': 2712.38, 'hf': 9773.76, 'LF/HF ratio': 0.28}, {'nni_mean': 488.52, 'hr_mean': 138.46, 'hr_std': 50.56, 'rmssd': 230.76, 'lf': 2549.41, 'hf': 10744.77, 'LF/HF ratio': 0.24}, {'nni_mean': -12.16, 'hr_mean': 146.24, 'hr_std': 61.87, 'rmssd': 2677.88, 'lf': 49532.1, 'hf': 21677.44, 'LF/HF ratio': 2.28}, {'nni_mean': 468.33, 'hr_mean': 146.19, 'hr_std': 54.59, 'rmssd': 229.28, 'lf': 2631.44, 'hf': 12065.46, 'LF/HF ratio': 0.22}, {'nni_mean': 468.71, 'hr_mean': 145.51, 'hr_std': 53.81, 'rmssd': 228.98, 'lf': 2769.65, 'hf': 13218.51, 'LF/HF ratio': 0.21}]\n"
     ]
    },
    {
     "name": "stdout",
     "output_type": "stream",
     "text": [
      "exhale:  1.94\n",
      "{'breath_avg_len': 3.3, 'inhale_duration': 8.63, 'avg_inhale': 1.73, 'exhale_duration': 7.85, 'avg_exhale': 1.96, 'inhale_exhale_ratio': 1.1}\n",
      "[{'nni_mean': 488.52, 'hr_mean': 138.46, 'hr_std': 50.56, 'rmssd': 230.76, 'lf': 2549.41, 'hf': 10744.77, 'LF/HF ratio': 0.24}, {'nni_mean': -12.16, 'hr_mean': 146.24, 'hr_std': 61.87, 'rmssd': 2677.88, 'lf': 49532.1, 'hf': 21677.44, 'LF/HF ratio': 2.28}, {'nni_mean': 468.33, 'hr_mean': 146.19, 'hr_std': 54.59, 'rmssd': 229.28, 'lf': 2631.44, 'hf': 12065.46, 'LF/HF ratio': 0.22}, {'nni_mean': 468.71, 'hr_mean': 145.51, 'hr_std': 53.81, 'rmssd': 228.98, 'lf': 2769.65, 'hf': 13218.51, 'LF/HF ratio': 0.21}, {'nni_mean': 466.88, 'hr_mean': 145.53, 'hr_std': 52.94, 'rmssd': 225.6, 'lf': 2433.25, 'hf': 14382.54, 'LF/HF ratio': 0.17}]\n",
      "{'breath_avg_len': 2.82, 'inhale_duration': 8.79, 'avg_inhale': 1.46, 'exhale_duration': 8.15, 'avg_exhale': 1.63, 'inhale_exhale_ratio': 1.08}\n",
      "[{'nni_mean': -12.16, 'hr_mean': 146.24, 'hr_std': 61.87, 'rmssd': 2677.88, 'lf': 49532.1, 'hf': 21677.44, 'LF/HF ratio': 2.28}, {'nni_mean': 468.33, 'hr_mean': 146.19, 'hr_std': 54.59, 'rmssd': 229.28, 'lf': 2631.44, 'hf': 12065.46, 'LF/HF ratio': 0.22}, {'nni_mean': 468.71, 'hr_mean': 145.51, 'hr_std': 53.81, 'rmssd': 228.98, 'lf': 2769.65, 'hf': 13218.51, 'LF/HF ratio': 0.21}, {'nni_mean': 466.88, 'hr_mean': 145.53, 'hr_std': 52.94, 'rmssd': 225.6, 'lf': 2433.25, 'hf': 14382.54, 'LF/HF ratio': 0.17}, {'nni_mean': 457.65, 'hr_mean': 149.41, 'hr_std': 55.75, 'rmssd': 220.9, 'lf': 2353.66, 'hf': 15704.82, 'LF/HF ratio': 0.15}]\n",
      "{'breath_avg_len': 3.51, 'inhale_duration': 8.48, 'avg_inhale': 1.7, 'exhale_duration': 9.07, 'avg_exhale': 1.81, 'inhale_exhale_ratio': 0.93}\n",
      "[{'nni_mean': 468.33, 'hr_mean': 146.19, 'hr_std': 54.59, 'rmssd': 229.28, 'lf': 2631.44, 'hf': 12065.46, 'LF/HF ratio': 0.22}, {'nni_mean': 468.71, 'hr_mean': 145.51, 'hr_std': 53.81, 'rmssd': 228.98, 'lf': 2769.65, 'hf': 13218.51, 'LF/HF ratio': 0.21}, {'nni_mean': 466.88, 'hr_mean': 145.53, 'hr_std': 52.94, 'rmssd': 225.6, 'lf': 2433.25, 'hf': 14382.54, 'LF/HF ratio': 0.17}, {'nni_mean': 457.65, 'hr_mean': 149.41, 'hr_std': 55.75, 'rmssd': 220.9, 'lf': 2353.66, 'hf': 15704.82, 'LF/HF ratio': 0.15}, {'nni_mean': -8.72, 'hr_mean': 160.28, 'hr_std': 66.49, 'rmssd': 2760.07, 'lf': 47797.21, 'hf': 27881.16, 'LF/HF ratio': 1.71}]\n",
      "{'breath_avg_len': 3.6, 'inhale_duration': 8.62, 'avg_inhale': 1.72, 'exhale_duration': 9.38, 'avg_exhale': 1.88, 'inhale_exhale_ratio': 0.92}\n",
      "[{'nni_mean': 468.71, 'hr_mean': 145.51, 'hr_std': 53.81, 'rmssd': 228.98, 'lf': 2769.65, 'hf': 13218.51, 'LF/HF ratio': 0.21}, {'nni_mean': 466.88, 'hr_mean': 145.53, 'hr_std': 52.94, 'rmssd': 225.6, 'lf': 2433.25, 'hf': 14382.54, 'LF/HF ratio': 0.17}, {'nni_mean': 457.65, 'hr_mean': 149.41, 'hr_std': 55.75, 'rmssd': 220.9, 'lf': 2353.66, 'hf': 15704.82, 'LF/HF ratio': 0.15}, {'nni_mean': -8.72, 'hr_mean': 160.28, 'hr_std': 66.49, 'rmssd': 2760.07, 'lf': 47797.21, 'hf': 27881.16, 'LF/HF ratio': 1.71}, {'nni_mean': -19.73, 'hr_mean': 160.28, 'hr_std': 66.48, 'rmssd': 2830.34, 'lf': 49751.81, 'hf': 28442.88, 'LF/HF ratio': 1.75}]\n",
      "{'breath_avg_len': 3.11, 'inhale_duration': 9.02, 'avg_inhale': 1.5, 'exhale_duration': 9.66, 'avg_exhale': 1.93, 'inhale_exhale_ratio': 0.93}\n",
      "[{'nni_mean': 466.88, 'hr_mean': 145.53, 'hr_std': 52.94, 'rmssd': 225.6, 'lf': 2433.25, 'hf': 14382.54, 'LF/HF ratio': 0.17}, {'nni_mean': 457.65, 'hr_mean': 149.41, 'hr_std': 55.75, 'rmssd': 220.9, 'lf': 2353.66, 'hf': 15704.82, 'LF/HF ratio': 0.15}, {'nni_mean': -8.72, 'hr_mean': 160.28, 'hr_std': 66.49, 'rmssd': 2760.07, 'lf': 47797.21, 'hf': 27881.16, 'LF/HF ratio': 1.71}, {'nni_mean': -19.73, 'hr_mean': 160.28, 'hr_std': 66.48, 'rmssd': 2830.34, 'lf': 49751.81, 'hf': 28442.88, 'LF/HF ratio': 1.75}, {'nni_mean': 459.19, 'hr_mean': 150.68, 'hr_std': 57.98, 'rmssd': 236.43, 'lf': 3264.52, 'hf': 19807.47, 'LF/HF ratio': 0.16}]\n",
      "inhale:  1.5\n",
      "{'breath_avg_len': 3.17, 'inhale_duration': 9.58, 'avg_inhale': 1.6, 'exhale_duration': 9.44, 'avg_exhale': 1.89, 'inhale_exhale_ratio': 1.01}\n",
      "[{'nni_mean': 457.65, 'hr_mean': 149.41, 'hr_std': 55.75, 'rmssd': 220.9, 'lf': 2353.66, 'hf': 15704.82, 'LF/HF ratio': 0.15}, {'nni_mean': -8.72, 'hr_mean': 160.28, 'hr_std': 66.49, 'rmssd': 2760.07, 'lf': 47797.21, 'hf': 27881.16, 'LF/HF ratio': 1.71}, {'nni_mean': -19.73, 'hr_mean': 160.28, 'hr_std': 66.48, 'rmssd': 2830.34, 'lf': 49751.81, 'hf': 28442.88, 'LF/HF ratio': 1.75}, {'nni_mean': 459.19, 'hr_mean': 150.68, 'hr_std': 57.98, 'rmssd': 236.43, 'lf': 3264.52, 'hf': 19807.47, 'LF/HF ratio': 0.16}, {'nni_mean': 456.58, 'hr_mean': 151.1, 'hr_std': 57.25, 'rmssd': 245.68, 'lf': 1972.1, 'hf': 20324.69, 'LF/HF ratio': 0.1}]\n",
      "{'breath_avg_len': 3.28, 'inhale_duration': 10.1, 'avg_inhale': 1.68, 'exhale_duration': 9.6, 'avg_exhale': 1.92, 'inhale_exhale_ratio': 1.05}\n",
      "[{'nni_mean': -8.72, 'hr_mean': 160.28, 'hr_std': 66.49, 'rmssd': 2760.07, 'lf': 47797.21, 'hf': 27881.16, 'LF/HF ratio': 1.71}, {'nni_mean': -19.73, 'hr_mean': 160.28, 'hr_std': 66.48, 'rmssd': 2830.34, 'lf': 49751.81, 'hf': 28442.88, 'LF/HF ratio': 1.75}, {'nni_mean': 459.19, 'hr_mean': 150.68, 'hr_std': 57.98, 'rmssd': 236.43, 'lf': 3264.52, 'hf': 19807.47, 'LF/HF ratio': 0.16}, {'nni_mean': 456.58, 'hr_mean': 151.1, 'hr_std': 57.25, 'rmssd': 245.68, 'lf': 1972.1, 'hf': 20324.69, 'LF/HF ratio': 0.1}, {'nni_mean': 448.54, 'hr_mean': 153.9, 'hr_std': 58.35, 'rmssd': 238.24, 'lf': 2220.04, 'hf': 22755.85, 'LF/HF ratio': 0.1}]\n",
      "{'breath_avg_len': 3.33, 'inhale_duration': 9.78, 'avg_inhale': 1.63, 'exhale_duration': 10.2, 'avg_exhale': 2.04, 'inhale_exhale_ratio': 0.96}\n",
      "[{'nni_mean': -19.73, 'hr_mean': 160.28, 'hr_std': 66.48, 'rmssd': 2830.34, 'lf': 49751.81, 'hf': 28442.88, 'LF/HF ratio': 1.75}, {'nni_mean': 459.19, 'hr_mean': 150.68, 'hr_std': 57.98, 'rmssd': 236.43, 'lf': 3264.52, 'hf': 19807.47, 'LF/HF ratio': 0.16}, {'nni_mean': 456.58, 'hr_mean': 151.1, 'hr_std': 57.25, 'rmssd': 245.68, 'lf': 1972.1, 'hf': 20324.69, 'LF/HF ratio': 0.1}, {'nni_mean': 448.54, 'hr_mean': 153.9, 'hr_std': 58.35, 'rmssd': 238.24, 'lf': 2220.04, 'hf': 22755.85, 'LF/HF ratio': 0.1}, {'nni_mean': -11.5, 'hr_mean': 162.15, 'hr_std': 66.6, 'rmssd': 2967.39, 'lf': 40906.23, 'hf': 35535.5, 'LF/HF ratio': 1.15}]\n",
      "exhale:  2.04\n",
      "{'breath_avg_len': 3.33, 'inhale_duration': 10.91, 'avg_inhale': 2.18, 'exhale_duration': 9.07, 'avg_exhale': 1.81, 'inhale_exhale_ratio': 1.2}\n",
      "[{'nni_mean': 459.19, 'hr_mean': 150.68, 'hr_std': 57.98, 'rmssd': 236.43, 'lf': 3264.52, 'hf': 19807.47, 'LF/HF ratio': 0.16}, {'nni_mean': 456.58, 'hr_mean': 151.1, 'hr_std': 57.25, 'rmssd': 245.68, 'lf': 1972.1, 'hf': 20324.69, 'LF/HF ratio': 0.1}, {'nni_mean': 448.54, 'hr_mean': 153.9, 'hr_std': 58.35, 'rmssd': 238.24, 'lf': 2220.04, 'hf': 22755.85, 'LF/HF ratio': 0.1}, {'nni_mean': -11.5, 'hr_mean': 162.15, 'hr_std': 66.6, 'rmssd': 2967.39, 'lf': 40906.23, 'hf': 35535.5, 'LF/HF ratio': 1.15}, {'nni_mean': -22.64, 'hr_mean': 161.83, 'hr_std': 67.32, 'rmssd': 3027.97, 'lf': 41573.82, 'hf': 36748.55, 'LF/HF ratio': 1.13}]\n",
      "{'breath_avg_len': 4.0, 'inhale_duration': 9.32, 'avg_inhale': 1.86, 'exhale_duration': 10.66, 'avg_exhale': 2.13, 'inhale_exhale_ratio': 0.87}\n",
      "[{'nni_mean': 456.58, 'hr_mean': 151.1, 'hr_std': 57.25, 'rmssd': 245.68, 'lf': 1972.1, 'hf': 20324.69, 'LF/HF ratio': 0.1}, {'nni_mean': 448.54, 'hr_mean': 153.9, 'hr_std': 58.35, 'rmssd': 238.24, 'lf': 2220.04, 'hf': 22755.85, 'LF/HF ratio': 0.1}, {'nni_mean': -11.5, 'hr_mean': 162.15, 'hr_std': 66.6, 'rmssd': 2967.39, 'lf': 40906.23, 'hf': 35535.5, 'LF/HF ratio': 1.15}, {'nni_mean': -22.64, 'hr_mean': 161.83, 'hr_std': 67.32, 'rmssd': 3027.97, 'lf': 41573.82, 'hf': 36748.55, 'LF/HF ratio': 1.13}, {'nni_mean': -12.12, 'hr_mean': 148.58, 'hr_std': 66.41, 'rmssd': 3175.86, 'lf': 41211.93, 'hf': 41492.63, 'LF/HF ratio': 0.99}]\n",
      "{'breath_avg_len': 4.0, 'inhale_duration': 10.56, 'avg_inhale': 2.11, 'exhale_duration': 9.42, 'avg_exhale': 1.88, 'inhale_exhale_ratio': 1.12}\n",
      "[{'nni_mean': 448.54, 'hr_mean': 153.9, 'hr_std': 58.35, 'rmssd': 238.24, 'lf': 2220.04, 'hf': 22755.85, 'LF/HF ratio': 0.1}, {'nni_mean': -11.5, 'hr_mean': 162.15, 'hr_std': 66.6, 'rmssd': 2967.39, 'lf': 40906.23, 'hf': 35535.5, 'LF/HF ratio': 1.15}, {'nni_mean': -22.64, 'hr_mean': 161.83, 'hr_std': 67.32, 'rmssd': 3027.97, 'lf': 41573.82, 'hf': 36748.55, 'LF/HF ratio': 1.13}, {'nni_mean': -12.12, 'hr_mean': 148.58, 'hr_std': 66.41, 'rmssd': 3175.86, 'lf': 41211.93, 'hf': 41492.63, 'LF/HF ratio': 0.99}, {'nni_mean': 574.52, 'hr_mean': 138.6, 'hr_std': 71.73, 'rmssd': 419.27, 'lf': 20735.91, 'hf': 70045.47, 'LF/HF ratio': 0.3}]\n"
     ]
    },
    {
     "name": "stdout",
     "output_type": "stream",
     "text": [
      "{'breath_avg_len': 4.0, 'inhale_duration': 10.35, 'avg_inhale': 2.07, 'exhale_duration': 9.63, 'avg_exhale': 1.93, 'inhale_exhale_ratio': 1.07}\n",
      "[{'nni_mean': -11.5, 'hr_mean': 162.15, 'hr_std': 66.6, 'rmssd': 2967.39, 'lf': 40906.23, 'hf': 35535.5, 'LF/HF ratio': 1.15}, {'nni_mean': -22.64, 'hr_mean': 161.83, 'hr_std': 67.32, 'rmssd': 3027.97, 'lf': 41573.82, 'hf': 36748.55, 'LF/HF ratio': 1.13}, {'nni_mean': -12.12, 'hr_mean': 148.58, 'hr_std': 66.41, 'rmssd': 3175.86, 'lf': 41211.93, 'hf': 41492.63, 'LF/HF ratio': 0.99}, {'nni_mean': 574.52, 'hr_mean': 138.6, 'hr_std': 71.73, 'rmssd': 419.27, 'lf': 20735.91, 'hf': 70045.47, 'LF/HF ratio': 0.3}, {'nni_mean': -8.64, 'hr_mean': 158.68, 'hr_std': 68.04, 'rmssd': 3022.73, 'lf': 29275.29, 'hf': 38661.1, 'LF/HF ratio': 0.76}]\n",
      "{'breath_avg_len': 4.0, 'inhale_duration': 9.98, 'avg_inhale': 2.0, 'exhale_duration': 10.0, 'avg_exhale': 2.0, 'inhale_exhale_ratio': 1.0}\n",
      "[{'nni_mean': -22.64, 'hr_mean': 161.83, 'hr_std': 67.32, 'rmssd': 3027.97, 'lf': 41573.82, 'hf': 36748.55, 'LF/HF ratio': 1.13}, {'nni_mean': -12.12, 'hr_mean': 148.58, 'hr_std': 66.41, 'rmssd': 3175.86, 'lf': 41211.93, 'hf': 41492.63, 'LF/HF ratio': 0.99}, {'nni_mean': 574.52, 'hr_mean': 138.6, 'hr_std': 71.73, 'rmssd': 419.27, 'lf': 20735.91, 'hf': 70045.47, 'LF/HF ratio': 0.3}, {'nni_mean': -8.64, 'hr_mean': 158.68, 'hr_std': 68.04, 'rmssd': 3022.73, 'lf': 29275.29, 'hf': 38661.1, 'LF/HF ratio': 0.76}, {'nni_mean': 574.55, 'hr_mean': 138.07, 'hr_std': 70.96, 'rmssd': 427.88, 'lf': 22281.22, 'hf': 63602.78, 'LF/HF ratio': 0.35}]\n",
      "inhale:  2.0\n",
      "{'breath_avg_len': 3.33, 'inhale_duration': 9.76, 'avg_inhale': 1.63, 'exhale_duration': 10.22, 'avg_exhale': 2.04, 'inhale_exhale_ratio': 0.95}\n",
      "[{'nni_mean': -12.12, 'hr_mean': 148.58, 'hr_std': 66.41, 'rmssd': 3175.86, 'lf': 41211.93, 'hf': 41492.63, 'LF/HF ratio': 0.99}, {'nni_mean': 574.52, 'hr_mean': 138.6, 'hr_std': 71.73, 'rmssd': 419.27, 'lf': 20735.91, 'hf': 70045.47, 'LF/HF ratio': 0.3}, {'nni_mean': -8.64, 'hr_mean': 158.68, 'hr_std': 68.04, 'rmssd': 3022.73, 'lf': 29275.29, 'hf': 38661.1, 'LF/HF ratio': 0.76}, {'nni_mean': 574.55, 'hr_mean': 138.07, 'hr_std': 70.96, 'rmssd': 427.88, 'lf': 22281.22, 'hf': 63602.78, 'LF/HF ratio': 0.35}, {'nni_mean': 720.04, 'hr_mean': 125.11, 'hr_std': 80.33, 'rmssd': 646.08, 'lf': 34417.56, 'hf': 192958.96, 'LF/HF ratio': 0.18}]\n",
      "{'breath_avg_len': 3.33, 'inhale_duration': 10.06, 'avg_inhale': 1.68, 'exhale_duration': 9.92, 'avg_exhale': 1.98, 'inhale_exhale_ratio': 1.01}\n",
      "[{'nni_mean': 574.52, 'hr_mean': 138.6, 'hr_std': 71.73, 'rmssd': 419.27, 'lf': 20735.91, 'hf': 70045.47, 'LF/HF ratio': 0.3}, {'nni_mean': -8.64, 'hr_mean': 158.68, 'hr_std': 68.04, 'rmssd': 3022.73, 'lf': 29275.29, 'hf': 38661.1, 'LF/HF ratio': 0.76}, {'nni_mean': 574.55, 'hr_mean': 138.07, 'hr_std': 70.96, 'rmssd': 427.88, 'lf': 22281.22, 'hf': 63602.78, 'LF/HF ratio': 0.35}, {'nni_mean': 720.04, 'hr_mean': 125.11, 'hr_std': 80.33, 'rmssd': 646.08, 'lf': 34417.56, 'hf': 192958.96, 'LF/HF ratio': 0.18}, {'nni_mean': 446.74, 'hr_mean': 160.37, 'hr_std': 65.3, 'rmssd': 280.99, 'lf': 4593.86, 'hf': 30409.15, 'LF/HF ratio': 0.15}]\n",
      "{'breath_avg_len': 3.33, 'inhale_duration': 10.07, 'avg_inhale': 2.01, 'exhale_duration': 9.91, 'avg_exhale': 1.98, 'inhale_exhale_ratio': 1.02}\n",
      "[{'nni_mean': -8.64, 'hr_mean': 158.68, 'hr_std': 68.04, 'rmssd': 3022.73, 'lf': 29275.29, 'hf': 38661.1, 'LF/HF ratio': 0.76}, {'nni_mean': 574.55, 'hr_mean': 138.07, 'hr_std': 70.96, 'rmssd': 427.88, 'lf': 22281.22, 'hf': 63602.78, 'LF/HF ratio': 0.35}, {'nni_mean': 720.04, 'hr_mean': 125.11, 'hr_std': 80.33, 'rmssd': 646.08, 'lf': 34417.56, 'hf': 192958.96, 'LF/HF ratio': 0.18}, {'nni_mean': 446.74, 'hr_mean': 160.37, 'hr_std': 65.3, 'rmssd': 280.99, 'lf': 4593.86, 'hf': 30409.15, 'LF/HF ratio': 0.15}, {'nni_mean': 448.6, 'hr_mean': 160.08, 'hr_std': 65.59, 'rmssd': 280.82, 'lf': 5377.33, 'hf': 29387.38, 'LF/HF ratio': 0.18}]\n",
      "{'breath_avg_len': 3.33, 'inhale_duration': 10.44, 'avg_inhale': 2.09, 'exhale_duration': 9.54, 'avg_exhale': 1.91, 'inhale_exhale_ratio': 1.09}\n",
      "[{'nni_mean': 574.55, 'hr_mean': 138.07, 'hr_std': 70.96, 'rmssd': 427.88, 'lf': 22281.22, 'hf': 63602.78, 'LF/HF ratio': 0.35}, {'nni_mean': 720.04, 'hr_mean': 125.11, 'hr_std': 80.33, 'rmssd': 646.08, 'lf': 34417.56, 'hf': 192958.96, 'LF/HF ratio': 0.18}, {'nni_mean': 446.74, 'hr_mean': 160.37, 'hr_std': 65.3, 'rmssd': 280.99, 'lf': 4593.86, 'hf': 30409.15, 'LF/HF ratio': 0.15}, {'nni_mean': 448.6, 'hr_mean': 160.08, 'hr_std': 65.59, 'rmssd': 280.82, 'lf': 5377.33, 'hf': 29387.38, 'LF/HF ratio': 0.18}, {'nni_mean': 452.93, 'hr_mean': 156.89, 'hr_std': 62.56, 'rmssd': 289.48, 'lf': 4481.91, 'hf': 23003.61, 'LF/HF ratio': 0.19}]\n",
      "{'breath_avg_len': 3.33, 'inhale_duration': 10.88, 'avg_inhale': 2.18, 'exhale_duration': 9.1, 'avg_exhale': 1.82, 'inhale_exhale_ratio': 1.2}\n",
      "[{'nni_mean': 720.04, 'hr_mean': 125.11, 'hr_std': 80.33, 'rmssd': 646.08, 'lf': 34417.56, 'hf': 192958.96, 'LF/HF ratio': 0.18}, {'nni_mean': 446.74, 'hr_mean': 160.37, 'hr_std': 65.3, 'rmssd': 280.99, 'lf': 4593.86, 'hf': 30409.15, 'LF/HF ratio': 0.15}, {'nni_mean': 448.6, 'hr_mean': 160.08, 'hr_std': 65.59, 'rmssd': 280.82, 'lf': 5377.33, 'hf': 29387.38, 'LF/HF ratio': 0.18}, {'nni_mean': 452.93, 'hr_mean': 156.89, 'hr_std': 62.56, 'rmssd': 289.48, 'lf': 4481.91, 'hf': 23003.61, 'LF/HF ratio': 0.19}, {'nni_mean': 450.24, 'hr_mean': 157.36, 'hr_std': 61.87, 'rmssd': 286.0, 'lf': 4471.87, 'hf': 22152.76, 'LF/HF ratio': 0.2}]\n",
      "exhale:  1.82\n",
      "{'breath_avg_len': 3.33, 'inhale_duration': 10.98, 'avg_inhale': 2.2, 'exhale_duration': 9.0, 'avg_exhale': 1.5, 'inhale_exhale_ratio': 1.22}\n",
      "[{'nni_mean': 446.74, 'hr_mean': 160.37, 'hr_std': 65.3, 'rmssd': 280.99, 'lf': 4593.86, 'hf': 30409.15, 'LF/HF ratio': 0.15}, {'nni_mean': 448.6, 'hr_mean': 160.08, 'hr_std': 65.59, 'rmssd': 280.82, 'lf': 5377.33, 'hf': 29387.38, 'LF/HF ratio': 0.18}, {'nni_mean': 452.93, 'hr_mean': 156.89, 'hr_std': 62.56, 'rmssd': 289.48, 'lf': 4481.91, 'hf': 23003.61, 'LF/HF ratio': 0.19}, {'nni_mean': 450.24, 'hr_mean': 157.36, 'hr_std': 61.87, 'rmssd': 286.0, 'lf': 4471.87, 'hf': 22152.76, 'LF/HF ratio': 0.2}, {'nni_mean': 484.47, 'hr_mean': 151.22, 'hr_std': 65.33, 'rmssd': 348.13, 'lf': 10526.09, 'hf': 26644.29, 'LF/HF ratio': 0.4}]\n",
      "{'breath_avg_len': 4.0, 'inhale_duration': 10.46, 'avg_inhale': 2.09, 'exhale_duration': 9.52, 'avg_exhale': 1.9, 'inhale_exhale_ratio': 1.1}\n",
      "[{'nni_mean': 448.6, 'hr_mean': 160.08, 'hr_std': 65.59, 'rmssd': 280.82, 'lf': 5377.33, 'hf': 29387.38, 'LF/HF ratio': 0.18}, {'nni_mean': 452.93, 'hr_mean': 156.89, 'hr_std': 62.56, 'rmssd': 289.48, 'lf': 4481.91, 'hf': 23003.61, 'LF/HF ratio': 0.19}, {'nni_mean': 450.24, 'hr_mean': 157.36, 'hr_std': 61.87, 'rmssd': 286.0, 'lf': 4471.87, 'hf': 22152.76, 'LF/HF ratio': 0.2}, {'nni_mean': 484.47, 'hr_mean': 151.22, 'hr_std': 65.33, 'rmssd': 348.13, 'lf': 10526.09, 'hf': 26644.29, 'LF/HF ratio': 0.4}, {'nni_mean': 454.76, 'hr_mean': 156.16, 'hr_std': 62.29, 'rmssd': 288.33, 'lf': 5009.68, 'hf': 18657.72, 'LF/HF ratio': 0.27}]\n",
      "{'breath_avg_len': 4.0, 'inhale_duration': 9.92, 'avg_inhale': 1.98, 'exhale_duration': 10.06, 'avg_exhale': 2.01, 'inhale_exhale_ratio': 0.99}\n",
      "[{'nni_mean': 452.93, 'hr_mean': 156.89, 'hr_std': 62.56, 'rmssd': 289.48, 'lf': 4481.91, 'hf': 23003.61, 'LF/HF ratio': 0.19}, {'nni_mean': 450.24, 'hr_mean': 157.36, 'hr_std': 61.87, 'rmssd': 286.0, 'lf': 4471.87, 'hf': 22152.76, 'LF/HF ratio': 0.2}, {'nni_mean': 484.47, 'hr_mean': 151.22, 'hr_std': 65.33, 'rmssd': 348.13, 'lf': 10526.09, 'hf': 26644.29, 'LF/HF ratio': 0.4}, {'nni_mean': 454.76, 'hr_mean': 156.16, 'hr_std': 62.29, 'rmssd': 288.33, 'lf': 5009.68, 'hf': 18657.72, 'LF/HF ratio': 0.27}, {'nni_mean': 485.79, 'hr_mean': 150.77, 'hr_std': 64.08, 'rmssd': 365.83, 'lf': 13874.26, 'hf': 29199.4, 'LF/HF ratio': 0.48}]\n",
      "{'breath_avg_len': 4.0, 'inhale_duration': 10.17, 'avg_inhale': 2.03, 'exhale_duration': 9.81, 'avg_exhale': 1.96, 'inhale_exhale_ratio': 1.04}\n",
      "[{'nni_mean': 450.24, 'hr_mean': 157.36, 'hr_std': 61.87, 'rmssd': 286.0, 'lf': 4471.87, 'hf': 22152.76, 'LF/HF ratio': 0.2}, {'nni_mean': 484.47, 'hr_mean': 151.22, 'hr_std': 65.33, 'rmssd': 348.13, 'lf': 10526.09, 'hf': 26644.29, 'LF/HF ratio': 0.4}, {'nni_mean': 454.76, 'hr_mean': 156.16, 'hr_std': 62.29, 'rmssd': 288.33, 'lf': 5009.68, 'hf': 18657.72, 'LF/HF ratio': 0.27}, {'nni_mean': 485.79, 'hr_mean': 150.77, 'hr_std': 64.08, 'rmssd': 365.83, 'lf': 13874.26, 'hf': 29199.4, 'LF/HF ratio': 0.48}, {'nni_mean': -18.81, 'hr_mean': 156.71, 'hr_std': 67.99, 'rmssd': 3097.84, 'lf': 31617.62, 'hf': 29665.82, 'LF/HF ratio': 1.07}]\n"
     ]
    },
    {
     "name": "stdout",
     "output_type": "stream",
     "text": [
      "inhale:  2.03\n",
      "{'breath_avg_len': 4.0, 'inhale_duration': 9.4, 'avg_inhale': 2.35, 'exhale_duration': 10.58, 'avg_exhale': 2.12, 'inhale_exhale_ratio': 0.89}\n",
      "[{'nni_mean': 484.47, 'hr_mean': 151.22, 'hr_std': 65.33, 'rmssd': 348.13, 'lf': 10526.09, 'hf': 26644.29, 'LF/HF ratio': 0.4}, {'nni_mean': 454.76, 'hr_mean': 156.16, 'hr_std': 62.29, 'rmssd': 288.33, 'lf': 5009.68, 'hf': 18657.72, 'LF/HF ratio': 0.27}, {'nni_mean': 485.79, 'hr_mean': 150.77, 'hr_std': 64.08, 'rmssd': 365.83, 'lf': 13874.26, 'hf': 29199.4, 'LF/HF ratio': 0.48}, {'nni_mean': -18.81, 'hr_mean': 156.71, 'hr_std': 67.99, 'rmssd': 3097.84, 'lf': 31617.62, 'hf': 29665.82, 'LF/HF ratio': 1.07}, {'nni_mean': -13.09, 'hr_mean': 163.04, 'hr_std': 69.39, 'rmssd': 3070.08, 'lf': 55544.51, 'hf': 37304.02, 'LF/HF ratio': 1.49}]\n",
      "{'breath_avg_len': 3.33, 'inhale_duration': 10.39, 'avg_inhale': 1.73, 'exhale_duration': 9.59, 'avg_exhale': 1.92, 'inhale_exhale_ratio': 1.08}\n",
      "[{'nni_mean': 454.76, 'hr_mean': 156.16, 'hr_std': 62.29, 'rmssd': 288.33, 'lf': 5009.68, 'hf': 18657.72, 'LF/HF ratio': 0.27}, {'nni_mean': 485.79, 'hr_mean': 150.77, 'hr_std': 64.08, 'rmssd': 365.83, 'lf': 13874.26, 'hf': 29199.4, 'LF/HF ratio': 0.48}, {'nni_mean': -18.81, 'hr_mean': 156.71, 'hr_std': 67.99, 'rmssd': 3097.84, 'lf': 31617.62, 'hf': 29665.82, 'LF/HF ratio': 1.07}, {'nni_mean': -13.09, 'hr_mean': 163.04, 'hr_std': 69.39, 'rmssd': 3070.08, 'lf': 55544.51, 'hf': 37304.02, 'LF/HF ratio': 1.49}, {'nni_mean': -12.37, 'hr_mean': 162.89, 'hr_std': 68.22, 'rmssd': 3049.02, 'lf': 44104.9, 'hf': 35353.3, 'LF/HF ratio': 1.25}]\n",
      "{'breath_avg_len': 3.33, 'inhale_duration': 10.54, 'avg_inhale': 2.11, 'exhale_duration': 9.44, 'avg_exhale': 1.89, 'inhale_exhale_ratio': 1.12}\n",
      "[{'nni_mean': 485.79, 'hr_mean': 150.77, 'hr_std': 64.08, 'rmssd': 365.83, 'lf': 13874.26, 'hf': 29199.4, 'LF/HF ratio': 0.48}, {'nni_mean': -18.81, 'hr_mean': 156.71, 'hr_std': 67.99, 'rmssd': 3097.84, 'lf': 31617.62, 'hf': 29665.82, 'LF/HF ratio': 1.07}, {'nni_mean': -13.09, 'hr_mean': 163.04, 'hr_std': 69.39, 'rmssd': 3070.08, 'lf': 55544.51, 'hf': 37304.02, 'LF/HF ratio': 1.49}, {'nni_mean': -12.37, 'hr_mean': 162.89, 'hr_std': 68.22, 'rmssd': 3049.02, 'lf': 44104.9, 'hf': 35353.3, 'LF/HF ratio': 1.25}, {'nni_mean': -12.37, 'hr_mean': 163.28, 'hr_std': 67.91, 'rmssd': 2998.36, 'lf': 32862.78, 'hf': 30692.24, 'LF/HF ratio': 1.07}]\n",
      "{'breath_avg_len': 3.33, 'inhale_duration': 10.76, 'avg_inhale': 2.15, 'exhale_duration': 9.22, 'avg_exhale': 1.84, 'inhale_exhale_ratio': 1.17}\n",
      "[{'nni_mean': -18.81, 'hr_mean': 156.71, 'hr_std': 67.99, 'rmssd': 3097.84, 'lf': 31617.62, 'hf': 29665.82, 'LF/HF ratio': 1.07}, {'nni_mean': -13.09, 'hr_mean': 163.04, 'hr_std': 69.39, 'rmssd': 3070.08, 'lf': 55544.51, 'hf': 37304.02, 'LF/HF ratio': 1.49}, {'nni_mean': -12.37, 'hr_mean': 162.89, 'hr_std': 68.22, 'rmssd': 3049.02, 'lf': 44104.9, 'hf': 35353.3, 'LF/HF ratio': 1.25}, {'nni_mean': -12.37, 'hr_mean': 163.28, 'hr_std': 67.91, 'rmssd': 2998.36, 'lf': 32862.78, 'hf': 30692.24, 'LF/HF ratio': 1.07}, {'nni_mean': -14.64, 'hr_mean': 162.05, 'hr_std': 68.95, 'rmssd': 3048.59, 'lf': 41668.97, 'hf': 30784.84, 'LF/HF ratio': 1.35}]\n",
      "{'breath_avg_len': 3.33, 'inhale_duration': 10.78, 'avg_inhale': 2.16, 'exhale_duration': 9.2, 'avg_exhale': 1.53, 'inhale_exhale_ratio': 1.17}\n",
      "[{'nni_mean': -13.09, 'hr_mean': 163.04, 'hr_std': 69.39, 'rmssd': 3070.08, 'lf': 55544.51, 'hf': 37304.02, 'LF/HF ratio': 1.49}, {'nni_mean': -12.37, 'hr_mean': 162.89, 'hr_std': 68.22, 'rmssd': 3049.02, 'lf': 44104.9, 'hf': 35353.3, 'LF/HF ratio': 1.25}, {'nni_mean': -12.37, 'hr_mean': 163.28, 'hr_std': 67.91, 'rmssd': 2998.36, 'lf': 32862.78, 'hf': 30692.24, 'LF/HF ratio': 1.07}, {'nni_mean': -14.64, 'hr_mean': 162.05, 'hr_std': 68.95, 'rmssd': 3048.59, 'lf': 41668.97, 'hf': 30784.84, 'LF/HF ratio': 1.35}, {'nni_mean': -6.72, 'hr_mean': 162.69, 'hr_std': 67.72, 'rmssd': 2950.37, 'lf': 18944.4, 'hf': 23304.6, 'LF/HF ratio': 0.81}]\n",
      "exhale:  1.53\n",
      "{'breath_avg_len': 4.0, 'inhale_duration': 10.59, 'avg_inhale': 2.12, 'exhale_duration': 9.39, 'avg_exhale': 1.88, 'inhale_exhale_ratio': 1.13}\n",
      "[{'nni_mean': -12.37, 'hr_mean': 162.89, 'hr_std': 68.22, 'rmssd': 3049.02, 'lf': 44104.9, 'hf': 35353.3, 'LF/HF ratio': 1.25}, {'nni_mean': -12.37, 'hr_mean': 163.28, 'hr_std': 67.91, 'rmssd': 2998.36, 'lf': 32862.78, 'hf': 30692.24, 'LF/HF ratio': 1.07}, {'nni_mean': -14.64, 'hr_mean': 162.05, 'hr_std': 68.95, 'rmssd': 3048.59, 'lf': 41668.97, 'hf': 30784.84, 'LF/HF ratio': 1.35}, {'nni_mean': -6.72, 'hr_mean': 162.69, 'hr_std': 67.72, 'rmssd': 2950.37, 'lf': 18944.4, 'hf': 23304.6, 'LF/HF ratio': 0.81}, {'nni_mean': 448.1, 'hr_mean': 161.89, 'hr_std': 64.87, 'rmssd': 347.81, 'lf': 8877.38, 'hf': 41394.1, 'LF/HF ratio': 0.21}]\n",
      "{'breath_avg_len': 4.0, 'inhale_duration': 10.17, 'avg_inhale': 2.03, 'exhale_duration': 9.81, 'avg_exhale': 1.96, 'inhale_exhale_ratio': 1.04}\n",
      "[{'nni_mean': -12.37, 'hr_mean': 163.28, 'hr_std': 67.91, 'rmssd': 2998.36, 'lf': 32862.78, 'hf': 30692.24, 'LF/HF ratio': 1.07}, {'nni_mean': -14.64, 'hr_mean': 162.05, 'hr_std': 68.95, 'rmssd': 3048.59, 'lf': 41668.97, 'hf': 30784.84, 'LF/HF ratio': 1.35}, {'nni_mean': -6.72, 'hr_mean': 162.69, 'hr_std': 67.72, 'rmssd': 2950.37, 'lf': 18944.4, 'hf': 23304.6, 'LF/HF ratio': 0.81}, {'nni_mean': 448.1, 'hr_mean': 161.89, 'hr_std': 64.87, 'rmssd': 347.81, 'lf': 8877.38, 'hf': 41394.1, 'LF/HF ratio': 0.21}, {'nni_mean': -13.46, 'hr_mean': 163.6, 'hr_std': 68.17, 'rmssd': 2976.58, 'lf': 13014.73, 'hf': 24966.04, 'LF/HF ratio': 0.52}]\n",
      "{'breath_avg_len': 4.0, 'inhale_duration': 9.85, 'avg_inhale': 1.97, 'exhale_duration': 10.13, 'avg_exhale': 2.03, 'inhale_exhale_ratio': 0.97}\n",
      "[{'nni_mean': -14.64, 'hr_mean': 162.05, 'hr_std': 68.95, 'rmssd': 3048.59, 'lf': 41668.97, 'hf': 30784.84, 'LF/HF ratio': 1.35}, {'nni_mean': -6.72, 'hr_mean': 162.69, 'hr_std': 67.72, 'rmssd': 2950.37, 'lf': 18944.4, 'hf': 23304.6, 'LF/HF ratio': 0.81}, {'nni_mean': 448.1, 'hr_mean': 161.89, 'hr_std': 64.87, 'rmssd': 347.81, 'lf': 8877.38, 'hf': 41394.1, 'LF/HF ratio': 0.21}, {'nni_mean': -13.46, 'hr_mean': 163.6, 'hr_std': 68.17, 'rmssd': 2976.58, 'lf': 13014.73, 'hf': 24966.04, 'LF/HF ratio': 0.52}, {'nni_mean': 422.17, 'hr_mean': 166.72, 'hr_std': 62.12, 'rmssd': 274.61, 'lf': 2492.31, 'hf': 15260.23, 'LF/HF ratio': 0.16}]\n",
      "{'breath_avg_len': 4.0, 'inhale_duration': 9.82, 'avg_inhale': 1.96, 'exhale_duration': 10.16, 'avg_exhale': 2.03, 'inhale_exhale_ratio': 0.97}\n",
      "[{'nni_mean': -6.72, 'hr_mean': 162.69, 'hr_std': 67.72, 'rmssd': 2950.37, 'lf': 18944.4, 'hf': 23304.6, 'LF/HF ratio': 0.81}, {'nni_mean': 448.1, 'hr_mean': 161.89, 'hr_std': 64.87, 'rmssd': 347.81, 'lf': 8877.38, 'hf': 41394.1, 'LF/HF ratio': 0.21}, {'nni_mean': -13.46, 'hr_mean': 163.6, 'hr_std': 68.17, 'rmssd': 2976.58, 'lf': 13014.73, 'hf': 24966.04, 'LF/HF ratio': 0.52}, {'nni_mean': 422.17, 'hr_mean': 166.72, 'hr_std': 62.12, 'rmssd': 274.61, 'lf': 2492.31, 'hf': 15260.23, 'LF/HF ratio': 0.16}, {'nni_mean': -8.76, 'hr_mean': 171.74, 'hr_std': 68.35, 'rmssd': 2907.08, 'lf': 34886.25, 'hf': 25398.55, 'LF/HF ratio': 1.37}]\n",
      "inhale:  1.96\n",
      "{'breath_avg_len': 4.0, 'inhale_duration': 9.46, 'avg_inhale': 1.89, 'exhale_duration': 10.52, 'avg_exhale': 2.1, 'inhale_exhale_ratio': 0.9}\n",
      "[{'nni_mean': 448.1, 'hr_mean': 161.89, 'hr_std': 64.87, 'rmssd': 347.81, 'lf': 8877.38, 'hf': 41394.1, 'LF/HF ratio': 0.21}, {'nni_mean': -13.46, 'hr_mean': 163.6, 'hr_std': 68.17, 'rmssd': 2976.58, 'lf': 13014.73, 'hf': 24966.04, 'LF/HF ratio': 0.52}, {'nni_mean': 422.17, 'hr_mean': 166.72, 'hr_std': 62.12, 'rmssd': 274.61, 'lf': 2492.31, 'hf': 15260.23, 'LF/HF ratio': 0.16}, {'nni_mean': -8.76, 'hr_mean': 171.74, 'hr_std': 68.35, 'rmssd': 2907.08, 'lf': 34886.25, 'hf': 25398.55, 'LF/HF ratio': 1.37}, {'nni_mean': -12.27, 'hr_mean': 171.37, 'hr_std': 68.59, 'rmssd': 3012.28, 'lf': 86610.77, 'hf': 43592.61, 'LF/HF ratio': 1.99}]\n",
      "{'breath_avg_len': 3.33, 'inhale_duration': 10.14, 'avg_inhale': 1.69, 'exhale_duration': 9.84, 'avg_exhale': 1.97, 'inhale_exhale_ratio': 1.03}\n",
      "[{'nni_mean': -13.46, 'hr_mean': 163.6, 'hr_std': 68.17, 'rmssd': 2976.58, 'lf': 13014.73, 'hf': 24966.04, 'LF/HF ratio': 0.52}, {'nni_mean': 422.17, 'hr_mean': 166.72, 'hr_std': 62.12, 'rmssd': 274.61, 'lf': 2492.31, 'hf': 15260.23, 'LF/HF ratio': 0.16}, {'nni_mean': -8.76, 'hr_mean': 171.74, 'hr_std': 68.35, 'rmssd': 2907.08, 'lf': 34886.25, 'hf': 25398.55, 'LF/HF ratio': 1.37}, {'nni_mean': -12.27, 'hr_mean': 171.37, 'hr_std': 68.59, 'rmssd': 3012.28, 'lf': 86610.77, 'hf': 43592.61, 'LF/HF ratio': 1.99}, {'nni_mean': 396.6, 'hr_mean': 174.11, 'hr_std': 60.7, 'rmssd': 248.16, 'lf': 2568.27, 'hf': 12169.91, 'LF/HF ratio': 0.21}]\n"
     ]
    },
    {
     "name": "stdout",
     "output_type": "stream",
     "text": [
      "{'breath_avg_len': 3.33, 'inhale_duration': 10.38, 'avg_inhale': 2.08, 'exhale_duration': 9.6, 'avg_exhale': 1.92, 'inhale_exhale_ratio': 1.08}\n",
      "[{'nni_mean': 422.17, 'hr_mean': 166.72, 'hr_std': 62.12, 'rmssd': 274.61, 'lf': 2492.31, 'hf': 15260.23, 'LF/HF ratio': 0.16}, {'nni_mean': -8.76, 'hr_mean': 171.74, 'hr_std': 68.35, 'rmssd': 2907.08, 'lf': 34886.25, 'hf': 25398.55, 'LF/HF ratio': 1.37}, {'nni_mean': -12.27, 'hr_mean': 171.37, 'hr_std': 68.59, 'rmssd': 3012.28, 'lf': 86610.77, 'hf': 43592.61, 'LF/HF ratio': 1.99}, {'nni_mean': 396.6, 'hr_mean': 174.11, 'hr_std': 60.7, 'rmssd': 248.16, 'lf': 2568.27, 'hf': 12169.91, 'LF/HF ratio': 0.21}, {'nni_mean': -9.37, 'hr_mean': 169.66, 'hr_std': 64.8, 'rmssd': 2915.65, 'lf': 49549.65, 'hf': 31874.46, 'LF/HF ratio': 1.55}]\n",
      "{'breath_avg_len': 3.33, 'inhale_duration': 10.66, 'avg_inhale': 2.13, 'exhale_duration': 9.32, 'avg_exhale': 1.86, 'inhale_exhale_ratio': 1.14}\n",
      "[{'nni_mean': -8.76, 'hr_mean': 171.74, 'hr_std': 68.35, 'rmssd': 2907.08, 'lf': 34886.25, 'hf': 25398.55, 'LF/HF ratio': 1.37}, {'nni_mean': -12.27, 'hr_mean': 171.37, 'hr_std': 68.59, 'rmssd': 3012.28, 'lf': 86610.77, 'hf': 43592.61, 'LF/HF ratio': 1.99}, {'nni_mean': 396.6, 'hr_mean': 174.11, 'hr_std': 60.7, 'rmssd': 248.16, 'lf': 2568.27, 'hf': 12169.91, 'LF/HF ratio': 0.21}, {'nni_mean': -9.37, 'hr_mean': 169.66, 'hr_std': 64.8, 'rmssd': 2915.65, 'lf': 49549.65, 'hf': 31874.46, 'LF/HF ratio': 1.55}, {'nni_mean': 395.0, 'hr_mean': 173.88, 'hr_std': 59.75, 'rmssd': 242.21, 'lf': 2469.67, 'hf': 10995.51, 'LF/HF ratio': 0.22}]\n",
      "exhale:  1.86\n",
      "{'breath_avg_len': 4.0, 'inhale_duration': 11.27, 'avg_inhale': 2.25, 'exhale_duration': 8.71, 'avg_exhale': 2.18, 'inhale_exhale_ratio': 1.29}\n",
      "[{'nni_mean': -12.27, 'hr_mean': 171.37, 'hr_std': 68.59, 'rmssd': 3012.28, 'lf': 86610.77, 'hf': 43592.61, 'LF/HF ratio': 1.99}, {'nni_mean': 396.6, 'hr_mean': 174.11, 'hr_std': 60.7, 'rmssd': 248.16, 'lf': 2568.27, 'hf': 12169.91, 'LF/HF ratio': 0.21}, {'nni_mean': -9.37, 'hr_mean': 169.66, 'hr_std': 64.8, 'rmssd': 2915.65, 'lf': 49549.65, 'hf': 31874.46, 'LF/HF ratio': 1.55}, {'nni_mean': 395.0, 'hr_mean': 173.88, 'hr_std': 59.75, 'rmssd': 242.21, 'lf': 2469.67, 'hf': 10995.51, 'LF/HF ratio': 0.22}, {'nni_mean': 393.0, 'hr_mean': 176.32, 'hr_std': 61.86, 'rmssd': 239.27, 'lf': 2722.35, 'hf': 10228.44, 'LF/HF ratio': 0.27}]\n",
      "{'breath_avg_len': 4.0, 'inhale_duration': 10.36, 'avg_inhale': 2.07, 'exhale_duration': 9.62, 'avg_exhale': 1.92, 'inhale_exhale_ratio': 1.08}\n",
      "[{'nni_mean': 396.6, 'hr_mean': 174.11, 'hr_std': 60.7, 'rmssd': 248.16, 'lf': 2568.27, 'hf': 12169.91, 'LF/HF ratio': 0.21}, {'nni_mean': -9.37, 'hr_mean': 169.66, 'hr_std': 64.8, 'rmssd': 2915.65, 'lf': 49549.65, 'hf': 31874.46, 'LF/HF ratio': 1.55}, {'nni_mean': 395.0, 'hr_mean': 173.88, 'hr_std': 59.75, 'rmssd': 242.21, 'lf': 2469.67, 'hf': 10995.51, 'LF/HF ratio': 0.22}, {'nni_mean': 393.0, 'hr_mean': 176.32, 'hr_std': 61.86, 'rmssd': 239.27, 'lf': 2722.35, 'hf': 10228.44, 'LF/HF ratio': 0.27}, {'nni_mean': 437.95, 'hr_mean': 166.52, 'hr_std': 66.13, 'rmssd': 323.03, 'lf': 6808.6, 'hf': 16934.05, 'LF/HF ratio': 0.4}]\n",
      "{'breath_avg_len': 4.0, 'inhale_duration': 9.82, 'avg_inhale': 1.96, 'exhale_duration': 10.16, 'avg_exhale': 2.03, 'inhale_exhale_ratio': 0.97}\n",
      "[{'nni_mean': -9.37, 'hr_mean': 169.66, 'hr_std': 64.8, 'rmssd': 2915.65, 'lf': 49549.65, 'hf': 31874.46, 'LF/HF ratio': 1.55}, {'nni_mean': 395.0, 'hr_mean': 173.88, 'hr_std': 59.75, 'rmssd': 242.21, 'lf': 2469.67, 'hf': 10995.51, 'LF/HF ratio': 0.22}, {'nni_mean': 393.0, 'hr_mean': 176.32, 'hr_std': 61.86, 'rmssd': 239.27, 'lf': 2722.35, 'hf': 10228.44, 'LF/HF ratio': 0.27}, {'nni_mean': 437.95, 'hr_mean': 166.52, 'hr_std': 66.13, 'rmssd': 323.03, 'lf': 6808.6, 'hf': 16934.05, 'LF/HF ratio': 0.4}, {'nni_mean': 453.41, 'hr_mean': 164.95, 'hr_std': 69.84, 'rmssd': 356.93, 'lf': 6960.54, 'hf': 11092.35, 'LF/HF ratio': 0.63}]\n",
      "{'breath_avg_len': 4.0, 'inhale_duration': 9.77, 'avg_inhale': 1.95, 'exhale_duration': 10.21, 'avg_exhale': 2.04, 'inhale_exhale_ratio': 0.96}\n",
      "[{'nni_mean': 395.0, 'hr_mean': 173.88, 'hr_std': 59.75, 'rmssd': 242.21, 'lf': 2469.67, 'hf': 10995.51, 'LF/HF ratio': 0.22}, {'nni_mean': 393.0, 'hr_mean': 176.32, 'hr_std': 61.86, 'rmssd': 239.27, 'lf': 2722.35, 'hf': 10228.44, 'LF/HF ratio': 0.27}, {'nni_mean': 437.95, 'hr_mean': 166.52, 'hr_std': 66.13, 'rmssd': 323.03, 'lf': 6808.6, 'hf': 16934.05, 'LF/HF ratio': 0.4}, {'nni_mean': 453.41, 'hr_mean': 164.95, 'hr_std': 69.84, 'rmssd': 356.93, 'lf': 6960.54, 'hf': 11092.35, 'LF/HF ratio': 0.63}, {'nni_mean': 453.41, 'hr_mean': 164.95, 'hr_std': 69.84, 'rmssd': 356.93, 'lf': 6960.54, 'hf': 11092.35, 'LF/HF ratio': 0.63}]\n",
      "{'breath_avg_len': 4.0, 'inhale_duration': 9.53, 'avg_inhale': 2.38, 'exhale_duration': 10.45, 'avg_exhale': 2.09, 'inhale_exhale_ratio': 0.91}\n",
      "[{'nni_mean': 393.0, 'hr_mean': 176.32, 'hr_std': 61.86, 'rmssd': 239.27, 'lf': 2722.35, 'hf': 10228.44, 'LF/HF ratio': 0.27}, {'nni_mean': 437.95, 'hr_mean': 166.52, 'hr_std': 66.13, 'rmssd': 323.03, 'lf': 6808.6, 'hf': 16934.05, 'LF/HF ratio': 0.4}, {'nni_mean': 453.41, 'hr_mean': 164.95, 'hr_std': 69.84, 'rmssd': 356.93, 'lf': 6960.54, 'hf': 11092.35, 'LF/HF ratio': 0.63}, {'nni_mean': 453.41, 'hr_mean': 164.95, 'hr_std': 69.84, 'rmssd': 356.93, 'lf': 6960.54, 'hf': 11092.35, 'LF/HF ratio': 0.63}, {'nni_mean': 402.5, 'hr_mean': 174.19, 'hr_std': 64.58, 'rmssd': 264.21, 'lf': 2322.91, 'hf': 6902.75, 'LF/HF ratio': 0.34}]\n",
      "inhale:  2.38\n",
      "{'breath_avg_len': 4.0, 'inhale_duration': 9.67, 'avg_inhale': 2.42, 'exhale_duration': 10.31, 'avg_exhale': 2.06, 'inhale_exhale_ratio': 0.94}\n",
      "[{'nni_mean': 437.95, 'hr_mean': 166.52, 'hr_std': 66.13, 'rmssd': 323.03, 'lf': 6808.6, 'hf': 16934.05, 'LF/HF ratio': 0.4}, {'nni_mean': 453.41, 'hr_mean': 164.95, 'hr_std': 69.84, 'rmssd': 356.93, 'lf': 6960.54, 'hf': 11092.35, 'LF/HF ratio': 0.63}, {'nni_mean': 453.41, 'hr_mean': 164.95, 'hr_std': 69.84, 'rmssd': 356.93, 'lf': 6960.54, 'hf': 11092.35, 'LF/HF ratio': 0.63}, {'nni_mean': 402.5, 'hr_mean': 174.19, 'hr_std': 64.58, 'rmssd': 264.21, 'lf': 2322.91, 'hf': 6902.75, 'LF/HF ratio': 0.34}, {'nni_mean': -7.69, 'hr_mean': 166.93, 'hr_std': 68.76, 'rmssd': 2929.03, 'lf': 5085.67, 'hf': 15161.84, 'LF/HF ratio': 0.34}]\n",
      "{'breath_avg_len': 3.33, 'inhale_duration': 10.87, 'avg_inhale': 2.17, 'exhale_duration': 9.11, 'avg_exhale': 1.82, 'inhale_exhale_ratio': 1.19}\n",
      "[{'nni_mean': 453.41, 'hr_mean': 164.95, 'hr_std': 69.84, 'rmssd': 356.93, 'lf': 6960.54, 'hf': 11092.35, 'LF/HF ratio': 0.63}, {'nni_mean': 453.41, 'hr_mean': 164.95, 'hr_std': 69.84, 'rmssd': 356.93, 'lf': 6960.54, 'hf': 11092.35, 'LF/HF ratio': 0.63}, {'nni_mean': 402.5, 'hr_mean': 174.19, 'hr_std': 64.58, 'rmssd': 264.21, 'lf': 2322.91, 'hf': 6902.75, 'LF/HF ratio': 0.34}, {'nni_mean': -7.69, 'hr_mean': 166.93, 'hr_std': 68.76, 'rmssd': 2929.03, 'lf': 5085.67, 'hf': 15161.84, 'LF/HF ratio': 0.34}, {'nni_mean': -16.4, 'hr_mean': 158.83, 'hr_std': 72.46, 'rmssd': 3157.23, 'lf': 48498.43, 'hf': 37021.29, 'LF/HF ratio': 1.31}]\n",
      "{'breath_avg_len': 4.0, 'inhale_duration': 11.27, 'avg_inhale': 2.25, 'exhale_duration': 8.71, 'avg_exhale': 2.18, 'inhale_exhale_ratio': 1.29}\n",
      "[{'nni_mean': 453.41, 'hr_mean': 164.95, 'hr_std': 69.84, 'rmssd': 356.93, 'lf': 6960.54, 'hf': 11092.35, 'LF/HF ratio': 0.63}, {'nni_mean': 402.5, 'hr_mean': 174.19, 'hr_std': 64.58, 'rmssd': 264.21, 'lf': 2322.91, 'hf': 6902.75, 'LF/HF ratio': 0.34}, {'nni_mean': -7.69, 'hr_mean': 166.93, 'hr_std': 68.76, 'rmssd': 2929.03, 'lf': 5085.67, 'hf': 15161.84, 'LF/HF ratio': 0.34}, {'nni_mean': -16.4, 'hr_mean': 158.83, 'hr_std': 72.46, 'rmssd': 3157.23, 'lf': 48498.43, 'hf': 37021.29, 'LF/HF ratio': 1.31}, {'nni_mean': -12.3, 'hr_mean': 158.84, 'hr_std': 71.08, 'rmssd': 3076.18, 'lf': 29461.91, 'hf': 28372.55, 'LF/HF ratio': 1.04}]\n",
      "{'breath_avg_len': 4.0, 'inhale_duration': 11.0, 'avg_inhale': 2.2, 'exhale_duration': 8.98, 'avg_exhale': 2.24, 'inhale_exhale_ratio': 1.22}\n",
      "[{'nni_mean': 402.5, 'hr_mean': 174.19, 'hr_std': 64.58, 'rmssd': 264.21, 'lf': 2322.91, 'hf': 6902.75, 'LF/HF ratio': 0.34}, {'nni_mean': -7.69, 'hr_mean': 166.93, 'hr_std': 68.76, 'rmssd': 2929.03, 'lf': 5085.67, 'hf': 15161.84, 'LF/HF ratio': 0.34}, {'nni_mean': -16.4, 'hr_mean': 158.83, 'hr_std': 72.46, 'rmssd': 3157.23, 'lf': 48498.43, 'hf': 37021.29, 'LF/HF ratio': 1.31}, {'nni_mean': -12.3, 'hr_mean': 158.84, 'hr_std': 71.08, 'rmssd': 3076.18, 'lf': 29461.91, 'hf': 28372.55, 'LF/HF ratio': 1.04}, {'nni_mean': 443.41, 'hr_mean': 163.26, 'hr_std': 65.53, 'rmssd': 330.69, 'lf': 10325.99, 'hf': 6996.13, 'LF/HF ratio': 1.48}]\n"
     ]
    },
    {
     "name": "stdout",
     "output_type": "stream",
     "text": [
      "{'breath_avg_len': 3.33, 'inhale_duration': 10.72, 'avg_inhale': 2.14, 'exhale_duration': 9.26, 'avg_exhale': 1.54, 'inhale_exhale_ratio': 1.16}\n",
      "[{'nni_mean': -7.69, 'hr_mean': 166.93, 'hr_std': 68.76, 'rmssd': 2929.03, 'lf': 5085.67, 'hf': 15161.84, 'LF/HF ratio': 0.34}, {'nni_mean': -16.4, 'hr_mean': 158.83, 'hr_std': 72.46, 'rmssd': 3157.23, 'lf': 48498.43, 'hf': 37021.29, 'LF/HF ratio': 1.31}, {'nni_mean': -12.3, 'hr_mean': 158.84, 'hr_std': 71.08, 'rmssd': 3076.18, 'lf': 29461.91, 'hf': 28372.55, 'LF/HF ratio': 1.04}, {'nni_mean': 443.41, 'hr_mean': 163.26, 'hr_std': 65.53, 'rmssd': 330.69, 'lf': 10325.99, 'hf': 6996.13, 'LF/HF ratio': 1.48}, {'nni_mean': 409.57, 'hr_mean': 170.12, 'hr_std': 63.3, 'rmssd': 257.58, 'lf': 4419.35, 'hf': 5425.8, 'LF/HF ratio': 0.81}]\n",
      "{'breath_avg_len': 4.0, 'inhale_duration': 10.11, 'avg_inhale': 2.02, 'exhale_duration': 9.87, 'avg_exhale': 1.97, 'inhale_exhale_ratio': 1.02}\n",
      "exhale:  1.97\n",
      "[{'nni_mean': -16.4, 'hr_mean': 158.83, 'hr_std': 72.46, 'rmssd': 3157.23, 'lf': 48498.43, 'hf': 37021.29, 'LF/HF ratio': 1.31}, {'nni_mean': -12.3, 'hr_mean': 158.84, 'hr_std': 71.08, 'rmssd': 3076.18, 'lf': 29461.91, 'hf': 28372.55, 'LF/HF ratio': 1.04}, {'nni_mean': 443.41, 'hr_mean': 163.26, 'hr_std': 65.53, 'rmssd': 330.69, 'lf': 10325.99, 'hf': 6996.13, 'LF/HF ratio': 1.48}, {'nni_mean': 409.57, 'hr_mean': 170.12, 'hr_std': 63.3, 'rmssd': 257.58, 'lf': 4419.35, 'hf': 5425.8, 'LF/HF ratio': 0.81}, {'nni_mean': 416.38, 'hr_mean': 166.17, 'hr_std': 61.15, 'rmssd': 252.74, 'lf': 7534.01, 'hf': 6001.1, 'LF/HF ratio': 1.26}]\n",
      "{'breath_avg_len': 3.33, 'inhale_duration': 9.82, 'avg_inhale': 1.96, 'exhale_duration': 10.16, 'avg_exhale': 1.69, 'inhale_exhale_ratio': 0.97}\n",
      "[{'nni_mean': -12.3, 'hr_mean': 158.84, 'hr_std': 71.08, 'rmssd': 3076.18, 'lf': 29461.91, 'hf': 28372.55, 'LF/HF ratio': 1.04}, {'nni_mean': 443.41, 'hr_mean': 163.26, 'hr_std': 65.53, 'rmssd': 330.69, 'lf': 10325.99, 'hf': 6996.13, 'LF/HF ratio': 1.48}, {'nni_mean': 409.57, 'hr_mean': 170.12, 'hr_std': 63.3, 'rmssd': 257.58, 'lf': 4419.35, 'hf': 5425.8, 'LF/HF ratio': 0.81}, {'nni_mean': 416.38, 'hr_mean': 166.17, 'hr_std': 61.15, 'rmssd': 252.74, 'lf': 7534.01, 'hf': 6001.1, 'LF/HF ratio': 1.26}, {'nni_mean': 440.24, 'hr_mean': 159.74, 'hr_std': 62.79, 'rmssd': 246.94, 'lf': 10805.48, 'hf': 5122.35, 'LF/HF ratio': 2.11}]\n",
      "{'breath_avg_len': 4.0, 'inhale_duration': 9.6, 'avg_inhale': 1.92, 'exhale_duration': 10.38, 'avg_exhale': 2.08, 'inhale_exhale_ratio': 0.92}\n",
      "[{'nni_mean': 443.41, 'hr_mean': 163.26, 'hr_std': 65.53, 'rmssd': 330.69, 'lf': 10325.99, 'hf': 6996.13, 'LF/HF ratio': 1.48}, {'nni_mean': 409.57, 'hr_mean': 170.12, 'hr_std': 63.3, 'rmssd': 257.58, 'lf': 4419.35, 'hf': 5425.8, 'LF/HF ratio': 0.81}, {'nni_mean': 416.38, 'hr_mean': 166.17, 'hr_std': 61.15, 'rmssd': 252.74, 'lf': 7534.01, 'hf': 6001.1, 'LF/HF ratio': 1.26}, {'nni_mean': 440.24, 'hr_mean': 159.74, 'hr_std': 62.79, 'rmssd': 246.94, 'lf': 10805.48, 'hf': 5122.35, 'LF/HF ratio': 2.11}, {'nni_mean': 430.0, 'hr_mean': 163.28, 'hr_std': 63.86, 'rmssd': 257.04, 'lf': 7347.41, 'hf': 4769.57, 'LF/HF ratio': 1.54}]\n",
      "{'breath_avg_len': 4.0, 'inhale_duration': 9.38, 'avg_inhale': 1.88, 'exhale_duration': 10.6, 'avg_exhale': 2.12, 'inhale_exhale_ratio': 0.88}\n",
      "[{'nni_mean': 409.57, 'hr_mean': 170.12, 'hr_std': 63.3, 'rmssd': 257.58, 'lf': 4419.35, 'hf': 5425.8, 'LF/HF ratio': 0.81}, {'nni_mean': 416.38, 'hr_mean': 166.17, 'hr_std': 61.15, 'rmssd': 252.74, 'lf': 7534.01, 'hf': 6001.1, 'LF/HF ratio': 1.26}, {'nni_mean': 440.24, 'hr_mean': 159.74, 'hr_std': 62.79, 'rmssd': 246.94, 'lf': 10805.48, 'hf': 5122.35, 'LF/HF ratio': 2.11}, {'nni_mean': 430.0, 'hr_mean': 163.28, 'hr_std': 63.86, 'rmssd': 257.04, 'lf': 7347.41, 'hf': 4769.57, 'LF/HF ratio': 1.54}, {'nni_mean': 426.0, 'hr_mean': 164.99, 'hr_std': 64.16, 'rmssd': 254.15, 'lf': 7039.41, 'hf': 4676.96, 'LF/HF ratio': 1.51}]\n",
      "{'breath_avg_len': 3.33, 'inhale_duration': 10.01, 'avg_inhale': 2.0, 'exhale_duration': 9.97, 'avg_exhale': 1.99, 'inhale_exhale_ratio': 1.0}\n",
      "[{'nni_mean': 416.38, 'hr_mean': 166.17, 'hr_std': 61.15, 'rmssd': 252.74, 'lf': 7534.01, 'hf': 6001.1, 'LF/HF ratio': 1.26}, {'nni_mean': 440.24, 'hr_mean': 159.74, 'hr_std': 62.79, 'rmssd': 246.94, 'lf': 10805.48, 'hf': 5122.35, 'LF/HF ratio': 2.11}, {'nni_mean': 430.0, 'hr_mean': 163.28, 'hr_std': 63.86, 'rmssd': 257.04, 'lf': 7347.41, 'hf': 4769.57, 'LF/HF ratio': 1.54}, {'nni_mean': 426.0, 'hr_mean': 164.99, 'hr_std': 64.16, 'rmssd': 254.15, 'lf': 7039.41, 'hf': 4676.96, 'LF/HF ratio': 1.51}, {'nni_mean': 418.0, 'hr_mean': 166.22, 'hr_std': 62.85, 'rmssd': 244.5, 'lf': 6507.74, 'hf': 4439.34, 'LF/HF ratio': 1.47}]\n",
      "inhale:  2.0\n",
      "{'breath_avg_len': 3.33, 'inhale_duration': 10.36, 'avg_inhale': 2.07, 'exhale_duration': 9.62, 'avg_exhale': 1.92, 'inhale_exhale_ratio': 1.08}\n",
      "[{'nni_mean': 440.24, 'hr_mean': 159.74, 'hr_std': 62.79, 'rmssd': 246.94, 'lf': 10805.48, 'hf': 5122.35, 'LF/HF ratio': 2.11}, {'nni_mean': 430.0, 'hr_mean': 163.28, 'hr_std': 63.86, 'rmssd': 257.04, 'lf': 7347.41, 'hf': 4769.57, 'LF/HF ratio': 1.54}, {'nni_mean': 426.0, 'hr_mean': 164.99, 'hr_std': 64.16, 'rmssd': 254.15, 'lf': 7039.41, 'hf': 4676.96, 'LF/HF ratio': 1.51}, {'nni_mean': 418.0, 'hr_mean': 166.22, 'hr_std': 62.85, 'rmssd': 244.5, 'lf': 6507.74, 'hf': 4439.34, 'LF/HF ratio': 1.47}, {'nni_mean': -9.54, 'hr_mean': 160.2, 'hr_std': 67.95, 'rmssd': 2998.77, 'lf': 19322.25, 'hf': 14569.87, 'LF/HF ratio': 1.33}]\n",
      "{'breath_avg_len': 4.0, 'inhale_duration': 11.09, 'avg_inhale': 2.22, 'exhale_duration': 8.89, 'avg_exhale': 2.22, 'inhale_exhale_ratio': 1.25}\n",
      "[{'nni_mean': 430.0, 'hr_mean': 163.28, 'hr_std': 63.86, 'rmssd': 257.04, 'lf': 7347.41, 'hf': 4769.57, 'LF/HF ratio': 1.54}, {'nni_mean': 426.0, 'hr_mean': 164.99, 'hr_std': 64.16, 'rmssd': 254.15, 'lf': 7039.41, 'hf': 4676.96, 'LF/HF ratio': 1.51}, {'nni_mean': 418.0, 'hr_mean': 166.22, 'hr_std': 62.85, 'rmssd': 244.5, 'lf': 6507.74, 'hf': 4439.34, 'LF/HF ratio': 1.47}, {'nni_mean': -9.54, 'hr_mean': 160.2, 'hr_std': 67.95, 'rmssd': 2998.77, 'lf': 19322.25, 'hf': 14569.87, 'LF/HF ratio': 1.33}, {'nni_mean': 410.43, 'hr_mean': 167.44, 'hr_std': 61.63, 'rmssd': 210.18, 'lf': 4772.85, 'hf': 5472.23, 'LF/HF ratio': 0.87}]\n",
      "{'breath_avg_len': 3.33, 'inhale_duration': 10.95, 'avg_inhale': 2.19, 'exhale_duration': 9.03, 'avg_exhale': 1.5, 'inhale_exhale_ratio': 1.21}\n",
      "[{'nni_mean': 426.0, 'hr_mean': 164.99, 'hr_std': 64.16, 'rmssd': 254.15, 'lf': 7039.41, 'hf': 4676.96, 'LF/HF ratio': 1.51}, {'nni_mean': 418.0, 'hr_mean': 166.22, 'hr_std': 62.85, 'rmssd': 244.5, 'lf': 6507.74, 'hf': 4439.34, 'LF/HF ratio': 1.47}, {'nni_mean': -9.54, 'hr_mean': 160.2, 'hr_std': 67.95, 'rmssd': 2998.77, 'lf': 19322.25, 'hf': 14569.87, 'LF/HF ratio': 1.33}, {'nni_mean': 410.43, 'hr_mean': 167.44, 'hr_std': 61.63, 'rmssd': 210.18, 'lf': 4772.85, 'hf': 5472.23, 'LF/HF ratio': 0.87}, {'nni_mean': 400.21, 'hr_mean': 171.11, 'hr_std': 61.16, 'rmssd': 208.65, 'lf': 4181.85, 'hf': 5192.09, 'LF/HF ratio': 0.81}]\n",
      "{'breath_avg_len': 3.33, 'inhale_duration': 10.46, 'avg_inhale': 1.74, 'exhale_duration': 9.52, 'avg_exhale': 1.9, 'inhale_exhale_ratio': 1.1}\n",
      "[{'nni_mean': 418.0, 'hr_mean': 166.22, 'hr_std': 62.85, 'rmssd': 244.5, 'lf': 6507.74, 'hf': 4439.34, 'LF/HF ratio': 1.47}, {'nni_mean': -9.54, 'hr_mean': 160.2, 'hr_std': 67.95, 'rmssd': 2998.77, 'lf': 19322.25, 'hf': 14569.87, 'LF/HF ratio': 1.33}, {'nni_mean': 410.43, 'hr_mean': 167.44, 'hr_std': 61.63, 'rmssd': 210.18, 'lf': 4772.85, 'hf': 5472.23, 'LF/HF ratio': 0.87}, {'nni_mean': 400.21, 'hr_mean': 171.11, 'hr_std': 61.16, 'rmssd': 208.65, 'lf': 4181.85, 'hf': 5192.09, 'LF/HF ratio': 0.81}, {'nni_mean': -11.41, 'hr_mean': 168.69, 'hr_std': 64.56, 'rmssd': 2879.41, 'lf': 30273.32, 'hf': 17129.65, 'LF/HF ratio': 1.77}]\n",
      "{'breath_avg_len': 3.33, 'inhale_duration': 9.79, 'avg_inhale': 1.96, 'exhale_duration': 10.19, 'avg_exhale': 1.7, 'inhale_exhale_ratio': 0.96}\n",
      "[{'nni_mean': -9.54, 'hr_mean': 160.2, 'hr_std': 67.95, 'rmssd': 2998.77, 'lf': 19322.25, 'hf': 14569.87, 'LF/HF ratio': 1.33}, {'nni_mean': 410.43, 'hr_mean': 167.44, 'hr_std': 61.63, 'rmssd': 210.18, 'lf': 4772.85, 'hf': 5472.23, 'LF/HF ratio': 0.87}, {'nni_mean': 400.21, 'hr_mean': 171.11, 'hr_std': 61.16, 'rmssd': 208.65, 'lf': 4181.85, 'hf': 5192.09, 'LF/HF ratio': 0.81}, {'nni_mean': -11.41, 'hr_mean': 168.69, 'hr_std': 64.56, 'rmssd': 2879.41, 'lf': 30273.32, 'hf': 17129.65, 'LF/HF ratio': 1.77}, {'nni_mean': 408.94, 'hr_mean': 169.66, 'hr_std': 62.35, 'rmssd': 226.25, 'lf': 3391.41, 'hf': 5045.99, 'LF/HF ratio': 0.67}]\n"
     ]
    },
    {
     "name": "stdout",
     "output_type": "stream",
     "text": [
      "exhale:  1.7\n",
      "{'breath_avg_len': 4.0, 'inhale_duration': 9.53, 'avg_inhale': 1.91, 'exhale_duration': 10.45, 'avg_exhale': 2.09, 'inhale_exhale_ratio': 0.91}\n",
      "[{'nni_mean': 410.43, 'hr_mean': 167.44, 'hr_std': 61.63, 'rmssd': 210.18, 'lf': 4772.85, 'hf': 5472.23, 'LF/HF ratio': 0.87}, {'nni_mean': 400.21, 'hr_mean': 171.11, 'hr_std': 61.16, 'rmssd': 208.65, 'lf': 4181.85, 'hf': 5192.09, 'LF/HF ratio': 0.81}, {'nni_mean': -11.41, 'hr_mean': 168.69, 'hr_std': 64.56, 'rmssd': 2879.41, 'lf': 30273.32, 'hf': 17129.65, 'LF/HF ratio': 1.77}, {'nni_mean': 408.94, 'hr_mean': 169.66, 'hr_std': 62.35, 'rmssd': 226.25, 'lf': 3391.41, 'hf': 5045.99, 'LF/HF ratio': 0.67}, {'nni_mean': 394.29, 'hr_mean': 172.6, 'hr_std': 59.93, 'rmssd': 204.26, 'lf': 3202.97, 'hf': 5068.06, 'LF/HF ratio': 0.63}]\n",
      "{'breath_avg_len': 4.0, 'inhale_duration': 9.24, 'avg_inhale': 1.85, 'exhale_duration': 10.74, 'avg_exhale': 2.15, 'inhale_exhale_ratio': 0.86}\n",
      "[{'nni_mean': 400.21, 'hr_mean': 171.11, 'hr_std': 61.16, 'rmssd': 208.65, 'lf': 4181.85, 'hf': 5192.09, 'LF/HF ratio': 0.81}, {'nni_mean': -11.41, 'hr_mean': 168.69, 'hr_std': 64.56, 'rmssd': 2879.41, 'lf': 30273.32, 'hf': 17129.65, 'LF/HF ratio': 1.77}, {'nni_mean': 408.94, 'hr_mean': 169.66, 'hr_std': 62.35, 'rmssd': 226.25, 'lf': 3391.41, 'hf': 5045.99, 'LF/HF ratio': 0.67}, {'nni_mean': 394.29, 'hr_mean': 172.6, 'hr_std': 59.93, 'rmssd': 204.26, 'lf': 3202.97, 'hf': 5068.06, 'LF/HF ratio': 0.63}, {'nni_mean': -6.71, 'hr_mean': 168.11, 'hr_std': 65.79, 'rmssd': 2878.55, 'lf': 25848.8, 'hf': 17535.06, 'LF/HF ratio': 1.47}]\n",
      "{'breath_avg_len': 4.0, 'inhale_duration': 9.58, 'avg_inhale': 2.4, 'exhale_duration': 10.4, 'avg_exhale': 2.08, 'inhale_exhale_ratio': 0.92}\n",
      "[{'nni_mean': -11.41, 'hr_mean': 168.69, 'hr_std': 64.56, 'rmssd': 2879.41, 'lf': 30273.32, 'hf': 17129.65, 'LF/HF ratio': 1.77}, {'nni_mean': 408.94, 'hr_mean': 169.66, 'hr_std': 62.35, 'rmssd': 226.25, 'lf': 3391.41, 'hf': 5045.99, 'LF/HF ratio': 0.67}, {'nni_mean': 394.29, 'hr_mean': 172.6, 'hr_std': 59.93, 'rmssd': 204.26, 'lf': 3202.97, 'hf': 5068.06, 'LF/HF ratio': 0.63}, {'nni_mean': -6.71, 'hr_mean': 168.11, 'hr_std': 65.79, 'rmssd': 2878.55, 'lf': 25848.8, 'hf': 17535.06, 'LF/HF ratio': 1.47}, {'nni_mean': 401.88, 'hr_mean': 171.01, 'hr_std': 61.69, 'rmssd': 217.25, 'lf': 2119.14, 'hf': 5119.57, 'LF/HF ratio': 0.41}]\n",
      "{'breath_avg_len': 3.33, 'inhale_duration': 9.69, 'avg_inhale': 1.62, 'exhale_duration': 10.29, 'avg_exhale': 2.06, 'inhale_exhale_ratio': 0.94}\n",
      "[{'nni_mean': 408.94, 'hr_mean': 169.66, 'hr_std': 62.35, 'rmssd': 226.25, 'lf': 3391.41, 'hf': 5045.99, 'LF/HF ratio': 0.67}, {'nni_mean': 394.29, 'hr_mean': 172.6, 'hr_std': 59.93, 'rmssd': 204.26, 'lf': 3202.97, 'hf': 5068.06, 'LF/HF ratio': 0.63}, {'nni_mean': -6.71, 'hr_mean': 168.11, 'hr_std': 65.79, 'rmssd': 2878.55, 'lf': 25848.8, 'hf': 17535.06, 'LF/HF ratio': 1.47}, {'nni_mean': 401.88, 'hr_mean': 171.01, 'hr_std': 61.69, 'rmssd': 217.25, 'lf': 2119.14, 'hf': 5119.57, 'LF/HF ratio': 0.41}, {'nni_mean': -17.48, 'hr_mean': 168.39, 'hr_std': 66.28, 'rmssd': 2904.6, 'lf': 6586.42, 'hf': 12139.96, 'LF/HF ratio': 0.54}]\n",
      "inhale:  1.62\n",
      "{'breath_avg_len': 3.33, 'inhale_duration': 10.31, 'avg_inhale': 2.06, 'exhale_duration': 9.67, 'avg_exhale': 1.93, 'inhale_exhale_ratio': 1.07}\n",
      "[{'nni_mean': 394.29, 'hr_mean': 172.6, 'hr_std': 59.93, 'rmssd': 204.26, 'lf': 3202.97, 'hf': 5068.06, 'LF/HF ratio': 0.63}, {'nni_mean': -6.71, 'hr_mean': 168.11, 'hr_std': 65.79, 'rmssd': 2878.55, 'lf': 25848.8, 'hf': 17535.06, 'LF/HF ratio': 1.47}, {'nni_mean': 401.88, 'hr_mean': 171.01, 'hr_std': 61.69, 'rmssd': 217.25, 'lf': 2119.14, 'hf': 5119.57, 'LF/HF ratio': 0.41}, {'nni_mean': -17.48, 'hr_mean': 168.39, 'hr_std': 66.28, 'rmssd': 2904.6, 'lf': 6586.42, 'hf': 12139.96, 'LF/HF ratio': 0.54}, {'nni_mean': 397.45, 'hr_mean': 171.96, 'hr_std': 60.67, 'rmssd': 205.85, 'lf': 1281.55, 'hf': 5302.08, 'LF/HF ratio': 0.24}]\n",
      "{'breath_avg_len': 3.33, 'inhale_duration': 11.0, 'avg_inhale': 2.2, 'exhale_duration': 8.98, 'avg_exhale': 1.8, 'inhale_exhale_ratio': 1.22}\n",
      "[{'nni_mean': -6.71, 'hr_mean': 168.11, 'hr_std': 65.79, 'rmssd': 2878.55, 'lf': 25848.8, 'hf': 17535.06, 'LF/HF ratio': 1.47}, {'nni_mean': 401.88, 'hr_mean': 171.01, 'hr_std': 61.69, 'rmssd': 217.25, 'lf': 2119.14, 'hf': 5119.57, 'LF/HF ratio': 0.41}, {'nni_mean': -17.48, 'hr_mean': 168.39, 'hr_std': 66.28, 'rmssd': 2904.6, 'lf': 6586.42, 'hf': 12139.96, 'LF/HF ratio': 0.54}, {'nni_mean': 397.45, 'hr_mean': 171.96, 'hr_std': 60.67, 'rmssd': 205.85, 'lf': 1281.55, 'hf': 5302.08, 'LF/HF ratio': 0.24}, {'nni_mean': 401.25, 'hr_mean': 170.53, 'hr_std': 60.83, 'rmssd': 209.6, 'lf': 1494.78, 'hf': 5573.53, 'LF/HF ratio': 0.27}]\n",
      "{'breath_avg_len': 3.33, 'inhale_duration': 10.71, 'avg_inhale': 2.14, 'exhale_duration': 9.27, 'avg_exhale': 1.85, 'inhale_exhale_ratio': 1.16}\n",
      "[{'nni_mean': 401.88, 'hr_mean': 171.01, 'hr_std': 61.69, 'rmssd': 217.25, 'lf': 2119.14, 'hf': 5119.57, 'LF/HF ratio': 0.41}, {'nni_mean': -17.48, 'hr_mean': 168.39, 'hr_std': 66.28, 'rmssd': 2904.6, 'lf': 6586.42, 'hf': 12139.96, 'LF/HF ratio': 0.54}, {'nni_mean': 397.45, 'hr_mean': 171.96, 'hr_std': 60.67, 'rmssd': 205.85, 'lf': 1281.55, 'hf': 5302.08, 'LF/HF ratio': 0.24}, {'nni_mean': 401.25, 'hr_mean': 170.53, 'hr_std': 60.83, 'rmssd': 209.6, 'lf': 1494.78, 'hf': 5573.53, 'LF/HF ratio': 0.27}, {'nni_mean': 435.95, 'hr_mean': 158.61, 'hr_std': 60.91, 'rmssd': 232.95, 'lf': 2030.86, 'hf': 10477.93, 'LF/HF ratio': 0.19}]\n",
      "{'breath_avg_len': 3.33, 'inhale_duration': 10.78, 'avg_inhale': 2.16, 'exhale_duration': 9.2, 'avg_exhale': 1.84, 'inhale_exhale_ratio': 1.17}\n",
      "[{'nni_mean': -17.48, 'hr_mean': 168.39, 'hr_std': 66.28, 'rmssd': 2904.6, 'lf': 6586.42, 'hf': 12139.96, 'LF/HF ratio': 0.54}, {'nni_mean': 397.45, 'hr_mean': 171.96, 'hr_std': 60.67, 'rmssd': 205.85, 'lf': 1281.55, 'hf': 5302.08, 'LF/HF ratio': 0.24}, {'nni_mean': 401.25, 'hr_mean': 170.53, 'hr_std': 60.83, 'rmssd': 209.6, 'lf': 1494.78, 'hf': 5573.53, 'LF/HF ratio': 0.27}, {'nni_mean': 435.95, 'hr_mean': 158.61, 'hr_std': 60.91, 'rmssd': 232.95, 'lf': 2030.86, 'hf': 10477.93, 'LF/HF ratio': 0.19}, {'nni_mean': 398.04, 'hr_mean': 172.44, 'hr_std': 61.43, 'rmssd': 214.08, 'lf': 1312.87, 'hf': 5613.3, 'LF/HF ratio': 0.23}]\n",
      "exhale:  1.84\n",
      "{'breath_avg_len': 4.0, 'inhale_duration': 10.56, 'avg_inhale': 2.11, 'exhale_duration': 9.42, 'avg_exhale': 2.36, 'inhale_exhale_ratio': 1.12}\n",
      "[{'nni_mean': 397.45, 'hr_mean': 171.96, 'hr_std': 60.67, 'rmssd': 205.85, 'lf': 1281.55, 'hf': 5302.08, 'LF/HF ratio': 0.24}, {'nni_mean': 401.25, 'hr_mean': 170.53, 'hr_std': 60.83, 'rmssd': 209.6, 'lf': 1494.78, 'hf': 5573.53, 'LF/HF ratio': 0.27}, {'nni_mean': 435.95, 'hr_mean': 158.61, 'hr_std': 60.91, 'rmssd': 232.95, 'lf': 2030.86, 'hf': 10477.93, 'LF/HF ratio': 0.19}, {'nni_mean': 398.04, 'hr_mean': 172.44, 'hr_std': 61.43, 'rmssd': 214.08, 'lf': 1312.87, 'hf': 5613.3, 'LF/HF ratio': 0.23}, {'nni_mean': 401.67, 'hr_mean': 171.57, 'hr_std': 61.26, 'rmssd': 218.69, 'lf': 661.72, 'hf': 6530.81, 'LF/HF ratio': 0.1}]\n",
      "{'breath_avg_len': 4.0, 'inhale_duration': 10.86, 'avg_inhale': 2.17, 'exhale_duration': 9.12, 'avg_exhale': 2.28, 'inhale_exhale_ratio': 1.19}\n",
      "[{'nni_mean': 401.25, 'hr_mean': 170.53, 'hr_std': 60.83, 'rmssd': 209.6, 'lf': 1494.78, 'hf': 5573.53, 'LF/HF ratio': 0.27}, {'nni_mean': 435.95, 'hr_mean': 158.61, 'hr_std': 60.91, 'rmssd': 232.95, 'lf': 2030.86, 'hf': 10477.93, 'LF/HF ratio': 0.19}, {'nni_mean': 398.04, 'hr_mean': 172.44, 'hr_std': 61.43, 'rmssd': 214.08, 'lf': 1312.87, 'hf': 5613.3, 'LF/HF ratio': 0.23}, {'nni_mean': 401.67, 'hr_mean': 171.57, 'hr_std': 61.26, 'rmssd': 218.69, 'lf': 661.72, 'hf': 6530.81, 'LF/HF ratio': 0.1}, {'nni_mean': 461.75, 'hr_mean': 152.41, 'hr_std': 60.53, 'rmssd': 252.19, 'lf': 8349.23, 'hf': 9530.13, 'LF/HF ratio': 0.88}]\n",
      "{'breath_avg_len': 4.0, 'inhale_duration': 10.99, 'avg_inhale': 2.2, 'exhale_duration': 8.99, 'avg_exhale': 2.25, 'inhale_exhale_ratio': 1.22}\n",
      "[{'nni_mean': 435.95, 'hr_mean': 158.61, 'hr_std': 60.91, 'rmssd': 232.95, 'lf': 2030.86, 'hf': 10477.93, 'LF/HF ratio': 0.19}, {'nni_mean': 398.04, 'hr_mean': 172.44, 'hr_std': 61.43, 'rmssd': 214.08, 'lf': 1312.87, 'hf': 5613.3, 'LF/HF ratio': 0.23}, {'nni_mean': 401.67, 'hr_mean': 171.57, 'hr_std': 61.26, 'rmssd': 218.69, 'lf': 661.72, 'hf': 6530.81, 'LF/HF ratio': 0.1}, {'nni_mean': 461.75, 'hr_mean': 152.41, 'hr_std': 60.53, 'rmssd': 252.19, 'lf': 8349.23, 'hf': 9530.13, 'LF/HF ratio': 0.88}, {'nni_mean': 515.56, 'hr_mean': 143.09, 'hr_std': 64.83, 'rmssd': 362.3, 'lf': 5433.88, 'hf': 12326.9, 'LF/HF ratio': 0.44}]\n"
     ]
    },
    {
     "name": "stdout",
     "output_type": "stream",
     "text": [
      "{'breath_avg_len': 4.0, 'inhale_duration': 9.62, 'avg_inhale': 1.92, 'exhale_duration': 10.36, 'avg_exhale': 2.07, 'inhale_exhale_ratio': 0.93}\n",
      "[{'nni_mean': 398.04, 'hr_mean': 172.44, 'hr_std': 61.43, 'rmssd': 214.08, 'lf': 1312.87, 'hf': 5613.3, 'LF/HF ratio': 0.23}, {'nni_mean': 401.67, 'hr_mean': 171.57, 'hr_std': 61.26, 'rmssd': 218.69, 'lf': 661.72, 'hf': 6530.81, 'LF/HF ratio': 0.1}, {'nni_mean': 461.75, 'hr_mean': 152.41, 'hr_std': 60.53, 'rmssd': 252.19, 'lf': 8349.23, 'hf': 9530.13, 'LF/HF ratio': 0.88}, {'nni_mean': 515.56, 'hr_mean': 143.09, 'hr_std': 64.83, 'rmssd': 362.3, 'lf': 5433.88, 'hf': 12326.9, 'LF/HF ratio': 0.44}, {'nni_mean': 464.0, 'hr_mean': 154.34, 'hr_std': 62.96, 'rmssd': 282.04, 'lf': 7396.31, 'hf': 9451.81, 'LF/HF ratio': 0.78}]\n",
      "inhale:  1.92\n",
      "{'breath_avg_len': 4.0, 'inhale_duration': 9.57, 'avg_inhale': 1.91, 'exhale_duration': 10.41, 'avg_exhale': 2.08, 'inhale_exhale_ratio': 0.92}\n",
      "[{'nni_mean': 401.67, 'hr_mean': 171.57, 'hr_std': 61.26, 'rmssd': 218.69, 'lf': 661.72, 'hf': 6530.81, 'LF/HF ratio': 0.1}, {'nni_mean': 461.75, 'hr_mean': 152.41, 'hr_std': 60.53, 'rmssd': 252.19, 'lf': 8349.23, 'hf': 9530.13, 'LF/HF ratio': 0.88}, {'nni_mean': 515.56, 'hr_mean': 143.09, 'hr_std': 64.83, 'rmssd': 362.3, 'lf': 5433.88, 'hf': 12326.9, 'LF/HF ratio': 0.44}, {'nni_mean': 464.0, 'hr_mean': 154.34, 'hr_std': 62.96, 'rmssd': 282.04, 'lf': 7396.31, 'hf': 9451.81, 'LF/HF ratio': 0.78}, {'nni_mean': -9.98, 'hr_mean': 160.94, 'hr_std': 67.39, 'rmssd': 2984.08, 'lf': 22664.89, 'hf': 16279.59, 'LF/HF ratio': 1.39}]\n",
      "{'breath_avg_len': 4.0, 'inhale_duration': 9.35, 'avg_inhale': 1.87, 'exhale_duration': 10.63, 'avg_exhale': 2.13, 'inhale_exhale_ratio': 0.88}\n",
      "[{'nni_mean': 461.75, 'hr_mean': 152.41, 'hr_std': 60.53, 'rmssd': 252.19, 'lf': 8349.23, 'hf': 9530.13, 'LF/HF ratio': 0.88}, {'nni_mean': 515.56, 'hr_mean': 143.09, 'hr_std': 64.83, 'rmssd': 362.3, 'lf': 5433.88, 'hf': 12326.9, 'LF/HF ratio': 0.44}, {'nni_mean': 464.0, 'hr_mean': 154.34, 'hr_std': 62.96, 'rmssd': 282.04, 'lf': 7396.31, 'hf': 9451.81, 'LF/HF ratio': 0.78}, {'nni_mean': -9.98, 'hr_mean': 160.94, 'hr_std': 67.39, 'rmssd': 2984.08, 'lf': 22664.89, 'hf': 16279.59, 'LF/HF ratio': 1.39}, {'nni_mean': 436.44, 'hr_mean': 158.99, 'hr_std': 59.61, 'rmssd': 271.8, 'lf': 1622.15, 'hf': 8195.53, 'LF/HF ratio': 0.2}]\n",
      "{'breath_avg_len': 3.33, 'inhale_duration': 10.26, 'avg_inhale': 2.05, 'exhale_duration': 9.72, 'avg_exhale': 1.94, 'inhale_exhale_ratio': 1.06}\n",
      "[{'nni_mean': 515.56, 'hr_mean': 143.09, 'hr_std': 64.83, 'rmssd': 362.3, 'lf': 5433.88, 'hf': 12326.9, 'LF/HF ratio': 0.44}, {'nni_mean': 464.0, 'hr_mean': 154.34, 'hr_std': 62.96, 'rmssd': 282.04, 'lf': 7396.31, 'hf': 9451.81, 'LF/HF ratio': 0.78}, {'nni_mean': -9.98, 'hr_mean': 160.94, 'hr_std': 67.39, 'rmssd': 2984.08, 'lf': 22664.89, 'hf': 16279.59, 'LF/HF ratio': 1.39}, {'nni_mean': 436.44, 'hr_mean': 158.99, 'hr_std': 59.61, 'rmssd': 271.8, 'lf': 1622.15, 'hf': 8195.53, 'LF/HF ratio': 0.2}, {'nni_mean': 438.6, 'hr_mean': 159.47, 'hr_std': 61.64, 'rmssd': 280.48, 'lf': 1936.91, 'hf': 7782.6, 'LF/HF ratio': 0.25}]\n",
      "{'breath_avg_len': 4.0, 'inhale_duration': 10.62, 'avg_inhale': 2.12, 'exhale_duration': 9.36, 'avg_exhale': 2.34, 'inhale_exhale_ratio': 1.13}\n",
      "[{'nni_mean': 464.0, 'hr_mean': 154.34, 'hr_std': 62.96, 'rmssd': 282.04, 'lf': 7396.31, 'hf': 9451.81, 'LF/HF ratio': 0.78}, {'nni_mean': -9.98, 'hr_mean': 160.94, 'hr_std': 67.39, 'rmssd': 2984.08, 'lf': 22664.89, 'hf': 16279.59, 'LF/HF ratio': 1.39}, {'nni_mean': 436.44, 'hr_mean': 158.99, 'hr_std': 59.61, 'rmssd': 271.8, 'lf': 1622.15, 'hf': 8195.53, 'LF/HF ratio': 0.2}, {'nni_mean': 438.6, 'hr_mean': 159.47, 'hr_std': 61.64, 'rmssd': 280.48, 'lf': 1936.91, 'hf': 7782.6, 'LF/HF ratio': 0.25}, {'nni_mean': 442.73, 'hr_mean': 158.22, 'hr_std': 61.11, 'rmssd': 265.43, 'lf': 3033.12, 'hf': 9669.09, 'LF/HF ratio': 0.31}]\n",
      "{'breath_avg_len': 3.33, 'inhale_duration': 10.48, 'avg_inhale': 2.1, 'exhale_duration': 9.5, 'avg_exhale': 1.9, 'inhale_exhale_ratio': 1.1}\n",
      "[{'nni_mean': -9.98, 'hr_mean': 160.94, 'hr_std': 67.39, 'rmssd': 2984.08, 'lf': 22664.89, 'hf': 16279.59, 'LF/HF ratio': 1.39}, {'nni_mean': 436.44, 'hr_mean': 158.99, 'hr_std': 59.61, 'rmssd': 271.8, 'lf': 1622.15, 'hf': 8195.53, 'LF/HF ratio': 0.2}, {'nni_mean': 438.6, 'hr_mean': 159.47, 'hr_std': 61.64, 'rmssd': 280.48, 'lf': 1936.91, 'hf': 7782.6, 'LF/HF ratio': 0.25}, {'nni_mean': 442.73, 'hr_mean': 158.22, 'hr_std': 61.11, 'rmssd': 265.43, 'lf': 3033.12, 'hf': 9669.09, 'LF/HF ratio': 0.31}, {'nni_mean': 463.66, 'hr_mean': 153.1, 'hr_std': 61.1, 'rmssd': 276.9, 'lf': 6486.33, 'hf': 8749.01, 'LF/HF ratio': 0.74}]\n",
      "exhale:  1.9\n",
      "{'breath_avg_len': 4.0, 'inhale_duration': 10.69, 'avg_inhale': 2.14, 'exhale_duration': 9.29, 'avg_exhale': 2.32, 'inhale_exhale_ratio': 1.15}\n",
      "[{'nni_mean': 436.44, 'hr_mean': 158.99, 'hr_std': 59.61, 'rmssd': 271.8, 'lf': 1622.15, 'hf': 8195.53, 'LF/HF ratio': 0.2}, {'nni_mean': 438.6, 'hr_mean': 159.47, 'hr_std': 61.64, 'rmssd': 280.48, 'lf': 1936.91, 'hf': 7782.6, 'LF/HF ratio': 0.25}, {'nni_mean': 442.73, 'hr_mean': 158.22, 'hr_std': 61.11, 'rmssd': 265.43, 'lf': 3033.12, 'hf': 9669.09, 'LF/HF ratio': 0.31}, {'nni_mean': 463.66, 'hr_mean': 153.1, 'hr_std': 61.1, 'rmssd': 276.9, 'lf': 6486.33, 'hf': 8749.01, 'LF/HF ratio': 0.74}, {'nni_mean': -8.16, 'hr_mean': 154.66, 'hr_std': 66.99, 'rmssd': 3101.15, 'lf': 33867.37, 'hf': 27213.82, 'LF/HF ratio': 1.24}]\n",
      "{'breath_avg_len': 4.0, 'inhale_duration': 10.63, 'avg_inhale': 2.13, 'exhale_duration': 9.35, 'avg_exhale': 1.87, 'inhale_exhale_ratio': 1.14}\n",
      "[{'nni_mean': 438.6, 'hr_mean': 159.47, 'hr_std': 61.64, 'rmssd': 280.48, 'lf': 1936.91, 'hf': 7782.6, 'LF/HF ratio': 0.25}, {'nni_mean': 442.73, 'hr_mean': 158.22, 'hr_std': 61.11, 'rmssd': 265.43, 'lf': 3033.12, 'hf': 9669.09, 'LF/HF ratio': 0.31}, {'nni_mean': 463.66, 'hr_mean': 153.1, 'hr_std': 61.1, 'rmssd': 276.9, 'lf': 6486.33, 'hf': 8749.01, 'LF/HF ratio': 0.74}, {'nni_mean': -8.16, 'hr_mean': 154.66, 'hr_std': 66.99, 'rmssd': 3101.15, 'lf': 33867.37, 'hf': 27213.82, 'LF/HF ratio': 1.24}, {'nni_mean': 519.71, 'hr_mean': 144.53, 'hr_std': 66.72, 'rmssd': 396.71, 'lf': 18431.29, 'hf': 28998.51, 'LF/HF ratio': 0.64}]\n",
      "{'breath_avg_len': 4.0, 'inhale_duration': 9.61, 'avg_inhale': 2.4, 'exhale_duration': 10.37, 'avg_exhale': 2.07, 'inhale_exhale_ratio': 0.93}\n",
      "[{'nni_mean': 442.73, 'hr_mean': 158.22, 'hr_std': 61.11, 'rmssd': 265.43, 'lf': 3033.12, 'hf': 9669.09, 'LF/HF ratio': 0.31}, {'nni_mean': 463.66, 'hr_mean': 153.1, 'hr_std': 61.1, 'rmssd': 276.9, 'lf': 6486.33, 'hf': 8749.01, 'LF/HF ratio': 0.74}, {'nni_mean': -8.16, 'hr_mean': 154.66, 'hr_std': 66.99, 'rmssd': 3101.15, 'lf': 33867.37, 'hf': 27213.82, 'LF/HF ratio': 1.24}, {'nni_mean': 519.71, 'hr_mean': 144.53, 'hr_std': 66.72, 'rmssd': 396.71, 'lf': 18431.29, 'hf': 28998.51, 'LF/HF ratio': 0.64}, {'nni_mean': 512.22, 'hr_mean': 146.59, 'hr_std': 67.37, 'rmssd': 391.4, 'lf': 18717.38, 'hf': 31928.05, 'LF/HF ratio': 0.59}]\n",
      "{'breath_avg_len': 4.0, 'inhale_duration': 9.54, 'avg_inhale': 1.91, 'exhale_duration': 10.44, 'avg_exhale': 2.09, 'inhale_exhale_ratio': 0.91}\n",
      "[{'nni_mean': 463.66, 'hr_mean': 153.1, 'hr_std': 61.1, 'rmssd': 276.9, 'lf': 6486.33, 'hf': 8749.01, 'LF/HF ratio': 0.74}, {'nni_mean': -8.16, 'hr_mean': 154.66, 'hr_std': 66.99, 'rmssd': 3101.15, 'lf': 33867.37, 'hf': 27213.82, 'LF/HF ratio': 1.24}, {'nni_mean': 519.71, 'hr_mean': 144.53, 'hr_std': 66.72, 'rmssd': 396.71, 'lf': 18431.29, 'hf': 28998.51, 'LF/HF ratio': 0.64}, {'nni_mean': 512.22, 'hr_mean': 146.59, 'hr_std': 67.37, 'rmssd': 391.4, 'lf': 18717.38, 'hf': 31928.05, 'LF/HF ratio': 0.59}, {'nni_mean': -20.2, 'hr_mean': 160.09, 'hr_std': 67.44, 'rmssd': 3039.96, 'lf': 43086.74, 'hf': 21667.49, 'LF/HF ratio': 1.99}]\n",
      "{'breath_avg_len': 4.0, 'inhale_duration': 9.45, 'avg_inhale': 2.36, 'exhale_duration': 10.53, 'avg_exhale': 2.11, 'inhale_exhale_ratio': 0.9}\n",
      "inhale:  2.36\n",
      "[{'nni_mean': -8.16, 'hr_mean': 154.66, 'hr_std': 66.99, 'rmssd': 3101.15, 'lf': 33867.37, 'hf': 27213.82, 'LF/HF ratio': 1.24}, {'nni_mean': 519.71, 'hr_mean': 144.53, 'hr_std': 66.72, 'rmssd': 396.71, 'lf': 18431.29, 'hf': 28998.51, 'LF/HF ratio': 0.64}, {'nni_mean': 512.22, 'hr_mean': 146.59, 'hr_std': 67.37, 'rmssd': 391.4, 'lf': 18717.38, 'hf': 31928.05, 'LF/HF ratio': 0.59}, {'nni_mean': -20.2, 'hr_mean': 160.09, 'hr_std': 67.44, 'rmssd': 3039.96, 'lf': 43086.74, 'hf': 21667.49, 'LF/HF ratio': 1.99}, {'nni_mean': 444.19, 'hr_mean': 158.58, 'hr_std': 62.09, 'rmssd': 278.89, 'lf': 6387.93, 'hf': 7025.83, 'LF/HF ratio': 0.91}]\n"
     ]
    },
    {
     "name": "stdout",
     "output_type": "stream",
     "text": [
      "{'breath_avg_len': 3.33, 'inhale_duration': 9.77, 'avg_inhale': 1.95, 'exhale_duration': 10.21, 'avg_exhale': 2.04, 'inhale_exhale_ratio': 0.96}\n",
      "[{'nni_mean': 519.71, 'hr_mean': 144.53, 'hr_std': 66.72, 'rmssd': 396.71, 'lf': 18431.29, 'hf': 28998.51, 'LF/HF ratio': 0.64}, {'nni_mean': 512.22, 'hr_mean': 146.59, 'hr_std': 67.37, 'rmssd': 391.4, 'lf': 18717.38, 'hf': 31928.05, 'LF/HF ratio': 0.59}, {'nni_mean': -20.2, 'hr_mean': 160.09, 'hr_std': 67.44, 'rmssd': 3039.96, 'lf': 43086.74, 'hf': 21667.49, 'LF/HF ratio': 1.99}, {'nni_mean': 444.19, 'hr_mean': 158.58, 'hr_std': 62.09, 'rmssd': 278.89, 'lf': 6387.93, 'hf': 7025.83, 'LF/HF ratio': 0.91}, {'nni_mean': -8.02, 'hr_mean': 160.69, 'hr_std': 67.05, 'rmssd': 2969.28, 'lf': 13992.5, 'hf': 12487.07, 'LF/HF ratio': 1.12}]\n",
      "{'breath_avg_len': 3.33, 'inhale_duration': 10.93, 'avg_inhale': 2.19, 'exhale_duration': 9.05, 'avg_exhale': 1.81, 'inhale_exhale_ratio': 1.21}\n",
      "[{'nni_mean': 512.22, 'hr_mean': 146.59, 'hr_std': 67.37, 'rmssd': 391.4, 'lf': 18717.38, 'hf': 31928.05, 'LF/HF ratio': 0.59}, {'nni_mean': -20.2, 'hr_mean': 160.09, 'hr_std': 67.44, 'rmssd': 3039.96, 'lf': 43086.74, 'hf': 21667.49, 'LF/HF ratio': 1.99}, {'nni_mean': 444.19, 'hr_mean': 158.58, 'hr_std': 62.09, 'rmssd': 278.89, 'lf': 6387.93, 'hf': 7025.83, 'LF/HF ratio': 0.91}, {'nni_mean': -8.02, 'hr_mean': 160.69, 'hr_std': 67.05, 'rmssd': 2969.28, 'lf': 13992.5, 'hf': 12487.07, 'LF/HF ratio': 1.12}, {'nni_mean': 433.56, 'hr_mean': 161.32, 'hr_std': 60.22, 'rmssd': 279.18, 'lf': 6953.51, 'hf': 5861.32, 'LF/HF ratio': 1.19}]\n",
      "{'breath_avg_len': 4.0, 'inhale_duration': 10.71, 'avg_inhale': 2.14, 'exhale_duration': 9.27, 'avg_exhale': 2.32, 'inhale_exhale_ratio': 1.16}\n",
      "[{'nni_mean': -20.2, 'hr_mean': 160.09, 'hr_std': 67.44, 'rmssd': 3039.96, 'lf': 43086.74, 'hf': 21667.49, 'LF/HF ratio': 1.99}, {'nni_mean': 444.19, 'hr_mean': 158.58, 'hr_std': 62.09, 'rmssd': 278.89, 'lf': 6387.93, 'hf': 7025.83, 'LF/HF ratio': 0.91}, {'nni_mean': -8.02, 'hr_mean': 160.69, 'hr_std': 67.05, 'rmssd': 2969.28, 'lf': 13992.5, 'hf': 12487.07, 'LF/HF ratio': 1.12}, {'nni_mean': 433.56, 'hr_mean': 161.32, 'hr_std': 60.22, 'rmssd': 279.18, 'lf': 6953.51, 'hf': 5861.32, 'LF/HF ratio': 1.19}, {'nni_mean': 418.41, 'hr_mean': 166.25, 'hr_std': 60.36, 'rmssd': 265.72, 'lf': 8331.77, 'hf': 5171.92, 'LF/HF ratio': 1.61}]\n",
      "{'breath_avg_len': 4.0, 'inhale_duration': 10.84, 'avg_inhale': 2.17, 'exhale_duration': 9.14, 'avg_exhale': 1.83, 'inhale_exhale_ratio': 1.19}\n",
      "[{'nni_mean': 444.19, 'hr_mean': 158.58, 'hr_std': 62.09, 'rmssd': 278.89, 'lf': 6387.93, 'hf': 7025.83, 'LF/HF ratio': 0.91}, {'nni_mean': -8.02, 'hr_mean': 160.69, 'hr_std': 67.05, 'rmssd': 2969.28, 'lf': 13992.5, 'hf': 12487.07, 'LF/HF ratio': 1.12}, {'nni_mean': 433.56, 'hr_mean': 161.32, 'hr_std': 60.22, 'rmssd': 279.18, 'lf': 6953.51, 'hf': 5861.32, 'LF/HF ratio': 1.19}, {'nni_mean': 418.41, 'hr_mean': 166.25, 'hr_std': 60.36, 'rmssd': 265.72, 'lf': 8331.77, 'hf': 5171.92, 'LF/HF ratio': 1.61}, {'nni_mean': 424.89, 'hr_mean': 164.43, 'hr_std': 60.9, 'rmssd': 272.07, 'lf': 8342.74, 'hf': 4970.0, 'LF/HF ratio': 1.68}]\n",
      "{'breath_avg_len': 4.0, 'inhale_duration': 10.23, 'avg_inhale': 2.05, 'exhale_duration': 9.75, 'avg_exhale': 1.95, 'inhale_exhale_ratio': 1.05}\n",
      "[{'nni_mean': -8.02, 'hr_mean': 160.69, 'hr_std': 67.05, 'rmssd': 2969.28, 'lf': 13992.5, 'hf': 12487.07, 'LF/HF ratio': 1.12}, {'nni_mean': 433.56, 'hr_mean': 161.32, 'hr_std': 60.22, 'rmssd': 279.18, 'lf': 6953.51, 'hf': 5861.32, 'LF/HF ratio': 1.19}, {'nni_mean': 418.41, 'hr_mean': 166.25, 'hr_std': 60.36, 'rmssd': 265.72, 'lf': 8331.77, 'hf': 5171.92, 'LF/HF ratio': 1.61}, {'nni_mean': 424.89, 'hr_mean': 164.43, 'hr_std': 60.9, 'rmssd': 272.07, 'lf': 8342.74, 'hf': 4970.0, 'LF/HF ratio': 1.68}, {'nni_mean': -6.87, 'hr_mean': 159.25, 'hr_std': 67.25, 'rmssd': 3023.1, 'lf': 24615.36, 'hf': 23594.39, 'LF/HF ratio': 1.04}]\n",
      "exhale:  1.95\n",
      "{'breath_avg_len': 4.0, 'inhale_duration': 9.87, 'avg_inhale': 1.97, 'exhale_duration': 10.11, 'avg_exhale': 2.02, 'inhale_exhale_ratio': 0.98}\n",
      "[{'nni_mean': 433.56, 'hr_mean': 161.32, 'hr_std': 60.22, 'rmssd': 279.18, 'lf': 6953.51, 'hf': 5861.32, 'LF/HF ratio': 1.19}, {'nni_mean': 418.41, 'hr_mean': 166.25, 'hr_std': 60.36, 'rmssd': 265.72, 'lf': 8331.77, 'hf': 5171.92, 'LF/HF ratio': 1.61}, {'nni_mean': 424.89, 'hr_mean': 164.43, 'hr_std': 60.9, 'rmssd': 272.07, 'lf': 8342.74, 'hf': 4970.0, 'LF/HF ratio': 1.68}, {'nni_mean': -6.87, 'hr_mean': 159.25, 'hr_std': 67.25, 'rmssd': 3023.1, 'lf': 24615.36, 'hf': 23594.39, 'LF/HF ratio': 1.04}, {'nni_mean': 510.0, 'hr_mean': 151.11, 'hr_std': 72.02, 'rmssd': 405.41, 'lf': 12528.2, 'hf': 50576.07, 'LF/HF ratio': 0.25}]\n",
      "{'breath_avg_len': 4.0, 'inhale_duration': 9.55, 'avg_inhale': 1.91, 'exhale_duration': 10.43, 'avg_exhale': 2.09, 'inhale_exhale_ratio': 0.92}\n",
      "[{'nni_mean': 418.41, 'hr_mean': 166.25, 'hr_std': 60.36, 'rmssd': 265.72, 'lf': 8331.77, 'hf': 5171.92, 'LF/HF ratio': 1.61}, {'nni_mean': 424.89, 'hr_mean': 164.43, 'hr_std': 60.9, 'rmssd': 272.07, 'lf': 8342.74, 'hf': 4970.0, 'LF/HF ratio': 1.68}, {'nni_mean': -6.87, 'hr_mean': 159.25, 'hr_std': 67.25, 'rmssd': 3023.1, 'lf': 24615.36, 'hf': 23594.39, 'LF/HF ratio': 1.04}, {'nni_mean': 510.0, 'hr_mean': 151.11, 'hr_std': 72.02, 'rmssd': 405.41, 'lf': 12528.2, 'hf': 50576.07, 'LF/HF ratio': 0.25}, {'nni_mean': 420.22, 'hr_mean': 168.32, 'hr_std': 64.29, 'rmssd': 280.02, 'lf': 8200.02, 'hf': 4101.26, 'LF/HF ratio': 2.0}]\n",
      "{'breath_avg_len': 4.0, 'inhale_duration': 9.26, 'avg_inhale': 2.32, 'exhale_duration': 10.72, 'avg_exhale': 2.14, 'inhale_exhale_ratio': 0.86}\n",
      "[{'nni_mean': 424.89, 'hr_mean': 164.43, 'hr_std': 60.9, 'rmssd': 272.07, 'lf': 8342.74, 'hf': 4970.0, 'LF/HF ratio': 1.68}, {'nni_mean': -6.87, 'hr_mean': 159.25, 'hr_std': 67.25, 'rmssd': 3023.1, 'lf': 24615.36, 'hf': 23594.39, 'LF/HF ratio': 1.04}, {'nni_mean': 510.0, 'hr_mean': 151.11, 'hr_std': 72.02, 'rmssd': 405.41, 'lf': 12528.2, 'hf': 50576.07, 'LF/HF ratio': 0.25}, {'nni_mean': 420.22, 'hr_mean': 168.32, 'hr_std': 64.29, 'rmssd': 280.02, 'lf': 8200.02, 'hf': 4101.26, 'LF/HF ratio': 2.0}, {'nni_mean': 398.78, 'hr_mean': 176.56, 'hr_std': 64.22, 'rmssd': 259.72, 'lf': 9216.34, 'hf': 4017.67, 'LF/HF ratio': 2.29}]\n",
      "{'breath_avg_len': 4.0, 'inhale_duration': 9.76, 'avg_inhale': 2.44, 'exhale_duration': 10.22, 'avg_exhale': 2.04, 'inhale_exhale_ratio': 0.95}\n",
      "[{'nni_mean': -6.87, 'hr_mean': 159.25, 'hr_std': 67.25, 'rmssd': 3023.1, 'lf': 24615.36, 'hf': 23594.39, 'LF/HF ratio': 1.04}, {'nni_mean': 510.0, 'hr_mean': 151.11, 'hr_std': 72.02, 'rmssd': 405.41, 'lf': 12528.2, 'hf': 50576.07, 'LF/HF ratio': 0.25}, {'nni_mean': 420.22, 'hr_mean': 168.32, 'hr_std': 64.29, 'rmssd': 280.02, 'lf': 8200.02, 'hf': 4101.26, 'LF/HF ratio': 2.0}, {'nni_mean': 398.78, 'hr_mean': 176.56, 'hr_std': 64.22, 'rmssd': 259.72, 'lf': 9216.34, 'hf': 4017.67, 'LF/HF ratio': 2.29}, {'nni_mean': -8.78, 'hr_mean': 174.62, 'hr_std': 67.49, 'rmssd': 2862.44, 'lf': 41104.79, 'hf': 18660.02, 'LF/HF ratio': 2.2}]\n",
      "{'breath_avg_len': 4.0, 'inhale_duration': 10.51, 'avg_inhale': 2.1, 'exhale_duration': 9.47, 'avg_exhale': 2.37, 'inhale_exhale_ratio': 1.11}\n"
     ]
    },
    {
     "name": "stderr",
     "output_type": "stream",
     "text": [
      "Exception in thread Thread-6181:\n",
      "Traceback (most recent call last):\n",
      "  File \"/Users/annkatrin/opt/anaconda3/lib/python3.7/threading.py\", line 926, in _bootstrap_inner\n",
      "    self.run()\n",
      "  File \"/Users/annkatrin/opt/anaconda3/lib/python3.7/threading.py\", line 1178, in run\n",
      "    self.function(*self.args, **self.kwargs)\n",
      "  File \"/Users/annkatrin/Documents/Uni/Master/KTH/Master Project/biofeatures/notebooks/biofeatures.py\", line 265, in update_loop\n",
      "    self.update_timer.start()\n",
      "  File \"/Users/annkatrin/opt/anaconda3/lib/python3.7/threading.py\", line 848, in start\n",
      "    raise RuntimeError(\"threads can only be started once\")\n",
      "RuntimeError: threads can only be started once\n",
      "\n"
     ]
    }
   ],
   "source": [
    "# Definitions\n",
    "bitalino_ip = '192.168.0.100'\n",
    "bitalino_port = 8000\n",
    "\n",
    "riot_ip = \"192.168.0.102\"\n",
    "riot_port = 31000 \n",
    "\n",
    "# riot_ip = \"192.168.1.40\"\n",
    "# riot_port = 12000 \n",
    "\n",
    "#actuator_ip = '192.168.0.110'\n",
    "actuator_ip = '192.168.0.100'\n",
    "actuator_port = 32000\n",
    "\n",
    "riot_address = \"/raw/\"\n",
    "bitalino_address = \"/0/bitalino\"\n",
    "\n",
    "\n",
    "# Configuration \n",
    "config_address = bitalino_address\n",
    "config_ip = bitalino_ip\n",
    "config_port = bitalino_port\n",
    "\n",
    "osc_client = SimpleUDPClient(actuator_ip, actuator_port) \n",
    "\n",
    "actuation_flag = True\n",
    "\n",
    "ecg_data = []\n",
    "resp_data = []\n",
    "\n",
    "B = biofeatures.breathing(data = np.ones(10), buffer_length=2000, srate=100)\n",
    "HRV = biofeatures.hrv(data = np.ones(10), buffer_length=2000, srate=100)\n",
    "\n",
    "my_dispatcher = dispatcher.Dispatcher()\n",
    "my_dispatcher.map(config_address, data_handler, B, HRV)\n",
    "\n",
    "server = osc_server.ThreadingOSCUDPServer((config_ip, config_port), my_dispatcher)\n",
    "print(\"Serving on {}\".format(server.server_address))\n",
    "\n",
    "# Warmup\n",
    "warmup_t = 10\n",
    "timer_warmup = threading.Timer(warmup_t, warmup, [B,resp_data,HRV,ecg_data])\n",
    "timer_warmup.start()\n",
    "\n",
    "try: \n",
    "    server.serve_forever()\n",
    "except KeyboardInterrupt:\n",
    "    B.update_data_flag = False\n",
    "    HRV.update_data_flag = False\n",
    "    actuation_flag = False\n",
    "    server.server_close()\n",
    "    osc_client.send_message(\"/actuator/1/inflate\", 0.0)\n",
    "    osc_client.send_message(\"/actuator/2/inflate\", 0.0)\n",
    "except:\n",
    "    raise"
   ]
  },
  {
   "cell_type": "code",
   "execution_count": 40,
   "metadata": {},
   "outputs": [],
   "source": [
    "from pythonosc import dispatcher, osc_server\n",
    "from pythonosc.udp_client import SimpleUDPClient\n",
    "import biofeatures\n",
    "import time\n",
    "\n",
    "actuator_ip = '192.168.0.100'\n",
    "actuator_port = 32000\n",
    "\n",
    "osc_client = SimpleUDPClient(actuator_ip, actuator_port) \n",
    "osc_client.send_message(\"/actuator/1/inflate\", 0.0)\n",
    "osc_client.send_message(\"/actuator/2/inflate\", 0.0)\n",
    "\n"
   ]
  },
  {
   "cell_type": "code",
   "execution_count": 42,
   "metadata": {},
   "outputs": [],
   "source": [
    "deflate(\"1\", 5)\n",
    "deflate(\"2\", 5)"
   ]
  },
  {
   "cell_type": "code",
   "execution_count": null,
   "metadata": {},
   "outputs": [],
   "source": [
    "warmup_inflate(\"1\", 3)\n",
    "warmup_inflate(\"2\", 3)"
   ]
  },
  {
   "cell_type": "code",
   "execution_count": null,
   "metadata": {},
   "outputs": [],
   "source": [
    "actuation_flag = True\n",
    "\n",
    "pulsating(\"1\", True)"
   ]
  },
  {
   "cell_type": "code",
   "execution_count": null,
   "metadata": {},
   "outputs": [],
   "source": [
    "actuation_flag = False"
   ]
  },
  {
   "cell_type": "code",
   "execution_count": null,
   "metadata": {},
   "outputs": [],
   "source": [
    "osc_client.send_message(\"/actuator/1/inflate\", 0.0)"
   ]
  },
  {
   "cell_type": "code",
   "execution_count": null,
   "metadata": {},
   "outputs": [],
   "source": [
    "print(\"hi\")"
   ]
  },
  {
   "cell_type": "code",
   "execution_count": 21,
   "metadata": {},
   "outputs": [],
   "source": [
    "deflate(\"2\", 2)\n",
    "\n"
   ]
  },
  {
   "cell_type": "code",
   "execution_count": 20,
   "metadata": {},
   "outputs": [],
   "source": [
    "deflate(\"1\", 2)\n",
    "\n"
   ]
  },
  {
   "cell_type": "code",
   "execution_count": 22,
   "metadata": {},
   "outputs": [
    {
     "data": {
      "text/plain": [
       "{'breath_avg_len': 2.85,\n",
       " 'inhale_duration': 10.58,\n",
       " 'avg_inhale': 1.76,\n",
       " 'exhale_duration': 9.4,\n",
       " 'avg_exhale': 1.57,\n",
       " 'inhale_exhale_ratio': 1.13}"
      ]
     },
     "execution_count": 22,
     "metadata": {},
     "output_type": "execute_result"
    }
   ],
   "source": [
    "B.features"
   ]
  },
  {
   "cell_type": "code",
   "execution_count": 23,
   "metadata": {},
   "outputs": [
    {
     "name": "stdout",
     "output_type": "stream",
     "text": [
      "inhale:  3\n",
      "exhale:  3\n",
      "inhale:  3\n",
      "exhale:  3\n",
      "inhale:  3\n",
      "exhale:  3\n",
      "inhale:  3\n",
      "exhale:  3\n",
      "inhale:  3\n",
      "exhale:  3\n",
      "inhale:  3\n",
      "exhale:  3\n",
      "inhale:  3\n"
     ]
    }
   ],
   "source": [
    "actuation_flag = True\n",
    "\n",
    "timer_actuation1 = threading.Timer(0.1, async_intervals, [\"1\", \"2\", 3, 3, True] )\n",
    "timer_actuation1.start()\n",
    "\n"
   ]
  },
  {
   "cell_type": "code",
   "execution_count": 24,
   "metadata": {},
   "outputs": [],
   "source": [
    "actuation_flag = False"
   ]
  },
  {
   "cell_type": "code",
   "execution_count": null,
   "metadata": {},
   "outputs": [],
   "source": []
  }
 ],
 "metadata": {
  "kernelspec": {
   "display_name": "Python 3",
   "language": "python",
   "name": "python3"
  },
  "language_info": {
   "codemirror_mode": {
    "name": "ipython",
    "version": 3
   },
   "file_extension": ".py",
   "mimetype": "text/x-python",
   "name": "python",
   "nbconvert_exporter": "python",
   "pygments_lexer": "ipython3",
   "version": "3.7.4"
  }
 },
 "nbformat": 4,
 "nbformat_minor": 2
}
