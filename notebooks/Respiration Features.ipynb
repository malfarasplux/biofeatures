{
 "cells": [
  {
   "cell_type": "code",
   "execution_count": 1,
   "metadata": {},
   "outputs": [],
   "source": [
    "import biosppy.signals.resp as resp\n",
    "import numpy as np\n",
    "import csv as csv\n",
    "import json    \n",
    "import matplotlib.pyplot as plt\n",
    "\n",
    "\n",
    "def calc_resp_intervals(data, last_breath = False):\n",
    "    processed_data = resp.resp(signal=data, sampling_rate=200, show=False)\n",
    "    filtered_signal = processed_data[1]\n",
    "    inst_resp_rate = processed_data[4]\n",
    "    \n",
    "    signal_diff = np.diff(filtered_signal)\n",
    "    signal_signum = signal_diff > 0\n",
    "    \n",
    "    resp_changes = np.append(np.where(signal_signum[:-1] != signal_signum[1:])[0], [len(signal_signum) - 1])\n",
    "    \n",
    "    if not last_breath:\n",
    "        resp_intervals = np.append([0], resp_changes)\n",
    "    \n",
    "        interval_lengths = np.diff(resp_intervals)\n",
    "    \n",
    "        interval_breathe_in = [signal_signum[i] for i in resp_changes]\n",
    "        \n",
    "        return interval_lengths, interval_breathe_in\n",
    "    \n",
    "    else:\n",
    "        last_interval = resp_changes[-1] - resp_changes[-2]\n",
    "        \n",
    "        return last_interval, signal_signum[resp_changes[-1]]\n",
    "        "
   ]
  },
  {
   "cell_type": "code",
   "execution_count": 6,
   "metadata": {},
   "outputs": [],
   "source": [
    "# resp_intervals: length of inhalation/exhalation in samples\n",
    "# is_inhalation: True -> inhale, False: exhale\n",
    "def resp_features(resp_intervals, is_inhalation, samplingRate):\n",
    "    \n",
    "    # calculate the average breath length in s\n",
    "    breath_lengths = []\n",
    "    i = 0\n",
    "\n",
    "    while i < len(resp_intervals) - 1:\n",
    "        if not is_inhalation[i]:\n",
    "            i = i + 1\n",
    "        else:\n",
    "            breath_lengths.append(resp_intervals[i] + resp_intervals[i + 1])\n",
    "            i = i + 2\n",
    "    \n",
    "    avg_breath = np.average(breath_lengths) / samplingRate\n",
    "    \n",
    "    # calculate the inhalation/exhalation ratio\n",
    "    breathe_in_len = 0\n",
    "    breathe_out_len = 0\n",
    "    \n",
    "    for i in range(len(interval_lengths)):\n",
    "        if interval_breathe_in[i]:\n",
    "            breathe_in_len += interval_lengths[i]\n",
    "        else:\n",
    "            breathe_out_len += interval_lengths[i]\n",
    "            \n",
    "    in_out_ratio = breathe_in_len/breathe_out_len\n",
    "    inhale_dur = round(breathe_in_len / samplingRate,2)\n",
    "    exhale_dur = round(breathe_out_len / samplingRate,2)\n",
    "    \n",
    "    print(len(is_inhalation))\n",
    "    print(len(interval_lengths))\n",
    "\n",
    "    features = {'breath_avg_len': round(avg_breath,2),\n",
    "                    'inhale_duration': inhale_dur,\n",
    "                    'avg_inhale': round(inhale_dur / len([x for x in is_inhalation if x]),2),\n",
    "                    'exhale_duration': exhale_dur,\n",
    "                    'avg_exhale': round(exhale_dur / len([x for x in is_inhalation if not x]),2),\n",
    "                    'inhale_exhale_ratio': round(in_out_ratio,2)}\n",
    "    \n",
    "    return features\n",
    "    "
   ]
  },
  {
   "cell_type": "code",
   "execution_count": 3,
   "metadata": {},
   "outputs": [],
   "source": [
    "fname = '../riot_rip_acquisition/ak/opensignals_192.168.1.1008888_2020-02-05_11-54-42.txt'\n",
    "data = np.genfromtxt(fname)\n",
    "col_num  = 5\n",
    "ripdata = data[:,col_num]"
   ]
  },
  {
   "cell_type": "code",
   "execution_count": 7,
   "metadata": {},
   "outputs": [
    {
     "name": "stdout",
     "output_type": "stream",
     "text": [
      "137\n",
      "137\n"
     ]
    }
   ],
   "source": [
    "interval_lengths, interval_breathe_in = calc_resp_intervals(ripdata)\n",
    "\n",
    "resp_features = resp_features(interval_lengths, interval_breathe_in, 200)"
   ]
  },
  {
   "cell_type": "code",
   "execution_count": 5,
   "metadata": {},
   "outputs": [
    {
     "data": {
      "text/plain": [
       "{'breath_avg_len': 3.53,\n",
       " 'inhale_duration': 124.88,\n",
       " 'avg_inhale': 1.81,\n",
       " 'exhale_duration': 115.86,\n",
       " 'avg_exhale': 1.7,\n",
       " 'inhale_exhale_ratio': 1.08}"
      ]
     },
     "execution_count": 5,
     "metadata": {},
     "output_type": "execute_result"
    }
   ],
   "source": [
    "resp_features"
   ]
  },
  {
   "cell_type": "code",
   "execution_count": 24,
   "metadata": {},
   "outputs": [],
   "source": [
    "processed_data = resp.resp(signal=ripdata, sampling_rate=200, show=False)\n",
    "filtered_signal = processed_data[1]\n",
    "inst_resp_rate = processed_data[4]"
   ]
  },
  {
   "cell_type": "code",
   "execution_count": 25,
   "metadata": {},
   "outputs": [
    {
     "data": {
      "text/plain": [
       "array([0.23739322, 0.24927446, 0.22074754, 0.26236447, 0.26103818,\n",
       "       0.29167506, 0.29444039, 0.26517227, 0.23955856, 0.17846547,\n",
       "       0.18136458, 0.21811408, 0.26594381, 0.28175787, 0.26515607,\n",
       "       0.23312203, 0.25382596, 0.26185535, 0.22860979, 0.20361387,\n",
       "       0.22045449, 0.27197999, 0.30046534, 0.25410667, 0.2365877 ,\n",
       "       0.18198951, 0.20226575, 0.2073747 , 0.24742796, 0.26455505,\n",
       "       0.27309001, 0.26892606, 0.22519127, 0.20782844, 0.17026389,\n",
       "       0.20002441, 0.24827977, 0.29901543, 0.27082099, 0.24501121,\n",
       "       0.21878442, 0.24648493, 0.24107638, 0.27901803, 0.29227384,\n",
       "       0.27981192, 0.23263233, 0.20447697])"
      ]
     },
     "execution_count": 25,
     "metadata": {},
     "output_type": "execute_result"
    }
   ],
   "source": [
    "inst_resp_rate"
   ]
  },
  {
   "cell_type": "code",
   "execution_count": 26,
   "metadata": {
    "scrolled": true
   },
   "outputs": [
    {
     "data": {
      "text/plain": [
       "[<matplotlib.lines.Line2D at 0x1c21120b50>]"
      ]
     },
     "execution_count": 26,
     "metadata": {},
     "output_type": "execute_result"
    },
    {
     "data": {
      "image/png": "[encoded data removed]",
      "text/plain": [
       "<Figure size 432x288 with 1 Axes>"
      ]
     },
     "metadata": {
      "needs_background": "light"
     },
     "output_type": "display_data"
    }
   ],
   "source": [
    "plt.plot(inst_resp_rate)"
   ]
  },
  {
   "cell_type": "code",
   "execution_count": 27,
   "metadata": {},
   "outputs": [
    {
     "data": {
      "text/plain": [
       "0.24341063472790467"
      ]
     },
     "execution_count": 27,
     "metadata": {},
     "output_type": "execute_result"
    }
   ],
   "source": [
    "np.mean(inst_resp_rate) # breaths per second"
   ]
  },
  {
   "cell_type": "code",
   "execution_count": 23,
   "metadata": {},
   "outputs": [
    {
     "data": {
      "text/plain": [
       "0.2834809796769151"
      ]
     },
     "execution_count": 23,
     "metadata": {},
     "output_type": "execute_result"
    }
   ],
   "source": [
    "1 / 3.5275735294117645"
   ]
  },
  {
   "cell_type": "code",
   "execution_count": 12,
   "metadata": {},
   "outputs": [
    {
     "data": {
      "text/plain": [
       "array([251, 405, 439, 434, 440, 331, 345, 247, 149, 386, 379, 274, 310,\n",
       "       294, 268, 344, 358, 498, 335, 275, 277, 350, 239,  86, 444, 588,\n",
       "       663, 418, 776, 385, 320, 184, 280, 333, 285, 279, 193, 291, 342,\n",
       "       309, 182, 271, 310, 247, 333, 401, 390, 382, 587, 390, 418, 325,\n",
       "       225, 195, 189, 302, 378, 350, 386, 774, 238, 175, 151, 132, 378,\n",
       "       370, 377, 339, 325, 359, 388, 278, 206, 302, 362, 338, 223, 232,\n",
       "       413, 458, 350, 205, 281, 328, 241, 261, 500, 403, 359, 457, 438,\n",
       "       363, 278, 366, 453, 347, 330, 341, 313, 114, 422, 478, 741, 430,\n",
       "       495, 547, 779, 356, 359, 339, 232, 281, 473, 323, 252, 271, 358,\n",
       "       358, 384, 450, 551, 367, 293, 414, 386, 285, 220, 216, 272, 349,\n",
       "       333, 363, 705, 446, 452, 384, 173])"
      ]
     },
     "execution_count": 12,
     "metadata": {},
     "output_type": "execute_result"
    }
   ],
   "source": [
    "interval_lengths"
   ]
  },
  {
   "cell_type": "code",
   "execution_count": 17,
   "metadata": {},
   "outputs": [],
   "source": [
    "resp_intervals = interval_lengths\n",
    "is_inhalation = interval_breathe_in\n",
    "breath_lengths = []\n",
    "i = 0\n",
    "\n",
    "while i < len(resp_intervals) - 1:\n",
    "    if not is_inhalation[i]:\n",
    "        i = i + 1\n",
    "    else:\n",
    "        breath_lengths.append(resp_intervals[i] + resp_intervals[i + 1])\n",
    "        i = i + 2"
   ]
  },
  {
   "cell_type": "code",
   "execution_count": null,
   "metadata": {},
   "outputs": [],
   "source": []
  }
 ],
 "metadata": {
  "kernelspec": {
   "display_name": "Python 3",
   "language": "python",
   "name": "python3"
  },
  "language_info": {
   "codemirror_mode": {
    "name": "ipython",
    "version": 3
   },
   "file_extension": ".py",
   "mimetype": "text/x-python",
   "name": "python",
   "nbconvert_exporter": "python",
   "pygments_lexer": "ipython3",
   "version": "3.7.4"
  }
 },
 "nbformat": 4,
 "nbformat_minor": 2
}
