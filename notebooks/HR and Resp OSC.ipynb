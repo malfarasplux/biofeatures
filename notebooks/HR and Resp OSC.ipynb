{
 "cells": [
  {
   "cell_type": "code",
   "execution_count": null,
   "metadata": {},
   "outputs": [],
   "source": [
    "from pythonosc import dispatcher, osc_server\n",
    "from pythonosc.udp_client import SimpleUDPClient\n",
    "import biofeatures\n",
    "import threading\n",
    "import numpy as np"
   ]
  },
  {
   "cell_type": "code",
   "execution_count": null,
   "metadata": {},
   "outputs": [],
   "source": [
    "def data_handler(unused_addr, args, data1, data2, data3, data4, data5, data6):\n",
    "    global ecg_data, resp_data\n",
    "    \n",
    "    B = args[0]\n",
    "    HR = args[1]\n",
    "    \n",
    "    # print(data5) # breathing\n",
    "    # print(data6) # ECG\n",
    "    \n",
    "    ecg_data.append(float(data6))\n",
    "    resp_data.append(float(data5))\n",
    "        \n",
    "    if B.is_warmed_up:\n",
    "        B.set_data(resp_data[-B.buffer_length:])\n",
    "    \n",
    "    if HR.is_warmed_up:\n",
    "        HR.set_data(ecg_data[-HR.buffer_length:])\n"
   ]
  },
  {
   "cell_type": "code",
   "execution_count": null,
   "metadata": {},
   "outputs": [],
   "source": [
    "def warmup(B, resp_data, HR, ecg_data):\n",
    "    \"\"\"Function to launch once the system has warmed up.\n",
    "    Sets the  data initially and launches a recursive update of features.\n",
    "    Parameters\n",
    "    ----------\n",
    "    B: object containing breathing data and features\n",
    "    resp_data: respiration signal data to set\n",
    "    HR: object containing ECG data and features\n",
    "    ecg_data: ecg signal data to set\n",
    "    \"\"\"\n",
    "    \n",
    "    if not B.is_warmed_up:\n",
    "        print(\"Breathing WARMUP\")\n",
    "        B.set_data(resp_data[-B.buffer_length:])\n",
    "        B.is_warmed_up = True\n",
    "        B.update_loop()\n",
    "        \n",
    "    if not HR.is_warmed_up:\n",
    "        print(\"ECG WARMUP\")\n",
    "        HR.set_data(ecg_data[-HR.buffer_length:])\n",
    "        HR.is_warmed_up = True\n",
    "        HR.update_loop()"
   ]
  },
  {
   "cell_type": "code",
   "execution_count": null,
   "metadata": {},
   "outputs": [],
   "source": [
    "ip = \"127.0.0.1\"\n",
    "port = 8000\n",
    "\n",
    "ecg_data = []\n",
    "resp_data = []\n",
    "\n",
    "B = biofeatures.breathing(data = np.ones(10), buffer_length=1000)\n",
    "HRV = biofeatures.hrv(data = np.ones(10), buffer_length=1000)\n",
    "\n",
    "dispatcher = dispatcher.Dispatcher()\n",
    "dispatcher.map(\"/0/bitalino\", data_handler, B, HRV)\n",
    "\n",
    "server = osc_server.ThreadingOSCUDPServer((ip, port), dispatcher)\n",
    "print(\"Serving on {}\".format(server.server_address))\n",
    "\n",
    "# Warmup\n",
    "warmup_t = 10\n",
    "timer_warmup = threading.Timer(warmup_t, warmup, [B,resp_data,HRV,ecg_data])\n",
    "timer_warmup.start()\n",
    "\n",
    "try: \n",
    "    server.serve_forever()\n",
    "except KeyboardInterrupt:\n",
    "    B.update_data_flag = False\n",
    "    HR.update_data_flag = False\n",
    "except:\n",
    "    raise"
   ]
  },
  {
   "cell_type": "code",
   "execution_count": null,
   "metadata": {},
   "outputs": [],
   "source": [
    "%matplotlib inline\n",
    "import matplotlib.pyplot as plt\n",
    "\n",
    "plt.plot(ecg_data)"
   ]
  }
 ],
 "metadata": {
  "kernelspec": {
   "display_name": "Python 3",
   "language": "python",
   "name": "python3"
  },
  "language_info": {
   "codemirror_mode": {
    "name": "ipython",
    "version": 3
   },
   "file_extension": ".py",
   "mimetype": "text/x-python",
   "name": "python",
   "nbconvert_exporter": "python",
   "pygments_lexer": "ipython3",
   "version": "3.7.4"
  }
 },
 "nbformat": 4,
 "nbformat_minor": 2
}
