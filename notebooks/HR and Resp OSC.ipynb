{
 "cells": [
  {
   "cell_type": "markdown",
   "metadata": {},
   "source": [
    "### This notebook uses a breathing actuation sequence that computes triggers inflation deflation based upon an average inhale/exhale duration and a scale factor"
   ]
  },
  {
   "cell_type": "code",
   "execution_count": null,
   "metadata": {},
   "outputs": [],
   "source": [
    "from pythonosc import dispatcher, osc_server\n",
    "from pythonosc.udp_client import SimpleUDPClient\n",
    "import biofeatures\n",
    "import threading\n",
    "import numpy as np"
   ]
  },
  {
   "cell_type": "code",
   "execution_count": null,
   "metadata": {},
   "outputs": [],
   "source": [
    "def data_handler(unused_addr, args, data1, data2, data3, data4, data5, data6): #BITalino ServerBIT format\n",
    "# def data_handler(unused_addr, args, values): #R-IoT Node-RED format\n",
    "\n",
    "    global ecg_data, resp_data\n",
    "    global osc_client\n",
    "    \n",
    "    B = args[0]\n",
    "    HR = args[1]\n",
    "    \n",
    "    # print(data5) # breathing\n",
    "    # print(data6) # ECG\n",
    "    \n",
    "    # BITalino ServerBIT\n",
    "    ecg_data.append(float(data6))\n",
    "    resp_data.append(float(data5))\n",
    "\n",
    "    # R-IoT Node-RED\n",
    "#     resp_data.append(np.float(values.split(\"\\t\")[5]))\n",
    "#     ecg_data.append(np.random.rand(1)[0])\n",
    "\n",
    "        \n",
    "    if B.is_warmed_up:\n",
    "        B.set_data(resp_data[-B.buffer_length:])\n",
    "    \n",
    "    if HR.is_warmed_up:\n",
    "        HR.set_data(ecg_data[-HR.buffer_length:])\n",
    "    \n"
   ]
  },
  {
   "cell_type": "code",
   "execution_count": null,
   "metadata": {},
   "outputs": [],
   "source": [
    "def warmup(B, resp_data, HR, ecg_data):\n",
    "    \"\"\"Function to launch once the system has warmed up.\n",
    "    Sets the  data initially and launches a recursive update of features.\n",
    "    Parameters\n",
    "    ----------\n",
    "    B: object containing breathing data and features\n",
    "    resp_data: respiration signal data to set\n",
    "    HR: object containing ECG data and features\n",
    "    ecg_data: ecg signal data to set\n",
    "    \"\"\"\n",
    "    \n",
    "    if not B.is_warmed_up:\n",
    "        print(\"Breathing WARMUP\")\n",
    "        B.set_data(resp_data[-B.buffer_length:])\n",
    "        B.is_warmed_up = True\n",
    "        B.update_loop()\n",
    "        \n",
    "    if not HR.is_warmed_up:\n",
    "        print(\"ECG WARMUP\")\n",
    "        HR.set_data(ecg_data[-HR.buffer_length:])\n",
    "        HR.is_warmed_up = True\n",
    "        HR.update_loop()\n",
    "        \n",
    "    breathing_factor = 1.2\n",
    "    \n",
    "    timer_actuation = threading.Timer(0.1, breathing_actuation, [B, breathing_factor, True] )\n",
    "    timer_actuation.start()"
   ]
  },
  {
   "cell_type": "code",
   "execution_count": null,
   "metadata": {},
   "outputs": [],
   "source": [
    "def breathing_actuation(B, breathing_factor, inflate):\n",
    "    global osc_client\n",
    "    \n",
    "    if not actuation_flag:\n",
    "        return\n",
    "    \n",
    "    if inflate:\n",
    "        print(\"inhale: \", B.features['avg_inhale'])\n",
    "        osc_client.send_message(\"/actuator/inflate\", 100.0)\n",
    "        timer_exhale = threading.Timer(B.features['avg_inhale'] * breathing_factor, breathing_actuation, [B, breathing_factor, False])\n",
    "        timer_exhale.start()\n",
    "\n",
    "    else:\n",
    "        print(\"exhale: \", B.features['avg_exhale'])\n",
    "        osc_client.send_message(\"/actuator/inflate\", -100.0)\n",
    "        timer_inhale = threading.Timer(B.features['avg_exhale'] * breathing_factor, breathing_actuation, [B, breathing_factor, True])\n",
    "        timer_inhale.start()"
   ]
  },
  {
   "cell_type": "markdown",
   "metadata": {},
   "source": [
    "#### Set up configuration: IP (BITalino, R-IoT or Node-RED), port and OSC address pattern"
   ]
  },
  {
   "cell_type": "code",
   "execution_count": null,
   "metadata": {},
   "outputs": [],
   "source": [
    "# Definitions\n",
    "bitalino_ip = \"127.0.0.1\"\n",
    "bitalino_port = 8000\n",
    "\n",
    "riot_ip = \"192.168.0.102\"\n",
    "riot_port = 31000 \n",
    "\n",
    "# riot_ip = \"192.168.1.40\"\n",
    "# riot_port = 12000 \n",
    "\n",
    "actuator_ip = '192.168.0.100'\n",
    "actuator_port = 12000\n",
    "\n",
    "riot_address = \"/raw/\"\n",
    "bitalino_address = \"/0/bitalino\"\n",
    "\n",
    "\n",
    "# Configuration \n",
    "config_address = bitalino_address\n",
    "config_ip = bitalino_ip\n",
    "config_address = bitalino_address\n",
    "\n",
    "osc_client = SimpleUDPClient(actuator_ip, actuator_port) \n",
    "\n",
    "actuation_flag = True\n",
    "\n",
    "ecg_data = []\n",
    "resp_data = []\n",
    "\n",
    "B = biofeatures.breathing(data = np.ones(10), buffer_length=2000, srate=100)\n",
    "HRV = biofeatures.hrv(data = np.ones(10), buffer_length=2000, srate=100)\n",
    "\n",
    "my_dispatcher = dispatcher.Dispatcher()\n",
    "my_dispatcher.map(address, data_handler, B, HRV)\n",
    "\n",
    "server = osc_server.ThreadingOSCUDPServer((config_ip, config_port), my_dispatcher)\n",
    "print(\"Serving on {}\".format(server.server_address))\n",
    "\n",
    "# Warmup\n",
    "warmup_t = 10\n",
    "timer_warmup = threading.Timer(warmup_t, warmup, [B,resp_data,HRV,ecg_data])\n",
    "timer_warmup.start()\n",
    "\n",
    "try: \n",
    "    server.serve_forever()\n",
    "except KeyboardInterrupt:\n",
    "    B.update_data_flag = False\n",
    "    HRV.update_data_flag = False\n",
    "    actuation_flag = False\n",
    "    server.server_close()\n",
    "except:\n",
    "    raise"
   ]
  },
  {
   "cell_type": "code",
   "execution_count": null,
   "metadata": {},
   "outputs": [],
   "source": [
    "%matplotlib inline\n",
    "import matplotlib.pyplot as plt\n",
    "\n",
    "plt.plot(resp_data)"
   ]
  },
  {
   "cell_type": "code",
   "execution_count": null,
   "metadata": {},
   "outputs": [],
   "source": [
    "HRV.current_trends"
   ]
  },
  {
   "cell_type": "code",
   "execution_count": null,
   "metadata": {},
   "outputs": [],
   "source": [
    "B.features['avg_inhale']"
   ]
  },
  {
   "cell_type": "code",
   "execution_count": null,
   "metadata": {},
   "outputs": [],
   "source": [
    "actuator_ip = '192.168.0.101'\n",
    "actuator_port = 12000\n",
    "\n",
    "osc_client = SimpleUDPClient(actuator_ip, actuator_port) \n",
    "osc_client.send_message(\"/actuator/inflate\", 0.0)\n"
   ]
  },
  {
   "cell_type": "code",
   "execution_count": null,
   "metadata": {},
   "outputs": [],
   "source": [
    "server.server_close()"
   ]
  },
  {
   "cell_type": "code",
   "execution_count": null,
   "metadata": {},
   "outputs": [],
   "source": [
    "# server = osc_server.ThreadingOSCUDPServer((bitalino_ip, bitalino_port), dispatcher)\n"
   ]
  },
  {
   "cell_type": "code",
   "execution_count": null,
   "metadata": {},
   "outputs": [],
   "source": []
  }
 ],
 "metadata": {
  "kernelspec": {
   "display_name": "Python 3",
   "language": "python",
   "name": "python3"
  },
  "language_info": {
   "codemirror_mode": {
    "name": "ipython",
    "version": 3
   },
   "file_extension": ".py",
   "mimetype": "text/x-python",
   "name": "python",
   "nbconvert_exporter": "python",
   "pygments_lexer": "ipython3",
   "version": "3.7.1"
  }
 },
 "nbformat": 4,
 "nbformat_minor": 2
}
