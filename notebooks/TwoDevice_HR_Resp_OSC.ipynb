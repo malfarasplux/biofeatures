{
 "cells": [
  {
   "cell_type": "markdown",
   "metadata": {},
   "source": [
    "## Breathing/ECG actuation notebook modified to send data to 2 actuators"
   ]
  },
  {
   "cell_type": "markdown",
   "metadata": {},
   "source": [
    "### This notebook uses a breathing actuation sequence that computes triggers inflation deflation based upon an average inhale/exhale duration and a scale factor"
   ]
  },
  {
   "cell_type": "code",
   "execution_count": null,
   "metadata": {},
   "outputs": [],
   "source": [
    "from pythonosc import dispatcher, osc_server\n",
    "from pythonosc.udp_client import SimpleUDPClient\n",
    "import biofeatures\n",
    "import threading\n",
    "import numpy as np"
   ]
  },
  {
   "cell_type": "code",
   "execution_count": null,
   "metadata": {},
   "outputs": [],
   "source": [
    "def data_handler(unused_addr, args, data1, data2, data3, data4, data5, data6): #BITalino ServerBIT format\n",
    "# def data_handler(unused_addr, args, values): #R-IoT Node-RED format\n",
    "\n",
    "    global ecg_data, resp_data\n",
    "    global osc_client\n",
    "    \n",
    "    B = args[0]\n",
    "    HR = args[1]\n",
    "    \n",
    "    # print(data5) # breathing\n",
    "    # print(data6) # ECG\n",
    "    \n",
    "    # BITalino ServerBIT\n",
    "    ecg_data.append(float(data6))\n",
    "    resp_data.append(float(data5))\n",
    "\n",
    "    # R-IoT Node-RED\n",
    "#     resp_data.append(np.float(values.split(\"\\t\")[5]))\n",
    "#     ecg_data.append(np.random.rand(1)[0])\n",
    "\n",
    "        \n",
    "    if B.is_warmed_up:\n",
    "        B.set_data(resp_data[-B.buffer_length:])\n",
    "    \n",
    "    if HR.is_warmed_up:\n",
    "        HR.set_data(ecg_data[-HR.buffer_length:])\n",
    "    \n"
   ]
  },
  {
   "cell_type": "code",
   "execution_count": null,
   "metadata": {},
   "outputs": [],
   "source": [
    "def warmup(B, resp_data, HR, ecg_data):\n",
    "    \"\"\"Function to launch once the system has warmed up.\n",
    "    Sets the  data initially and launches a recursive update of features.\n",
    "    Parameters\n",
    "    ----------\n",
    "    B: object containing breathing data and features\n",
    "    resp_data: respiration signal data to set\n",
    "    HR: object containing ECG data and features\n",
    "    ecg_data: ecg signal data to set\n",
    "    \"\"\"\n",
    "    \n",
    "    if not B.is_warmed_up:\n",
    "        print(\"Breathing WARMUP\")\n",
    "        B.set_data(resp_data[-B.buffer_length:])\n",
    "        B.is_warmed_up = True\n",
    "        B.update_loop()\n",
    "        \n",
    "    if not HR.is_warmed_up:\n",
    "        print(\"ECG WARMUP\")\n",
    "        HR.set_data(ecg_data[-HR.buffer_length:])\n",
    "        HR.is_warmed_up = True\n",
    "        HR.update_loop()\n",
    "        \n",
    "    breathing_factor = 1.2\n",
    "    \n",
    "    timer_actuation = threading.Timer(0.1, breathing_actuation, [B, breathing_factor, True] )\n",
    "    timer_actuation.start()"
   ]
  },
  {
   "cell_type": "markdown",
   "metadata": {},
   "source": [
    "### Different actuation sequences"
   ]
  },
  {
   "cell_type": "code",
   "execution_count": null,
   "metadata": {},
   "outputs": [],
   "source": [
    "# computes inhale and exhale interval duration as average duration of breath * breathing_factor \n",
    "\n",
    "def breathing_actuation(B, breathing_factor, inflate):\n",
    "    global osc_client, actuation_flag\n",
    "    \n",
    "    if not actuation_flag:\n",
    "        return\n",
    "    \n",
    "    if inflate:\n",
    "        print(\"inhale: \", B.features['avg_inhale'])\n",
    "        osc_client.send_message(\"/actuator/inflate\", 100.0)\n",
    "        timer_exhale = threading.Timer(B.features['avg_inhale'] * breathing_factor, breathing_actuation, [B, breathing_factor, False])\n",
    "        timer_exhale.start()\n",
    "\n",
    "    else:\n",
    "        print(\"exhale: \", B.features['avg_exhale'])\n",
    "        osc_client.send_message(\"/actuator/inflate\", -100.0)\n",
    "        timer_inhale = threading.Timer(B.features['avg_exhale'] * breathing_factor, breathing_actuation, [B, breathing_factor, True])\n",
    "        timer_inhale.start()"
   ]
  },
  {
   "cell_type": "code",
   "execution_count": null,
   "metadata": {},
   "outputs": [],
   "source": [
    "# specify inhale and exhale interval duration in seconds\n",
    "\n",
    "def breathing_intervals(inhale_duration, exhale_duration, inflate):\n",
    "    global osc_client, actuation_flag\n",
    "    \n",
    "    if not actuation_flag:\n",
    "        return\n",
    "    \n",
    "    if inflate:\n",
    "        print(\"inhale: \", inhale_duration)\n",
    "        osc_client.send_message(\"/actuator/inflate\", 100.0)\n",
    "        timer_exhale = threading.Timer(inhale_duration, breathing_intervals, [inhale_duration, exhale_duration, False])\n",
    "        timer_exhale.start()\n",
    "\n",
    "    else:\n",
    "        print(\"exhale: \", exhale_duration)\n",
    "        osc_client.send_message(\"/actuator/inflate\", -100.0)\n",
    "        timer_inhale = threading.Timer(exhale_duration, breathing_intervals, [inhale_duration, exhale_duration, True])\n",
    "        timer_inhale.start()"
   ]
  },
  {
   "cell_type": "code",
   "execution_count": null,
   "metadata": {},
   "outputs": [],
   "source": [
    "# specify duration of one breath in seconds and inhale/exhale ratio in percentage\n",
    "\n",
    "def breathing_ratio(breath_duration, in_ex_ratio, inflate):\n",
    "    global osc_client, actuation_flag\n",
    "    \n",
    "    if not actuation_flag:\n",
    "        return\n",
    "    \n",
    "    if inflate:\n",
    "        interval_length = breath_duration * in_ex_ratio\n",
    "        print(\"inhale: \", interval_length)\n",
    "        osc_client.send_message(\"/actuator/inflate\", 100.0)\n",
    "        timer_exhale = threading.Timer(interval_length, breathing_ratio, [breath_duration, in_ex_ratio, False])\n",
    "        timer_exhale.start()\n",
    "\n",
    "    else:\n",
    "        interval_length = breath_duration * (1 - in_ex_ratio)\n",
    "        print(\"exhale: \", interval_length)\n",
    "        osc_client.send_message(\"/actuator/inflate\", -100.0)\n",
    "        timer_inhale = threading.Timer(interval_length, breathing_ratio, [breath_duration, in_ex_ratio, True])\n",
    "        timer_inhale.start()"
   ]
  },
  {
   "cell_type": "code",
   "execution_count": null,
   "metadata": {},
   "outputs": [],
   "source": [
    "# computes degree of inflation/deflation based on ECG features\n",
    "\n",
    "# TODO: how to compute the inflation/deflation value?\n",
    "\n",
    "def heartrate_actuation(HR, timer_interval):\n",
    "    global osc_client, actuation_flag\n",
    "    \n",
    "    if not actuation_flag:\n",
    "        return\n",
    "    \n",
    "    current_trend = HR.current_trends[\"hr_mean\"]\n",
    "    #current_trend = HR.current_trends[\"rmssd\"]\n",
    "    #current_trend = HR.current_trends[\"LF/HF ratio\"]\n",
    "    \n",
    "    current_feature = HR.features[-1][\"hr_mean\"]\n",
    "    #current_feature = HR.features[-1][\"rmssd\"]\n",
    "    #current_feature = HR.features[-1][\"LF/HF ratio\"]\n",
    "    \n",
    "    if current_trend > 0:\n",
    "        print(\"inhale: \", B.features['avg_inhale'])\n",
    "        \n",
    "        # Single device\n",
    "        #osc_client.send_message(\"/actuator/inflate\", current_trend * 1000/current_feature)\n",
    "#         osc_client.send_message(\"/actuator/inflate\", 100.0)       \n",
    "        \n",
    "        # Two device        \n",
    "        osc_client.send_message(\"/actuator/dev1/inflate\", 100.0)\n",
    "        osc_client.send_message(\"/actuator/dev2/inflate\", 100.0)\n",
    "        \n",
    "        timer_exhale = threading.Timer(timer_interval, heartrate_actuation, [HR, timer_interval])\n",
    "        timer_exhale.start()\n",
    "\n",
    "    else:\n",
    "        print(\"exhale: \", B.features['avg_exhale'])\n",
    "        \n",
    "        # Single device\n",
    "        #osc_client.send_message(\"/actuator/inflate\", current_trend * 1000/current_feature)\n",
    "#         osc_client.send_message(\"/actuator/inflate\", -100.0)\n",
    "\n",
    "        # Two device\n",
    "        osc_client.send_message(\"/actuator/dev1/inflate\", -100.0)\n",
    "        osc_client.send_message(\"/actuator/dev2/inflate\", -100.0)\n",
    "        \n",
    "        timer_inhale = threading.Timer(timer_interval, heartrate_actuation, [HR, timer_interval])\n",
    "        timer_inhale.start()"
   ]
  },
  {
   "cell_type": "markdown",
   "metadata": {},
   "source": [
    "#### Set up configuration: IP (BITalino, R-IoT or Node-RED), port and OSC address pattern"
   ]
  },
  {
   "cell_type": "code",
   "execution_count": null,
   "metadata": {},
   "outputs": [],
   "source": [
    "# Definitions\n",
    "bitalino_ip = \"127.0.0.1\"\n",
    "bitalino_port = 8000\n",
    "\n",
    "riot_ip = \"192.168.0.102\"\n",
    "riot_port = 31000 \n",
    "\n",
    "# riot_ip = \"192.168.1.40\"\n",
    "# riot_port = 12000 \n",
    "\n",
    "actuator_ip = '192.168.0.100'\n",
    "actuator_port = 12000\n",
    "\n",
    "riot_address = \"/raw/\"\n",
    "bitalino_address = \"/0/bitalino\"\n",
    "\n",
    "\n",
    "# Configuration \n",
    "config_address = bitalino_address\n",
    "config_ip = bitalino_ip\n",
    "\n",
    "osc_client = SimpleUDPClient(actuator_ip, actuator_port) \n",
    "\n",
    "actuation_flag = True\n",
    "\n",
    "ecg_data = []\n",
    "resp_data = []\n",
    "\n",
    "B = biofeatures.breathing(data = np.ones(10), buffer_length=2000, srate=100)\n",
    "HRV = biofeatures.hrv(data = np.ones(10), buffer_length=2000, srate=100)\n",
    "\n",
    "my_dispatcher = dispatcher.Dispatcher()\n",
    "my_dispatcher.map(config_address, data_handler, B, HRV)\n",
    "\n",
    "server = osc_server.ThreadingOSCUDPServer((config_ip, config_port), my_dispatcher)\n",
    "print(\"Serving on {}\".format(server.server_address))\n",
    "\n",
    "# Warmup\n",
    "warmup_t = 10\n",
    "timer_warmup = threading.Timer(warmup_t, warmup, [B,resp_data,HRV,ecg_data])\n",
    "timer_warmup.start()\n",
    "\n",
    "try: \n",
    "    server.serve_forever()\n",
    "except KeyboardInterrupt:\n",
    "    B.update_data_flag = False\n",
    "    HRV.update_data_flag = False\n",
    "    actuation_flag = False\n",
    "    server.server_close()\n",
    "except:\n",
    "    raise"
   ]
  },
  {
   "cell_type": "code",
   "execution_count": null,
   "metadata": {},
   "outputs": [],
   "source": [
    "%matplotlib inline\n",
    "import matplotlib.pyplot as plt\n",
    "\n",
    "plt.plot(resp_data)"
   ]
  },
  {
   "cell_type": "code",
   "execution_count": null,
   "metadata": {},
   "outputs": [],
   "source": [
    "# actuator_ip = '192.168.0.110' \n",
    "actuator_ip = ['192.168.0.110','192.168.0.220'] \n",
    "actuator_port = 12000\n",
    "\n",
    "osc_client = [SimpleUDPClient(actuator_ip[0], actuator_port), SimpleUDPClient(actuator_ip[1], actuator_port)] \n",
    "val = 50\n",
    "osc_client[0].send_message(\"/actuator/inflate\", val)\n",
    "osc_client[1].send_message(\"/actuator/inflate\", val)\n"
   ]
  },
  {
   "cell_type": "code",
   "execution_count": null,
   "metadata": {},
   "outputs": [],
   "source": [
    "server.server_close()"
   ]
  },
  {
   "cell_type": "code",
   "execution_count": null,
   "metadata": {},
   "outputs": [],
   "source": [
    "osc_client[0]"
   ]
  },
  {
   "cell_type": "code",
   "execution_count": null,
   "metadata": {},
   "outputs": [],
   "source": [
    "osc_client[1]"
   ]
  },
  {
   "cell_type": "code",
   "execution_count": null,
   "metadata": {},
   "outputs": [],
   "source": [
    "osc_client1 = SimpleUDPClient('192.168.0.220', actuator_port)\n",
    "val = 0.0\n",
    "osc_client1.send_message(\"/actuator/inflate\", float(val))"
   ]
  },
  {
   "cell_type": "code",
   "execution_count": null,
   "metadata": {},
   "outputs": [],
   "source": [
    "osc_client2 = SimpleUDPClient('192.168.0.110', actuator_port)\n",
    "val = 100.0\n",
    "osc_client1.send_message(\"/actuator/inflate\", float(val))"
   ]
  },
  {
   "cell_type": "markdown",
   "metadata": {},
   "source": [
    "#### Arduino"
   ]
  },
  {
   "cell_type": "code",
   "execution_count": 144,
   "metadata": {},
   "outputs": [],
   "source": [
    "from pythonosc import dispatcher, osc_server\n",
    "from pythonosc.udp_client import SimpleUDPClient\n",
    "import biofeatures\n",
    "import threading\n",
    "import numpy as np\n",
    "actuator_port = 12000\n",
    "osc_client1 = SimpleUDPClient('127.0.0.1', actuator_port)\n",
    "osc_client2 = SimpleUDPClient('127.0.0.1', actuator_port)"
   ]
  },
  {
   "cell_type": "code",
   "execution_count": 145,
   "metadata": {},
   "outputs": [],
   "source": [
    "val = 0.0\n",
    "\n",
    "for i in range(0,10):\n",
    "    osc_client1.send_message(\"/actuator/inflate\", float(val))\n",
    "    osc_client2.send_message(\"/actuator/inflate\", float(val))"
   ]
  },
  {
   "cell_type": "code",
   "execution_count": 146,
   "metadata": {},
   "outputs": [],
   "source": [
    "val = 100.0\n",
    "\n",
    "for i in range(0,10):\n",
    "    osc_client1.send_message(\"/actuator/inflate\", float(val))\n",
    "    osc_client2.send_message(\"/actuator/inflate\", float(val))"
   ]
  },
  {
   "cell_type": "code",
   "execution_count": 142,
   "metadata": {},
   "outputs": [],
   "source": [
    "val = -100.0\n",
    "\n",
    "for i in range(0,10):\n",
    "    osc_client1.send_message(\"/actuator/inflate\", float(val))\n",
    "    osc_client2.send_message(\"/actuator/inflate\", float(val))"
   ]
  },
  {
   "cell_type": "code",
   "execution_count": null,
   "metadata": {},
   "outputs": [],
   "source": []
  },
  {
   "cell_type": "code",
   "execution_count": 9,
   "metadata": {},
   "outputs": [],
   "source": [
    "from pythonosc import dispatcher, osc_server\n",
    "from pythonosc.udp_client import SimpleUDPClient\n",
    "import biofeatures\n",
    "import threading\n",
    "import numpy as np\n",
    "\n",
    "actuator_port = 12000\n",
    "osc_client = SimpleUDPClient('192.168.0.220', actuator_port)\n"
   ]
  },
  {
   "cell_type": "code",
   "execution_count": 14,
   "metadata": {},
   "outputs": [],
   "source": [
    "\n",
    "for i in range(0,10):\n",
    "    osc_client.send_message(\"/actuator/inflate\", 80.0)\n"
   ]
  },
  {
   "cell_type": "code",
   "execution_count": null,
   "metadata": {},
   "outputs": [],
   "source": [
    "# actuator_port = 12000\n",
    "# osc_client = SimpleUDPClient('192.168.0.110', actuator_port)\n",
    "# osc_client.send_message(\"/actuator/inflate\", 100.0)\n"
   ]
  },
  {
   "cell_type": "code",
   "execution_count": null,
   "metadata": {},
   "outputs": [],
   "source": [
    "actuator_port = 12000\n",
    "osc_client1 = SimpleUDPClient('192.168.0.110', actuator_port)\n",
    "osc_client1.send_message(\"/actuator/inflate\", 0.0)\n"
   ]
  },
  {
   "cell_type": "code",
   "execution_count": null,
   "metadata": {},
   "outputs": [],
   "source": []
  },
  {
   "cell_type": "code",
   "execution_count": null,
   "metadata": {},
   "outputs": [],
   "source": [
    "val = 0.0\n",
    "actuator_port = 12000\n",
    "osc_client1 = SimpleUDPClient('192.168.0.220', actuator_port)\n",
    "    \n",
    "for i in range(0,10):\n",
    "    osc_client1.send_message(\"/actuator/inflate\", float(val))\n"
   ]
  },
  {
   "cell_type": "code",
   "execution_count": null,
   "metadata": {},
   "outputs": [],
   "source": []
  },
  {
   "cell_type": "code",
   "execution_count": null,
   "metadata": {},
   "outputs": [],
   "source": []
  },
  {
   "cell_type": "code",
   "execution_count": null,
   "metadata": {},
   "outputs": [],
   "source": [
    "from pythonosc import dispatcher, osc_server\n",
    "from pythonosc.udp_client import SimpleUDPClient\n",
    "import biofeatures\n",
    "import threading\n",
    "import numpy as np\n",
    "actuator_port = 12000\n",
    "osc_client1 = SimpleUDPClient('127.0.0.1', actuator_port)\n",
    "osc_client2 = SimpleUDPClient('127.0.0.1', actuator_port)"
   ]
  },
  {
   "cell_type": "code",
   "execution_count": null,
   "metadata": {},
   "outputs": [],
   "source": []
  }
 ],
 "metadata": {
  "kernelspec": {
   "display_name": "Python 3",
   "language": "python",
   "name": "python3"
  },
  "language_info": {
   "codemirror_mode": {
    "name": "ipython",
    "version": 3
   },
   "file_extension": ".py",
   "mimetype": "text/x-python",
   "name": "python",
   "nbconvert_exporter": "python",
   "pygments_lexer": "ipython3",
   "version": "3.7.4"
  }
 },
 "nbformat": 4,
 "nbformat_minor": 2
}
