{
 "cells": [
  {
   "cell_type": "code",
   "execution_count": 1,
   "metadata": {},
   "outputs": [
    {
     "data": {
      "application/javascript": [
       "\n",
       "(function(root) {\n",
       "  function now() {\n",
       "    return new Date();\n",
       "  }\n",
       "\n",
       "  var force = true;\n",
       "\n",
       "  if (typeof root._bokeh_onload_callbacks === \"undefined\" || force === true) {\n",
       "    root._bokeh_onload_callbacks = [];\n",
       "    root._bokeh_is_loading = undefined;\n",
       "  }\n",
       "\n",
       "  var JS_MIME_TYPE = 'application/javascript';\n",
       "  var HTML_MIME_TYPE = 'text/html';\n",
       "  var EXEC_MIME_TYPE = 'application/vnd.bokehjs_exec.v0+json';\n",
       "  var CLASS_NAME = 'output_bokeh rendered_html';\n",
       "\n",
       "  /**\n",
       "   * Render data to the DOM node\n",
       "   */\n",
       "  function render(props, node) {\n",
       "    var script = document.createElement(\"script\");\n",
       "    node.appendChild(script);\n",
       "  }\n",
       "\n",
       "  /**\n",
       "   * Handle when an output is cleared or removed\n",
       "   */\n",
       "  function handleClearOutput(event, handle) {\n",
       "    var cell = handle.cell;\n",
       "\n",
       "    var id = cell.output_area._bokeh_element_id;\n",
       "    var server_id = cell.output_area._bokeh_server_id;\n",
       "    // Clean up Bokeh references\n",
       "    if (id != null && id in Bokeh.index) {\n",
       "      Bokeh.index[id].model.document.clear();\n",
       "      delete Bokeh.index[id];\n",
       "    }\n",
       "\n",
       "    if (server_id !== undefined) {\n",
       "      // Clean up Bokeh references\n",
       "      var cmd = \"from bokeh.io.state import curstate; print(curstate().uuid_to_server['\" + server_id + \"'].get_sessions()[0].document.roots[0]._id)\";\n",
       "      cell.notebook.kernel.execute(cmd, {\n",
       "        iopub: {\n",
       "          output: function(msg) {\n",
       "            var id = msg.content.text.trim();\n",
       "            if (id in Bokeh.index) {\n",
       "              Bokeh.index[id].model.document.clear();\n",
       "              delete Bokeh.index[id];\n",
       "            }\n",
       "          }\n",
       "        }\n",
       "      });\n",
       "      // Destroy server and session\n",
       "      var cmd = \"import bokeh.io.notebook as ion; ion.destroy_server('\" + server_id + \"')\";\n",
       "      cell.notebook.kernel.execute(cmd);\n",
       "    }\n",
       "  }\n",
       "\n",
       "  /**\n",
       "   * Handle when a new output is added\n",
       "   */\n",
       "  function handleAddOutput(event, handle) {\n",
       "    var output_area = handle.output_area;\n",
       "    var output = handle.output;\n",
       "\n",
       "    // limit handleAddOutput to display_data with EXEC_MIME_TYPE content only\n",
       "    if ((output.output_type != \"display_data\") || (!output.data.hasOwnProperty(EXEC_MIME_TYPE))) {\n",
       "      return\n",
       "    }\n",
       "\n",
       "    var toinsert = output_area.element.find(\".\" + CLASS_NAME.split(' ')[0]);\n",
       "\n",
       "    if (output.metadata[EXEC_MIME_TYPE][\"id\"] !== undefined) {\n",
       "      toinsert[toinsert.length - 1].firstChild.textContent = output.data[JS_MIME_TYPE];\n",
       "      // store reference to embed id on output_area\n",
       "      output_area._bokeh_element_id = output.metadata[EXEC_MIME_TYPE][\"id\"];\n",
       "    }\n",
       "    if (output.metadata[EXEC_MIME_TYPE][\"server_id\"] !== undefined) {\n",
       "      var bk_div = document.createElement(\"div\");\n",
       "      bk_div.innerHTML = output.data[HTML_MIME_TYPE];\n",
       "      var script_attrs = bk_div.children[0].attributes;\n",
       "      for (var i = 0; i < script_attrs.length; i++) {\n",
       "        toinsert[toinsert.length - 1].firstChild.setAttribute(script_attrs[i].name, script_attrs[i].value);\n",
       "      }\n",
       "      // store reference to server id on output_area\n",
       "      output_area._bokeh_server_id = output.metadata[EXEC_MIME_TYPE][\"server_id\"];\n",
       "    }\n",
       "  }\n",
       "\n",
       "  function register_renderer(events, OutputArea) {\n",
       "\n",
       "    function append_mime(data, metadata, element) {\n",
       "      // create a DOM node to render to\n",
       "      var toinsert = this.create_output_subarea(\n",
       "        metadata,\n",
       "        CLASS_NAME,\n",
       "        EXEC_MIME_TYPE\n",
       "      );\n",
       "      this.keyboard_manager.register_events(toinsert);\n",
       "      // Render to node\n",
       "      var props = {data: data, metadata: metadata[EXEC_MIME_TYPE]};\n",
       "      render(props, toinsert[toinsert.length - 1]);\n",
       "      element.append(toinsert);\n",
       "      return toinsert\n",
       "    }\n",
       "\n",
       "    /* Handle when an output is cleared or removed */\n",
       "    events.on('clear_output.CodeCell', handleClearOutput);\n",
       "    events.on('delete.Cell', handleClearOutput);\n",
       "\n",
       "    /* Handle when a new output is added */\n",
       "    events.on('output_added.OutputArea', handleAddOutput);\n",
       "\n",
       "    /**\n",
       "     * Register the mime type and append_mime function with output_area\n",
       "     */\n",
       "    OutputArea.prototype.register_mime_type(EXEC_MIME_TYPE, append_mime, {\n",
       "      /* Is output safe? */\n",
       "      safe: true,\n",
       "      /* Index of renderer in `output_area.display_order` */\n",
       "      index: 0\n",
       "    });\n",
       "  }\n",
       "\n",
       "  // register the mime type if in Jupyter Notebook environment and previously unregistered\n",
       "  if (root.Jupyter !== undefined) {\n",
       "    var events = require('base/js/events');\n",
       "    var OutputArea = require('notebook/js/outputarea').OutputArea;\n",
       "\n",
       "    if (OutputArea.prototype.mime_types().indexOf(EXEC_MIME_TYPE) == -1) {\n",
       "      register_renderer(events, OutputArea);\n",
       "    }\n",
       "  }\n",
       "\n",
       "  \n",
       "  if (typeof (root._bokeh_timeout) === \"undefined\" || force === true) {\n",
       "    root._bokeh_timeout = Date.now() + 5000;\n",
       "    root._bokeh_failed_load = false;\n",
       "  }\n",
       "\n",
       "  var NB_LOAD_WARNING = {'data': {'text/html':\n",
       "     \"<div style='background-color: #fdd'>\\n\"+\n",
       "     \"<p>\\n\"+\n",
       "     \"BokehJS does not appear to have successfully loaded. If loading BokehJS from CDN, this \\n\"+\n",
       "     \"may be due to a slow or bad network connection. Possible fixes:\\n\"+\n",
       "     \"</p>\\n\"+\n",
       "     \"<ul>\\n\"+\n",
       "     \"<li>re-rerun `output_notebook()` to attempt to load from CDN again, or</li>\\n\"+\n",
       "     \"<li>use INLINE resources instead, as so:</li>\\n\"+\n",
       "     \"</ul>\\n\"+\n",
       "     \"<code>\\n\"+\n",
       "     \"from bokeh.resources import INLINE\\n\"+\n",
       "     \"output_notebook(resources=INLINE)\\n\"+\n",
       "     \"</code>\\n\"+\n",
       "     \"</div>\"}};\n",
       "\n",
       "  function display_loaded() {\n",
       "    var el = document.getElementById(null);\n",
       "    if (el != null) {\n",
       "      el.textContent = \"BokehJS is loading...\";\n",
       "    }\n",
       "    if (root.Bokeh !== undefined) {\n",
       "      if (el != null) {\n",
       "        el.textContent = \"BokehJS \" + root.Bokeh.version + \" successfully loaded.\";\n",
       "      }\n",
       "    } else if (Date.now() < root._bokeh_timeout) {\n",
       "      setTimeout(display_loaded, 100)\n",
       "    }\n",
       "  }\n",
       "\n",
       "\n",
       "  function run_callbacks() {\n",
       "    try {\n",
       "      root._bokeh_onload_callbacks.forEach(function(callback) {\n",
       "        if (callback != null)\n",
       "          callback();\n",
       "      });\n",
       "    } finally {\n",
       "      delete root._bokeh_onload_callbacks\n",
       "    }\n",
       "    console.debug(\"Bokeh: all callbacks have finished\");\n",
       "  }\n",
       "\n",
       "  function load_libs(css_urls, js_urls, callback) {\n",
       "    if (css_urls == null) css_urls = [];\n",
       "    if (js_urls == null) js_urls = [];\n",
       "\n",
       "    root._bokeh_onload_callbacks.push(callback);\n",
       "    if (root._bokeh_is_loading > 0) {\n",
       "      console.debug(\"Bokeh: BokehJS is being loaded, scheduling callback at\", now());\n",
       "      return null;\n",
       "    }\n",
       "    if (js_urls == null || js_urls.length === 0) {\n",
       "      run_callbacks();\n",
       "      return null;\n",
       "    }\n",
       "    console.debug(\"Bokeh: BokehJS not loaded, scheduling load and callback at\", now());\n",
       "    root._bokeh_is_loading = css_urls.length + js_urls.length;\n",
       "\n",
       "    function on_load() {\n",
       "      root._bokeh_is_loading--;\n",
       "      if (root._bokeh_is_loading === 0) {\n",
       "        console.debug(\"Bokeh: all BokehJS libraries/stylesheets loaded\");\n",
       "        run_callbacks()\n",
       "      }\n",
       "    }\n",
       "\n",
       "    function on_error() {\n",
       "      console.error(\"failed to load \" + url);\n",
       "    }\n",
       "\n",
       "    for (var i = 0; i < css_urls.length; i++) {\n",
       "      var url = css_urls[i];\n",
       "      const element = document.createElement(\"link\");\n",
       "      element.onload = on_load;\n",
       "      element.onerror = on_error;\n",
       "      element.rel = \"stylesheet\";\n",
       "      element.type = \"text/css\";\n",
       "      element.href = url;\n",
       "      console.debug(\"Bokeh: injecting link tag for BokehJS stylesheet: \", url);\n",
       "      document.body.appendChild(element);\n",
       "    }\n",
       "\n",
       "    for (var i = 0; i < js_urls.length; i++) {\n",
       "      var url = js_urls[i];\n",
       "      var element = document.createElement('script');\n",
       "      element.onload = on_load;\n",
       "      element.onerror = on_error;\n",
       "      element.async = false;\n",
       "      element.src = url;\n",
       "      console.debug(\"Bokeh: injecting script tag for BokehJS library: \", url);\n",
       "      document.head.appendChild(element);\n",
       "    }\n",
       "  };\n",
       "\n",
       "  function inject_raw_css(css) {\n",
       "    const element = document.createElement(\"style\");\n",
       "    element.appendChild(document.createTextNode(css));\n",
       "    document.body.appendChild(element);\n",
       "  }\n",
       "\n",
       "  \n",
       "  var js_urls = [\"https://cdn.pydata.org/bokeh/release/bokeh-1.4.0.min.js\", \"https://cdn.pydata.org/bokeh/release/bokeh-widgets-1.4.0.min.js\", \"https://cdn.pydata.org/bokeh/release/bokeh-tables-1.4.0.min.js\", \"https://cdn.pydata.org/bokeh/release/bokeh-gl-1.4.0.min.js\"];\n",
       "  var css_urls = [];\n",
       "  \n",
       "\n",
       "  var inline_js = [\n",
       "    function(Bokeh) {\n",
       "      Bokeh.set_log_level(\"info\");\n",
       "    },\n",
       "    function(Bokeh) {\n",
       "    \n",
       "    \n",
       "    }\n",
       "  ];\n",
       "\n",
       "  function run_inline_js() {\n",
       "    \n",
       "    if (root.Bokeh !== undefined || force === true) {\n",
       "      \n",
       "    for (var i = 0; i < inline_js.length; i++) {\n",
       "      inline_js[i].call(root, root.Bokeh);\n",
       "    }\n",
       "    } else if (Date.now() < root._bokeh_timeout) {\n",
       "      setTimeout(run_inline_js, 100);\n",
       "    } else if (!root._bokeh_failed_load) {\n",
       "      console.log(\"Bokeh: BokehJS failed to load within specified timeout.\");\n",
       "      root._bokeh_failed_load = true;\n",
       "    } else if (force !== true) {\n",
       "      var cell = $(document.getElementById(null)).parents('.cell').data().cell;\n",
       "      cell.output_area.append_execute_result(NB_LOAD_WARNING)\n",
       "    }\n",
       "\n",
       "  }\n",
       "\n",
       "  if (root._bokeh_is_loading === 0) {\n",
       "    console.debug(\"Bokeh: BokehJS loaded, going straight to plotting\");\n",
       "    run_inline_js();\n",
       "  } else {\n",
       "    load_libs(css_urls, js_urls, function() {\n",
       "      console.debug(\"Bokeh: BokehJS plotting callback run at\", now());\n",
       "      run_inline_js();\n",
       "    });\n",
       "  }\n",
       "}(window));"
      ],
      "application/vnd.bokehjs_load.v0+json": "\n(function(root) {\n  function now() {\n    return new Date();\n  }\n\n  var force = true;\n\n  if (typeof root._bokeh_onload_callbacks === \"undefined\" || force === true) {\n    root._bokeh_onload_callbacks = [];\n    root._bokeh_is_loading = undefined;\n  }\n\n  \n\n  \n  if (typeof (root._bokeh_timeout) === \"undefined\" || force === true) {\n    root._bokeh_timeout = Date.now() + 5000;\n    root._bokeh_failed_load = false;\n  }\n\n  var NB_LOAD_WARNING = {'data': {'text/html':\n     \"<div style='background-color: #fdd'>\\n\"+\n     \"<p>\\n\"+\n     \"BokehJS does not appear to have successfully loaded. If loading BokehJS from CDN, this \\n\"+\n     \"may be due to a slow or bad network connection. Possible fixes:\\n\"+\n     \"</p>\\n\"+\n     \"<ul>\\n\"+\n     \"<li>re-rerun `output_notebook()` to attempt to load from CDN again, or</li>\\n\"+\n     \"<li>use INLINE resources instead, as so:</li>\\n\"+\n     \"</ul>\\n\"+\n     \"<code>\\n\"+\n     \"from bokeh.resources import INLINE\\n\"+\n     \"output_notebook(resources=INLINE)\\n\"+\n     \"</code>\\n\"+\n     \"</div>\"}};\n\n  function display_loaded() {\n    var el = document.getElementById(null);\n    if (el != null) {\n      el.textContent = \"BokehJS is loading...\";\n    }\n    if (root.Bokeh !== undefined) {\n      if (el != null) {\n        el.textContent = \"BokehJS \" + root.Bokeh.version + \" successfully loaded.\";\n      }\n    } else if (Date.now() < root._bokeh_timeout) {\n      setTimeout(display_loaded, 100)\n    }\n  }\n\n\n  function run_callbacks() {\n    try {\n      root._bokeh_onload_callbacks.forEach(function(callback) {\n        if (callback != null)\n          callback();\n      });\n    } finally {\n      delete root._bokeh_onload_callbacks\n    }\n    console.debug(\"Bokeh: all callbacks have finished\");\n  }\n\n  function load_libs(css_urls, js_urls, callback) {\n    if (css_urls == null) css_urls = [];\n    if (js_urls == null) js_urls = [];\n\n    root._bokeh_onload_callbacks.push(callback);\n    if (root._bokeh_is_loading > 0) {\n      console.debug(\"Bokeh: BokehJS is being loaded, scheduling callback at\", now());\n      return null;\n    }\n    if (js_urls == null || js_urls.length === 0) {\n      run_callbacks();\n      return null;\n    }\n    console.debug(\"Bokeh: BokehJS not loaded, scheduling load and callback at\", now());\n    root._bokeh_is_loading = css_urls.length + js_urls.length;\n\n    function on_load() {\n      root._bokeh_is_loading--;\n      if (root._bokeh_is_loading === 0) {\n        console.debug(\"Bokeh: all BokehJS libraries/stylesheets loaded\");\n        run_callbacks()\n      }\n    }\n\n    function on_error() {\n      console.error(\"failed to load \" + url);\n    }\n\n    for (var i = 0; i < css_urls.length; i++) {\n      var url = css_urls[i];\n      const element = document.createElement(\"link\");\n      element.onload = on_load;\n      element.onerror = on_error;\n      element.rel = \"stylesheet\";\n      element.type = \"text/css\";\n      element.href = url;\n      console.debug(\"Bokeh: injecting link tag for BokehJS stylesheet: \", url);\n      document.body.appendChild(element);\n    }\n\n    for (var i = 0; i < js_urls.length; i++) {\n      var url = js_urls[i];\n      var element = document.createElement('script');\n      element.onload = on_load;\n      element.onerror = on_error;\n      element.async = false;\n      element.src = url;\n      console.debug(\"Bokeh: injecting script tag for BokehJS library: \", url);\n      document.head.appendChild(element);\n    }\n  };\n\n  function inject_raw_css(css) {\n    const element = document.createElement(\"style\");\n    element.appendChild(document.createTextNode(css));\n    document.body.appendChild(element);\n  }\n\n  \n  var js_urls = [\"https://cdn.pydata.org/bokeh/release/bokeh-1.4.0.min.js\", \"https://cdn.pydata.org/bokeh/release/bokeh-widgets-1.4.0.min.js\", \"https://cdn.pydata.org/bokeh/release/bokeh-tables-1.4.0.min.js\", \"https://cdn.pydata.org/bokeh/release/bokeh-gl-1.4.0.min.js\"];\n  var css_urls = [];\n  \n\n  var inline_js = [\n    function(Bokeh) {\n      Bokeh.set_log_level(\"info\");\n    },\n    function(Bokeh) {\n    \n    \n    }\n  ];\n\n  function run_inline_js() {\n    \n    if (root.Bokeh !== undefined || force === true) {\n      \n    for (var i = 0; i < inline_js.length; i++) {\n      inline_js[i].call(root, root.Bokeh);\n    }\n    } else if (Date.now() < root._bokeh_timeout) {\n      setTimeout(run_inline_js, 100);\n    } else if (!root._bokeh_failed_load) {\n      console.log(\"Bokeh: BokehJS failed to load within specified timeout.\");\n      root._bokeh_failed_load = true;\n    } else if (force !== true) {\n      var cell = $(document.getElementById(null)).parents('.cell').data().cell;\n      cell.output_area.append_execute_result(NB_LOAD_WARNING)\n    }\n\n  }\n\n  if (root._bokeh_is_loading === 0) {\n    console.debug(\"Bokeh: BokehJS loaded, going straight to plotting\");\n    run_inline_js();\n  } else {\n    load_libs(css_urls, js_urls, function() {\n      console.debug(\"Bokeh: BokehJS plotting callback run at\", now());\n      run_inline_js();\n    });\n  }\n}(window));"
     },
     "metadata": {},
     "output_type": "display_data"
    },
    {
     "data": {
      "application/javascript": [
       "\n",
       "(function(root) {\n",
       "  function now() {\n",
       "    return new Date();\n",
       "  }\n",
       "\n",
       "  var force = true;\n",
       "\n",
       "  if (typeof root._bokeh_onload_callbacks === \"undefined\" || force === true) {\n",
       "    root._bokeh_onload_callbacks = [];\n",
       "    root._bokeh_is_loading = undefined;\n",
       "  }\n",
       "\n",
       "  var JS_MIME_TYPE = 'application/javascript';\n",
       "  var HTML_MIME_TYPE = 'text/html';\n",
       "  var EXEC_MIME_TYPE = 'application/vnd.bokehjs_exec.v0+json';\n",
       "  var CLASS_NAME = 'output_bokeh rendered_html';\n",
       "\n",
       "  /**\n",
       "   * Render data to the DOM node\n",
       "   */\n",
       "  function render(props, node) {\n",
       "    var script = document.createElement(\"script\");\n",
       "    node.appendChild(script);\n",
       "  }\n",
       "\n",
       "  /**\n",
       "   * Handle when an output is cleared or removed\n",
       "   */\n",
       "  function handleClearOutput(event, handle) {\n",
       "    var cell = handle.cell;\n",
       "\n",
       "    var id = cell.output_area._bokeh_element_id;\n",
       "    var server_id = cell.output_area._bokeh_server_id;\n",
       "    // Clean up Bokeh references\n",
       "    if (id != null && id in Bokeh.index) {\n",
       "      Bokeh.index[id].model.document.clear();\n",
       "      delete Bokeh.index[id];\n",
       "    }\n",
       "\n",
       "    if (server_id !== undefined) {\n",
       "      // Clean up Bokeh references\n",
       "      var cmd = \"from bokeh.io.state import curstate; print(curstate().uuid_to_server['\" + server_id + \"'].get_sessions()[0].document.roots[0]._id)\";\n",
       "      cell.notebook.kernel.execute(cmd, {\n",
       "        iopub: {\n",
       "          output: function(msg) {\n",
       "            var id = msg.content.text.trim();\n",
       "            if (id in Bokeh.index) {\n",
       "              Bokeh.index[id].model.document.clear();\n",
       "              delete Bokeh.index[id];\n",
       "            }\n",
       "          }\n",
       "        }\n",
       "      });\n",
       "      // Destroy server and session\n",
       "      var cmd = \"import bokeh.io.notebook as ion; ion.destroy_server('\" + server_id + \"')\";\n",
       "      cell.notebook.kernel.execute(cmd);\n",
       "    }\n",
       "  }\n",
       "\n",
       "  /**\n",
       "   * Handle when a new output is added\n",
       "   */\n",
       "  function handleAddOutput(event, handle) {\n",
       "    var output_area = handle.output_area;\n",
       "    var output = handle.output;\n",
       "\n",
       "    // limit handleAddOutput to display_data with EXEC_MIME_TYPE content only\n",
       "    if ((output.output_type != \"display_data\") || (!output.data.hasOwnProperty(EXEC_MIME_TYPE))) {\n",
       "      return\n",
       "    }\n",
       "\n",
       "    var toinsert = output_area.element.find(\".\" + CLASS_NAME.split(' ')[0]);\n",
       "\n",
       "    if (output.metadata[EXEC_MIME_TYPE][\"id\"] !== undefined) {\n",
       "      toinsert[toinsert.length - 1].firstChild.textContent = output.data[JS_MIME_TYPE];\n",
       "      // store reference to embed id on output_area\n",
       "      output_area._bokeh_element_id = output.metadata[EXEC_MIME_TYPE][\"id\"];\n",
       "    }\n",
       "    if (output.metadata[EXEC_MIME_TYPE][\"server_id\"] !== undefined) {\n",
       "      var bk_div = document.createElement(\"div\");\n",
       "      bk_div.innerHTML = output.data[HTML_MIME_TYPE];\n",
       "      var script_attrs = bk_div.children[0].attributes;\n",
       "      for (var i = 0; i < script_attrs.length; i++) {\n",
       "        toinsert[toinsert.length - 1].firstChild.setAttribute(script_attrs[i].name, script_attrs[i].value);\n",
       "      }\n",
       "      // store reference to server id on output_area\n",
       "      output_area._bokeh_server_id = output.metadata[EXEC_MIME_TYPE][\"server_id\"];\n",
       "    }\n",
       "  }\n",
       "\n",
       "  function register_renderer(events, OutputArea) {\n",
       "\n",
       "    function append_mime(data, metadata, element) {\n",
       "      // create a DOM node to render to\n",
       "      var toinsert = this.create_output_subarea(\n",
       "        metadata,\n",
       "        CLASS_NAME,\n",
       "        EXEC_MIME_TYPE\n",
       "      );\n",
       "      this.keyboard_manager.register_events(toinsert);\n",
       "      // Render to node\n",
       "      var props = {data: data, metadata: metadata[EXEC_MIME_TYPE]};\n",
       "      render(props, toinsert[toinsert.length - 1]);\n",
       "      element.append(toinsert);\n",
       "      return toinsert\n",
       "    }\n",
       "\n",
       "    /* Handle when an output is cleared or removed */\n",
       "    events.on('clear_output.CodeCell', handleClearOutput);\n",
       "    events.on('delete.Cell', handleClearOutput);\n",
       "\n",
       "    /* Handle when a new output is added */\n",
       "    events.on('output_added.OutputArea', handleAddOutput);\n",
       "\n",
       "    /**\n",
       "     * Register the mime type and append_mime function with output_area\n",
       "     */\n",
       "    OutputArea.prototype.register_mime_type(EXEC_MIME_TYPE, append_mime, {\n",
       "      /* Is output safe? */\n",
       "      safe: true,\n",
       "      /* Index of renderer in `output_area.display_order` */\n",
       "      index: 0\n",
       "    });\n",
       "  }\n",
       "\n",
       "  // register the mime type if in Jupyter Notebook environment and previously unregistered\n",
       "  if (root.Jupyter !== undefined) {\n",
       "    var events = require('base/js/events');\n",
       "    var OutputArea = require('notebook/js/outputarea').OutputArea;\n",
       "\n",
       "    if (OutputArea.prototype.mime_types().indexOf(EXEC_MIME_TYPE) == -1) {\n",
       "      register_renderer(events, OutputArea);\n",
       "    }\n",
       "  }\n",
       "\n",
       "  \n",
       "  if (typeof (root._bokeh_timeout) === \"undefined\" || force === true) {\n",
       "    root._bokeh_timeout = Date.now() + 5000;\n",
       "    root._bokeh_failed_load = false;\n",
       "  }\n",
       "\n",
       "  var NB_LOAD_WARNING = {'data': {'text/html':\n",
       "     \"<div style='background-color: #fdd'>\\n\"+\n",
       "     \"<p>\\n\"+\n",
       "     \"BokehJS does not appear to have successfully loaded. If loading BokehJS from CDN, this \\n\"+\n",
       "     \"may be due to a slow or bad network connection. Possible fixes:\\n\"+\n",
       "     \"</p>\\n\"+\n",
       "     \"<ul>\\n\"+\n",
       "     \"<li>re-rerun `output_notebook()` to attempt to load from CDN again, or</li>\\n\"+\n",
       "     \"<li>use INLINE resources instead, as so:</li>\\n\"+\n",
       "     \"</ul>\\n\"+\n",
       "     \"<code>\\n\"+\n",
       "     \"from bokeh.resources import INLINE\\n\"+\n",
       "     \"output_notebook(resources=INLINE)\\n\"+\n",
       "     \"</code>\\n\"+\n",
       "     \"</div>\"}};\n",
       "\n",
       "  function display_loaded() {\n",
       "    var el = document.getElementById(null);\n",
       "    if (el != null) {\n",
       "      el.textContent = \"BokehJS is loading...\";\n",
       "    }\n",
       "    if (root.Bokeh !== undefined) {\n",
       "      if (el != null) {\n",
       "        el.textContent = \"BokehJS \" + root.Bokeh.version + \" successfully loaded.\";\n",
       "      }\n",
       "    } else if (Date.now() < root._bokeh_timeout) {\n",
       "      setTimeout(display_loaded, 100)\n",
       "    }\n",
       "  }\n",
       "\n",
       "\n",
       "  function run_callbacks() {\n",
       "    try {\n",
       "      root._bokeh_onload_callbacks.forEach(function(callback) {\n",
       "        if (callback != null)\n",
       "          callback();\n",
       "      });\n",
       "    } finally {\n",
       "      delete root._bokeh_onload_callbacks\n",
       "    }\n",
       "    console.debug(\"Bokeh: all callbacks have finished\");\n",
       "  }\n",
       "\n",
       "  function load_libs(css_urls, js_urls, callback) {\n",
       "    if (css_urls == null) css_urls = [];\n",
       "    if (js_urls == null) js_urls = [];\n",
       "\n",
       "    root._bokeh_onload_callbacks.push(callback);\n",
       "    if (root._bokeh_is_loading > 0) {\n",
       "      console.debug(\"Bokeh: BokehJS is being loaded, scheduling callback at\", now());\n",
       "      return null;\n",
       "    }\n",
       "    if (js_urls == null || js_urls.length === 0) {\n",
       "      run_callbacks();\n",
       "      return null;\n",
       "    }\n",
       "    console.debug(\"Bokeh: BokehJS not loaded, scheduling load and callback at\", now());\n",
       "    root._bokeh_is_loading = css_urls.length + js_urls.length;\n",
       "\n",
       "    function on_load() {\n",
       "      root._bokeh_is_loading--;\n",
       "      if (root._bokeh_is_loading === 0) {\n",
       "        console.debug(\"Bokeh: all BokehJS libraries/stylesheets loaded\");\n",
       "        run_callbacks()\n",
       "      }\n",
       "    }\n",
       "\n",
       "    function on_error() {\n",
       "      console.error(\"failed to load \" + url);\n",
       "    }\n",
       "\n",
       "    for (var i = 0; i < css_urls.length; i++) {\n",
       "      var url = css_urls[i];\n",
       "      const element = document.createElement(\"link\");\n",
       "      element.onload = on_load;\n",
       "      element.onerror = on_error;\n",
       "      element.rel = \"stylesheet\";\n",
       "      element.type = \"text/css\";\n",
       "      element.href = url;\n",
       "      console.debug(\"Bokeh: injecting link tag for BokehJS stylesheet: \", url);\n",
       "      document.body.appendChild(element);\n",
       "    }\n",
       "\n",
       "    for (var i = 0; i < js_urls.length; i++) {\n",
       "      var url = js_urls[i];\n",
       "      var element = document.createElement('script');\n",
       "      element.onload = on_load;\n",
       "      element.onerror = on_error;\n",
       "      element.async = false;\n",
       "      element.src = url;\n",
       "      console.debug(\"Bokeh: injecting script tag for BokehJS library: \", url);\n",
       "      document.head.appendChild(element);\n",
       "    }\n",
       "  };\n",
       "\n",
       "  function inject_raw_css(css) {\n",
       "    const element = document.createElement(\"style\");\n",
       "    element.appendChild(document.createTextNode(css));\n",
       "    document.body.appendChild(element);\n",
       "  }\n",
       "\n",
       "  \n",
       "  var js_urls = [\"https://cdn.pydata.org/bokeh/release/bokeh-1.4.0.min.js\", \"https://cdn.pydata.org/bokeh/release/bokeh-widgets-1.4.0.min.js\", \"https://cdn.pydata.org/bokeh/release/bokeh-tables-1.4.0.min.js\", \"https://cdn.pydata.org/bokeh/release/bokeh-gl-1.4.0.min.js\"];\n",
       "  var css_urls = [];\n",
       "  \n",
       "\n",
       "  var inline_js = [\n",
       "    function(Bokeh) {\n",
       "      Bokeh.set_log_level(\"info\");\n",
       "    },\n",
       "    function(Bokeh) {\n",
       "    \n",
       "    \n",
       "    }\n",
       "  ];\n",
       "\n",
       "  function run_inline_js() {\n",
       "    \n",
       "    if (root.Bokeh !== undefined || force === true) {\n",
       "      \n",
       "    for (var i = 0; i < inline_js.length; i++) {\n",
       "      inline_js[i].call(root, root.Bokeh);\n",
       "    }\n",
       "    } else if (Date.now() < root._bokeh_timeout) {\n",
       "      setTimeout(run_inline_js, 100);\n",
       "    } else if (!root._bokeh_failed_load) {\n",
       "      console.log(\"Bokeh: BokehJS failed to load within specified timeout.\");\n",
       "      root._bokeh_failed_load = true;\n",
       "    } else if (force !== true) {\n",
       "      var cell = $(document.getElementById(null)).parents('.cell').data().cell;\n",
       "      cell.output_area.append_execute_result(NB_LOAD_WARNING)\n",
       "    }\n",
       "\n",
       "  }\n",
       "\n",
       "  if (root._bokeh_is_loading === 0) {\n",
       "    console.debug(\"Bokeh: BokehJS loaded, going straight to plotting\");\n",
       "    run_inline_js();\n",
       "  } else {\n",
       "    load_libs(css_urls, js_urls, function() {\n",
       "      console.debug(\"Bokeh: BokehJS plotting callback run at\", now());\n",
       "      run_inline_js();\n",
       "    });\n",
       "  }\n",
       "}(window));"
      ],
      "application/vnd.bokehjs_load.v0+json": "\n(function(root) {\n  function now() {\n    return new Date();\n  }\n\n  var force = true;\n\n  if (typeof root._bokeh_onload_callbacks === \"undefined\" || force === true) {\n    root._bokeh_onload_callbacks = [];\n    root._bokeh_is_loading = undefined;\n  }\n\n  \n\n  \n  if (typeof (root._bokeh_timeout) === \"undefined\" || force === true) {\n    root._bokeh_timeout = Date.now() + 5000;\n    root._bokeh_failed_load = false;\n  }\n\n  var NB_LOAD_WARNING = {'data': {'text/html':\n     \"<div style='background-color: #fdd'>\\n\"+\n     \"<p>\\n\"+\n     \"BokehJS does not appear to have successfully loaded. If loading BokehJS from CDN, this \\n\"+\n     \"may be due to a slow or bad network connection. Possible fixes:\\n\"+\n     \"</p>\\n\"+\n     \"<ul>\\n\"+\n     \"<li>re-rerun `output_notebook()` to attempt to load from CDN again, or</li>\\n\"+\n     \"<li>use INLINE resources instead, as so:</li>\\n\"+\n     \"</ul>\\n\"+\n     \"<code>\\n\"+\n     \"from bokeh.resources import INLINE\\n\"+\n     \"output_notebook(resources=INLINE)\\n\"+\n     \"</code>\\n\"+\n     \"</div>\"}};\n\n  function display_loaded() {\n    var el = document.getElementById(null);\n    if (el != null) {\n      el.textContent = \"BokehJS is loading...\";\n    }\n    if (root.Bokeh !== undefined) {\n      if (el != null) {\n        el.textContent = \"BokehJS \" + root.Bokeh.version + \" successfully loaded.\";\n      }\n    } else if (Date.now() < root._bokeh_timeout) {\n      setTimeout(display_loaded, 100)\n    }\n  }\n\n\n  function run_callbacks() {\n    try {\n      root._bokeh_onload_callbacks.forEach(function(callback) {\n        if (callback != null)\n          callback();\n      });\n    } finally {\n      delete root._bokeh_onload_callbacks\n    }\n    console.debug(\"Bokeh: all callbacks have finished\");\n  }\n\n  function load_libs(css_urls, js_urls, callback) {\n    if (css_urls == null) css_urls = [];\n    if (js_urls == null) js_urls = [];\n\n    root._bokeh_onload_callbacks.push(callback);\n    if (root._bokeh_is_loading > 0) {\n      console.debug(\"Bokeh: BokehJS is being loaded, scheduling callback at\", now());\n      return null;\n    }\n    if (js_urls == null || js_urls.length === 0) {\n      run_callbacks();\n      return null;\n    }\n    console.debug(\"Bokeh: BokehJS not loaded, scheduling load and callback at\", now());\n    root._bokeh_is_loading = css_urls.length + js_urls.length;\n\n    function on_load() {\n      root._bokeh_is_loading--;\n      if (root._bokeh_is_loading === 0) {\n        console.debug(\"Bokeh: all BokehJS libraries/stylesheets loaded\");\n        run_callbacks()\n      }\n    }\n\n    function on_error() {\n      console.error(\"failed to load \" + url);\n    }\n\n    for (var i = 0; i < css_urls.length; i++) {\n      var url = css_urls[i];\n      const element = document.createElement(\"link\");\n      element.onload = on_load;\n      element.onerror = on_error;\n      element.rel = \"stylesheet\";\n      element.type = \"text/css\";\n      element.href = url;\n      console.debug(\"Bokeh: injecting link tag for BokehJS stylesheet: \", url);\n      document.body.appendChild(element);\n    }\n\n    for (var i = 0; i < js_urls.length; i++) {\n      var url = js_urls[i];\n      var element = document.createElement('script');\n      element.onload = on_load;\n      element.onerror = on_error;\n      element.async = false;\n      element.src = url;\n      console.debug(\"Bokeh: injecting script tag for BokehJS library: \", url);\n      document.head.appendChild(element);\n    }\n  };\n\n  function inject_raw_css(css) {\n    const element = document.createElement(\"style\");\n    element.appendChild(document.createTextNode(css));\n    document.body.appendChild(element);\n  }\n\n  \n  var js_urls = [\"https://cdn.pydata.org/bokeh/release/bokeh-1.4.0.min.js\", \"https://cdn.pydata.org/bokeh/release/bokeh-widgets-1.4.0.min.js\", \"https://cdn.pydata.org/bokeh/release/bokeh-tables-1.4.0.min.js\", \"https://cdn.pydata.org/bokeh/release/bokeh-gl-1.4.0.min.js\"];\n  var css_urls = [];\n  \n\n  var inline_js = [\n    function(Bokeh) {\n      Bokeh.set_log_level(\"info\");\n    },\n    function(Bokeh) {\n    \n    \n    }\n  ];\n\n  function run_inline_js() {\n    \n    if (root.Bokeh !== undefined || force === true) {\n      \n    for (var i = 0; i < inline_js.length; i++) {\n      inline_js[i].call(root, root.Bokeh);\n    }\n    } else if (Date.now() < root._bokeh_timeout) {\n      setTimeout(run_inline_js, 100);\n    } else if (!root._bokeh_failed_load) {\n      console.log(\"Bokeh: BokehJS failed to load within specified timeout.\");\n      root._bokeh_failed_load = true;\n    } else if (force !== true) {\n      var cell = $(document.getElementById(null)).parents('.cell').data().cell;\n      cell.output_area.append_execute_result(NB_LOAD_WARNING)\n    }\n\n  }\n\n  if (root._bokeh_is_loading === 0) {\n    console.debug(\"Bokeh: BokehJS loaded, going straight to plotting\");\n    run_inline_js();\n  } else {\n    load_libs(css_urls, js_urls, function() {\n      console.debug(\"Bokeh: BokehJS plotting callback run at\", now());\n      run_inline_js();\n    });\n  }\n}(window));"
     },
     "metadata": {},
     "output_type": "display_data"
    }
   ],
   "source": [
    "import biofeatures\n",
    "import biosignalsnotebooks as bsnb\n",
    "\n",
    "data, header = bsnb.load(\"Sensor data/ECG.h5\", get_header=True)\n",
    "\n",
    "sampling_rate = header[\"sampling rate\"]\n",
    "channel = list(data.keys())[1]\n",
    "\n",
    "signal = data[channel]"
   ]
  },
  {
   "cell_type": "code",
   "execution_count": 2,
   "metadata": {},
   "outputs": [
    {
     "data": {
      "text/plain": [
       "[<matplotlib.lines.Line2D at 0x1c20938e10>]"
      ]
     },
     "execution_count": 2,
     "metadata": {},
     "output_type": "execute_result"
    },
    {
     "data": {
      "image/png": "[encoded data removed]",
      "text/plain": [
       "<Figure size 432x288 with 1 Axes>"
      ]
     },
     "metadata": {
      "needs_background": "light"
     },
     "output_type": "display_data"
    }
   ],
   "source": [
    "%matplotlib inline\n",
    "import matplotlib.pyplot as plt\n",
    "\n",
    "plt.plot(signal)"
   ]
  },
  {
   "cell_type": "code",
   "execution_count": 21,
   "metadata": {},
   "outputs": [
    {
     "name": "stdout",
     "output_type": "stream",
     "text": [
      "[ 826  920 1007  998  511  383  325  630  902  270]\n"
     ]
    }
   ],
   "source": [
    "r_peaks, rr_intervals = biofeatures.r_peak_intervals(data = signal, sampling_rate = sampling_rate)\n",
    "print(rr_intervals[:10])"
   ]
  },
  {
   "cell_type": "code",
   "execution_count": 20,
   "metadata": {},
   "outputs": [
    {
     "data": {
      "text/plain": [
       "[<matplotlib.lines.Line2D at 0x1c248b6c90>]"
      ]
     },
     "execution_count": 20,
     "metadata": {},
     "output_type": "execute_result"
    },
    {
     "data": {
      "image/png": "[encoded data removed]",
      "text/plain": [
       "<Figure size 432x288 with 1 Axes>"
      ]
     },
     "metadata": {
      "needs_background": "light"
     },
     "output_type": "display_data"
    }
   ],
   "source": [
    "plt_peaks = (np.array(r_peaks[0][:17]) * sampling_rate).astype(int)\n",
    "\n",
    "plt.figure()\n",
    "plt.plot(signal[: sampling_rate * 10])\n",
    "plt.plot(plt_peaks, signal[plt_peaks], 'ro')\n"
   ]
  },
  {
   "cell_type": "code",
   "execution_count": 22,
   "metadata": {},
   "outputs": [
    {
     "name": "stdout",
     "output_type": "stream",
     "text": [
      "{'nni_mean': 824.9194630872483, 'hr_mean': 84.33210854982532, 'hr_std': 45.02873656098175, 'rmssd': 205.39020214006106, 'lf': 6004.521268964863, 'hf': 4781.092420945251, 'LF/HF ratio': 1.2558889768915473}\n"
     ]
    }
   ],
   "source": [
    "features = biofeatures.hrv_features(rr_intervals)\n",
    "\n",
    "print(features)"
   ]
  },
  {
   "cell_type": "code",
   "execution_count": 2,
   "metadata": {},
   "outputs": [],
   "source": [
    "HRV = biofeatures.hrv(signal, srate = sampling_rate)"
   ]
  },
  {
   "cell_type": "code",
   "execution_count": 3,
   "metadata": {},
   "outputs": [
    {
     "data": {
      "text/plain": [
       "1000"
      ]
     },
     "execution_count": 3,
     "metadata": {},
     "output_type": "execute_result"
    }
   ],
   "source": [
    "HRV.srate"
   ]
  },
  {
   "cell_type": "code",
   "execution_count": 4,
   "metadata": {},
   "outputs": [],
   "source": [
    "HRV.r_peak_intervals(HRV.data)"
   ]
  },
  {
   "cell_type": "code",
   "execution_count": 5,
   "metadata": {},
   "outputs": [
    {
     "data": {
      "text/plain": [
       "array([ 826,  920, 1007,  998,  511,  383,  325,  630,  902,  270,  393,\n",
       "        503,  472,  567,  276,  693,  843,  590,  224,  909, 1120,  421,\n",
       "        719, 1072,  951,  861,  928,  806,  851,  818,  784,  967, 1025,\n",
       "       1034,  922, 1008,  952,  920,  936, 1027, 1146, 1136, 1167, 1051,\n",
       "       1042, 1056, 1033,  961, 1061, 1081,  990,  976,  992,  975,  857,\n",
       "       1059, 1137, 1077, 1042,  980,  849,  911,  966,  829,  951, 1029,\n",
       "       1034,  917,  893,  924,  957,  878,  966, 1025,  993,  967,  899,\n",
       "        960,  926,  864,  873,  933,  901,  999, 1029,  966,  946,  981,\n",
       "       1005,  940,  807,  843,  957,  958,  382,  591,  222,  575,  500,\n",
       "        417,  738,  879,  888,  822,  755,  827,  876,  934,  766,  833,\n",
       "       1067, 1057,  995,  969,  492,  393,  710,  246,  987,  980,  437,\n",
       "        442,  830,  867,  794,  878,  907,  517,  388,  653,  385,  370,\n",
       "        225,  269,  892,  772,  784,  837,  865,  784,  850,  826,  855,\n",
       "        996,  958, 1001,  895,  922,  754])"
      ]
     },
     "execution_count": 5,
     "metadata": {},
     "output_type": "execute_result"
    }
   ],
   "source": [
    "HRV.r_intervals"
   ]
  },
  {
   "cell_type": "code",
   "execution_count": 6,
   "metadata": {},
   "outputs": [],
   "source": [
    "HRV.hrv_features()"
   ]
  },
  {
   "cell_type": "code",
   "execution_count": 7,
   "metadata": {},
   "outputs": [
    {
     "data": {
      "text/plain": [
       "[{'nni_mean': 824.9194630872483,\n",
       "  'hr_mean': 84.33210854982532,\n",
       "  'hr_std': 45.02873656098175,\n",
       "  'rmssd': 205.39020214006106,\n",
       "  'lf': 6004.521268964863,\n",
       "  'hf': 4781.092420945251,\n",
       "  'LF/HF ratio': 1.2558889768915473}]"
      ]
     },
     "execution_count": 7,
     "metadata": {},
     "output_type": "execute_result"
    }
   ],
   "source": [
    "HRV.features"
   ]
  },
  {
   "cell_type": "code",
   "execution_count": 8,
   "metadata": {},
   "outputs": [
    {
     "data": {
      "text/plain": [
       "dict_keys(['nni_mean', 'hr_mean', 'hr_std', 'rmssd', 'lf', 'hf', 'LF/HF ratio'])"
      ]
     },
     "execution_count": 8,
     "metadata": {},
     "output_type": "execute_result"
    }
   ],
   "source": [
    "HRV.feature_names"
   ]
  },
  {
   "cell_type": "code",
   "execution_count": 9,
   "metadata": {},
   "outputs": [],
   "source": [
    "HRV.detect_trends()"
   ]
  },
  {
   "cell_type": "code",
   "execution_count": 10,
   "metadata": {},
   "outputs": [],
   "source": [
    "HRV.features = HRV.features + HRV.features"
   ]
  },
  {
   "cell_type": "code",
   "execution_count": 11,
   "metadata": {},
   "outputs": [
    {
     "data": {
      "text/plain": [
       "[{'nni_mean': 824.9194630872483,\n",
       "  'hr_mean': 84.33210854982532,\n",
       "  'hr_std': 45.02873656098175,\n",
       "  'rmssd': 205.39020214006106,\n",
       "  'lf': 6004.521268964863,\n",
       "  'hf': 4781.092420945251,\n",
       "  'LF/HF ratio': 1.2558889768915473},\n",
       " {'nni_mean': 824.9194630872483,\n",
       "  'hr_mean': 84.33210854982532,\n",
       "  'hr_std': 45.02873656098175,\n",
       "  'rmssd': 205.39020214006106,\n",
       "  'lf': 6004.521268964863,\n",
       "  'hf': 4781.092420945251,\n",
       "  'LF/HF ratio': 1.2558889768915473}]"
      ]
     },
     "execution_count": 11,
     "metadata": {},
     "output_type": "execute_result"
    }
   ],
   "source": [
    "HRV.features"
   ]
  },
  {
   "cell_type": "code",
   "execution_count": 12,
   "metadata": {},
   "outputs": [],
   "source": [
    "HRV.detect_trends()"
   ]
  },
  {
   "cell_type": "code",
   "execution_count": 13,
   "metadata": {},
   "outputs": [
    {
     "data": {
      "text/plain": [
       "{'nni_mean': 0.0,\n",
       " 'hr_mean': -7.105427357601002e-15,\n",
       " 'hr_std': 0.0,\n",
       " 'rmssd': -2.842170943040401e-14,\n",
       " 'lf': -9.094947017729282e-13,\n",
       " 'hf': -9.094947017729282e-13,\n",
       " 'LF/HF ratio': 0.0}"
      ]
     },
     "execution_count": 13,
     "metadata": {},
     "output_type": "execute_result"
    }
   ],
   "source": [
    "HRV.current_trends"
   ]
  },
  {
   "cell_type": "markdown",
   "metadata": {},
   "source": [
    "# Test 30min recording"
   ]
  },
  {
   "cell_type": "code",
   "execution_count": 13,
   "metadata": {},
   "outputs": [
    {
     "name": "stdout",
     "output_type": "stream",
     "text": [
      "{'20:18:05:28:46:81': {'sensor': ['ECGBIT'], 'device name': '20:18:05:28:46:81', 'column': ['nSeq', 'I1', 'I2', 'O1', 'O2', 'A1'], 'sync interval': 2, 'time': '13:54:1.892', 'comments': '', 'device connection': '/dev/tty.BITalino-46-81-DevB', 'channels': [1], 'keywords': '', 'convertedValues': 0, 'mode': 0, 'digital IO': [0, 0, 1, 1], 'firmware version': 1281, 'device': 'bitalino_rev', 'position': 0, 'sampling rate': 100, 'label': ['A1'], 'resolution': [4, 1, 1, 1, 1, 10], 'date': '2020-2-24', 'special': [{}]}}\n",
      "(182295, 6)\n"
     ]
    }
   ],
   "source": [
    "import csv, json\n",
    "import numpy as np\n",
    "\n",
    "with open(\"Sensor data/ECG_long.txt\") as datafile:\n",
    "    readdata = csv.reader(datafile, delimiter='\\t')\n",
    "    header = [next(readdata), next(readdata), next(readdata)]\n",
    "    header_json = json.loads(header[1][0][1:])\n",
    "print(header_json)\n",
    "\n",
    "data = np.genfromtxt(\"Sensor data/ECG_long.txt\")\n",
    "print(data.shape)\n"
   ]
  },
  {
   "cell_type": "code",
   "execution_count": 29,
   "metadata": {},
   "outputs": [],
   "source": [
    "sampling_rate = header_json[list(header_json.keys())[0]]['sampling rate']"
   ]
  },
  {
   "cell_type": "code",
   "execution_count": 21,
   "metadata": {},
   "outputs": [
    {
     "data": {
      "text/plain": [
       "array([519., 517., 516., 516., 518., 519., 519., 518., 521., 523.])"
      ]
     },
     "execution_count": 21,
     "metadata": {},
     "output_type": "execute_result"
    }
   ],
   "source": [
    "signal = data[:,-1]\n",
    "signal[:10]"
   ]
  },
  {
   "cell_type": "code",
   "execution_count": 26,
   "metadata": {},
   "outputs": [
    {
     "data": {
      "text/plain": [
       "[<matplotlib.lines.Line2D at 0x1c2197e4d0>]"
      ]
     },
     "execution_count": 26,
     "metadata": {},
     "output_type": "execute_result"
    },
    {
     "data": {
      "image/png": "[encoded data removed]",
      "text/plain": [
       "<Figure size 432x288 with 1 Axes>"
      ]
     },
     "metadata": {
      "needs_background": "light"
     },
     "output_type": "display_data"
    }
   ],
   "source": [
    "import matplotlib.pyplot as plt\n",
    "%matplotlib inline\n",
    "\n",
    "plt.plot(signal[:1000])"
   ]
  },
  {
   "cell_type": "code",
   "execution_count": 30,
   "metadata": {},
   "outputs": [],
   "source": [
    "import biofeatures\n",
    "\n",
    "HRV = biofeatures.hrv(signal, srate = sampling_rate)\n",
    "HRV.r_peak_intervals(HRV.data)"
   ]
  },
  {
   "cell_type": "code",
   "execution_count": 31,
   "metadata": {},
   "outputs": [
    {
     "data": {
      "text/plain": [
       "array([ 950,  800,  810, ..., 1040, 1070,  910])"
      ]
     },
     "execution_count": 31,
     "metadata": {},
     "output_type": "execute_result"
    }
   ],
   "source": [
    "HRV.r_intervals"
   ]
  },
  {
   "cell_type": "code",
   "execution_count": 32,
   "metadata": {},
   "outputs": [],
   "source": [
    "HRV.hrv_features()"
   ]
  },
  {
   "cell_type": "code",
   "execution_count": 33,
   "metadata": {},
   "outputs": [
    {
     "data": {
      "text/plain": [
       "[{'nni_mean': 913.92,\n",
       "  'hr_mean': 66.29,\n",
       "  'hr_std': 7.7,\n",
       "  'rmssd': 80.08,\n",
       "  'lf': 2223.36,\n",
       "  'hf': 1977.05,\n",
       "  'LF/HF ratio': 1.12}]"
      ]
     },
     "execution_count": 33,
     "metadata": {},
     "output_type": "execute_result"
    }
   ],
   "source": [
    "HRV.features"
   ]
  },
  {
   "cell_type": "code",
   "execution_count": 34,
   "metadata": {},
   "outputs": [
    {
     "data": {
      "text/plain": [
       "182295"
      ]
     },
     "execution_count": 34,
     "metadata": {},
     "output_type": "execute_result"
    }
   ],
   "source": [
    "len(HRV.data)"
   ]
  },
  {
   "cell_type": "code",
   "execution_count": 35,
   "metadata": {},
   "outputs": [
    {
     "data": {
      "text/plain": [
       "100.0"
      ]
     },
     "execution_count": 35,
     "metadata": {},
     "output_type": "execute_result"
    }
   ],
   "source": [
    "180000/(60*30)"
   ]
  },
  {
   "cell_type": "code",
   "execution_count": 62,
   "metadata": {},
   "outputs": [
    {
     "name": "stdout",
     "output_type": "stream",
     "text": [
      "{'nni_mean': 896.3, 'hr_mean': 67.68, 'hr_std': 7.41, 'rmssd': 89.9, 'lf': 4864.18, 'hf': 4491.47, 'LF/HF ratio': 1.08}\n",
      "{'nni_mean': 850.91, 'hr_mean': 71.37, 'hr_std': 7.92, 'rmssd': 70.85, 'lf': 10559.11, 'hf': 910.09, 'LF/HF ratio': 11.6}\n",
      "{'nni_mean': -45.3900000000001, 'hr_mean': 3.6899999999999764, 'hr_std': 0.5099999999999989, 'rmssd': -19.05000000000002, 'lf': 5694.9299999999985, 'hf': -3581.379999999999, 'LF/HF ratio': 10.519999999999996}\n",
      "{'nni_mean': 842.06, 'hr_mean': 71.9, 'hr_std': 6.82, 'rmssd': 65.09, 'lf': 6222.98, 'hf': 380.13, 'LF/HF ratio': 16.37}\n",
      "{'nni_mean': -27.120000000000054, 'hr_mean': 2.109999999999997, 'hr_std': -0.295000000000001, 'rmssd': -12.40500000000001, 'lf': 679.3999999999985, 'hf': -2055.670000000001, 'LF/HF ratio': 7.645}\n",
      "{'nni_mean': 837.45, 'hr_mean': 72.21, 'hr_std': 6.34, 'rmssd': 68.22, 'lf': 3116.92, 'hf': 723.34, 'LF/HF ratio': 4.31}\n",
      "{'nni_mean': -18.540000000000195, 'hr_mean': 1.411999999999979, 'hr_std': -0.43100000000000205, 'rmssd': -7.080000000000027, 'lf': -957.7910000000015, 'hf': -1183.4350000000013, 'LF/HF ratio': 1.445999999999999}\n",
      "{'nni_mean': 855.61, 'hr_mean': 70.8, 'hr_std': 6.87, 'rmssd': 67.77, 'lf': 2098.09, 'hf': 1225.95, 'LF/HF ratio': 1.71}\n",
      "{'nni_mean': -9.484000000000018, 'hr_mean': 0.7079999999999986, 'hr_std': -0.266, 'rmssd': -4.689000000000004, 'lf': -1297.4369999999997, 'hf': -671.779, 'LF/HF ratio': -0.6029999999999993}\n",
      "{'nni_mean': 865.74, 'hr_mean': 70.04, 'hr_std': 7.1, 'rmssd': 74.78, 'lf': 2141.68, 'hf': 1401.11, 'LF/HF ratio': 1.53}\n",
      "{'nni_mean': -4.094571428571458, 'hr_mean': 0.29714285714285604, 'hr_std': -0.14800000000000052, 'rmssd': -2.3345714285714285, 'lf': -1202.9034285714285, 'hf': -404.6002857142857, 'LF/HF ratio': -1.1280000000000003}\n",
      "{'nni_mean': 871.9, 'hr_mean': 69.52, 'hr_std': 6.94, 'rmssd': 74.41, 'lf': 2675.06, 'hf': 1539.53, 'LF/HF ratio': 1.74}\n",
      "{'nni_mean': -1.0710714285715237, 'hr_mean': 0.06285714285713347, 'hr_std': -0.10714285714285815, 'rmssd': -1.2832142857142923, 'lf': -983.1110714285718, 'hf': -250.99857142857206, 'LF/HF ratio': -1.1721428571428567}\n",
      "{'nni_mean': 876.33, 'hr_mean': 69.12, 'hr_std': 6.74, 'rmssd': 74.15, 'lf': 3241.5, 'hf': 1682.01, 'LF/HF ratio': 1.93}\n",
      "{'nni_mean': 0.6471428571429476, 'hr_mean': -0.07333333333332885, 'hr_std': -0.09785714285714231, 'rmssd': -0.7598809523809466, 'lf': -762.4016666666657, 'hf': -154.20797619047605, 'LF/HF ratio': -1.077023809523809}\n",
      "{'nni_mean': 880.4, 'hr_mean': 68.77, 'hr_std': 6.54, 'rmssd': 71.57, 'lf': 3536.54, 'hf': 1763.28, 'LF/HF ratio': 2.01}\n",
      "{'nni_mean': 1.6771666666665686, 'hr_mean': -0.1553333333333382, 'hr_std': -0.10033333333333365, 'rmssd': -0.6370000000000033, 'lf': -588.9078333333338, 'hf': -93.34050000000008, 'LF/HF ratio': -0.9555000000000011}\n",
      "{'nni_mean': 882.5, 'hr_mean': 68.56, 'hr_std': 6.3, 'rmssd': 69.83, 'lf': 3515.72, 'hf': 1791.59, 'LF/HF ratio': 1.96}\n",
      "{'nni_mean': 2.2246060606060762, 'hr_mean': -0.20006060606060247, 'hr_std': -0.10921212121212101, 'rmssd': -0.6346060606060577, 'lf': -469.59709090909087, 'hf': -55.71793939393932, 'LF/HF ratio': -0.8442424242424237}\n",
      "{'nni_mean': 883.5, 'hr_mean': 68.45, 'hr_std': 6.14, 'rmssd': 69.62, 'lf': 3298.25, 'hf': 1769.83, 'LF/HF ratio': 1.86}\n",
      "{'nni_mean': 2.467545454545463, 'hr_mean': -0.22036363636363548, 'hr_std': -0.11636363636363618, 'rmssd': -0.6140000000000005, 'lf': -393.05818181818194, 'hf': -33.6529999999999, 'LF/HF ratio': -0.7497272727272725}\n",
      "{'nni_mean': 887.39, 'hr_mean': 68.14, 'hr_std': 6.04, 'rmssd': 67.99, 'lf': 2982.5, 'hf': 1703.36, 'LF/HF ratio': 1.75}\n",
      "{'nni_mean': 2.6624125874125366, 'hr_mean': -0.23552447552448055, 'hr_std': -0.1198601398601401, 'rmssd': -0.6411888111888145, 'lf': -345.9277272727275, 'hf': -22.185419580419612, 'LF/HF ratio': -0.6705944055944058}\n",
      "{'nni_mean': 886.97, 'hr_mean': 68.19, 'hr_std': 6.17, 'rmssd': 70.68, 'lf': 2682.41, 'hf': 1616.74, 'LF/HF ratio': 1.66}\n",
      "{'nni_mean': 2.678571428571441, 'hr_mean': -0.2352747252747225, 'hr_std': -0.11373626373626357, 'rmssd': -0.5478021978021954, 'lf': -315.93115384615373, 'hf': -17.37868131868138, 'LF/HF ratio': -0.6036263736263734}\n",
      "{'nni_mean': 889.74, 'hr_mean': 67.98, 'hr_std': 6.14, 'rmssd': 73.3, 'lf': 2416.77, 'hf': 1524.16, 'LF/HF ratio': 1.59}\n",
      "{'nni_mean': 2.6913406593406406, 'hr_mean': -0.23439560439560705, 'hr_std': -0.10749450549450573, 'rmssd': -0.3985934065934084, 'lf': -295.639274725275, 'hf': -16.505912087912186, 'LF/HF ratio': -0.5462857142857146}\n",
      "{'nni_mean': 892.34, 'hr_mean': 67.79, 'hr_std': 6.2, 'rmssd': 74.91, 'lf': 2239.05, 'hf': 1444.85, 'LF/HF ratio': 1.55}\n",
      "{'nni_mean': 2.6973571428571166, 'hr_mean': -0.23271428571428543, 'hr_std': -0.09925000000000005, 'rmssd': -0.2513928571428586, 'lf': -279.5015714285712, 'hf': -17.508714285714387, 'LF/HF ratio': -0.49635714285714283}\n",
      "{'nni_mean': 895.67, 'hr_mean': 67.54, 'hr_std': 6.17, 'rmssd': 75.15, 'lf': 2141.77, 'hf': 1399.27, 'LF/HF ratio': 1.53}\n",
      "{'nni_mean': 2.7153382352941184, 'hr_mean': -0.23197058823529232, 'hr_std': -0.09220588235294119, 'rmssd': -0.14205882352941163, 'lf': -264.68395588235273, 'hf': -18.798926470588206, 'LF/HF ratio': -0.45244117647058824}\n",
      "{'nni_mean': 899.47, 'hr_mean': 67.26, 'hr_std': 6.17, 'rmssd': 74.94, 'lf': 2108.35, 'hf': 1389.23, 'LF/HF ratio': 1.52}\n",
      "{'nni_mean': 2.748946078431342, 'hr_mean': -0.23240196078431435, 'hr_std': -0.08556372549019621, 'rmssd': -0.06835784313725533, 'lf': -249.98041666666683, 'hf': -19.512622549019575, 'LF/HF ratio': -0.4136274509803923}\n",
      "{'nni_mean': 901.71, 'hr_mean': 67.08, 'hr_std': 6.13, 'rmssd': 74.81, 'lf': 2116.98, 'hf': 1409.23, 'LF/HF ratio': 1.5}\n",
      "{'nni_mean': 2.7636016511867827, 'hr_mean': -0.231785345717236, 'hr_std': -0.08010319917440664, 'rmssd': -0.01771929824561548, 'lf': -235.12511867905064, 'hf': -19.320257997936118, 'LF/HF ratio': -0.37948400412796696}\n",
      "{'nni_mean': 902.92, 'hr_mean': 66.98, 'hr_std': 6.04, 'rmssd': 73.97, 'lf': 2145.74, 'hf': 1444.14, 'LF/HF ratio': 1.49}\n",
      "{'nni_mean': 2.749561403508744, 'hr_mean': -0.22926315789473786, 'hr_std': -0.07635087719298257, 'rmssd': 0.005543859649121535, 'lf': -220.32524561403523, 'hf': -18.326298245614094, 'LF/HF ratio': -0.3492105263157896}\n",
      "{'nni_mean': 901.04, 'hr_mean': 67.11, 'hr_std': 6.01, 'rmssd': 73.61, 'lf': 2191.09, 'hf': 1488.49, 'LF/HF ratio': 1.47}\n",
      "{'nni_mean': 2.6731954887218023, 'hr_mean': -0.2222932330827048, 'hr_std': -0.07295488721804504, 'rmssd': 0.0172706766917294, 'lf': -205.74712030075182, 'hf': -16.706751879699297, 'LF/HF ratio': -0.3224511278195488}\n",
      "{'nni_mean': 901.85, 'hr_mean': 67.04, 'hr_std': 5.93, 'rmssd': 73.17, 'lf': 2232.13, 'hf': 1532.14, 'LF/HF ratio': 1.46}\n",
      "{'nni_mean': 2.592467532467523, 'hr_mean': -0.21515584415584416, 'hr_std': -0.07053246753246752, 'rmssd': 0.020012987012986556, 'lf': -191.75049350649348, 'hf': -14.724012987013062, 'LF/HF ratio': -0.29858441558441534}\n",
      "{'nni_mean': 902.14, 'hr_mean': 67.0, 'hr_std': 5.85, 'rmssd': 72.78, 'lf': 2263.54, 'hf': 1566.93, 'LF/HF ratio': 1.44}\n",
      "{'nni_mean': 2.50453980801809, 'hr_mean': -0.20771880293619177, 'hr_std': -0.06882552230378298, 'rmssd': 0.0172106154714881, 'lf': -178.59302089215112, 'hf': -12.647876905702997, 'LF/HF ratio': -0.2773574251835119}\n",
      "{'nni_mean': 902.6, 'hr_mean': 66.99, 'hr_std': 5.96, 'rmssd': 73.62, 'lf': 2285.33, 'hf': 1596.37, 'LF/HF ratio': 1.43}\n",
      "{'nni_mean': 2.4154150197628295, 'hr_mean': -0.19991106719367674, 'hr_std': -0.06558300395256911, 'rmssd': 0.024021739130435676, 'lf': -166.4038241106719, 'hf': -10.610731225296465, 'LF/HF ratio': -0.25830039525691706}\n",
      "{'nni_mean': 904.55, 'hr_mean': 66.87, 'hr_std': 6.06, 'rmssd': 75.99, 'lf': 2303.91, 'hf': 1614.79, 'LF/HF ratio': 1.43}\n",
      "{'nni_mean': 2.3421347826086785, 'hr_mean': -0.19310000000000138, 'hr_std': -0.06143043478260885, 'rmssd': 0.05272608695652124, 'lf': -155.1683043478261, 'hf': -8.751821739130497, 'LF/HF ratio': -0.2410434782608697}\n",
      "{'nni_mean': 906.36, 'hr_mean': 66.73, 'hr_std': 6.02, 'rmssd': 76.16, 'lf': 2309.68, 'hf': 1628.32, 'LF/HF ratio': 1.42}\n",
      "{'nni_mean': 2.28017692307691, 'hr_mean': -0.18730769230769306, 'hr_std': -0.057999999999999954, 'rmssd': 0.0761538461538456, 'lf': -144.9362999999999, 'hf': -7.099053846153836, 'LF/HF ratio': -0.22547692307692305}\n",
      "{'nni_mean': 907.89, 'hr_mean': 66.61, 'hr_std': 6.0, 'rmssd': 75.97, 'lf': 2319.08, 'hf': 1636.98, 'LF/HF ratio': 1.42}\n",
      "{'nni_mean': 2.225046153846153, 'hr_mean': -0.18217777777777727, 'hr_std': -0.05497777777777775, 'rmssd': 0.092300854700855, 'lf': -135.5715076923076, 'hf': -5.6647487179487275, 'LF/HF ratio': -0.21130940170940174}\n",
      "{'nni_mean': 909.39, 'hr_mean': 66.49, 'hr_std': 5.94, 'rmssd': 75.36, 'lf': 2333.39, 'hf': 1644.11, 'LF/HF ratio': 1.42}\n",
      "{'nni_mean': 2.1755372405372144, 'hr_mean': -0.1776129426129443, 'hr_std': -0.05261904761904775, 'rmssd': 0.09954212454212338, 'lf': -126.9495970695971, 'hf': -4.424865689865723, 'LF/HF ratio': -0.19838827838827847}\n",
      "{'nni_mean': 910.13, 'hr_mean': 66.44, 'hr_std': 5.92, 'rmssd': 75.65, 'lf': 2354.54, 'hf': 1650.77, 'LF/HF ratio': 1.43}\n",
      "{'nni_mean': 2.1252983032293233, 'hr_mean': -0.17301587301587396, 'hr_std': -0.050489874110563805, 'rmssd': 0.10674603174603113, 'lf': -118.95348932676514, 'hf': -3.350440613026877, 'LF/HF ratio': -0.18650519978106186}\n",
      "{'nni_mean': 908.4, 'hr_mean': 66.57, 'hr_std': 6.01, 'rmssd': 75.77, 'lf': 2387.47, 'hf': 1657.3, 'LF/HF ratio': 1.44}\n",
      "{'nni_mean': 2.0581724137930992, 'hr_mean': -0.1672167487684735, 'hr_std': -0.04780295566502455, 'rmssd': 0.11265024630541888, 'lf': -111.45398522167483, 'hf': -2.4153497536946134, 'LF/HF ratio': -0.17556157635467975}\n",
      "{'nni_mean': 908.48, 'hr_mean': 66.56, 'hr_std': 5.94, 'rmssd': 75.63, 'lf': 2422.94, 'hf': 1664.17, 'LF/HF ratio': 1.46}\n",
      "{'nni_mean': 1.9908431590655982, 'hr_mean': -0.1614883203559535, 'hr_std': -0.04576195773081217, 'rmssd': 0.11581979977752858, 'lf': -104.40971746384895, 'hf': -1.595305895439434, 'LF/HF ratio': -0.16540378197997788}\n"
     ]
    },
    {
     "name": "stdout",
     "output_type": "stream",
     "text": [
      "{'nni_mean': 909.06, 'hr_mean': 66.5, 'hr_std': 5.88, 'rmssd': 75.1, 'lf': 2671.54, 'hf': 1670.93, 'LF/HF ratio': 1.6}\n",
      "{'nni_mean': 1.927197580645164, 'hr_mean': -0.15618548387096773, 'hr_std': -0.04417741935483871, 'rmssd': 0.1145080645161292, 'lf': -96.50850403225796, 'hf': -0.8735241935484389, 'LF/HF ratio': -0.15524193548387089}\n",
      "{'nni_mean': 909.2, 'hr_mean': 66.48, 'hr_std': 5.83, 'rmssd': 75.01, 'lf': 2671.54, 'hf': 1670.93, 'LF/HF ratio': 1.6}\n",
      "{'nni_mean': 1.8646077712610232, 'hr_mean': -0.15104288856304823, 'hr_std': -0.04290505865102626, 'rmssd': 0.1122653958944307, 'lf': -89.45063782991187, 'hf': -0.27391129032251776, 'LF/HF ratio': -0.14598790322580638}\n",
      "{'nni_mean': 909.53, 'hr_mean': 66.45, 'hr_std': 5.79, 'rmssd': 75.26, 'lf': 2671.54, 'hf': 1670.93, 'LF/HF ratio': 1.6}\n",
      "{'nni_mean': 1.8045220588235262, 'hr_mean': -0.14613302139037368, 'hr_std': -0.04183489304812825, 'rmssd': 0.11114304812834377, 'lf': -83.12218917112287, 'hf': 0.2245588235294197, 'LF/HF ratio': -0.13753676470588228}\n",
      "{'nni_mean': 909.87, 'hr_mean': 66.42, 'hr_std': 5.74, 'rmssd': 75.15, 'lf': 2473.68, 'hf': 1653.21, 'LF/HF ratio': 1.5}\n",
      "{'nni_mean': 1.7470496562261053, 'hr_mean': -0.1414545454545475, 'hr_std': -0.04098395721925144, 'rmssd': 0.10909243697478914, 'lf': -78.42521925133698, 'hf': 0.5496134453781362, 'LF/HF ratio': -0.13030252100840345}\n",
      "{'nni_mean': 910.39, 'hr_mean': 66.37, 'hr_std': 5.68, 'rmssd': 74.51, 'lf': 2473.68, 'hf': 1653.21, 'LF/HF ratio': 1.5}\n",
      "{'nni_mean': 1.6930392156862826, 'hr_mean': -0.13709803921568608, 'hr_std': -0.040361344537815085, 'rmssd': 0.1038067226890762, 'lf': -74.11525770308121, 'hf': 0.8194229691876972, 'LF/HF ratio': -0.1236190476190476}\n",
      "{'nni_mean': 909.11, 'hr_mean': 66.47, 'hr_std': 5.68, 'rmssd': 74.38, 'lf': 2473.68, 'hf': 1653.21, 'LF/HF ratio': 1.5}\n",
      "{'nni_mean': 1.6341518661518804, 'hr_mean': -0.1323603603603603, 'hr_std': -0.03965508365508361, 'rmssd': 0.09830115830115857, 'lf': -70.15094208494212, 'hf': 1.0430038610038606, 'LF/HF ratio': -0.11743243243243237}\n",
      "{'nni_mean': 908.6, 'hr_mean': 66.51, 'hr_std': 5.7, 'rmssd': 74.22, 'lf': 2473.68, 'hf': 1653.21, 'LF/HF ratio': 1.5}\n",
      "{'nni_mean': 1.5751612138454296, 'hr_mean': -0.12761498340445615, 'hr_std': -0.03880275011853955, 'rmssd': 0.09253911806543402, 'lf': -66.49628971076335, 'hf': 1.227785680417273, 'LF/HF ratio': -0.11169511616880032}\n",
      "{'nni_mean': 906.17, 'hr_mean': 66.7, 'hr_std': 5.77, 'rmssd': 74.0, 'lf': 2305.76, 'hf': 1616.57, 'LF/HF ratio': 1.43}\n",
      "{'nni_mean': 1.508791990370938, 'hr_mean': -0.12229456176824637, 'hr_std': -0.03763759711128129, 'rmssd': 0.08637487690119265, 'lf': -63.79971769340189, 'hf': 1.231576758945167, 'LF/HF ratio': -0.10664842980632454}\n",
      "{'nni_mean': 905.47, 'hr_mean': 66.75, 'hr_std': 5.8, 'rmssd': 74.93, 'lf': 2305.76, 'hf': 1616.57, 'LF/HF ratio': 1.43}\n",
      "{'nni_mean': 1.4436275303643809, 'hr_mean': -0.11708906882591083, 'hr_std': -0.036382591093117256, 'rmssd': 0.08435627530364471, 'lf': -61.251876518218566, 'hf': 1.2300769230769322, 'LF/HF ratio': -0.10192914979757074}\n",
      "{'nni_mean': 907.84, 'hr_mean': 66.63, 'hr_std': 6.0, 'rmssd': 79.12, 'lf': 2305.76, 'hf': 1616.57, 'LF/HF ratio': 1.43}\n",
      "{'nni_mean': 1.391150093808638, 'hr_mean': -0.11263696060037515, 'hr_std': -0.034441838649155614, 'rmssd': 0.0976463414634151, 'lf': -58.843476547842364, 'hf': 1.2242908067542202, 'LF/HF ratio': -0.09751031894934331}\n",
      "{'nni_mean': 910.2, 'hr_mean': 66.47, 'hr_std': 6.06, 'rmssd': 79.48, 'lf': 2305.76, 'hf': 1616.57, 'LF/HF ratio': 1.43}\n",
      "{'nni_mean': 1.3493623693379784, 'hr_mean': -0.10897038327526107, 'hr_std': -0.032442508710801336, 'rmssd': 0.10999825783972181, 'lf': -56.56571254355397, 'hf': 1.2150452961672393, 'LF/HF ratio': -0.0933675958188153}\n",
      "{'nni_mean': 911.09, 'hr_mean': 66.4, 'hr_std': 6.04, 'rmssd': 79.64, 'lf': 2458.79, 'hf': 1847.4, 'LF/HF ratio': 1.33}\n",
      "{'nni_mean': 1.3117405396645323, 'hr_mean': -0.10567377035896598, 'hr_std': -0.03067417551251922, 'rmssd': 0.1208338060124785, 'lf': -53.901877481565535, 'hf': 1.9698995219188047, 'LF/HF ratio': -0.08981119844421041}\n",
      "{'nni_mean': 912.11, 'hr_mean': 66.32, 'hr_std': 6.02, 'rmssd': 79.59, 'lf': 2458.79, 'hf': 1847.4, 'LF/HF ratio': 1.33}\n",
      "{'nni_mean': 1.2782044699486634, 'hr_mean': -0.10273482331621775, 'hr_std': -0.029107520386590077, 'rmssd': 0.1296843853820609, 'lf': -51.42190878888548, 'hf': 2.6179658713379443, 'LF/HF ratio': -0.08644367260646325}\n",
      "{'nni_mean': 913.69, 'hr_mean': 66.21, 'hr_std': 6.03, 'rmssd': 79.42, 'lf': 2458.79, 'hf': 1847.4, 'LF/HF ratio': 1.33}\n",
      "{'nni_mean': 1.2499527836504685, 'hr_mean': -0.10020084566596014, 'hr_std': -0.027626497533474067, 'rmssd': 0.1364735729386905, 'lf': -49.1092635658914, 'hf': 3.173653981677247, 'LF/HF ratio': -0.08325299506694846}\n",
      "{'nni_mean': 914.66, 'hr_mean': 66.13, 'hr_std': 6.0, 'rmssd': 79.31, 'lf': 2458.79, 'hf': 1847.4, 'LF/HF ratio': 1.33}\n",
      "{'nni_mean': 1.2244927536232049, 'hr_mean': -0.09793148880105391, 'hr_std': -0.02634123847167317, 'rmssd': 0.14168247694334696, 'lf': -46.949218708827374, 'hf': 3.649272727272731, 'LF/HF ratio': -0.08022793148880104}\n",
      "{'nni_mean': 915.81, 'hr_mean': 66.05, 'hr_std': 5.99, 'rmssd': 79.09, 'lf': 2398.4, 'hf': 1960.86, 'LF/HF ratio': 1.22}\n",
      "{'nni_mean': 1.2020055504163014, 'hr_mean': -0.09589577551649503, 'hr_std': -0.025171137835337424, 'rmssd': 0.14523712611779444, 'lf': -45.09623065063202, 'hf': 4.370241751464747, 'LF/HF ratio': -0.07766327474560585}\n",
      "{'nni_mean': 914.87, 'hr_mean': 66.12, 'hr_std': 6.02, 'rmssd': 79.02, 'lf': 2398.4, 'hf': 1960.86, 'LF/HF ratio': 1.22}\n",
      "{'nni_mean': 1.1765726179463423, 'hr_mean': -0.09366790009250679, 'hr_std': -0.023997456059204423, 'rmssd': 0.14778445883441219, 'lf': -43.35000115633674, 'hf': 4.991384135060102, 'LF/HF ratio': -0.0752058279370953}\n",
      "{'nni_mean': 913.74, 'hr_mean': 66.2, 'hr_std': 6.03, 'rmssd': 78.87, 'lf': 2398.4, 'hf': 1960.86, 'LF/HF ratio': 1.22}\n",
      "{'nni_mean': 1.148304928354314, 'hr_mean': -0.09126411202779128, 'hr_std': -0.022877768128528063, 'rmssd': 0.1492667173252273, 'lf': -41.70255427703, 'hf': 5.525319691706439, 'LF/HF ratio': -0.07285117238384722}\n",
      "{'nni_mean': 914.15, 'hr_mean': 66.17, 'hr_std': 6.03, 'rmssd': 78.91, 'lf': 2310.05, 'hf': 1922.12, 'LF/HF ratio': 1.2}\n",
      "{'nni_mean': 1.121552040816329, 'hr_mean': -0.08899285714285646, 'hr_std': -0.021833673469387624, 'rmssd': 0.15030714285714375, 'lf': -40.36300510204079, 'hf': 5.888085714285712, 'LF/HF ratio': -0.07064387755102032}\n",
      "{'nni_mean': 915.38, 'hr_mean': 66.09, 'hr_std': 6.05, 'rmssd': 79.29, 'lf': 2310.04, 'hf': 1922.13, 'LF/HF ratio': 1.2}\n",
      "{'nni_mean': 1.0981387755101992, 'hr_mean': -0.0869623049219695, 'hr_std': -0.020811524609843982, 'rmssd': 0.15176806722689026, 'lf': -39.08294981992805, 'hf': 6.195196158463359, 'LF/HF ratio': -0.06852484993997604}\n",
      "{'nni_mean': 915.81, 'hr_mean': 66.06, 'hr_std': 6.03, 'rmssd': 79.06, 'lf': 2310.04, 'hf': 1922.13, 'LF/HF ratio': 1.2}\n",
      "{'nni_mean': 1.0758624434389201, 'hr_mean': -0.08503257918551932, 'hr_std': -0.01990316742081442, 'rmssd': 0.15220000000000064, 'lf': -37.85927420814479, 'hf': 6.453549321266981, 'LF/HF ratio': -0.06649049773755655}\n",
      "{'nni_mean': 915.41, 'hr_mean': 66.08, 'hr_std': 6.02, 'rmssd': 78.74, 'lf': 2310.04, 'hf': 1922.13, 'LF/HF ratio': 1.2}\n",
      "{'nni_mean': 1.0528464099718302, 'hr_mean': -0.08308844873217734, 'hr_std': -0.019074105694527426, 'rmssd': 0.151555963459405, 'lf': -36.689041663109336, 'hf': 6.669167591564927, 'LF/HF ratio': -0.06453726628532398}\n",
      "{'nni_mean': 915.38, 'hr_mean': 66.08, 'hr_std': 6.01, 'rmssd': 79.01, 'lf': 2379.18, 'hf': 1932.11, 'LF/HF ratio': 1.23}\n",
      "{'nni_mean': 1.0300693436542572, 'hr_mean': -0.08118206740848252, 'hr_std': -0.018316400580551503, 'rmssd': 0.15123044670214458, 'lf': -35.4245178197065, 'hf': 6.86822125463635, 'LF/HF ratio': -0.06259877439122721}\n",
      "{'nni_mean': 915.74, 'hr_mean': 66.06, 'hr_std': 6.01, 'rmssd': 79.12, 'lf': 2379.17, 'hf': 1932.11, 'LF/HF ratio': 1.23}\n",
      "{'nni_mean': 1.008377358490554, 'hr_mean': -0.07935620354488455, 'hr_std': -0.017602820659424506, 'rmssd': 0.15085648942252597, 'lf': -34.22384295788072, 'hf': 7.032086906803871, 'LF/HF ratio': -0.06074137602439493}\n",
      "{'nni_mean': 915.91, 'hr_mean': 66.04, 'hr_std': 6.01, 'rmssd': 79.37, 'lf': 2379.17, 'hf': 1932.11, 'LF/HF ratio': 1.23}\n",
      "{'nni_mean': 0.9873340548340682, 'hr_mean': -0.07760678210678057, 'hr_std': -0.016930014430014326, 'rmssd': 0.15071500721500888, 'lf': -33.08280303030295, 'hf': 7.16501587301588, 'LF/HF ratio': -0.058961038961038915}\n",
      "{'nni_mean': 915.34, 'hr_mean': 66.08, 'hr_std': 5.98, 'rmssd': 79.16, 'lf': 2379.17, 'hf': 1932.11, 'LF/HF ratio': 1.23}\n",
      "{'nni_mean': 0.9655389610389596, 'hr_mean': -0.07581715652768295, 'hr_std': -0.016351332877648693, 'rmssd': 0.14991011619958963, 'lf': -31.99754203691051, 'hf': 7.27073410799725, 'LF/HF ratio': -0.05725393028024611}\n"
     ]
    },
    {
     "name": "stdout",
     "output_type": "stream",
     "text": [
      "{'nni_mean': 914.79, 'hr_mean': 66.12, 'hr_std': 5.97, 'rmssd': 78.98, 'lf': 2400.35, 'hf': 1927.65, 'LF/HF ratio': 1.25}\n",
      "{'nni_mean': 0.9432084521648938, 'hr_mean': -0.07399922219341436, 'hr_std': -0.015819937775473164, 'rmssd': 0.14858828104744576, 'lf': -30.926068835882813, 'hf': 7.3444179414052355, 'LF/HF ratio': -0.05558011407829916}\n",
      "{'nni_mean': 914.25, 'hr_mean': 66.15, 'hr_std': 5.95, 'rmssd': 78.7, 'lf': 2400.35, 'hf': 1927.65, 'LF/HF ratio': 1.25}\n",
      "{'nni_mean': 0.9205090897905038, 'hr_mean': -0.0721806269033204, 'hr_std': -0.015348980282383426, 'rmssd': 0.1466470823464259, 'lf': -29.907455781475967, 'hf': 7.397860284844173, 'LF/HF ratio': -0.053976129687163574}\n",
      "{'nni_mean': 914.11, 'hr_mean': 66.16, 'hr_std': 5.92, 'rmssd': 78.58, 'lf': 2400.35, 'hf': 1927.65, 'LF/HF ratio': 1.25}\n",
      "{'nni_mean': 0.8982437171244841, 'hr_mean': -0.07040151957919409, 'hr_std': -0.0149491525423729, 'rmssd': 0.14444476914085302, 'lf': -28.9382869666862, 'hf': 7.4335102279368535, 'LF/HF ratio': -0.05243834015195795}\n",
      "{'nni_mean': 913.97, 'hr_mean': 66.16, 'hr_std': 5.88, 'rmssd': 78.23, 'lf': 2400.35, 'hf': 1927.65, 'LF/HF ratio': 1.25}\n",
      "{'nni_mean': 0.8764298416226689, 'hr_mean': -0.06867907752153472, 'hr_std': -0.014629063628785844, 'rmssd': 0.14164490136148888, 'lf': -28.015417616004463, 'hf': 7.4535259794387105, 'LF/HF ratio': -0.05096332314531818}\n",
      "{'nni_mean': 914.19, 'hr_mean': 66.14, 'hr_std': 5.86, 'rmssd': 78.32, 'lf': 2340.47, 'hf': 1890.86, 'LF/HF ratio': 1.24}\n",
      "{'nni_mean': 0.8915654348430071, 'hr_mean': -0.06961544873576064, 'hr_std': -0.012898860794665313, 'rmssd': 0.17018005001389236, 'lf': -24.938248680189012, 'hf': 12.509868574604054, 'LF/HF ratio': -0.05347568769102538}\n",
      "{'nni_mean': 914.31, 'hr_mean': 66.13, 'hr_std': 5.84, 'rmssd': 78.39, 'lf': 2340.47, 'hf': 1890.86, 'LF/HF ratio': 1.24}\n",
      "{'nni_mean': 0.8289713809391488, 'hr_mean': -0.06422839677688284, 'hr_std': -0.010250903028619137, 'rmssd': 0.16718532925812682, 'lf': -12.068410947485454, 'hf': 11.64059405390386, 'LF/HF ratio': -0.03816643512086698}\n",
      "{'nni_mean': 913.98, 'hr_mean': 66.15, 'hr_std': 5.82, 'rmssd': 78.39, 'lf': 2340.47, 'hf': 1890.86, 'LF/HF ratio': 1.24}\n",
      "{'nni_mean': 0.7473131425395889, 'hr_mean': -0.057619060850236575, 'hr_std': -0.009384551264240112, 'rmssd': 0.15400889135870988, 'lf': -6.09122811892195, 'hf': 9.8185798833009, 'LF/HF ratio': -0.014196721311475433}\n",
      "{'nni_mean': 913.91, 'hr_mean': 66.16, 'hr_std': 5.82, 'rmssd': 78.51, 'lf': 2231.91, 'hf': 1892.14, 'LF/HF ratio': 1.18}\n",
      "{'nni_mean': 0.6537299249791532, 'hr_mean': -0.05014837454848607, 'hr_std': -0.009276187829952806, 'rmssd': 0.14559516532370095, 'lf': -5.340766046123946, 'hf': 8.496423173103638, 'LF/HF ratio': -0.009925257015837739}\n",
      "{'nni_mean': 914.23, 'hr_mean': 66.13, 'hr_std': 5.8, 'rmssd': 78.43, 'lf': 2231.91, 'hf': 1892.15, 'LF/HF ratio': 1.18}\n",
      "{'nni_mean': 0.5872020005557007, 'hr_mean': -0.044780494581829054, 'hr_std': -0.00827340928035568, 'rmssd': 0.13571575437621525, 'lf': -6.267953598221751, 'hf': 7.961212836899133, 'LF/HF ratio': -0.00988663517643791}\n",
      "{'nni_mean': 914.17, 'hr_mean': 66.13, 'hr_std': 5.79, 'rmssd': 78.46, 'lf': 2231.91, 'hf': 1892.15, 'LF/HF ratio': 1.18}\n",
      "{'nni_mean': 0.5344876354542912, 'hr_mean': -0.040441233676021635, 'hr_std': -0.006837732703528821, 'rmssd': 0.1371744929146979, 'lf': -7.128696304529052, 'hf': 7.685862461794947, 'LF/HF ratio': -0.010123645457071423}\n",
      "{'nni_mean': 913.99, 'hr_mean': 66.14, 'hr_std': 5.76, 'rmssd': 78.35, 'lf': 2231.91, 'hf': 1892.15, 'LF/HF ratio': 1.18}\n",
      "{'nni_mean': 0.4892275632119938, 'hr_mean': -0.03674965268130106, 'hr_std': -0.0056496248958044035, 'rmssd': 0.13762128368991342, 'lf': -7.090419283134236, 'hf': 7.617834676298961, 'LF/HF ratio': -0.009985273687135327}\n",
      "{'nni_mean': 913.41, 'hr_mean': 66.18, 'hr_std': 5.75, 'rmssd': 78.2, 'lf': 2167.27, 'hf': 1914.95, 'LF/HF ratio': 1.13}\n",
      "{'nni_mean': 0.44818616282299906, 'hr_mean': -0.03348263406501829, 'hr_std': -0.004751319811058674, 'rmssd': 0.13716254515143111, 'lf': -6.1734153931648, 'hf': 7.809080022228387, 'LF/HF ratio': -0.009575715476521276}\n",
      "{'nni_mean': 912.94, 'hr_mean': 66.21, 'hr_std': 5.73, 'rmssd': 78.1, 'lf': 2167.27, 'hf': 1914.95, 'LF/HF ratio': 1.13}\n",
      "{'nni_mean': 0.41121200333425273, 'hr_mean': -0.030596276743540315, 'hr_std': -0.004169769380383485, 'rmssd': 0.13194192831341942, 'lf': -4.696647679911117, 'hf': 8.12512642400666, 'LF/HF ratio': -0.00898610725201447}\n",
      "{'nni_mean': 912.35, 'hr_mean': 66.25, 'hr_std': 5.74, 'rmssd': 77.98, 'lf': 2167.27, 'hf': 1914.95, 'LF/HF ratio': 1.13}\n",
      "{'nni_mean': 0.37502167268685616, 'hr_mean': -0.027858016115587966, 'hr_std': -0.0039335926646291075, 'rmssd': 0.12321255904417854, 'lf': -3.179076410113926, 'hf': 8.480727424284527, 'LF/HF ratio': -0.008432342317310382}\n",
      "{'nni_mean': 912.2, 'hr_mean': 66.26, 'hr_std': 5.72, 'rmssd': 78.23, 'lf': 2167.27, 'hf': 1914.95, 'LF/HF ratio': 1.13}\n",
      "{'nni_mean': 0.33862156154486794, 'hr_mean': -0.02516143373159271, 'hr_std': -0.003970269519310957, 'rmssd': 0.11408419005279175, 'lf': -1.9551636565712747, 'hf': 8.792591831064177, 'LF/HF ratio': -0.008001944984717995}\n",
      "{'nni_mean': 912.55, 'hr_mean': 66.23, 'hr_std': 5.71, 'rmssd': 78.1, 'lf': 2085.05, 'hf': 1907.72, 'LF/HF ratio': 1.09}\n",
      "{'nni_mean': 0.30779355376492534, 'hr_mean': -0.022917754931926295, 'hr_std': -0.004169491525423767, 'rmssd': 0.10150152820227808, 'lf': -1.3383575993331782, 'hf': 8.971878299527637, 'LF/HF ratio': -0.007782995276465703}\n",
      "{'nni_mean': 913.06, 'hr_mean': 66.2, 'hr_std': 5.71, 'rmssd': 78.17, 'lf': 2085.05, 'hf': 1907.72, 'LF/HF ratio': 1.09}\n",
      "{'nni_mean': 0.27569158099471525, 'hr_mean': -0.02053237010280727, 'hr_std': -0.004130036121144786, 'rmssd': 0.09303111975548688, 'lf': -1.1803064740205744, 'hf': 8.992994720755753, 'LF/HF ratio': -0.007679911086412902}\n",
      "{'nni_mean': 912.57, 'hr_mean': 66.24, 'hr_std': 5.72, 'rmssd': 78.53, 'lf': 2085.05, 'hf': 1907.72, 'LF/HF ratio': 1.09}\n",
      "{'nni_mean': 0.24603139761043927, 'hr_mean': -0.01832675743262063, 'hr_std': -0.00409947207557658, 'rmssd': 0.0891753264795776, 'lf': -1.439296749096993, 'hf': 8.841025840511252, 'LF/HF ratio': -0.0076637954987496745}\n",
      "{'nni_mean': 911.97, 'hr_mean': 66.28, 'hr_std': 5.74, 'rmssd': 78.63, 'lf': 2085.05, 'hf': 1907.72, 'LF/HF ratio': 1.09}\n",
      "{'nni_mean': 0.21852570158376655, 'hr_mean': -0.016280911364268243, 'hr_std': -0.003911086412892508, 'rmssd': 0.08792164490136166, 'lf': -1.9810733537093859, 'hf': 8.533318421783807, 'LF/HF ratio': -0.00768769102528481}\n",
      "{'nni_mean': 912.22, 'hr_mean': 66.26, 'hr_std': 5.72, 'rmssd': 78.56, 'lf': 2085.75, 'hf': 1899.97, 'LF/HF ratio': 1.1}\n",
      "{'nni_mean': 0.1959830508474459, 'hr_mean': -0.014607668796888908, 'hr_std': -0.0037807724367880245, 'rmssd': 0.08675326479577614, 'lf': -2.6780258405112747, 'hf': 8.109929702695192, 'LF/HF ratio': -0.007703528757988353}\n",
      "{'nni_mean': 912.21, 'hr_mean': 66.26, 'hr_std': 5.7, 'rmssd': 78.54, 'lf': 2085.75, 'hf': 1899.97, 'LF/HF ratio': 1.1}\n",
      "{'nni_mean': 0.17894498471797224, 'hr_mean': -0.013337871631008838, 'hr_std': -0.0036582383995554823, 'rmssd': 0.08500666851903232, 'lf': -3.4285093081411655, 'hf': 7.641699638788539, 'LF/HF ratio': -0.0077124201166991}\n",
      "{'nni_mean': 911.32, 'hr_mean': 66.32, 'hr_std': 5.71, 'rmssd': 78.19, 'lf': 2085.75, 'hf': 1899.97, 'LF/HF ratio': 1.1}\n",
      "{'nni_mean': 0.16353653792719366, 'hr_mean': -0.012219227563212144, 'hr_std': -0.003560989163656644, 'rmssd': 0.08226590719644288, 'lf': -4.163109752709103, 'hf': 7.178985551542084, 'LF/HF ratio': -0.007731869963878862}\n",
      "{'nni_mean': 911.1, 'hr_mean': 66.33, 'hr_std': 5.69, 'rmssd': 78.05, 'lf': 2065.51, 'hf': 1900.25, 'LF/HF ratio': 1.09}\n",
      "{'nni_mean': 0.14928424562378076, 'hr_mean': -0.01121144762434077, 'hr_std': -0.003625729369269261, 'rmssd': 0.07768407891080788, 'lf': -4.880409280355668, 'hf': 6.748629063628773, 'LF/HF ratio': -0.007762434009447078}\n",
      "{'nni_mean': 911.01, 'hr_mean': 66.34, 'hr_std': 5.67, 'rmssd': 77.8, 'lf': 2065.51, 'hf': 1900.25, 'LF/HF ratio': 1.09}\n",
      "{'nni_mean': 0.13124340094469752, 'hr_mean': -0.009930814115032821, 'hr_std': -0.0037546540705752324, 'rmssd': 0.07185551542094953, 'lf': -5.516385940539069, 'hf': 6.368095582106131, 'LF/HF ratio': -0.007804667963323161}\n",
      "{'nni_mean': 911.41, 'hr_mean': 66.31, 'hr_std': 5.65, 'rmssd': 77.71, 'lf': 2065.51, 'hf': 1900.25, 'LF/HF ratio': 1.09}\n",
      "{'nni_mean': 0.11467713253680847, 'hr_mean': -0.008775215337594209, 'hr_std': -0.00403306474020568, 'rmssd': 0.06490080577938317, 'lf': -6.075824673520445, 'hf': 6.038663239788822, 'LF/HF ratio': -0.007842734092803566}\n",
      "{'nni_mean': 911.65, 'hr_mean': 66.29, 'hr_std': 5.66, 'rmssd': 77.64, 'lf': 2065.51, 'hf': 1900.25, 'LF/HF ratio': 1.09}\n",
      "{'nni_mean': 0.0984645734926333, 'hr_mean': -0.0076796332314538075, 'hr_std': -0.004415115309808355, 'rmssd': 0.05691803278688423, 'lf': -6.572766879688809, 'hf': 5.747740761322579, 'LF/HF ratio': -0.007894137260350112}\n"
     ]
    },
    {
     "name": "stdout",
     "output_type": "stream",
     "text": [
      "{'nni_mean': 912.2, 'hr_mean': 66.25, 'hr_std': 5.64, 'rmssd': 77.5, 'lf': 2023.9, 'hf': 1867.98, 'LF/HF ratio': 1.08}\n",
      "{'nni_mean': 0.0834048346762965, 'hr_mean': -0.006627118644068027, 'hr_std': -0.004632953598221787, 'rmssd': 0.04985940539038559, 'lf': -7.089985273687157, 'hf': 5.43529202556264, 'LF/HF ratio': -0.007959433175882203}\n",
      "{'nni_mean': 912.68, 'hr_mean': 66.21, 'hr_std': 5.63, 'rmssd': 77.46, 'lf': 2023.9, 'hf': 1867.98, 'LF/HF ratio': 1.08}\n",
      "{'nni_mean': 0.07190358432896934, 'hr_mean': -0.005802445123646024, 'hr_std': -0.004679911086412949, 'rmssd': 0.046536537927201714, 'lf': -7.561184217838335, 'hf': 5.138969991664341, 'LF/HF ratio': -0.008005279244234519}\n",
      "{'nni_mean': 912.92, 'hr_mean': 66.19, 'hr_std': 5.62, 'rmssd': 77.46, 'lf': 2023.9, 'hf': 1867.98, 'LF/HF ratio': 1.08}\n",
      "{'nni_mean': 0.06341178105028142, 'hr_mean': -0.005211169769380931, 'hr_std': -0.004787163100861382, 'rmssd': 0.0434201166990821, 'lf': -8.007043067518767, 'hf': 4.851510141706015, 'LF/HF ratio': -0.008048624617949442}\n",
      "{'nni_mean': 913.19, 'hr_mean': 66.17, 'hr_std': 5.62, 'rmssd': 77.63, 'lf': 2023.9, 'hf': 1867.98, 'LF/HF ratio': 1.08}\n",
      "{'nni_mean': 0.05759127535426082, 'hr_mean': -0.004826062795221073, 'hr_std': -0.004906085023617665, 'rmssd': 0.0401881078077235, 'lf': -8.42108863573216, 'hf': 4.565410113920534, 'LF/HF ratio': -0.008073075854404005}\n",
      "{'nni_mean': 913.47, 'hr_mean': 66.15, 'hr_std': 5.62, 'rmssd': 77.57, 'lf': 1985.67, 'hf': 1852.94, 'LF/HF ratio': 1.07}\n",
      "{'nni_mean': 0.0544776326757395, 'hr_mean': -0.004652681300361511, 'hr_std': -0.005105584884690206, 'rmssd': 0.035731592108918804, 'lf': -8.85714865240348, 'hf': 4.253902195054178, 'LF/HF ratio': -0.00809502639622118}\n",
      "{'nni_mean': 913.08, 'hr_mean': 66.18, 'hr_std': 5.61, 'rmssd': 77.7, 'lf': 1985.67, 'hf': 1852.94, 'LF/HF ratio': 1.07}\n",
      "{'nni_mean': 0.051752153375929554, 'hr_mean': -0.004495971103084786, 'hr_std': -0.005337593776048928, 'rmssd': 0.031856904695747784, 'lf': -9.238038066129489, 'hf': 3.9420775215337556, 'LF/HF ratio': -0.008080577938316206}\n",
      "{'nni_mean': 913.12, 'hr_mean': 66.17, 'hr_std': 5.6, 'rmssd': 77.59, 'lf': 1985.67, 'hf': 1852.94, 'LF/HF ratio': 1.07}\n",
      "{'nni_mean': 0.04599611003056459, 'hr_mean': -0.004120866907474414, 'hr_std': -0.00541622672964717, 'rmssd': 0.027891358710752136, 'lf': -9.542615448735784, 'hf': 3.630085857182538, 'LF/HF ratio': -0.008029174770769674}\n",
      "{'nni_mean': 913.55, 'hr_mean': 66.14, 'hr_std': 5.59, 'rmssd': 77.41, 'lf': 1985.67, 'hf': 1852.94, 'LF/HF ratio': 1.07}\n",
      "{'nni_mean': 0.040818282856345464, 'hr_mean': -0.0037896637954992008, 'hr_std': -0.005607113086968682, 'rmssd': 0.02329230341761452, 'lf': -9.76474576271189, 'hf': 3.318866351764364, 'LF/HF ratio': -0.007923312031119753}\n",
      "{'nni_mean': 913.51, 'hr_mean': 66.14, 'hr_std': 5.59, 'rmssd': 77.29, 'lf': 1976.84, 'hf': 1865.93, 'LF/HF ratio': 1.06}\n",
      "{'nni_mean': 0.03627618782994724, 'hr_mean': -0.0035368157821622425, 'hr_std': -0.005880244512364588, 'rmssd': 0.01749930536259991, 'lf': -9.555696026674086, 'hf': 3.0299094192831264, 'LF/HF ratio': -0.007574881911642133}\n",
      "{'nni_mean': 912.85, 'hr_mean': 66.19, 'hr_std': 5.61, 'rmssd': 77.2, 'lf': 1976.84, 'hf': 1865.93, 'LF/HF ratio': 1.06}\n",
      "{'nni_mean': 0.03064212281188378, 'hr_mean': -0.00321589330369598, 'hr_std': -0.006189219227563282, 'rmssd': 0.011284523478743638, 'lf': -9.308041122534062, 'hf': 2.7301161433731402, 'LF/HF ratio': -0.007196443456515717}\n",
      "{'nni_mean': 912.87, 'hr_mean': 66.2, 'hr_std': 5.64, 'rmssd': 77.6, 'lf': 1976.84, 'hf': 1865.93, 'LF/HF ratio': 1.06}\n",
      "{'nni_mean': 0.025397332592381576, 'hr_mean': -0.0029133092525706213, 'hr_std': -0.006504584606835297, 'rmssd': 0.006027507641010874, 'lf': -9.021781050291763, 'hf': 2.419486524034451, 'LF/HF ratio': -0.006787996665740495}\n",
      "{'nni_mean': 912.55, 'hr_mean': 66.22, 'hr_std': 5.66, 'rmssd': 78.22, 'lf': 1992.36, 'hf': 1852.94, 'LF/HF ratio': 1.08}\n",
      "{'nni_mean': 0.020018616282289174, 'hr_mean': -0.002614893025841079, 'hr_std': -0.006863573214781922, 'rmssd': 0.0014704084467902386, 'lf': -9.006829119199796, 'hf': 2.046691580994717, 'LF/HF ratio': -0.006486246179494319}\n",
      "{'nni_mean': 913.28, 'hr_mean': 66.17, 'hr_std': 5.67, 'rmssd': 78.23, 'lf': 1992.35, 'hf': 1852.94, 'LF/HF ratio': 1.08}\n",
      "{'nni_mean': 0.01656904695748197, 'hr_mean': -0.002472075576549335, 'hr_std': -0.007303417616004535, 'rmssd': -0.0043256460127818995, 'lf': -8.965146151708835, 'hf': 1.6627974437343576, 'LF/HF ratio': -0.00616115587663242}\n",
      "{'nni_mean': 913.83, 'hr_mean': 66.13, 'hr_std': 5.67, 'rmssd': 78.11, 'lf': 1992.35, 'hf': 1852.94, 'LF/HF ratio': 1.08}\n",
      "{'nni_mean': 0.011691025284796144, 'hr_mean': -0.0022142261739375264, 'hr_std': -0.007742706307307618, 'rmssd': -0.010745484856905336, 'lf': -8.896715198666326, 'hf': 1.2678041122533898, 'LF/HF ratio': -0.00581272575715478}\n",
      "{'nni_mean': 911.69, 'hr_mean': 66.44, 'hr_std': 8.03, 'rmssd': 80.08, 'lf': 1992.35, 'hf': 1852.94, 'LF/HF ratio': 1.08}\n",
      "{'nni_mean': 0.0021781050291671353, 'hr_mean': -0.0013614893025845948, 'hr_std': -0.004278688524590174, 'rmssd': -0.014414281744929517, 'lf': -8.801536260072265, 'hf': 0.8617115865518107, 'LF/HF ratio': -0.00544095582106141}\n",
      "{'nni_mean': 910.12, 'hr_mean': 66.57, 'hr_std': 8.08, 'rmssd': 79.7, 'lf': 1995.14, 'hf': 1928.67, 'LF/HF ratio': 1.03}\n",
      "{'nni_mean': -0.014198944151159838, 'hr_mean': 3.0286190608353477e-05, 'hr_std': -0.0007435398721867516, 'rmssd': -0.01940455682134034, 'lf': -8.959645734926381, 'hf': 0.5065657126979627, 'LF/HF ratio': -0.0052464573492636965}\n",
      "{'nni_mean': 910.55, 'hr_mean': 66.54, 'hr_std': 8.06, 'rmssd': 79.95, 'lf': 1995.14, 'hf': 1928.67, 'LF/HF ratio': 1.03}\n",
      "{'nni_mean': -0.03127702139483572, 'hr_mean': 0.001464851347596246, 'hr_std': 0.002681300361211403, 'rmssd': -0.02272547929980583, 'lf': -9.100493748263425, 'hf': 0.13407613225894796, 'LF/HF ratio': -0.005029730480689088}\n",
      "{'nni_mean': 911.0, 'hr_mean': 66.5, 'hr_std': 8.04, 'rmssd': 79.91, 'lf': 1995.14, 'hf': 1928.67, 'LF/HF ratio': 1.03}\n",
      "{'nni_mean': -0.04388274520701512, 'hr_mean': 0.0026421228118920074, 'hr_std': 0.006286746318421744, 'rmssd': -0.01928924701305974, 'lf': -9.224080300083374, 'hf': -0.25575715476522337, 'LF/HF ratio': -0.004790775215337603}\n",
      "{'nni_mean': 910.92, 'hr_mean': 66.5, 'hr_std': 8.0, 'rmssd': 79.83, 'lf': 1995.14, 'hf': 1928.67, 'LF/HF ratio': 1.03}\n",
      "{'nni_mean': -0.05279522089469829, 'hr_mean': 0.003555432064461753, 'hr_std': 0.009814948596832395, 'rmssd': -0.015417893859406145, 'lf': -9.330405390386233, 'hf': -0.6629341483745649, 'LF/HF ratio': -0.004529591553209234}\n",
      "{'nni_mean': 909.57, 'hr_mean': 66.62, 'hr_std': 8.06, 'rmssd': 79.56, 'lf': 2007.81, 'hf': 1955.27, 'LF/HF ratio': 1.03}\n",
      "{'nni_mean': -0.062452347874421936, 'hr_mean': 0.00454515143095265, 'hr_std': 0.013299805501528155, 'rmssd': -0.011737427063073553, 'lf': -9.1393256460128, 'hf': -0.6526110030564208, 'LF/HF ratio': -0.004415671019727711}\n",
      "{'nni_mean': 908.01, 'hr_mean': 66.75, 'hr_std': 8.13, 'rmssd': 79.23, 'lf': 2007.81, 'hf': 1955.27, 'LF/HF ratio': 1.03}\n",
      "{'nni_mean': -0.07285357043623795, 'hr_mean': 0.005600166712975105, 'hr_std': 0.016753264795776594, 'rmssd': -0.008678243956655372, 'lf': -8.923184495693272, 'hf': -0.6482823006390743, 'LF/HF ratio': -0.0042850791886635264}\n",
      "{'nni_mean': 906.84, 'hr_mean': 66.84, 'hr_std': 8.15, 'rmssd': 78.92, 'lf': 2007.81, 'hf': 1955.27, 'LF/HF ratio': 1.03}\n",
      "{'nni_mean': -0.08226701861629145, 'hr_mean': 0.006592386774103213, 'hr_std': 0.020139205334815218, 'rmssd': -0.006395387607669399, 'lf': -8.681981939427668, 'hf': -0.6499480411225357, 'LF/HF ratio': -0.004137816060016687}\n",
      "{'nni_mean': 906.85, 'hr_mean': 66.85, 'hr_std': 8.18, 'rmssd': 79.46, 'lf': 2007.81, 'hf': 1955.27, 'LF/HF ratio': 1.03}\n",
      "{'nni_mean': -0.08963934426230237, 'hr_mean': 0.007430397332591592, 'hr_std': 0.02340566824117807, 'rmssd': -0.003385940539038759, 'lf': -8.415717977215921, 'hf': -0.6576082245068152, 'LF/HF ratio': -0.003973881633787163}\n",
      "{'nni_mean': 906.64, 'hr_mean': 66.86, 'hr_std': 8.16, 'rmssd': 79.34, 'lf': 2010.09, 'hf': 1936.28, 'LF/HF ratio': 1.04}\n",
      "{'nni_mean': -0.09497277021396015, 'hr_mean': 0.008109196999165715, 'hr_std': 0.026501250347318678, 'rmssd': -0.0009544317866080149, 'lf': -8.223010836343454, 'hf': -0.510088913587123, 'LF/HF ratio': -0.003963323145318152}\n",
      "{'nni_mean': 906.85, 'hr_mean': 66.84, 'hr_std': 8.13, 'rmssd': 79.34, 'lf': 2010.09, 'hf': 1936.28, 'LF/HF ratio': 1.04}\n",
      "{'nni_mean': -0.10104556821340373, 'hr_mean': 0.008828841344817246, 'hr_std': 0.029477910530702922, 'rmssd': 0.0013445401500414374, 'lf': -8.008724923589908, 'hf': -0.36120366768549245, 'LF/HF ratio': -0.003942761878299544}\n",
      "{'nni_mean': 907.07, 'hr_mean': 66.82, 'hr_std': 8.1, 'rmssd': 79.25, 'lf': 2010.09, 'hf': 1936.28, 'LF/HF ratio': 1.04}\n",
      "{'nni_mean': -0.10822728535704752, 'hr_mean': 0.009611280911363769, 'hr_std': 0.032305084745762665, 'rmssd': 0.0032239510975264323, 'lf': -7.7728602389552925, 'hf': -0.21095248680190296, 'LF/HF ratio': -0.003912197832731324}\n"
     ]
    },
    {
     "name": "stdout",
     "output_type": "stream",
     "text": [
      "{'nni_mean': 906.99, 'hr_mean': 66.83, 'hr_std': 8.09, 'rmssd': 79.25, 'lf': 2259.65, 'hf': 1935.31, 'LF/HF ratio': 1.17}\n",
      "{'nni_mean': -0.11447457627119387, 'hr_mean': 0.010324812447901737, 'hr_std': 0.03500083356487914, 'rmssd': 0.005150041678243581, 'lf': -7.25604779105309, 'hf': -0.12658655181996614, 'LF/HF ratio': -0.0036924145595998966}\n",
      "{'nni_mean': 906.85, 'hr_mean': 66.83, 'hr_std': 8.06, 'rmssd': 79.13, 'lf': 2259.65, 'hf': 1935.31, 'LF/HF ratio': 1.17}\n",
      "{'nni_mean': -0.11846874131703894, 'hr_mean': 0.010866073909418643, 'hr_std': 0.037566824117810475, 'rmssd': 0.007504584606834675, 'lf': -6.736451514309543, 'hf': -0.04293664906920131, 'LF/HF ratio': -0.0034709641567102056}\n",
      "{'nni_mean': 906.68, 'hr_mean': 66.84, 'hr_std': 8.04, 'rmssd': 78.95, 'lf': 2259.65, 'hf': 1935.31, 'LF/HF ratio': 1.17}\n",
      "{'nni_mean': -0.12153876076688928, 'hr_mean': 0.011331758821894506, 'hr_std': 0.03995443178660734, 'rmssd': 0.009183106418449395, 'lf': -6.214055015282038, 'hf': 0.03998082800776518, 'LF/HF ratio': -0.003247846624062248}\n",
      "{'nni_mean': 906.32, 'hr_mean': 66.87, 'hr_std': 8.01, 'rmssd': 78.77, 'lf': 2259.65, 'hf': 1935.31, 'LF/HF ratio': 1.17}\n",
      "{'nni_mean': -0.12536954709642387, 'hr_mean': 0.011837176993609174, 'hr_std': 0.04216421228118918, 'rmssd': 0.010030286190607904, 'lf': -5.68885829397057, 'hf': 0.12216587941092305, 'LF/HF ratio': -0.0030230619616560335}\n",
      "{'nni_mean': 906.16, 'hr_mean': 66.88, 'hr_std': 7.99, 'rmssd': 78.65, 'lf': 2258.92, 'hf': 1899.74, 'LF/HF ratio': 1.19}\n",
      "{'nni_mean': -0.1290083356487983, 'hr_mean': 0.012315087524311734, 'hr_std': 0.04421367046401774, 'rmssd': 0.011136704640177686, 'lf': -5.044871631008638, 'hf': 0.162222283967755, 'LF/HF ratio': -0.0027129758266185196}\n",
      "{'nni_mean': 906.29, 'hr_mean': 66.87, 'hr_std': 8.01, 'rmssd': 78.77, 'lf': 2258.92, 'hf': 1899.74, 'LF/HF ratio': 1.19}\n",
      "{'nni_mean': -0.1313114754098442, 'hr_mean': 0.012698249513753094, 'hr_std': 0.04618588496804663, 'rmssd': 0.012646290636287054, 'lf': -4.394218949708261, 'hf': 0.2040775215337456, 'LF/HF ratio': -0.0024006668519033123}\n",
      "{'nni_mean': 906.57, 'hr_mean': 66.85, 'hr_std': 7.99, 'rmssd': 78.82, 'lf': 2258.92, 'hf': 1899.74, 'LF/HF ratio': 1.19}\n",
      "{'nni_mean': -0.1323423173103708, 'hr_mean': 0.012969713809390958, 'hr_std': 0.0480141706029452, 'rmssd': 0.014681022506250812, 'lf': -3.736883856626864, 'hf': 0.24773159210890844, 'LF/HF ratio': -0.002086135037510435}\n",
      "{'nni_mean': 907.1, 'hr_mean': 66.81, 'hr_std': 7.97, 'rmssd': 78.65, 'lf': 2258.92, 'hf': 1899.74, 'LF/HF ratio': 1.19}\n",
      "{'nni_mean': -0.13295137538205573, 'hr_mean': 0.013198388441233125, 'hr_std': 0.04964879133092523, 'rmssd': 0.016111697693802995, 'lf': -3.0728663517643984, 'hf': 0.2931844956932436, 'LF/HF ratio': -0.0017693803834398574}\n",
      "{'nni_mean': 906.96, 'hr_mean': 66.82, 'hr_std': 7.96, 'rmssd': 78.56, 'lf': 2329.69, 'hf': 1887.48, 'LF/HF ratio': 1.23}\n",
      "{'nni_mean': -0.13426424006669277, 'hr_mean': 0.013470686301750237, 'hr_std': 0.05113948318977491, 'rmssd': 0.017118088357876836, 'lf': -2.2502517365935275, 'hf': 0.31277854959710166, 'LF/HF ratio': -0.001350930814115051}\n",
      "{'nni_mean': 907.27, 'hr_mean': 66.79, 'hr_std': 7.94, 'rmssd': 78.52, 'lf': 2329.69, 'hf': 1887.48, 'LF/HF ratio': 1.23}\n",
      "{'nni_mean': -0.13554904140039054, 'hr_mean': 0.013705751597665862, 'hr_std': 0.05245290358432897, 'rmssd': 0.017607668796886845, 'lf': -1.4237104751319845, 'hf': 0.33460489024726253, 'LF/HF ratio': -0.0009313698249513778}\n",
      "{'nni_mean': 907.44, 'hr_mean': 66.78, 'hr_std': 7.92, 'rmssd': 78.43, 'lf': 2329.69, 'hf': 1887.48, 'LF/HF ratio': 1.23}\n",
      "{'nni_mean': -0.13640455682134367, 'hr_mean': 0.013905807168657316, 'hr_std': 0.053572103362045015, 'rmssd': 0.017756321200333117, 'lf': -0.5932425673798447, 'hf': 0.35866351764378124, 'LF/HF ratio': -0.0005106974159488812}\n",
      "{'nni_mean': 906.97, 'hr_mean': 66.81, 'hr_std': 7.92, 'rmssd': 78.61, 'lf': 2329.69, 'hf': 1887.48, 'LF/HF ratio': 1.23}\n",
      "{'nni_mean': -0.1378971936649176, 'hr_mean': 0.014120589052513966, 'hr_std': 0.05451236454570708, 'rmssd': 0.017615170880799655, 'lf': 0.2411519866629398, 'hf': 0.38495443178658223, 'LF/HF ratio': -8.891358710753779e-05}\n",
      "{'nni_mean': 906.99, 'hr_mean': 66.81, 'hr_std': 7.9, 'rmssd': 78.64, 'lf': 2316.46, 'hf': 1876.98, 'LF/HF ratio': 1.23}\n",
      "{'nni_mean': -0.13859516532370814, 'hr_mean': 0.014265351486523673, 'hr_std': 0.055272575715476474, 'rmssd': 0.01765462628507889, 'lf': 0.9562931369824719, 'hf': 0.33390858571823395, 'LF/HF ratio': 0.0003170325090302792}\n",
      "{'nni_mean': 907.29, 'hr_mean': 66.78, 'hr_std': 7.88, 'rmssd': 78.64, 'lf': 2316.46, 'hf': 1876.98, 'LF/HF ratio': 1.23}\n",
      "{'nni_mean': -0.1381978327313147, 'hr_mean': 0.01430675187552001, 'hr_std': 0.055852736871353136, 'rmssd': 0.017794943039732673, 'lf': 1.6727685468185411, 'hf': 0.2836340650180467, 'LF/HF ratio': 0.0007235343150875096}\n",
      "{'nni_mean': 907.06, 'hr_mean': 66.8, 'hr_std': 7.87, 'rmssd': 78.56, 'lf': 2316.46, 'hf': 1876.98, 'LF/HF ratio': 1.23}\n",
      "{'nni_mean': -0.1383467629897228, 'hr_mean': 0.014378716310085561, 'hr_std': 0.056269241455959934, 'rmssd': 0.017790219505417714, 'lf': 2.390578216171127, 'hf': 0.2341308696860136, 'LF/HF ratio': 0.00113059183106417}\n",
      "{'nni_mean': 906.54, 'hr_mean': 66.84, 'hr_std': 7.85, 'rmssd': 78.44, 'lf': 2287.65, 'hf': 1888.38, 'LF/HF ratio': 1.21}\n",
      "{'nni_mean': -0.13908224506807781, 'hr_mean': 0.014497082522922514, 'hr_std': 0.05653903862183934, 'rmssd': 0.017782717421505116, 'lf': 2.878492636843549, 'hf': 0.2062570158377109, 'LF/HF ratio': 0.001403723256460129}\n",
      "{'nni_mean': 906.21, 'hr_mean': 66.86, 'hr_std': 7.83, 'rmssd': 78.31, 'lf': 2287.65, 'hf': 1888.38, 'LF/HF ratio': 1.21}\n",
      "{'nni_mean': -0.13940677966102138, 'hr_mean': 0.014559599888857612, 'hr_std': 0.056629341483745446, 'rmssd': 0.017430397332591573, 'lf': 3.3633095304250973, 'hf': 0.17860905807167435, 'LF/HF ratio': 0.001675187552097801}\n",
      "{'nni_mean': 906.01, 'hr_mean': 66.87, 'hr_std': 7.81, 'rmssd': 78.31, 'lf': 2287.65, 'hf': 1888.38, 'LF/HF ratio': 1.21}\n",
      "{'nni_mean': -0.1397151986663075, 'hr_mean': 0.01459794387329792, 'hr_std': 0.05655709919422059, 'rmssd': 0.01713559322033806, 'lf': 3.8450288969157986, 'hf': 0.15117060294525364, 'LF/HF ratio': 0.0019449847179772127}\n",
      "{'nni_mean': 906.16, 'hr_mean': 66.86, 'hr_std': 7.79, 'rmssd': 78.21, 'lf': 2287.65, 'hf': 1888.38, 'LF/HF ratio': 1.21}\n",
      "{'nni_mean': -0.13962934148375342, 'hr_mean': 0.014595721033620281, 'hr_std': 0.05628896915809944, 'rmssd': 0.0164987496526806, 'lf': 4.323650736315629, 'hf': 0.12394165045845215, 'LF/HF ratio': 0.0022131147540983493}\n",
      "{'nni_mean': 906.34, 'hr_mean': 66.84, 'hr_std': 7.77, 'rmssd': 78.12, 'lf': 2257.25, 'hf': 1873.58, 'LF/HF ratio': 1.2}\n",
      "{'nni_mean': -0.13979633231453953, 'hr_mean': 0.014588496804668004, 'hr_std': 0.055858293970547326, 'rmssd': 0.015467907752152937, 'lf': 4.639779661016931, 'hf': 0.1113039733259044, 'LF/HF ratio': 0.002378438455126407}\n",
      "{'nni_mean': 906.69, 'hr_mean': 66.81, 'hr_std': 7.75, 'rmssd': 78.07, 'lf': 2257.25, 'hf': 1873.58, 'LF/HF ratio': 1.2}\n",
      "{'nni_mean': -0.13979327590998458, 'hr_mean': 0.014546262850791452, 'hr_std': 0.05524868018894132, 'rmssd': 0.014190052792441983, 'lf': 4.9509083078632665, 'hf': 0.10096526813002005, 'LF/HF ratio': 0.002539872186718526}\n",
      "{'nni_mean': 906.73, 'hr_mean': 66.81, 'hr_std': 7.72, 'rmssd': 78.0, 'lf': 2257.25, 'hf': 1873.58, 'LF/HF ratio': 1.2}\n",
      "{'nni_mean': -0.14037732703529202, 'hr_mean': 0.014538482911919604, 'hr_std': 0.05449458182828562, 'rmssd': 0.01259572103361962, 'lf': 5.25703667685466, 'hf': 0.0929255348707785, 'LF/HF ratio': 0.002697415948874683}\n",
      "{'nni_mean': 906.46, 'hr_mean': 66.83, 'hr_std': 7.72, 'rmssd': 78.04, 'lf': 2257.25, 'hf': 1873.58, 'LF/HF ratio': 1.2}\n",
      "{'nni_mean': -0.141345929424849, 'hr_mean': 0.014549319255347911, 'hr_std': 0.05359655459849957, 'rmssd': 0.011489580439009944, 'lf': 5.558164767991097, 'hf': 0.08718477354818316, 'LF/HF ratio': 0.0028510697415948818}\n",
      "{'nni_mean': 906.47, 'hr_mean': 66.83, 'hr_std': 7.7, 'rmssd': 78.1, 'lf': 2209.19, 'hf': 1862.74, 'LF/HF ratio': 1.19}\n",
      "{'nni_mean': -0.14138594053904438, 'hr_mean': 0.014477632675742898, 'hr_std': 0.052537649347040825, 'rmssd': 0.010272020005556663, 'lf': 5.636149763823282, 'hf': 0.05371825507085002, 'LF/HF ratio': 0.002916643512086681}\n"
     ]
    },
    {
     "name": "stdout",
     "output_type": "stream",
     "text": [
      "{'nni_mean': 906.7, 'hr_mean': 66.81, 'hr_std': 7.68, 'rmssd': 78.03, 'lf': 2209.19, 'hf': 1862.74, 'LF/HF ratio': 1.19}\n",
      "{'nni_mean': -0.13984662406224793, 'hr_mean': 0.01428896915809857, 'hr_std': 0.05133537093637116, 'rmssd': 0.009058349541538448, 'lf': 5.7072361767157345, 'hf': 0.022751319811048602, 'LF/HF ratio': 0.0029766601833842677}\n",
      "{'nni_mean': 906.85, 'hr_mean': 66.79, 'hr_std': 7.66, 'rmssd': 77.97, 'lf': 2209.19, 'hf': 1862.74, 'LF/HF ratio': 1.19}\n",
      "{'nni_mean': -0.1385384829119295, 'hr_mean': 0.014101417060294242, 'hr_std': 0.05000777993887187, 'rmssd': 0.008364267852180633, 'lf': 5.771424006668497, 'hf': -0.00571603223119362, 'LF/HF ratio': 0.003031119755487631}\n",
      "{'nni_mean': 906.86, 'hr_mean': 66.79, 'hr_std': 7.64, 'rmssd': 77.9, 'lf': 2209.19, 'hf': 1862.74, 'LF/HF ratio': 1.19}\n",
      "{'nni_mean': -0.1379130313976199, 'hr_mean': 0.013951097527090114, 'hr_std': 0.04857349263684353, 'rmssd': 0.007756043345373243, 'lf': 5.8287132536815704, 'hf': -0.03168380105586292, 'LF/HF ratio': 0.0030800222283967733}\n",
      "{'nni_mean': 906.86, 'hr_mean': 66.78, 'hr_std': 7.62, 'rmssd': 77.9, 'lf': 2229.51, 'hf': 1855.5, 'LF/HF ratio': 1.2}\n",
      "{'nni_mean': -0.13657988330092055, 'hr_mean': 0.01372214504028859, 'hr_std': 0.04696693525979434, 'rmssd': 0.007069741594887275, 'lf': 5.913601833842732, 'hf': -0.08015643234232633, 'LF/HF ratio': 0.003156710197277005}\n",
      "{'nni_mean': 906.45, 'hr_mean': 66.81, 'hr_std': 7.61, 'rmssd': 77.85, 'lf': 2229.51, 'hf': 1855.5, 'LF/HF ratio': 1.2}\n",
      "{'nni_mean': -0.13563795498749784, 'hr_mean': 0.013513475965545611, 'hr_std': 0.045204501250347265, 'rmssd': 0.006304251180882944, 'lf': 5.99050152820227, 'hf': -0.12615782161713876, 'LF/HF ratio': 0.003227841066963036}\n",
      "{'nni_mean': 906.61, 'hr_mean': 66.8, 'hr_std': 7.58, 'rmssd': 77.7, 'lf': 2229.51, 'hf': 1855.5, 'LF/HF ratio': 1.2}\n",
      "{'nni_mean': -0.1356221172548007, 'hr_mean': 0.01335954431786588, 'hr_std': 0.0433036954709641, 'rmssd': 0.004737982772991722, 'lf': 6.059412336760182, 'hf': -0.16968796888026583, 'LF/HF ratio': 0.0032934148374548352}\n",
      "{'nni_mean': 906.83, 'hr_mean': 66.78, 'hr_std': 7.57, 'rmssd': 77.66, 'lf': 2185.28, 'hf': 1851.21, 'LF/HF ratio': 1.18}\n",
      "{'nni_mean': -0.13535676576828035, 'hr_mean': 0.0131631008613496, 'hr_std': 0.04124868018894131, 'rmssd': 0.0028960822450671423, 'lf': 6.013520978049448, 'hf': -0.21730508474577784, 'LF/HF ratio': 0.0033036954709641493}\n",
      "{'nni_mean': 906.73, 'hr_mean': 66.78, 'hr_std': 7.55, 'rmssd': 77.58, 'lf': 2185.28, 'hf': 1851.21, 'LF/HF ratio': 1.18}\n",
      "{'nni_mean': -0.1351706029452681, 'hr_mean': 0.012958599611002436, 'hr_std': 0.03902250625173657, 'rmssd': 0.0005209780494577178, 'lf': 5.9609738816337785, 'hf': -0.2621969991664505, 'LF/HF ratio': 0.0033089747151986634}\n",
      "{'nni_mean': 906.9, 'hr_mean': 66.77, 'hr_std': 7.54, 'rmssd': 77.71, 'lf': 2185.28, 'hf': 1851.21, 'LF/HF ratio': 1.18}\n",
      "{'nni_mean': -0.1337899416504653, 'hr_mean': 0.01266240622395032, 'hr_std': 0.03664156710197278, 'rmssd': -0.0017813281467080873, 'lf': 5.901771047513183, 'hf': -0.30436371214227353, 'LF/HF ratio': 0.0033092525701583597}\n",
      "{'nni_mean': 906.89, 'hr_mean': 66.77, 'hr_std': 7.53, 'rmssd': 77.71, 'lf': 2185.28, 'hf': 1851.21, 'LF/HF ratio': 1.18}\n",
      "{'nni_mean': -0.1317682689636109, 'hr_mean': 0.012306751875519887, 'hr_std': 0.034156154487357544, 'rmssd': -0.004202278410670417, 'lf': 5.83591247568768, 'hf': -0.34380522367326066, 'LF/HF ratio': 0.003304529035843281}\n",
      "{'nni_mean': 907.13, 'hr_mean': 66.75, 'hr_std': 7.51, 'rmssd': 77.69, 'lf': 2166.47, 'hf': 1852.13, 'LF/HF ratio': 1.17}\n",
      "{'nni_mean': -0.12815643234232418, 'hr_mean': 0.011823839955542691, 'hr_std': 0.03150013892747982, 'rmssd': -0.006897193664907821, 'lf': 5.66203667685468, 'hf': -0.43370825229232146, 'LF/HF ratio': 0.0032614615170880675}\n",
      "{'nni_mean': 907.33, 'hr_mean': 66.74, 'hr_std': 7.49, 'rmssd': 77.59, 'lf': 2166.47, 'hf': 1852.13, 'LF/HF ratio': 1.17}\n",
      "{'nni_mean': -0.12312142261740323, 'hr_mean': 0.011228952486801246, 'hr_std': 0.028690469574881857, 'rmssd': -0.00983439844401248, 'lf': 5.480238121700463, 'hf': -0.5227304806890845, 'LF/HF ratio': 0.00321339260905807}\n",
      "{'nni_mean': 907.51, 'hr_mean': 66.72, 'hr_std': 7.48, 'rmssd': 77.48, 'lf': 2166.47, 'hf': 1852.13, 'LF/HF ratio': 1.17}\n",
      "{'nni_mean': -0.11708724645735344, 'hr_mean': 0.010537927201999675, 'hr_std': 0.02574409558210613, 'rmssd': -0.012959155320923293, 'lf': 5.290516810225057, 'hf': -0.6108719088635804, 'LF/HF ratio': 0.0031603223117532453}\n",
      "{'nni_mean': 907.78, 'hr_mean': 66.7, 'hr_std': 7.47, 'rmssd': 77.63, 'lf': 2166.47, 'hf': 1852.13, 'LF/HF ratio': 1.17}\n",
      "{'nni_mean': -0.10985218116144456, 'hr_mean': 0.009750764101138731, 'hr_std': 0.02267796610169492, 'rmssd': -0.015550986385107865, 'lf': 5.0928727424284395, 'hf': -0.6981325368157993, 'LF/HF ratio': 0.0031022506251736485}\n",
      "{'nni_mean': 907.6, 'hr_mean': 66.71, 'hr_std': 7.47, 'rmssd': 77.72, 'lf': 2152.08, 'hf': 1841.22, 'LF/HF ratio': 1.17}\n",
      "{'nni_mean': -0.10213698249514144, 'hr_mean': 0.00891664351208649, 'hr_std': 0.019509030286190557, 'rmssd': -0.018096971380940175, 'lf': 4.798919144206717, 'hf': -0.8278891358710863, 'LF/HF ratio': 0.003022228396776863}\n",
      "{'nni_mean': 907.86, 'hr_mean': 66.7, 'hr_std': 7.49, 'rmssd': 78.28, 'lf': 2152.08, 'hf': 1841.22, 'LF/HF ratio': 1.17}\n",
      "{'nni_mean': -0.09433036954710183, 'hr_mean': 0.00808585718254985, 'hr_std': 0.016253125868296695, 'rmssd': -0.019512920255626842, 'lf': 4.495717977215894, 'hf': -0.9569944429008171, 'LF/HF ratio': 0.002936649069185874}\n",
      "{'nni_mean': 907.99, 'hr_mean': 66.69, 'hr_std': 7.48, 'rmssd': 78.16, 'lf': 2152.08, 'hf': 1841.22, 'LF/HF ratio': 1.17}\n",
      "{'nni_mean': -0.08595276465685385, 'hr_mean': 0.007192831342039294, 'hr_std': 0.012859405390386144, 'rmssd': -0.021344262295082364, 'lf': 4.183269241455951, 'hf': -1.0854484579049954, 'LF/HF ratio': 0.002845512642400658}\n",
      "{'nni_mean': 908.15, 'hr_mean': 66.68, 'hr_std': 7.46, 'rmssd': 78.18, 'lf': 2152.08, 'hf': 1841.22, 'LF/HF ratio': 1.17}\n",
      "{'nni_mean': -0.07629897193665407, 'hr_mean': 0.006203667685467002, 'hr_std': 0.009311475409836036, 'rmssd': -0.023479577660461638, 'lf': 3.861572936926903, 'hf': -1.2132511808836006, 'LF/HF ratio': 0.002748819116421209}\n",
      "{'nni_mean': 908.05, 'hr_mean': 66.68, 'hr_std': 7.45, 'rmssd': 78.08, 'lf': 2258.45, 'hf': 1888.26, 'LF/HF ratio': 1.2}\n",
      "{'nni_mean': -0.06657682689636445, 'hr_mean': 0.00518449569324818, 'hr_std': 0.005643234231730974, 'rmssd': -0.02602500694637459, 'lf': 3.690040011114168, 'hf': -1.2412709085857376, 'LF/HF ratio': 0.002678799666574033}\n",
      "{'nni_mean': 908.14, 'hr_mean': 66.68, 'hr_std': 7.45, 'rmssd': 78.03, 'lf': 2258.45, 'hf': 1888.26, 'LF/HF ratio': 1.2}\n",
      "{'nni_mean': -0.057522367324269214, 'hr_mean': 0.0042200611280906785, 'hr_std': 0.0019055293136981755, 'rmssd': -0.0288488469019179, 'lf': 3.5028577382606048, 'hf': -1.2705315365379393, 'LF/HF ratio': 0.002601000277854953}\n",
      "{'nni_mean': 908.53, 'hr_mean': 66.65, 'hr_std': 7.44, 'rmssd': 78.01, 'lf': 2258.45, 'hf': 1888.26, 'LF/HF ratio': 1.2}\n",
      "{'nni_mean': -0.04753292581273357, 'hr_mean': 0.003196165601555397, 'hr_std': -0.0018999722145041158, 'rmssd': -0.03107363156432384, 'lf': 3.300026118366203, 'hf': -1.3010330647402264, 'LF/HF ratio': 0.002515420950263942}\n",
      "{'nni_mean': 908.66, 'hr_mean': 66.64, 'hr_std': 7.42, 'rmssd': 77.88, 'lf': 2267.7, 'hf': 1881.8, 'LF/HF ratio': 1.21}\n",
      "{'nni_mean': -0.037631564323432856, 'hr_mean': 0.00216476799110859, 'hr_std': -0.005804390108363463, 'rmssd': -0.03248346762989758, 'lf': 3.1230141706029264, 'hf': -1.3653826062795393, 'LF/HF ratio': 0.0024723534315087368}\n",
      "{'nni_mean': 908.57, 'hr_mean': 66.64, 'hr_std': 7.42, 'rmssd': 77.89, 'lf': 2267.7, 'hf': 1881.8, 'LF/HF ratio': 1.21}\n",
      "{'nni_mean': -0.02642428452349284, 'hr_mean': 0.0010252848013332435, 'hr_std': -0.009789663795498811, 'rmssd': -0.03384106696304583, 'lf': 2.930684356765749, 'hf': -1.4313359266462975, 'LF/HF ratio': 0.0024220616838010424}\n",
      "{'nni_mean': 908.75, 'hr_mean': 66.63, 'hr_std': 7.41, 'rmssd': 78.02, 'lf': 2267.7, 'hf': 1881.8, 'LF/HF ratio': 1.21}\n",
      "{'nni_mean': -0.013727979994452773, 'hr_mean': -0.0002245068074472101, 'hr_std': -0.013888580161155956, 'rmssd': -0.035170047235344, 'lf': 2.7230530702972895, 'hf': -1.498893025840539, 'LF/HF ratio': 0.0023645457071408676}\n"
     ]
    },
    {
     "name": "stdout",
     "output_type": "stream",
     "text": [
      "{'nni_mean': 908.97, 'hr_mean': 66.61, 'hr_std': 7.39, 'rmssd': 77.94, 'lf': 2267.7, 'hf': 1881.8, 'LF/HF ratio': 1.21}\n",
      "{'nni_mean': -0.0040158377327072685, 'hr_mean': -0.0010094470686307293, 'hr_std': -0.014116976938038378, 'rmssd': -0.03328619060850351, 'lf': 2.5001203111975356, 'hf': -1.568053903862191, 'LF/HF ratio': 0.002299805501528185}\n",
      "{'nni_mean': 909.1, 'hr_mean': 66.6, 'hr_std': 7.38, 'rmssd': 77.9, 'lf': 2257.55, 'hf': 1876.19, 'LF/HF ratio': 1.2}\n",
      "{'nni_mean': 0.0033995554320556958, 'hr_mean': -0.0015998888580163574, 'hr_std': -0.01424145595998895, 'rmssd': -0.03199305362600833, 'lf': 2.2499755487635373, 'hf': -1.519659349819415, 'LF/HF ratio': 0.002126701861628222}\n",
      "{'nni_mean': 909.07, 'hr_mean': 66.6, 'hr_std': 7.37, 'rmssd': 77.92, 'lf': 2257.55, 'hf': 1876.19, 'LF/HF ratio': 1.2}\n",
      "{'nni_mean': 0.011551264240056354, 'hr_mean': -0.00224284523478824, 'hr_std': -0.014377327035287652, 'rmssd': -0.03014337315921147, 'lf': 1.9852484023339507, 'hf': -1.4683484301194998, 'LF/HF ratio': 0.0019441511530980742}\n",
      "{'nni_mean': 909.18, 'hr_mean': 66.59, 'hr_std': 7.35, 'rmssd': 77.71, 'lf': 2257.55, 'hf': 1876.19, 'LF/HF ratio': 1.2}\n",
      "{'nni_mean': 0.02072825784939433, 'hr_mean': -0.0029733259238677577, 'hr_std': -0.014541539316476854, 'rmssd': -0.028592942484023838, 'lf': 1.7059388719088304, 'hf': -1.4141211447624455, 'LF/HF ratio': 0.0017521533759377492}\n",
      "{'nni_mean': 909.33, 'hr_mean': 66.58, 'hr_std': 7.33, 'rmssd': 77.63, 'lf': 2257.55, 'hf': 1876.19, 'LF/HF ratio': 1.2}\n",
      "{'nni_mean': 0.03011669908307207, 'hr_mean': -0.0037252014448469995, 'hr_std': -0.014767991108641356, 'rmssd': -0.027186996387886013, 'lf': 1.4120469574881727, 'hf': -1.3569774937482693, 'LF/HF ratio': 0.0015507085301472534}\n",
      "{'nni_mean': 909.51, 'hr_mean': 66.56, 'hr_std': 7.32, 'rmssd': 77.65, 'lf': 2265.27, 'hf': 1861.87, 'LF/HF ratio': 1.22}\n",
      "{'nni_mean': 0.037600444567928305, 'hr_mean': -0.004310919699917026, 'hr_std': -0.014871908863573263, 'rmssd': -0.026083634342874196, 'lf': 1.1377029730480455, 'hf': -1.275308141150329, 'LF/HF ratio': 0.001372603500972476}\n",
      "{'nni_mean': 909.85, 'hr_mean': 66.54, 'hr_std': 7.32, 'rmssd': 77.62, 'lf': 2265.27, 'hf': 1861.87, 'LF/HF ratio': 1.22}\n",
      "{'nni_mean': 0.043000833564874316, 'hr_mean': -0.004705751597666264, 'hr_std': -0.014816060016671325, 'rmssd': -0.02548263406501865, 'lf': 0.8490516810224922, 'hf': -1.1884484579049843, 'LF/HF ratio': 0.0011839399833286914}\n",
      "{'nni_mean': 909.78, 'hr_mean': 66.54, 'hr_std': 7.3, 'rmssd': 77.61, 'lf': 2265.27, 'hf': 1861.87, 'LF/HF ratio': 1.22}\n",
      "{'nni_mean': 0.0462011669908221, 'hr_mean': -0.004936371214226609, 'hr_std': -0.014714087246457381, 'rmssd': -0.02533398166157345, 'lf': 0.5460930814114782, 'hf': -1.0963984440122456, 'LF/HF ratio': 0.0009847179772158891}\n",
      "{'nni_mean': 909.22, 'hr_mean': 66.63, 'hr_std': 7.82, 'rmssd': 79.24, 'lf': 2265.27, 'hf': 1861.87, 'LF/HF ratio': 1.22}\n",
      "{'nni_mean': 0.04833703806612502, 'hr_mean': -0.00498582939705576, 'hr_std': -0.013661572659072018, 'rmssd': -0.021525145873854522, 'lf': 0.22882717421503818, 'hf': -0.9991580994720956, 'LF/HF ratio': 0.0007749374826340659}\n",
      "{'nni_mean': 909.54, 'hr_mean': 66.61, 'hr_std': 7.81, 'rmssd': 79.41, 'lf': 2256.51, 'hf': 1851.92, 'LF/HF ratio': 1.22}\n",
      "{'nni_mean': 0.05050986385105977, 'hr_mean': -0.0050388996943598685, 'hr_std': -0.01263934426229514, 'rmssd': -0.017628785773826674, 'lf': -0.11324228952489052, 'hf': -0.9452253403723336, 'LF/HF ratio': 0.0005715476521255948}\n",
      "{'nni_mean': 909.66, 'hr_mean': 66.6, 'hr_std': 7.8, 'rmssd': 79.42, 'lf': 2256.51, 'hf': 1851.92, 'LF/HF ratio': 1.22}\n",
      "{'nni_mean': 0.05307418727424006, 'hr_mean': -0.005128368991386968, 'hr_std': -0.011664906918588567, 'rmssd': -0.013719922200611594, 'lf': -0.46900555709921415, 'hf': -0.8866046123923376, 'LF/HF ratio': 0.00035815504306750613}\n",
      "{'nni_mean': 909.76, 'hr_mean': 66.59, 'hr_std': 7.78, 'rmssd': 79.56, 'lf': 2256.51, 'hf': 1851.92, 'LF/HF ratio': 1.22}\n",
      "{'nni_mean': 0.05601917199221335, 'hr_mean': -0.005254792998055983, 'hr_std': -0.010755765490414087, 'rmssd': -0.00973853848291214, 'lf': -0.8384626285079397, 'hf': -0.8232959155321141, 'LF/HF ratio': 0.00013475965545983666}\n",
      "{'nni_mean': 910.29, 'hr_mean': 66.56, 'hr_std': 7.79, 'rmssd': 79.77, 'lf': 2302.13, 'hf': 1941.97, 'LF/HF ratio': 1.19}\n",
      "{'nni_mean': 0.059547929980547504, 'hr_mean': -0.005400666851903328, 'hr_std': -0.009829397054737456, 'rmssd': -0.005430119477632648, 'lf': -0.7238435676577011, 'hf': -0.6093203667685625, 'LF/HF ratio': 7.252014448457462e-05}\n",
      "{'nni_mean': 910.93, 'hr_mean': 66.51, 'hr_std': 7.79, 'rmssd': 79.7, 'lf': 2302.14, 'hf': 1941.98, 'LF/HF ratio': 1.19}\n",
      "{'nni_mean': 0.06370519588773933, 'hr_mean': -0.005613503751042553, 'hr_std': -0.008937204779105357, 'rmssd': -0.001468741317033242, 'lf': -0.6115687691025606, 'hf': -0.3956985273687265, 'LF/HF ratio': 9.1692136704524e-06}\n",
      "{'nni_mean': 911.43, 'hr_mean': 66.48, 'hr_std': 7.79, 'rmssd': 79.8, 'lf': 2302.14, 'hf': 1941.98, 'LF/HF ratio': 1.19}\n",
      "{'nni_mean': 0.06816726868574509, 'hr_mean': -0.005840789108086117, 'hr_std': -0.008063906640733585, 'rmssd': 0.002319811058626817, 'lf': -0.5016551819950137, 'hf': -0.1824473464851531, 'LF/HF ratio': -5.52931369825099e-05}\n",
      "{'nni_mean': 911.66, 'hr_mean': 66.46, 'hr_std': 7.78, 'rmssd': 79.73, 'lf': 2302.14, 'hf': 1941.98, 'LF/HF ratio': 1.19}\n",
      "{'nni_mean': 0.07213225896081817, 'hr_mean': -0.0060300083356494795, 'hr_std': -0.007243956654626326, 'rmssd': 0.00564128924701316, 'lf': -0.3941028063351152, 'hf': 0.030433175882168036, 'LF/HF ratio': -0.00012086690747429886}\n",
      "{'nni_mean': 912.08, 'hr_mean': 66.43, 'hr_std': 7.77, 'rmssd': 79.81, 'lf': 2257.57, 'hf': 1968.97, 'LF/HF ratio': 1.15}\n",
      "{'nni_mean': 0.07621783828840488, 'hr_mean': -0.006228674631842543, 'hr_std': -0.006461517088080112, 'rmssd': 0.008837176993609093, 'lf': -0.36321450402890465, 'hf': 0.22690080577937508, 'LF/HF ratio': -0.00021922756321201414}\n",
      "{'nni_mean': 912.43, 'hr_mean': 66.4, 'hr_std': 7.77, 'rmssd': 79.88, 'lf': 2257.57, 'hf': 1968.97, 'LF/HF ratio': 1.15}\n",
      "{'nni_mean': 0.0807685468185542, 'hr_mean': -0.006468463462073125, 'hr_std': -0.0056329535982217955, 'rmssd': 0.012286746318421235, 'lf': -0.33225118088359595, 'hf': 0.41952125590440054, 'LF/HF ratio': -0.00031536537927202916}\n",
      "{'nni_mean': 912.57, 'hr_mean': 66.39, 'hr_std': 7.75, 'rmssd': 79.91, 'lf': 2257.57, 'hf': 1968.97, 'LF/HF ratio': 1.15}\n",
      "{'nni_mean': 0.08568213392608226, 'hr_mean': -0.006732425673798712, 'hr_std': -0.004857738260628018, 'rmssd': 0.015808557932758708, 'lf': -0.301212836899148, 'hf': 0.6082945262572719, 'LF/HF ratio': -0.00040928035565435735}\n",
      "{'nni_mean': 912.69, 'hr_mean': 66.38, 'hr_std': 7.74, 'rmssd': 79.91, 'lf': 2257.57, 'hf': 1968.97, 'LF/HF ratio': 1.15}\n",
      "{'nni_mean': 0.09135732147817896, 'hr_mean': -0.0070550152820232585, 'hr_std': -0.004119477632675782, 'rmssd': 0.018981661572658244, 'lf': -0.27009947207558826, 'hf': 0.7932206168379927, 'LF/HF ratio': -0.0005009724923589987}\n",
      "{'nni_mean': 912.9, 'hr_mean': 66.36, 'hr_std': 7.73, 'rmssd': 79.84, 'lf': 2233.95, 'hf': 1977.75, 'LF/HF ratio': 1.13}\n",
      "{'nni_mean': 0.09682884134480772, 'hr_mean': -0.007369547096416495, 'hr_std': -0.0034017782717422115, 'rmssd': 0.021817449291469858, 'lf': -0.15768324534595465, 'hf': 0.9679133092525559, 'LF/HF ratio': -0.0005554320644623634}\n",
      "{'nni_mean': 912.73, 'hr_mean': 66.37, 'hr_std': 7.72, 'rmssd': 79.77, 'lf': 2233.95, 'hf': 1977.75, 'LF/HF ratio': 1.13}\n",
      "{'nni_mean': 0.10221700472352875, 'hr_mean': -0.0076929702695196465, 'hr_std': -0.0027215893303696188, 'rmssd': 0.02439955543206355, 'lf': -0.039946651847764025, 'hf': 1.1375896082244916, 'LF/HF ratio': -0.0006043345373715076}\n",
      "{'nni_mean': 912.92, 'hr_mean': 66.36, 'hr_std': 7.71, 'rmssd': 79.8, 'lf': 2233.95, 'hf': 1977.75, 'LF/HF ratio': 1.13}\n",
      "{'nni_mean': 0.10790136148929375, 'hr_mean': -0.008026396221173144, 'hr_std': -0.0020794665184774817, 'rmssd': 0.02680883578771811, 'lf': 0.08311030841898358, 'hf': 1.3022495137538068, 'LF/HF ratio': -0.0006476799110864181}\n"
     ]
    }
   ],
   "source": [
    "HRV_rt = biofeatures.hrv([], srate = sampling_rate, buffer_length=5000)\n",
    "all_trends = []\n",
    "\n",
    "for i in range(1,180):\n",
    "    data = signal[:i * 1000]\n",
    "    HRV_rt.set_data(data[-HRV_rt.buffer_length:])\n",
    "    HRV_rt.r_peak_intervals(data)\n",
    "    HRV_rt.hrv_features()\n",
    "    print(HRV_rt.features[-1])\n",
    "    \n",
    "    if i > 1:\n",
    "        HRV_rt.detect_trends()\n",
    "        print(HRV_rt.current_trends)\n",
    "        all_trends.append(HRV_rt.current_trends)"
   ]
  },
  {
   "cell_type": "code",
   "execution_count": 63,
   "metadata": {},
   "outputs": [
    {
     "data": {
      "text/plain": [
       "178"
      ]
     },
     "execution_count": 63,
     "metadata": {},
     "output_type": "execute_result"
    }
   ],
   "source": [
    "len(all_trends)"
   ]
  },
  {
   "cell_type": "code",
   "execution_count": 43,
   "metadata": {},
   "outputs": [
    {
     "data": {
      "text/plain": [
       "179"
      ]
     },
     "execution_count": 43,
     "metadata": {},
     "output_type": "execute_result"
    }
   ],
   "source": [
    "len(HRV_rt.features)"
   ]
  },
  {
   "cell_type": "code",
   "execution_count": 70,
   "metadata": {},
   "outputs": [
    {
     "data": {
      "text/plain": [
       "[<matplotlib.lines.Line2D at 0x1c23b16610>]"
      ]
     },
     "execution_count": 70,
     "metadata": {},
     "output_type": "execute_result"
    },
    {
     "data": {
      "image/png": "[encoded data removed]",
      "text/plain": [
       "<Figure size 432x288 with 1 Axes>"
      ]
     },
     "metadata": {
      "needs_background": "light"
     },
     "output_type": "display_data"
    }
   ],
   "source": [
    "plt.plot([f[\"hr_mean\"] for f in HRV_rt.features])"
   ]
  },
  {
   "cell_type": "code",
   "execution_count": 71,
   "metadata": {},
   "outputs": [
    {
     "data": {
      "text/plain": [
       "[<matplotlib.lines.Line2D at 0x1c23cd1b90>]"
      ]
     },
     "execution_count": 71,
     "metadata": {},
     "output_type": "execute_result"
    },
    {
     "data": {
      "image/png": "[encoded data removed]",
      "text/plain": [
       "<Figure size 432x288 with 1 Axes>"
      ]
     },
     "metadata": {
      "needs_background": "light"
     },
     "output_type": "display_data"
    }
   ],
   "source": [
    "plt.plot([t[\"hr_mean\"] for t in all_trends])"
   ]
  },
  {
   "cell_type": "code",
   "execution_count": 72,
   "metadata": {},
   "outputs": [
    {
     "name": "stdout",
     "output_type": "stream",
     "text": [
      "-175.088214537756\n",
      "-108.7724688892307\n",
      "-68.73350923482855\n",
      "-34.44844958789182\n",
      "-17.15985939708869\n",
      "-10.21208106949263\n",
      "-8.590694538098493\n",
      "-8.866928330390635\n",
      "-8.792782471717036\n",
      "-9.20983641466266\n",
      "-8.057099541141278\n",
      "-5.639408695435885\n",
      "-3.429643344377334\n",
      "-1.8963933190416717\n",
      "-0.9096186711544288\n",
      "-0.23644646711523193\n",
      "0.07410586350917706\n",
      "0.23348217779815333\n",
      "0.2718786443823741\n",
      "0.2352140969179732\n",
      "0.3300596198191217\n",
      "0.7161924335305792\n",
      "1.0021561541498303\n",
      "1.21193349134526\n",
      "1.310282013191041\n",
      "1.4164813129781202\n",
      "1.4890977700650214\n",
      "1.5285706714732559\n",
      "1.51405612212256\n",
      "1.4948787735609947\n",
      "1.4817097470783065\n",
      "1.4495407517245433\n",
      "1.381326981890568\n",
      "1.3193015474588452\n",
      "1.2441397965237164\n",
      "1.1637682147829784\n",
      "1.1399496662654691\n",
      "1.3031675091874428\n",
      "1.3902712062654423\n",
      "1.5203045547619338\n",
      "1.6283825386999107\n",
      "1.7147075378651901\n",
      "1.7839647059096821\n",
      "1.8312586826099413\n",
      "1.8685606123961587\n",
      "1.8889738968011558\n",
      "1.905758119147252\n",
      "1.9233058829918928\n",
      "1.9195358809433805\n",
      "1.9169739875968252\n",
      "1.920630514378265\n",
      "1.9093341276107578\n",
      "1.9048913955385347\n",
      "1.8887503615924104\n",
      "1.8770626711400424\n",
      "1.8567622479922243\n",
      "1.8353846142420969\n",
      "1.802556647511948\n",
      "2.1753809282103074\n",
      "2.134644142723785\n",
      "1.9646497175495585\n",
      "1.857318093171335\n",
      "1.7286429037856992\n",
      "1.7490053922567628\n",
      "1.7540311456782236\n",
      "1.7506387383718076\n",
      "1.6872369349542125\n",
      "1.5776255959561913\n",
      "1.4629929475864547\n",
      "1.2974757535763528\n",
      "1.1911795103135323\n",
      "1.1407870855773006\n",
      "1.1195930841889934\n",
      "1.1033099935873858\n",
      "1.0820604444887008\n",
      "1.047439612890793\n",
      "0.9935295934366017\n",
      "0.9206344064183156\n",
      "0.8342005884239483\n",
      "0.7324415491813697\n",
      "0.6421870864294899\n",
      "0.6004714571251833\n",
      "0.5605488858647315\n",
      "0.5188240099112251\n",
      "0.4602807176210074\n",
      "0.41068589268722167\n",
      "0.35896214556952555\n",
      "0.3001972344066828\n",
      "0.22606000985143926\n",
      "0.14600237390016352\n",
      "0.07807652384729112\n",
      "0.018948562458637096\n",
      "-0.055301022919737916\n",
      "-0.1373575975572713\n",
      "-0.18453823767673175\n",
      "-0.2423146456211331\n",
      "-0.2851377578394709\n",
      "-0.24126637915021562\n",
      "-0.1929407315655881\n",
      "-0.14703027762837972\n",
      "-0.10907797833905696\n",
      "-0.08071926805085698\n",
      "-0.04290345335832183\n",
      "-0.01201147478741524\n",
      "0.01694656100379931\n",
      "0.04063462437013401\n",
      "0.0649847530377739\n",
      "0.09469507390327667\n",
      "0.11605088358965494\n",
      "0.12704605687913748\n",
      "0.14138256493814508\n",
      "0.16079199791846222\n",
      "0.18637834843532833\n",
      "0.20441128766560512\n",
      "0.21764893017008055\n",
      "0.22413020362636005\n",
      "0.2261375598616036\n",
      "0.22459735918398133\n",
      "0.22458499281362282\n",
      "0.2262836093557054\n",
      "0.226223544066858\n",
      "0.22635841931651113\n",
      "0.22221312254706235\n",
      "0.2188174335377099\n",
      "0.21068509325348744\n",
      "0.19777404107087249\n",
      "0.18164430097852\n",
      "0.16133881175380582\n",
      "0.1473023133206403\n",
      "0.13162506414091057\n",
      "0.11598398900817475\n",
      "0.10719297516571362\n",
      "0.09947471265067645\n",
      "0.09075406411922046\n",
      "0.08092748627577591\n",
      "0.06086040813091487\n",
      "0.03727261576662989\n",
      "0.006708447713851634\n",
      "-0.022961177451767043\n",
      "-0.05407641758680244\n",
      "-0.08875554838383505\n",
      "-0.1265851260652913\n",
      "-0.1670209475566863\n",
      "-0.20070968488781446\n",
      "-0.23311827104135227\n",
      "-0.25106691013415905\n",
      "-0.2726655888487783\n",
      "-0.3004040130560599\n",
      "-0.33288573735449717\n"
     ]
    }
   ],
   "source": [
    "for i in range(1,150):\n",
    "    print(all_trends[i]['rmssd'] * 1000/HRV_rt.features[i]['rmssd'])"
   ]
  },
  {
   "cell_type": "code",
   "execution_count": null,
   "metadata": {},
   "outputs": [],
   "source": []
  }
 ],
 "metadata": {
  "kernelspec": {
   "display_name": "Python 3",
   "language": "python",
   "name": "python3"
  },
  "language_info": {
   "codemirror_mode": {
    "name": "ipython",
    "version": 3
   },
   "file_extension": ".py",
   "mimetype": "text/x-python",
   "name": "python",
   "nbconvert_exporter": "python",
   "pygments_lexer": "ipython3",
   "version": "3.7.4"
  }
 },
 "nbformat": 4,
 "nbformat_minor": 2
}
