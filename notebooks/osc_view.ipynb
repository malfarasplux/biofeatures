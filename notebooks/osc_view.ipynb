{
 "cells": [
  {
   "cell_type": "code",
   "execution_count": null,
   "metadata": {},
   "outputs": [],
   "source": [
    "from pythonosc import dispatcher, osc_server\n",
    "from pythonosc.udp_client import SimpleUDPClient\n",
    "import time\n",
    "import numpy as np\n",
    "import biofeatures"
   ]
  },
  {
   "cell_type": "markdown",
   "metadata": {},
   "source": [
    "## Config"
   ]
  },
  {
   "cell_type": "code",
   "execution_count": null,
   "metadata": {},
   "outputs": [],
   "source": [
    "# riot_ip = '192.168.0.102'\n",
    "# riot_ip = 'localhost'\n",
    "riot_ip = '192.168.1.5'\n",
    "riot_port = 31000\n",
    "client = SimpleUDPClient(riot_ip, riot_port) "
   ]
  },
  {
   "cell_type": "code",
   "execution_count": null,
   "metadata": {},
   "outputs": [],
   "source": [
    "def process_riot_data(unused_addr, args, values):\n",
    "    global resp_data\n",
    "    global t0\n",
    "    \n",
    "    # Get features address\n",
    "    B = args[0]\n",
    "\n",
    "#    # String\n",
    "#     new_data = values\n",
    "#     resp_data.append((new_data))\n",
    "\n",
    "    # Float array\n",
    "    new_data = values.split(\"\\t\")[5]\n",
    "    resp_data.append(float(new_data))\n",
    "\n",
    "    if B.is_warmed_up:\n",
    "        B.set_data(resp_data[-B.buffer_length:])\n",
    "    else: \n",
    "#         print(new_data)\n",
    "        pass\n",
    "        \n",
    "\n",
    "    warmup_t = 10\n",
    "    tf = time.time()\n",
    "\n",
    "    if tf-t0 > warmup_t: \n",
    "        if not B.is_warmed_up:\n",
    "            print(\"WARMUP\")\n",
    "            B.set_data(resp_data[-B.buffer_length:])\n",
    "            B.is_warmed_up = True\n",
    "            B.update_loop()\n",
    "\n",
    "    # only save the last 5 min of data\n",
    "    if len(resp_data) > 200 * 60 * 5:\n",
    "        resp_data = resp_data[-200*60*5:]"
   ]
  },
  {
   "cell_type": "code",
   "execution_count": null,
   "metadata": {},
   "outputs": [],
   "source": [
    "B = biofeatures.breathing(data = np.ones(10), buffer_length=2000)\n",
    "resp_data = []\n",
    "t0 = time.time()\n",
    "ti = time.time()\n",
    "riot_dispatcher = dispatcher.Dispatcher()\n",
    "riot_dispatcher.map(\"/raw/\", process_riot_data, B)\n",
    "\n",
    "server = osc_server.ThreadingOSCUDPServer((riot_ip, riot_port), riot_dispatcher)\n",
    "print(time.strftime(\"%H:%M:%S\", time.gmtime()))\n",
    "print(\"Serving on {}\".format(server.server_address))\n",
    "try:\n",
    "    server.serve_forever()\n",
    "except KeyboardInterrupt:\n",
    "    B.update_data_flag = False\n",
    "except:\n",
    "    raise"
   ]
  },
  {
   "cell_type": "code",
   "execution_count": null,
   "metadata": {},
   "outputs": [],
   "source": [
    "B"
   ]
  },
  {
   "cell_type": "code",
   "execution_count": null,
   "metadata": {},
   "outputs": [],
   "source": [
    "B.features"
   ]
  },
  {
   "cell_type": "code",
   "execution_count": null,
   "metadata": {},
   "outputs": [],
   "source": [
    "## RESUME\n",
    "# print(time.strftime(\"%H:%M:%S\", time.gmtime()))\n",
    "# print(\"Serving on {}\".format(server.server_address))\n",
    "# try:\n",
    "#     B.update_data_flag = True\n",
    "#     B.update_loop()\n",
    "#     server.serve_forever()\n",
    "# except KeyboardInterrupt:\n",
    "#     B.update_data_flag = False\n",
    "# except:\n",
    "#     raise"
   ]
  },
  {
   "cell_type": "code",
   "execution_count": null,
   "metadata": {},
   "outputs": [],
   "source": []
  }
 ],
 "metadata": {
  "kernelspec": {
   "display_name": "Python 3",
   "language": "python",
   "name": "python3"
  },
  "language_info": {
   "codemirror_mode": {
    "name": "ipython",
    "version": 3
   },
   "file_extension": ".py",
   "mimetype": "text/x-python",
   "name": "python",
   "nbconvert_exporter": "python",
   "pygments_lexer": "ipython3",
   "version": "3.7.1"
  }
 },
 "nbformat": 4,
 "nbformat_minor": 2
}
